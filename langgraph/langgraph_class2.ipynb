{
 "cells": [
  {
   "cell_type": "code",
   "execution_count": 2,
   "id": "fb3a9834",
   "metadata": {},
   "outputs": [
    {
     "name": "stdout",
     "output_type": "stream",
     "text": [
      "all ok\n"
     ]
    }
   ],
   "source": [
    "print(\"all ok\")"
   ]
  },
  {
   "cell_type": "markdown",
   "id": "b615aa81",
   "metadata": {},
   "source": [
    "### Config the model"
   ]
  },
  {
   "cell_type": "code",
   "execution_count": 3,
   "id": "984ed602",
   "metadata": {},
   "outputs": [
    {
     "name": "stdout",
     "output_type": "stream",
     "text": [
      "Hi there! How can I help you today?\n"
     ]
    }
   ],
   "source": [
    "from langchain_google_genai import ChatGoogleGenerativeAI\n",
    "model=ChatGoogleGenerativeAI(model='gemini-1.5-flash')\n",
    "output=model.invoke(\"hi\")\n",
    "print(output.content)"
   ]
  },
  {
   "cell_type": "markdown",
   "id": "6a332baf",
   "metadata": {},
   "source": [
    "### Config the embedding model"
   ]
  },
  {
   "cell_type": "code",
   "execution_count": 4,
   "id": "2ff22911",
   "metadata": {},
   "outputs": [
    {
     "name": "stderr",
     "output_type": "stream",
     "text": [
      "e:\\Ankit_AI_workspace\\pvenv\\Lib\\site-packages\\tqdm\\auto.py:21: TqdmWarning: IProgress not found. Please update jupyter and ipywidgets. See https://ipywidgets.readthedocs.io/en/stable/user_install.html\n",
      "  from .autonotebook import tqdm as notebook_tqdm\n"
     ]
    },
    {
     "data": {
      "text/plain": [
       "384"
      ]
     },
     "execution_count": 4,
     "metadata": {},
     "output_type": "execute_result"
    }
   ],
   "source": [
    "from langchain_huggingface import HuggingFaceEmbeddings\n",
    "embeddings = HuggingFaceEmbeddings(model_name=\"BAAI/bge-small-en\")\n",
    "len(embeddings.embed_query(\"hi\"))"
   ]
  },
  {
   "cell_type": "markdown",
   "id": "ee0b265e",
   "metadata": {},
   "source": [
    "## lets take a data embedd it and store in VDB"
   ]
  },
  {
   "cell_type": "code",
   "execution_count": 5,
   "id": "692e03ac",
   "metadata": {},
   "outputs": [],
   "source": [
    "from langchain_community.document_loaders import TextLoader, DirectoryLoader\n",
    "from langchain_community.vectorstores import Chroma\n",
    "from langchain.text_splitter import RecursiveCharacterTextSplitter"
   ]
  },
  {
   "cell_type": "code",
   "execution_count": 6,
   "id": "d071a1b9",
   "metadata": {},
   "outputs": [],
   "source": [
    "loader=DirectoryLoader(\"../data2\",glob=\"./*.txt\",loader_cls=TextLoader)"
   ]
  },
  {
   "cell_type": "code",
   "execution_count": 7,
   "id": "e84ecf38",
   "metadata": {},
   "outputs": [],
   "source": [
    "docs=loader.load()"
   ]
  },
  {
   "cell_type": "code",
   "execution_count": null,
   "id": "b62997bd",
   "metadata": {},
   "outputs": [],
   "source": [
    "docs"
   ]
  },
  {
   "cell_type": "code",
   "execution_count": 8,
   "id": "a5ebd4c0",
   "metadata": {},
   "outputs": [
    {
     "data": {
      "text/plain": [
       "\"🇺🇸 Overview of the U.S. Economy\\nThe United States of America possesses the largest economy in the world in terms of nominal GDP, making it the most powerful economic force globally. It operates under a capitalist mixed economy, where the private sector dominates, but the government plays a significant regulatory and fiscal role. With a population of over 335 million people and a high level of technological advancement, the U.S. economy thrives on a foundation of consumer spending, innovation, global trade, and financial services. It has a highly diversified structure with strong sectors in technology, healthcare, finance, real estate, defense, and agriculture.\\n\\nU.S. GDP – Size, Composition, and Global Share\\nAs of 2024, the United States’ nominal GDP is estimated to be around $28 trillion USD, accounting for approximately 25% of the global economy. It ranks #1 in the world by nominal GDP, far ahead of China (which ranks 2nd). The U.S. GDP per capita is also among the highest, hovering around $83,000, which indicates a high standard of living and productivity. In terms of Purchasing Power Parity (PPP), the U.S. ranks second, but nominal GDP is considered more reflective of actual economic size and financial influence.\\n\\nThe GDP is predominantly driven by the services sector, which contributes more than 77% to the total GDP. This includes industries such as finance, insurance, real estate, healthcare, education, and information technology. The industrial sector (manufacturing, construction, mining) makes up around 19%, while agriculture, although technologically advanced and export-oriented, contributes only about 1%. Despite its small share in GDP, U.S. agriculture is globally significant in terms of productivity and exports.\\n\\nGDP Growth Trends and Dynamics\\nHistorically, the U.S. economy has enjoyed consistent long-term growth, averaging around 2-3% annually. Post-pandemic, the economy bounced back strongly, but 2022 and 2023 saw rising inflation due to supply chain issues and stimulus-driven demand. In 2024, the U.S. GDP grew at a modest pace of around 2.1%, as the Federal Reserve’s interest rate hikes aimed at controlling inflation also moderated economic expansion. Consumer spending, which makes up nearly 70% of GDP, remains a dominant force in economic stability.\\n\\nThe U.S. maintains its GDP growth through strong innovation, entrepreneurship, and investment in R&D. With companies like Apple, Google, Amazon, Microsoft, and Tesla leading global markets, the U.S. consistently produces high value across sectors, especially in technology and advanced services. Additionally, the economy benefits from intellectual property exports, financial services, and higher education, all of which contribute significantly to GDP through both domestic and international markets.\\n\\nRole in the Global Economy\\nThe U.S. Dollar (USD) is the global reserve currency, held by over 60% of the world’s central bank reserves. This gives the U.S. an enormous advantage in global trade and borrowing. The U.S. is a key member of international institutions like the World Bank, IMF, G7, G20, and WTO, and plays a central role in setting global economic policy.\\n\\nAs a global innovation hub, the U.S. attracts billions in foreign investment and hosts many of the world's largest and most valuable companies. Its exports include high-tech machinery, aircraft, pharmaceuticals, semiconductors, and financial services, while its imports cover consumer goods, electronics, automobiles, and industrial materials. The trade deficit remains large (around $900 billion in 2024), primarily because the U.S. consumes more than it exports, but its ability to finance this through capital inflows and reserve currency status sustains balance.\\n\\nKey Economic Strengths\\nThe core strength of the U.S. economy lies in its flexible labor market, deep capital markets, technological superiority, and legal system that encourages innovation and property rights. It has a large, highly educated workforce, a diverse immigration pipeline, and access to vast natural resources including oil, gas, coal, and farmland. The presence of top-tier universities and research institutions fuels the knowledge economy, with billions spent annually on R&D—over $700 billion USD, more than any other country.\\n\\nThe U.S. leads in many critical sectors, including software, biotechnology, aerospace, defense, financial services, and media. Its startup ecosystem, especially in Silicon Valley, produces unicorns and tech giants at a scale unmatched globally. Its financial markets—particularly Wall Street—are the most liquid and globally integrated in the world.\\n\\nChallenges and Structural Issues\\nDespite its strength, the U.S. economy faces several serious long-term issues. The national debt has surpassed $34 trillion USD, raising concerns about fiscal sustainability, especially as interest payments alone are growing rapidly. The income and wealth inequality gap has widened, with a small percentage of Americans owning a disproportionate share of wealth. Access to affordable healthcare, housing shortages, and a declining labor force participation in some sectors are additional structural issues.\\n\\nAnother growing concern is political polarization, which often stalls crucial economic reforms and budget agreements, as seen in recurrent debt ceiling crises. The U.S. also faces challenges from global competition, especially from China in areas like AI, semiconductors, and green technology. Moreover, climate change, cybersecurity threats, and geopolitical risks (like Ukraine and Taiwan conflicts) add layers of vulnerability to economic planning.\\n\\nFuture Outlook (2025–2030)\\nLooking forward, the U.S. economy is expected to grow at a moderate pace, powered by innovation in AI, green energy, robotics, biotech, and quantum computing. The Biden administration’s Inflation Reduction Act and CHIPS Act are pumping massive investments into semiconductors, clean energy, and infrastructure. There is a strong push for reshoring of manufacturing, especially in critical sectors like chips, pharmaceuticals, and batteries.\\n\\nHowever, economic leadership will depend on managing the national debt, reforming entitlement programs, upgrading infrastructure, and ensuring the next generation is equipped with digital-age skills. If the U.S. can handle these challenges, it is well-positioned to remain a global economic powerhouse through 2030 and beyond.\\n\\nFinal Summary\\nThe U.S. economy remains the engine of global growth, backed by unmatched innovation, financial dominance, and a strong institutional framework. Its $28 trillion GDP and influence over global finance, trade, and technology make it the centerpiece of the modern economic system. Yet, rising debt, inequality, political gridlock, and competition from emerging powers demand careful policy navigation. If successfully addressed, the U.S. will continue to dominate the global economy well into the future.\""
      ]
     },
     "execution_count": 8,
     "metadata": {},
     "output_type": "execute_result"
    }
   ],
   "source": [
    "docs[0].page_content"
   ]
  },
  {
   "cell_type": "code",
   "execution_count": 9,
   "id": "ee2346d5",
   "metadata": {},
   "outputs": [],
   "source": [
    "text_splitter=RecursiveCharacterTextSplitter(\n",
    "    chunk_size=200,\n",
    "    chunk_overlap=50\n",
    ")"
   ]
  },
  {
   "cell_type": "code",
   "execution_count": 10,
   "id": "4c39b585",
   "metadata": {},
   "outputs": [],
   "source": [
    "new_docs=text_splitter.split_documents(documents=docs)"
   ]
  },
  {
   "cell_type": "code",
   "execution_count": null,
   "id": "6ec4d1f4",
   "metadata": {},
   "outputs": [],
   "source": [
    "new_docs"
   ]
  },
  {
   "cell_type": "code",
   "execution_count": 11,
   "id": "87676a6a",
   "metadata": {},
   "outputs": [],
   "source": [
    "doc_string=[doc.page_content for doc in new_docs]"
   ]
  },
  {
   "cell_type": "code",
   "execution_count": null,
   "id": "bd9a414c",
   "metadata": {},
   "outputs": [],
   "source": [
    "doc_string"
   ]
  },
  {
   "cell_type": "code",
   "execution_count": 12,
   "id": "f1361078",
   "metadata": {},
   "outputs": [
    {
     "data": {
      "text/plain": [
       "55"
      ]
     },
     "execution_count": 12,
     "metadata": {},
     "output_type": "execute_result"
    }
   ],
   "source": [
    "len(doc_string)"
   ]
  },
  {
   "cell_type": "markdown",
   "id": "838cd237",
   "metadata": {},
   "source": [
    "%pip install protobuf==3.20.3"
   ]
  },
  {
   "cell_type": "code",
   "execution_count": 13,
   "id": "e312b2bf",
   "metadata": {},
   "outputs": [
    {
     "name": "stderr",
     "output_type": "stream",
     "text": [
      "Failed to send telemetry event ClientStartEvent: capture() takes 1 positional argument but 3 were given\n",
      "Failed to send telemetry event ClientCreateCollectionEvent: capture() takes 1 positional argument but 3 were given\n"
     ]
    }
   ],
   "source": [
    "db=Chroma.from_documents(new_docs,embeddings)"
   ]
  },
  {
   "cell_type": "code",
   "execution_count": 14,
   "id": "b3aa918e",
   "metadata": {},
   "outputs": [],
   "source": [
    "retriever=db.as_retriever(search_kwargs={\"k\": 3})"
   ]
  },
  {
   "cell_type": "code",
   "execution_count": 15,
   "id": "5b33c43c",
   "metadata": {},
   "outputs": [
    {
     "name": "stderr",
     "output_type": "stream",
     "text": [
      "Failed to send telemetry event CollectionQueryEvent: capture() takes 1 positional argument but 3 were given\n"
     ]
    },
    {
     "data": {
      "text/plain": [
       "[Document(metadata={'source': '..\\\\data2\\\\usa.txt'}, page_content='Looking forward, the U.S. economy is expected to grow at a moderate pace, powered by innovation in AI, green energy, robotics, biotech, and quantum computing. The Biden administration’s Inflation'),\n",
       " Document(metadata={'source': '..\\\\data2\\\\usa.txt'}, page_content='🇺🇸 Overview of the U.S. Economy'),\n",
       " Document(metadata={'source': '..\\\\data2\\\\usa.txt'}, page_content='The U.S. economy remains the engine of global growth, backed by unmatched innovation, financial dominance, and a strong institutional framework. Its $28 trillion GDP and influence over global')]"
      ]
     },
     "execution_count": 15,
     "metadata": {},
     "output_type": "execute_result"
    }
   ],
   "source": [
    "retriever.invoke(\"industrial growth of usa?\")"
   ]
  },
  {
   "cell_type": "markdown",
   "id": "a922261c",
   "metadata": {},
   "source": [
    "## creation of pydantic class"
   ]
  },
  {
   "cell_type": "code",
   "execution_count": 16,
   "id": "2b01e7fb",
   "metadata": {},
   "outputs": [],
   "source": [
    "import operator\n",
    "from typing import List\n",
    "from pydantic import BaseModel , Field\n",
    "from langchain.prompts import PromptTemplate\n",
    "from typing import TypedDict, Annotated, Sequence\n",
    "from langchain_core.messages import BaseMessage\n",
    "from langchain_core.output_parsers import StrOutputParser\n",
    "from langchain_core.prompts import ChatPromptTemplate, PromptTemplate\n",
    "from langchain_core.runnables import RunnablePassthrough\n",
    "from langchain_core.messages import HumanMessage, AIMessage\n",
    "from langgraph.graph import StateGraph,END"
   ]
  },
  {
   "cell_type": "code",
   "execution_count": 17,
   "id": "8e2586ab",
   "metadata": {},
   "outputs": [],
   "source": [
    "class TopicSelectionParser(BaseModel):\n",
    "    Topic:str=Field(description=\"selected topic\")\n",
    "    Reasoning:str=Field(description='Reasoning behind topic selection')"
   ]
  },
  {
   "cell_type": "code",
   "execution_count": 18,
   "id": "8a44b1b4",
   "metadata": {},
   "outputs": [],
   "source": [
    "from langchain.output_parsers import PydanticOutputParser"
   ]
  },
  {
   "cell_type": "code",
   "execution_count": 19,
   "id": "ce8e5c86",
   "metadata": {},
   "outputs": [],
   "source": [
    "parser=PydanticOutputParser(pydantic_object=TopicSelectionParser)"
   ]
  },
  {
   "cell_type": "code",
   "execution_count": 20,
   "id": "42206129",
   "metadata": {},
   "outputs": [
    {
     "data": {
      "text/plain": [
       "'The output should be formatted as a JSON instance that conforms to the JSON schema below.\\n\\nAs an example, for the schema {\"properties\": {\"foo\": {\"title\": \"Foo\", \"description\": \"a list of strings\", \"type\": \"array\", \"items\": {\"type\": \"string\"}}}, \"required\": [\"foo\"]}\\nthe object {\"foo\": [\"bar\", \"baz\"]} is a well-formatted instance of the schema. The object {\"properties\": {\"foo\": [\"bar\", \"baz\"]}} is not well-formatted.\\n\\nHere is the output schema:\\n```\\n{\"properties\": {\"Topic\": {\"description\": \"selected topic\", \"title\": \"Topic\", \"type\": \"string\"}, \"Reasoning\": {\"description\": \"Reasoning behind topic selection\", \"title\": \"Reasoning\", \"type\": \"string\"}}, \"required\": [\"Topic\", \"Reasoning\"]}\\n```'"
      ]
     },
     "execution_count": 20,
     "metadata": {},
     "output_type": "execute_result"
    }
   ],
   "source": [
    "parser.get_format_instructions()"
   ]
  },
  {
   "cell_type": "code",
   "execution_count": null,
   "id": "61744a08",
   "metadata": {},
   "outputs": [],
   "source": [
    "'The output should be formatted as a JSON instance that conforms to the JSON schema below.\\n\\nAs an example, for the schema {\"properties\": {\"foo\": {\"title\": \"Foo\", \"description\": \"a list of strings\", \"type\": \"array\", \"items\": {\"type\": \"string\"}}}, \"required\": [\"foo\"]}\\nthe object {\"foo\": [\"bar\", \"baz\"]} is a well-formatted instance of the schema. The object {\"properties\": {\"foo\": [\"bar\", \"baz\"]}} is not well-formatted.\\n\\nHere is the output schema:\\n```\\n{\"properties\": {\"Topic\": {\"description\": \"selected topic\", \"title\": \"Topic\", \"type\": \"string\"}, \"Reasoning\": {\"description\": \"Reasoning behind topic selection\", \"title\": \"Reasoning\", \"type\": \"string\"}}, \"required\": [\"Topic\", \"Reasoning\"]}\\n```'"
   ]
  },
  {
   "cell_type": "markdown",
   "id": "f24052c5",
   "metadata": {},
   "source": [
    "### this below agentstate is just for the explnation like how state works"
   ]
  },
  {
   "cell_type": "code",
   "execution_count": 21,
   "id": "9e00d6f7",
   "metadata": {},
   "outputs": [],
   "source": [
    "Agentstate={}"
   ]
  },
  {
   "cell_type": "code",
   "execution_count": 22,
   "id": "4c1fd4ff",
   "metadata": {},
   "outputs": [],
   "source": [
    "Agentstate[\"messages\"]=[]"
   ]
  },
  {
   "cell_type": "code",
   "execution_count": 23,
   "id": "a44de538",
   "metadata": {},
   "outputs": [
    {
     "data": {
      "text/plain": [
       "{'messages': []}"
      ]
     },
     "execution_count": 23,
     "metadata": {},
     "output_type": "execute_result"
    }
   ],
   "source": [
    "Agentstate"
   ]
  },
  {
   "cell_type": "code",
   "execution_count": 24,
   "id": "8de1c965",
   "metadata": {},
   "outputs": [],
   "source": [
    "Agentstate[\"messages\"].append(\"hi how are you?\")"
   ]
  },
  {
   "cell_type": "code",
   "execution_count": 25,
   "id": "8353b951",
   "metadata": {},
   "outputs": [
    {
     "data": {
      "text/plain": [
       "{'messages': ['hi how are you?']}"
      ]
     },
     "execution_count": 25,
     "metadata": {},
     "output_type": "execute_result"
    }
   ],
   "source": [
    "Agentstate"
   ]
  },
  {
   "cell_type": "code",
   "execution_count": 26,
   "id": "5d5b1df8",
   "metadata": {},
   "outputs": [],
   "source": [
    "Agentstate[\"messages\"].append(\"what are you doing?\")"
   ]
  },
  {
   "cell_type": "code",
   "execution_count": 27,
   "id": "a6388120",
   "metadata": {},
   "outputs": [
    {
     "data": {
      "text/plain": [
       "{'messages': ['hi how are you?', 'what are you doing?']}"
      ]
     },
     "execution_count": 27,
     "metadata": {},
     "output_type": "execute_result"
    }
   ],
   "source": [
    "Agentstate"
   ]
  },
  {
   "cell_type": "code",
   "execution_count": 28,
   "id": "57764eec",
   "metadata": {},
   "outputs": [],
   "source": [
    "Agentstate[\"messages\"].append(\"i hope everything fine\")"
   ]
  },
  {
   "cell_type": "code",
   "execution_count": 29,
   "id": "8f423d9f",
   "metadata": {},
   "outputs": [
    {
     "data": {
      "text/plain": [
       "{'messages': ['hi how are you?',\n",
       "  'what are you doing?',\n",
       "  'i hope everything fine']}"
      ]
     },
     "execution_count": 29,
     "metadata": {},
     "output_type": "execute_result"
    }
   ],
   "source": [
    "Agentstate\n"
   ]
  },
  {
   "cell_type": "code",
   "execution_count": 30,
   "id": "6827c465",
   "metadata": {},
   "outputs": [
    {
     "data": {
      "text/plain": [
       "'i hope everything fine'"
      ]
     },
     "execution_count": 30,
     "metadata": {},
     "output_type": "execute_result"
    }
   ],
   "source": [
    "Agentstate[\"messages\"][-1]"
   ]
  },
  {
   "cell_type": "code",
   "execution_count": 31,
   "id": "90c1b4c2",
   "metadata": {},
   "outputs": [
    {
     "data": {
      "text/plain": [
       "'hi how are you?'"
      ]
     },
     "execution_count": 31,
     "metadata": {},
     "output_type": "execute_result"
    }
   ],
   "source": [
    "Agentstate[\"messages\"][0]"
   ]
  },
  {
   "cell_type": "markdown",
   "id": "3336e702",
   "metadata": {},
   "source": [
    "### this agentstate class you need to inside the stategraph"
   ]
  },
  {
   "cell_type": "code",
   "execution_count": 32,
   "id": "4b50c28f",
   "metadata": {},
   "outputs": [],
   "source": [
    "class AgentState(TypedDict):\n",
    "    messages: Annotated[Sequence[BaseMessage], operator.add]"
   ]
  },
  {
   "cell_type": "code",
   "execution_count": 33,
   "id": "42643fbb",
   "metadata": {},
   "outputs": [],
   "source": [
    "state={\"messages\":[\"hi\"]}"
   ]
  },
  {
   "cell_type": "code",
   "execution_count": null,
   "id": "e00770cd",
   "metadata": {},
   "outputs": [],
   "source": [
    "state=\"hi\""
   ]
  },
  {
   "cell_type": "code",
   "execution_count": 34,
   "id": "88c27bb3",
   "metadata": {},
   "outputs": [],
   "source": [
    "def function_1(state:AgentState):\n",
    "    \n",
    "    question=state[\"messages\"][-1]\n",
    "    \n",
    "    print(\"Question\",question)\n",
    "    \n",
    "    template=\"\"\"\n",
    "    Your task is to classify the given user query into one of the following categories: [USA,Not Related]. \n",
    "    Only respond with the category name and nothing else.\n",
    "\n",
    "    User query: {question}\n",
    "    {format_instructions}\n",
    "    \"\"\"\n",
    "    \n",
    "    prompt= PromptTemplate(\n",
    "        template=template,\n",
    "        input_variable=[\"question\"],\n",
    "        partial_variables={\"format_instructions\": parser.get_format_instructions()}\n",
    "    )\n",
    "    \n",
    "    \n",
    "    chain= prompt | model | parser\n",
    "    \n",
    "    response = chain.invoke({\"question\":question})\n",
    "    \n",
    "    print(\"Parsed response:\", response)\n",
    "    \n",
    "    return {\"messages\": [response.Topic]}"
   ]
  },
  {
   "cell_type": "code",
   "execution_count": 35,
   "id": "613e3a10",
   "metadata": {},
   "outputs": [],
   "source": [
    "state={\"messages\":[\"what is a today weather?\"]}"
   ]
  },
  {
   "cell_type": "code",
   "execution_count": 36,
   "id": "9fc47636",
   "metadata": {},
   "outputs": [],
   "source": [
    "state={\"messages\":[\"what is a GDP of usa??\"]}"
   ]
  },
  {
   "cell_type": "code",
   "execution_count": 37,
   "id": "a730b278",
   "metadata": {},
   "outputs": [
    {
     "name": "stdout",
     "output_type": "stream",
     "text": [
      "Question what is a GDP of usa??\n",
      "Parsed response: Topic='USA' Reasoning='The query explicitly asks for the GDP of the USA.'\n"
     ]
    },
    {
     "data": {
      "text/plain": [
       "{'messages': ['USA']}"
      ]
     },
     "execution_count": 37,
     "metadata": {},
     "output_type": "execute_result"
    }
   ],
   "source": [
    "function_1(state)"
   ]
  },
  {
   "cell_type": "code",
   "execution_count": 38,
   "id": "bfb736a8",
   "metadata": {},
   "outputs": [],
   "source": [
    "class TopicSelectionParser(BaseModel):\n",
    "    Topic:str=Field(description=\"selected topic\")\n",
    "    Reasoning:str=Field(description='Reasoning behind topic selection')"
   ]
  },
  {
   "cell_type": "code",
   "execution_count": 39,
   "id": "88f0a9e2",
   "metadata": {},
   "outputs": [],
   "source": [
    "def router(state:AgentState):\n",
    "    print(\"-> ROUTER ->\")\n",
    "    \n",
    "    last_message=state[\"messages\"][-1]\n",
    "    print(\"last_message:\", last_message)\n",
    "    \n",
    "    if \"usa\" in last_message.lower():\n",
    "        return \"RAG Call\"\n",
    "    else:\n",
    "        return \"LLM Call\""
   ]
  },
  {
   "cell_type": "markdown",
   "id": "4fb829fb",
   "metadata": {},
   "source": [
    "workflow.add_conditional_edges(\n",
    "    \"Supervisor\",\n",
    "    router,\n",
    "    {\n",
    "        \"RAG Call\": \"RAG\"(function_2),\n",
    "        \"LLM Call\": \"LLM\"(function_3),\n",
    "    }\n",
    ")"
   ]
  },
  {
   "cell_type": "code",
   "execution_count": 40,
   "id": "b66f1de5",
   "metadata": {},
   "outputs": [],
   "source": [
    "def format_docs(docs):\n",
    "    return \"\\n\\n\".join(doc.page_content for doc in docs)"
   ]
  },
  {
   "cell_type": "code",
   "execution_count": 41,
   "id": "188882bd",
   "metadata": {},
   "outputs": [],
   "source": [
    "# RAG Function\n",
    "def function_2(state:AgentState):\n",
    "    print(\"-> RAG Call ->\")\n",
    "    \n",
    "    question = state[\"messages\"][0]\n",
    "    \n",
    "    prompt=PromptTemplate(\n",
    "        template=\"\"\"You are an assistant for question-answering tasks. Use the following pieces of retrieved context to answer the question. If you don't know the answer, just say that you don't know. Use three sentences maximum and keep the answer concise.\\nQuestion: {question} \\nContext: {context} \\nAnswer:\"\"\",\n",
    "        \n",
    "        input_variables=['context', 'question']\n",
    "    )\n",
    "    \n",
    "    rag_chain = (\n",
    "        {\"context\": retriever | format_docs, \"question\": RunnablePassthrough()}\n",
    "        | prompt\n",
    "        | model\n",
    "        | StrOutputParser()\n",
    "    )\n",
    "    result = rag_chain.invoke(question)\n",
    "    return  {\"messages\": [result]}"
   ]
  },
  {
   "cell_type": "code",
   "execution_count": 42,
   "id": "23cbceb6",
   "metadata": {},
   "outputs": [],
   "source": [
    "# LLM Function\n",
    "def function_3(state:AgentState):\n",
    "    print(\"-> LLM Call ->\")\n",
    "    question = state[\"messages\"][0]\n",
    "    \n",
    "    # Normal LLM call\n",
    "    complete_query = \"Anwer the follow question with you knowledge of the real world. Following is the user question: \" + question\n",
    "    response = model.invoke(complete_query)\n",
    "    return {\"messages\": [response.content]}"
   ]
  },
  {
   "cell_type": "code",
   "execution_count": 43,
   "id": "03f394f4",
   "metadata": {},
   "outputs": [],
   "source": [
    "from langgraph.graph import StateGraph,END"
   ]
  },
  {
   "cell_type": "code",
   "execution_count": 44,
   "id": "d161ee74",
   "metadata": {},
   "outputs": [],
   "source": [
    "workflow=StateGraph(AgentState)"
   ]
  },
  {
   "cell_type": "code",
   "execution_count": 45,
   "id": "afcd25e9",
   "metadata": {},
   "outputs": [
    {
     "data": {
      "text/plain": [
       "<langgraph.graph.state.StateGraph at 0x26823b5e120>"
      ]
     },
     "execution_count": 45,
     "metadata": {},
     "output_type": "execute_result"
    }
   ],
   "source": [
    "workflow.add_node(\"Supervisor\",function_1)"
   ]
  },
  {
   "cell_type": "code",
   "execution_count": 46,
   "id": "e1e16a2f",
   "metadata": {},
   "outputs": [
    {
     "data": {
      "text/plain": [
       "<langgraph.graph.state.StateGraph at 0x26823b5e120>"
      ]
     },
     "execution_count": 46,
     "metadata": {},
     "output_type": "execute_result"
    }
   ],
   "source": [
    "workflow.add_node(\"RAG\",function_2)"
   ]
  },
  {
   "cell_type": "code",
   "execution_count": 47,
   "id": "f8b940ea",
   "metadata": {},
   "outputs": [
    {
     "data": {
      "text/plain": [
       "<langgraph.graph.state.StateGraph at 0x26823b5e120>"
      ]
     },
     "execution_count": 47,
     "metadata": {},
     "output_type": "execute_result"
    }
   ],
   "source": [
    "workflow.add_node(\"LLM\",function_3)"
   ]
  },
  {
   "cell_type": "code",
   "execution_count": 48,
   "id": "4ea675b0",
   "metadata": {},
   "outputs": [
    {
     "data": {
      "text/plain": [
       "<langgraph.graph.state.StateGraph at 0x26823b5e120>"
      ]
     },
     "execution_count": 48,
     "metadata": {},
     "output_type": "execute_result"
    }
   ],
   "source": [
    "workflow.set_entry_point(\"Supervisor\")"
   ]
  },
  {
   "cell_type": "code",
   "execution_count": 49,
   "id": "34d4c757",
   "metadata": {},
   "outputs": [
    {
     "data": {
      "text/plain": [
       "<langgraph.graph.state.StateGraph at 0x26823b5e120>"
      ]
     },
     "execution_count": 49,
     "metadata": {},
     "output_type": "execute_result"
    }
   ],
   "source": [
    "workflow.add_conditional_edges(\n",
    "    \"Supervisor\",\n",
    "    router,\n",
    "    {\n",
    "        \"RAG Call\": \"RAG\",\n",
    "        \"LLM Call\": \"LLM\",\n",
    "    }\n",
    ")"
   ]
  },
  {
   "cell_type": "code",
   "execution_count": 50,
   "id": "409ff633",
   "metadata": {},
   "outputs": [
    {
     "data": {
      "text/plain": [
       "<langgraph.graph.state.StateGraph at 0x26823b5e120>"
      ]
     },
     "execution_count": 50,
     "metadata": {},
     "output_type": "execute_result"
    }
   ],
   "source": [
    "workflow.add_edge(\"RAG\",END)\n",
    "workflow.add_edge(\"LLM\",END)"
   ]
  },
  {
   "cell_type": "code",
   "execution_count": 51,
   "id": "49a685be",
   "metadata": {},
   "outputs": [],
   "source": [
    "app=workflow.compile()"
   ]
  },
  {
   "cell_type": "code",
   "execution_count": 52,
   "id": "20b1e6dd",
   "metadata": {},
   "outputs": [],
   "source": [
    "state={\"messages\":[\"hi\"]}"
   ]
  },
  {
   "cell_type": "code",
   "execution_count": 53,
   "id": "d6ccea29",
   "metadata": {},
   "outputs": [
    {
     "name": "stdout",
     "output_type": "stream",
     "text": [
      "Question hi\n",
      "Parsed response: Topic='Not Related' Reasoning='The query \"hi\" is a greeting and does not contain any information related to the USA.'\n",
      "-> ROUTER ->\n",
      "last_message: Not Related\n",
      "-> LLM Call ->\n"
     ]
    },
    {
     "data": {
      "text/plain": [
       "{'messages': ['hi', 'Not Related', 'Hi there!']}"
      ]
     },
     "execution_count": 53,
     "metadata": {},
     "output_type": "execute_result"
    }
   ],
   "source": [
    "app.invoke(state)"
   ]
  },
  {
   "cell_type": "code",
   "execution_count": 54,
   "id": "92b41c83",
   "metadata": {},
   "outputs": [],
   "source": [
    "state={\"messages\":[\"what is a gdp of usa?\"]}"
   ]
  },
  {
   "cell_type": "code",
   "execution_count": 55,
   "id": "f1409de6",
   "metadata": {},
   "outputs": [
    {
     "name": "stdout",
     "output_type": "stream",
     "text": [
      "Question what is a gdp of usa?\n",
      "Parsed response: Topic='USA' Reasoning='The query explicitly asks for the GDP of the USA.'\n",
      "-> ROUTER ->\n",
      "last_message: USA\n",
      "-> RAG Call ->\n"
     ]
    },
    {
     "data": {
      "text/plain": [
       "{'messages': ['what is a gdp of usa?',\n",
       "  'USA',\n",
       "  'The nominal GDP of the USA is estimated to be around $28 trillion USD in 2024.  This represents about 25% of the global economy.  It holds the #1 ranking globally by nominal GDP.']}"
      ]
     },
     "execution_count": 55,
     "metadata": {},
     "output_type": "execute_result"
    }
   ],
   "source": [
    "app.invoke(state)"
   ]
  },
  {
   "cell_type": "code",
   "execution_count": 60,
   "id": "29f645f4",
   "metadata": {},
   "outputs": [],
   "source": [
    "state={\"messages\":[\"can you tell me the industrial growth of world's most powerful economy?\"]}"
   ]
  },
  {
   "cell_type": "code",
   "execution_count": 61,
   "id": "9afb278c",
   "metadata": {},
   "outputs": [
    {
     "name": "stdout",
     "output_type": "stream",
     "text": [
      "Question can you tell me the industrial growth of world's most powerful economy?\n",
      "Parsed response: Topic='USA' Reasoning=\"The query asks about the industrial growth of the world's most powerful economy, which is generally considered to be the USA.\"\n",
      "-> ROUTER ->\n",
      "last_message: USA\n",
      "-> RAG Call ->\n"
     ]
    }
   ],
   "source": [
    "result=app.invoke(state)"
   ]
  },
  {
   "cell_type": "code",
   "execution_count": 57,
   "id": "536402a5",
   "metadata": {},
   "outputs": [],
   "source": [
    "state={\"messages\":[\"can you tell me the industrial growth of world's poor economy?\"]}"
   ]
  },
  {
   "cell_type": "code",
   "execution_count": 58,
   "id": "37719742",
   "metadata": {},
   "outputs": [
    {
     "name": "stdout",
     "output_type": "stream",
     "text": [
      "Question can you tell me the industrial growth of world's poor economy?\n",
      "Parsed response: Topic='Not Related' Reasoning=\"The query asks about the industrial growth of the world's poor economies, which is a global issue not specific to the USA.\"\n",
      "-> ROUTER ->\n",
      "last_message: Not Related\n",
      "-> LLM Call ->\n"
     ]
    }
   ],
   "source": [
    "result=app.invoke(state)"
   ]
  },
  {
   "cell_type": "code",
   "execution_count": 59,
   "id": "7489ce3d",
   "metadata": {},
   "outputs": [
    {
     "data": {
      "text/plain": [
       "'There\\'s no single, easily quantifiable measure of \"industrial growth of the world\\'s poor economies.\"  The term \"poor economies\" itself is broad and encompasses a vast range of countries with differing levels of development, political stability, resource endowments, and access to global markets.  Analyzing their industrial growth requires a nuanced approach.\\n\\nHowever, we can make some general observations:\\n\\n* **Uneven Growth:** Industrial growth in poorer economies is highly uneven. Some countries have experienced significant industrialization, often driven by specific sectors like manufacturing (e.g., garments in Bangladesh, electronics in Vietnam). Others have lagged significantly, often due to factors like conflict, corruption, lack of infrastructure, and limited access to capital and technology.\\n\\n* **Shifting Patterns:**  The nature of industrialization is also changing.  The traditional model of heavy industry (steel, automobiles) is less prevalent in many poorer economies. Instead, we see growth in lighter manufacturing, particularly in export-oriented sectors.  The rise of global value chains has allowed some poorer economies to participate in manufacturing processes, though often at lower value-added stages.\\n\\n* **Service Sector Importance:**  In many poorer economies, the service sector is growing faster than the industrial sector. This reflects shifts in global demand and the increasing importance of activities like retail, tourism, and informal services.\\n\\n* **Challenges:** Poor economies face significant challenges in fostering industrial growth, including:\\n    * **Lack of infrastructure:** Inadequate transportation, energy, and communication networks hinder industrial development.\\n    * **Limited access to finance:** Small and medium-sized enterprises (SMEs), often the engines of industrial growth, struggle to access credit.\\n    * **Human capital constraints:**  A lack of skilled labor and education limits productivity.\\n    * **Political instability and corruption:** These factors discourage investment and create uncertainty.\\n    * **Climate change vulnerability:** Many poorer economies are particularly vulnerable to the impacts of climate change, which can disrupt industrial activity.\\n\\n* **Data Limitations:**  Reliable and consistent data on industrial growth in poorer economies is often scarce.  Informal economies are substantial in many of these countries, making accurate measurement difficult.\\n\\nIn summary, while some poorer economies have experienced industrial growth, it\\'s far from uniform.  The pattern is complex and influenced by a multitude of factors.  To get a more precise answer, one would need to specify particular regions or countries and examine their industrial performance over a defined period, considering the challenges and opportunities specific to those contexts.'"
      ]
     },
     "execution_count": 59,
     "metadata": {},
     "output_type": "execute_result"
    }
   ],
   "source": [
    "result[\"messages\"][-1]"
   ]
  },
  {
   "cell_type": "code",
   "execution_count": null,
   "id": "ad50c80c",
   "metadata": {},
   "outputs": [],
   "source": [
    "Assignment:4\n",
    "1. you have to create one supervisor node.\n",
    "2. create one router function\n",
    "3. create three more node\n",
    "3.1 llm call (llm node)\n",
    "3.2 RAG (rag node)\n",
    "3.3 web crawler(fetch the info in realtime from internet)\n",
    "4. created one more node after this for validation for generated output --> explore the validation part how to do that\n",
    "5. if validation going to be failed in that case again go to supervioser node and then supervisor node will again decide what needs to be call next\n",
    "6. once the validation will pass then only generate the final output\n",
    "\n",
    "submission deadline till 9pm friday\n",
    "\n",
    "submission instruction:\n",
    "create your github repo and keep all the assisgnments over there(in that github repo)\n",
    "i will share one googleform in group after completing your assignment you can share the github link through that google form. "
   ]
  },
  {
   "cell_type": "markdown",
   "id": "93f660c5",
   "metadata": {},
   "source": [
    "in next class will discuss about the \n",
    "1. react agent with multiple tool call\n",
    "2.  agentic rag"
   ]
  }
 ],
 "metadata": {
  "kernelspec": {
   "display_name": "Python 3",
   "language": "python",
   "name": "python3"
  },
  "language_info": {
   "codemirror_mode": {
    "name": "ipython",
    "version": 3
   },
   "file_extension": ".py",
   "mimetype": "text/x-python",
   "name": "python",
   "nbconvert_exporter": "python",
   "pygments_lexer": "ipython3",
   "version": "3.12.0"
  }
 },
 "nbformat": 4,
 "nbformat_minor": 5
}
