{
 "cells": [
  {
   "cell_type": "code",
   "execution_count": 1,
   "metadata": {},
   "outputs": [],
   "source": [
    "from typing_extensions import TypedDict, Annotated, List, Literal\n",
    "from langchain_core.messages import AnyMessage, AIMessage, HumanMessage\n",
    "from langgraph.graph import add_messages\n",
    "from typing import Dict, List, Optional, Union, Literal\n",
    "from pydantic import BaseModel, Field\n",
    "from langgraph.checkpoint.memory import MemorySaver\n",
    "from IPython.display import Image\n",
    "import operator"
   ]
  },
  {
   "cell_type": "code",
   "execution_count": 2,
   "metadata": {},
   "outputs": [],
   "source": [
    "class DocumentSection(BaseModel):\n",
    "    title: str = Field(description=\"The title of the section\")\n",
    "    content: str = Field(description=\"The content of the section\")\n",
    "\n",
    "class DocumentState(BaseModel):\n",
    "    document_type: Literal[\"functional\", \"technical\"] = \"functional\"\n",
    "    functional_status: Literal[\"in_progress\", \"pending_approval\", \"feedback\", \"completed\"] = \"in_progress\"\n",
    "    technical_status: Literal[\"in_progress\", \"pending_approval\", \"feedback\", \"completed\"] = \"in_progress\"\n",
    "    revised_count : int = 0\n",
    "    version: float = 1.0\n",
    "    functional_documents: List[DocumentSection] = []\n",
    "    technical_documents: List[DocumentSection] = []\n",
    "    messages: Annotated[list, add_messages] = []"
   ]
  },
  {
   "cell_type": "code",
   "execution_count": 3,
   "metadata": {},
   "outputs": [],
   "source": [
    "## Design documents\n",
    "def create_design_documents(state: DocumentState) -> DocumentState:\n",
    "    print(\"In create_design_documents\")\n",
    "\n",
    "    doc_type = state.document_type.lower()\n",
    "    is_functional = doc_type == \"functional\"\n",
    "\n",
    "    # Define common sections\n",
    "    document1 = DocumentSection(\n",
    "        title=\"INTRODUCTION\" if is_functional else \"INTRODUCTION & PURPOSE\",\n",
    "        content=\"This document defines the functional requirements for the Password Reset Feature of the User Management System.\"\n",
    "        if is_functional else\n",
    "        \"This document outlines the technical design for the Password Reset functionality as defined in the Functional Specification Document (FSD).\"\n",
    "    )\n",
    "\n",
    "    document2 = DocumentSection(\n",
    "        title=\"BUSINESS CONTEXT\",\n",
    "        content=\"The business needs a secure mechanism for users to recover access to their accounts without compromising security, improving customer satisfaction and retention.\",\n",
    "    )\n",
    "\n",
    "    documents = [document1, document2]\n",
    "\n",
    "    return {\n",
    "        f\"{doc_type}_documents\": documents,\n",
    "        f\"{doc_type}_status\": 'pending_approval',\n",
    "        \"messages\": AIMessage(\n",
    "            content=f\"Please review above {doc_type} design document and provide feedback or type 'Approved' if you're satisfied.\"\n",
    "        ),\n",
    "        \"revised_count\": 0,\n",
    "    }\n",
    "\n",
    "def design_documents_review(state: DocumentState) -> DocumentState:\n",
    "    print(\"In design_documents_review\")\n",
    "    message_content = state.messages[-1].content.lower().strip()\n",
    "    print(\"user feedback:\", message_content)\n",
    "\n",
    "    approved = message_content == \"approved\"\n",
    "    doc_type = state.document_type\n",
    "\n",
    "    response = {\n",
    "        \"messages\": AIMessage(\n",
    "            content=\"Great! Your design documents have been finalized. You can now proceed with your design process.\"\n",
    "            if approved else\n",
    "            \"I've received your feedback. I'll revise the design documents accordingly.\"\n",
    "        ),\n",
    "        f\"{doc_type}_status\": \"completed\" if approved else \"feedback\"\n",
    "    }\n",
    "\n",
    "    return response\n",
    "\n",
    "\n",
    "def should_revise_design_documents(state: DocumentState) -> Literal[\"feedback\", \"approved\"]:\n",
    "    print(\"In should_revise_design_documents\")\n",
    "    if state.document_type == \"functional\":\n",
    "        return \"feedback\" if state.functional_status == \"feedback\" else \"approved\"\n",
    "    \n",
    "    if state.document_type == \"technical\":\n",
    "        return \"feedback\" if state.technical_status == \"feedback\" else \"approved\"\n",
    "    \n",
    "    return \"approved\"  # Default fallback\n",
    "\n",
    "\n",
    "def revised_design_documents(state: DocumentState) -> DocumentState:\n",
    "    print(\"In revised_design_documents\")\n",
    "    print(\"state :\", state)\n",
    "\n",
    "    doc_type = None\n",
    "    if state.functional_status == 'feedback':\n",
    "        doc_type = \"functional\"\n",
    "    elif state.technical_status == 'feedback':\n",
    "        doc_type = \"technical\"\n",
    "\n",
    "    if not doc_type:\n",
    "        return state  # No feedback status, return state unchanged\n",
    "\n",
    "    revised_count = state.revised_count + 1\n",
    "    print(\"revised_count :\", revised_count)\n",
    "\n",
    "    if revised_count == 3:\n",
    "        return {\n",
    "            \"messages\": AIMessage(\n",
    "                content=\"Design documents have been revision maxed out. Please review the above documents and continue with the next step.\"\n",
    "            ),\n",
    "            f\"{doc_type}_status\": \"completed\"\n",
    "        }\n",
    "\n",
    "    # Define document details dynamically\n",
    "    document_data = {\n",
    "        \"functional\": DocumentSection(\n",
    "                title = f\"Revised Functional Design Document : FUNCTIONAL REQUIREMENTS\",\n",
    "                content = \"\"\"\n",
    "                FR-1: The system shall provide a \"Forgot Password\" option on the login page.  \n",
    "                FR-2: The system shall send a time-limited reset link to the user's registered email address.  \n",
    "                FR-3: The system shall validate new passwords against password policy rules.  \n",
    "                FR-4: The system shall notify users of successful password reset and redirect them to the login page.\n",
    "            \"\"\"),\n",
    "        \"technical\": DocumentSection(\n",
    "                title = f\"Revised Technical Design Document : MODULES & COMPONENTS DESIGN\",\n",
    "                content = \"\"\"\n",
    "                - **Auth API Module:** Exposes RESTful endpoints for password reset request and confirmation  \n",
    "                - **Token Service Module:** Generates, hashes, stores, and validates password reset tokens  \n",
    "                - **Notification Service:** Sends password reset links securely via AWS SES  \n",
    "                - **Audit Logging Module:** Captures all user-initiated reset activities for security auditing\n",
    "            \"\"\",\n",
    "            )\n",
    "    }\n",
    "\n",
    "    doc_info = document_data[doc_type]\n",
    "    revised_document = DocumentSection(title=doc_info.title, content=doc_info.content)\n",
    "\n",
    "    return {\n",
    "        f\"{doc_type}_documents\": [revised_document],\n",
    "        \"messages\": AIMessage(\n",
    "            content=f\"Please review above revised {doc_type} design documents and provide additional feedback or type 'Approved' if you're satisfied.\"\n",
    "        ),\n",
    "        f\"{doc_type}_status\": \"pending_approval\",\n",
    "        \"revised_count\": revised_count\n",
    "    }\n"
   ]
  },
  {
   "cell_type": "code",
   "execution_count": 4,
   "metadata": {},
   "outputs": [],
   "source": [
    "## Design documents \n",
    "from langgraph.graph import StateGraph, START, END\n",
    "document_graph = StateGraph(DocumentState)\n",
    "\n",
    "document_graph.add_node(\"create_design_documents\", create_design_documents)\n",
    "document_graph.add_node(\"design_documents_review\", design_documents_review)\n",
    "document_graph.add_node(\"revised_design_documents\", revised_design_documents)\n",
    "\n",
    "## Design documents \n",
    "document_graph.add_edge(START, \"create_design_documents\")\n",
    "document_graph.add_edge(\"create_design_documents\", \"design_documents_review\")\n",
    "document_graph.add_conditional_edges(\n",
    "    \"design_documents_review\",\n",
    "    should_revise_design_documents,\n",
    "    {\n",
    "        \"feedback\" : \"revised_design_documents\",\n",
    "        \"approved\" : END\n",
    "    }\n",
    ")\n",
    "document_graph.add_edge(\"revised_design_documents\", \"design_documents_review\")\n",
    "\n",
    "memory = MemorySaver()\n",
    "document_workflow = document_graph.compile(checkpointer=memory, interrupt_before=['design_documents_review'])"
   ]
  },
  {
   "cell_type": "code",
   "execution_count": 6,
   "metadata": {},
   "outputs": [
    {
     "ename": "ConnectionError",
     "evalue": "HTTPSConnectionPool(host='mermaid.ink', port=443): Max retries exceeded with url: /img/LS0tCmNvbmZpZzoKICBmbG93Y2hhcnQ6CiAgICBjdXJ2ZTogbGluZWFyCi0tLQpncmFwaCBURDsKCV9fc3RhcnRfXyhbPHA+X19zdGFydF9fPC9wPl0pOjo6Zmlyc3QKCWNyZWF0ZV9kZXNpZ25fZG9jdW1lbnRzKGNyZWF0ZV9kZXNpZ25fZG9jdW1lbnRzKQoJZGVzaWduX2RvY3VtZW50c19yZXZpZXcoZGVzaWduX2RvY3VtZW50c19yZXZpZXc8aHIvPjxzbWFsbD48ZW0+X19pbnRlcnJ1cHQgPSBiZWZvcmU8L2VtPjwvc21hbGw+KQoJcmV2aXNlZF9kZXNpZ25fZG9jdW1lbnRzKHJldmlzZWRfZGVzaWduX2RvY3VtZW50cykKCV9fZW5kX18oWzxwPl9fZW5kX188L3A+XSk6OjpsYXN0CglfX3N0YXJ0X18gLS0+IGNyZWF0ZV9kZXNpZ25fZG9jdW1lbnRzOwoJY3JlYXRlX2Rlc2lnbl9kb2N1bWVudHMgLS0+IGRlc2lnbl9kb2N1bWVudHNfcmV2aWV3OwoJcmV2aXNlZF9kZXNpZ25fZG9jdW1lbnRzIC0tPiBkZXNpZ25fZG9jdW1lbnRzX3JldmlldzsKCWRlc2lnbl9kb2N1bWVudHNfcmV2aWV3IC0uICZuYnNwO2ZlZWRiYWNrJm5ic3A7IC4tPiByZXZpc2VkX2Rlc2lnbl9kb2N1bWVudHM7CglkZXNpZ25fZG9jdW1lbnRzX3JldmlldyAtLiAmbmJzcDthcHByb3ZlZCZuYnNwOyAuLT4gX19lbmRfXzsKCWNsYXNzRGVmIGRlZmF1bHQgZmlsbDojZjJmMGZmLGxpbmUtaGVpZ2h0OjEuMgoJY2xhc3NEZWYgZmlyc3QgZmlsbC1vcGFjaXR5OjAKCWNsYXNzRGVmIGxhc3QgZmlsbDojYmZiNmZjCg==?type=png&bgColor=!white (Caused by NameResolutionError(\"<urllib3.connection.HTTPSConnection object at 0x105dd4560>: Failed to resolve 'mermaid.ink' ([Errno 8] nodename nor servname provided, or not known)\"))",
     "output_type": "error",
     "traceback": [
      "\u001b[31m---------------------------------------------------------------------------\u001b[39m",
      "\u001b[31mgaierror\u001b[39m                                  Traceback (most recent call last)",
      "\u001b[36mFile \u001b[39m\u001b[32m~/Desktop/new/sdlc-copilot/venv/lib/python3.12/site-packages/urllib3/connection.py:198\u001b[39m, in \u001b[36mHTTPConnection._new_conn\u001b[39m\u001b[34m(self)\u001b[39m\n\u001b[32m    197\u001b[39m \u001b[38;5;28;01mtry\u001b[39;00m:\n\u001b[32m--> \u001b[39m\u001b[32m198\u001b[39m     sock = \u001b[43mconnection\u001b[49m\u001b[43m.\u001b[49m\u001b[43mcreate_connection\u001b[49m\u001b[43m(\u001b[49m\n\u001b[32m    199\u001b[39m \u001b[43m        \u001b[49m\u001b[43m(\u001b[49m\u001b[38;5;28;43mself\u001b[39;49m\u001b[43m.\u001b[49m\u001b[43m_dns_host\u001b[49m\u001b[43m,\u001b[49m\u001b[43m \u001b[49m\u001b[38;5;28;43mself\u001b[39;49m\u001b[43m.\u001b[49m\u001b[43mport\u001b[49m\u001b[43m)\u001b[49m\u001b[43m,\u001b[49m\n\u001b[32m    200\u001b[39m \u001b[43m        \u001b[49m\u001b[38;5;28;43mself\u001b[39;49m\u001b[43m.\u001b[49m\u001b[43mtimeout\u001b[49m\u001b[43m,\u001b[49m\n\u001b[32m    201\u001b[39m \u001b[43m        \u001b[49m\u001b[43msource_address\u001b[49m\u001b[43m=\u001b[49m\u001b[38;5;28;43mself\u001b[39;49m\u001b[43m.\u001b[49m\u001b[43msource_address\u001b[49m\u001b[43m,\u001b[49m\n\u001b[32m    202\u001b[39m \u001b[43m        \u001b[49m\u001b[43msocket_options\u001b[49m\u001b[43m=\u001b[49m\u001b[38;5;28;43mself\u001b[39;49m\u001b[43m.\u001b[49m\u001b[43msocket_options\u001b[49m\u001b[43m,\u001b[49m\n\u001b[32m    203\u001b[39m \u001b[43m    \u001b[49m\u001b[43m)\u001b[49m\n\u001b[32m    204\u001b[39m \u001b[38;5;28;01mexcept\u001b[39;00m socket.gaierror \u001b[38;5;28;01mas\u001b[39;00m e:\n",
      "\u001b[36mFile \u001b[39m\u001b[32m~/Desktop/new/sdlc-copilot/venv/lib/python3.12/site-packages/urllib3/util/connection.py:60\u001b[39m, in \u001b[36mcreate_connection\u001b[39m\u001b[34m(address, timeout, source_address, socket_options)\u001b[39m\n\u001b[32m     58\u001b[39m     \u001b[38;5;28;01mraise\u001b[39;00m LocationParseError(\u001b[33mf\u001b[39m\u001b[33m\"\u001b[39m\u001b[33m'\u001b[39m\u001b[38;5;132;01m{\u001b[39;00mhost\u001b[38;5;132;01m}\u001b[39;00m\u001b[33m'\u001b[39m\u001b[33m, label empty or too long\u001b[39m\u001b[33m\"\u001b[39m) \u001b[38;5;28;01mfrom\u001b[39;00m\u001b[38;5;250m \u001b[39m\u001b[38;5;28;01mNone\u001b[39;00m\n\u001b[32m---> \u001b[39m\u001b[32m60\u001b[39m \u001b[38;5;28;01mfor\u001b[39;00m res \u001b[38;5;129;01min\u001b[39;00m \u001b[43msocket\u001b[49m\u001b[43m.\u001b[49m\u001b[43mgetaddrinfo\u001b[49m\u001b[43m(\u001b[49m\u001b[43mhost\u001b[49m\u001b[43m,\u001b[49m\u001b[43m \u001b[49m\u001b[43mport\u001b[49m\u001b[43m,\u001b[49m\u001b[43m \u001b[49m\u001b[43mfamily\u001b[49m\u001b[43m,\u001b[49m\u001b[43m \u001b[49m\u001b[43msocket\u001b[49m\u001b[43m.\u001b[49m\u001b[43mSOCK_STREAM\u001b[49m\u001b[43m)\u001b[49m:\n\u001b[32m     61\u001b[39m     af, socktype, proto, canonname, sa = res\n",
      "\u001b[36mFile \u001b[39m\u001b[32m~/Desktop/new/sdlc-copilot/venv/lib/python3.12/socket.py:963\u001b[39m, in \u001b[36mgetaddrinfo\u001b[39m\u001b[34m(host, port, family, type, proto, flags)\u001b[39m\n\u001b[32m    962\u001b[39m addrlist = []\n\u001b[32m--> \u001b[39m\u001b[32m963\u001b[39m \u001b[38;5;28;01mfor\u001b[39;00m res \u001b[38;5;129;01min\u001b[39;00m \u001b[43m_socket\u001b[49m\u001b[43m.\u001b[49m\u001b[43mgetaddrinfo\u001b[49m\u001b[43m(\u001b[49m\u001b[43mhost\u001b[49m\u001b[43m,\u001b[49m\u001b[43m \u001b[49m\u001b[43mport\u001b[49m\u001b[43m,\u001b[49m\u001b[43m \u001b[49m\u001b[43mfamily\u001b[49m\u001b[43m,\u001b[49m\u001b[43m \u001b[49m\u001b[38;5;28;43mtype\u001b[39;49m\u001b[43m,\u001b[49m\u001b[43m \u001b[49m\u001b[43mproto\u001b[49m\u001b[43m,\u001b[49m\u001b[43m \u001b[49m\u001b[43mflags\u001b[49m\u001b[43m)\u001b[49m:\n\u001b[32m    964\u001b[39m     af, socktype, proto, canonname, sa = res\n",
      "\u001b[31mgaierror\u001b[39m: [Errno 8] nodename nor servname provided, or not known",
      "\nThe above exception was the direct cause of the following exception:\n",
      "\u001b[31mNameResolutionError\u001b[39m                       Traceback (most recent call last)",
      "\u001b[36mFile \u001b[39m\u001b[32m~/Desktop/new/sdlc-copilot/venv/lib/python3.12/site-packages/urllib3/connectionpool.py:787\u001b[39m, in \u001b[36mHTTPConnectionPool.urlopen\u001b[39m\u001b[34m(self, method, url, body, headers, retries, redirect, assert_same_host, timeout, pool_timeout, release_conn, chunked, body_pos, preload_content, decode_content, **response_kw)\u001b[39m\n\u001b[32m    786\u001b[39m \u001b[38;5;66;03m# Make the request on the HTTPConnection object\u001b[39;00m\n\u001b[32m--> \u001b[39m\u001b[32m787\u001b[39m response = \u001b[38;5;28;43mself\u001b[39;49m\u001b[43m.\u001b[49m\u001b[43m_make_request\u001b[49m\u001b[43m(\u001b[49m\n\u001b[32m    788\u001b[39m \u001b[43m    \u001b[49m\u001b[43mconn\u001b[49m\u001b[43m,\u001b[49m\n\u001b[32m    789\u001b[39m \u001b[43m    \u001b[49m\u001b[43mmethod\u001b[49m\u001b[43m,\u001b[49m\n\u001b[32m    790\u001b[39m \u001b[43m    \u001b[49m\u001b[43murl\u001b[49m\u001b[43m,\u001b[49m\n\u001b[32m    791\u001b[39m \u001b[43m    \u001b[49m\u001b[43mtimeout\u001b[49m\u001b[43m=\u001b[49m\u001b[43mtimeout_obj\u001b[49m\u001b[43m,\u001b[49m\n\u001b[32m    792\u001b[39m \u001b[43m    \u001b[49m\u001b[43mbody\u001b[49m\u001b[43m=\u001b[49m\u001b[43mbody\u001b[49m\u001b[43m,\u001b[49m\n\u001b[32m    793\u001b[39m \u001b[43m    \u001b[49m\u001b[43mheaders\u001b[49m\u001b[43m=\u001b[49m\u001b[43mheaders\u001b[49m\u001b[43m,\u001b[49m\n\u001b[32m    794\u001b[39m \u001b[43m    \u001b[49m\u001b[43mchunked\u001b[49m\u001b[43m=\u001b[49m\u001b[43mchunked\u001b[49m\u001b[43m,\u001b[49m\n\u001b[32m    795\u001b[39m \u001b[43m    \u001b[49m\u001b[43mretries\u001b[49m\u001b[43m=\u001b[49m\u001b[43mretries\u001b[49m\u001b[43m,\u001b[49m\n\u001b[32m    796\u001b[39m \u001b[43m    \u001b[49m\u001b[43mresponse_conn\u001b[49m\u001b[43m=\u001b[49m\u001b[43mresponse_conn\u001b[49m\u001b[43m,\u001b[49m\n\u001b[32m    797\u001b[39m \u001b[43m    \u001b[49m\u001b[43mpreload_content\u001b[49m\u001b[43m=\u001b[49m\u001b[43mpreload_content\u001b[49m\u001b[43m,\u001b[49m\n\u001b[32m    798\u001b[39m \u001b[43m    \u001b[49m\u001b[43mdecode_content\u001b[49m\u001b[43m=\u001b[49m\u001b[43mdecode_content\u001b[49m\u001b[43m,\u001b[49m\n\u001b[32m    799\u001b[39m \u001b[43m    \u001b[49m\u001b[43m*\u001b[49m\u001b[43m*\u001b[49m\u001b[43mresponse_kw\u001b[49m\u001b[43m,\u001b[49m\n\u001b[32m    800\u001b[39m \u001b[43m\u001b[49m\u001b[43m)\u001b[49m\n\u001b[32m    802\u001b[39m \u001b[38;5;66;03m# Everything went great!\u001b[39;00m\n",
      "\u001b[36mFile \u001b[39m\u001b[32m~/Desktop/new/sdlc-copilot/venv/lib/python3.12/site-packages/urllib3/connectionpool.py:488\u001b[39m, in \u001b[36mHTTPConnectionPool._make_request\u001b[39m\u001b[34m(self, conn, method, url, body, headers, retries, timeout, chunked, response_conn, preload_content, decode_content, enforce_content_length)\u001b[39m\n\u001b[32m    487\u001b[39m         new_e = _wrap_proxy_error(new_e, conn.proxy.scheme)\n\u001b[32m--> \u001b[39m\u001b[32m488\u001b[39m     \u001b[38;5;28;01mraise\u001b[39;00m new_e\n\u001b[32m    490\u001b[39m \u001b[38;5;66;03m# conn.request() calls http.client.*.request, not the method in\u001b[39;00m\n\u001b[32m    491\u001b[39m \u001b[38;5;66;03m# urllib3.request. It also calls makefile (recv) on the socket.\u001b[39;00m\n",
      "\u001b[36mFile \u001b[39m\u001b[32m~/Desktop/new/sdlc-copilot/venv/lib/python3.12/site-packages/urllib3/connectionpool.py:464\u001b[39m, in \u001b[36mHTTPConnectionPool._make_request\u001b[39m\u001b[34m(self, conn, method, url, body, headers, retries, timeout, chunked, response_conn, preload_content, decode_content, enforce_content_length)\u001b[39m\n\u001b[32m    463\u001b[39m \u001b[38;5;28;01mtry\u001b[39;00m:\n\u001b[32m--> \u001b[39m\u001b[32m464\u001b[39m     \u001b[38;5;28;43mself\u001b[39;49m\u001b[43m.\u001b[49m\u001b[43m_validate_conn\u001b[49m\u001b[43m(\u001b[49m\u001b[43mconn\u001b[49m\u001b[43m)\u001b[49m\n\u001b[32m    465\u001b[39m \u001b[38;5;28;01mexcept\u001b[39;00m (SocketTimeout, BaseSSLError) \u001b[38;5;28;01mas\u001b[39;00m e:\n",
      "\u001b[36mFile \u001b[39m\u001b[32m~/Desktop/new/sdlc-copilot/venv/lib/python3.12/site-packages/urllib3/connectionpool.py:1093\u001b[39m, in \u001b[36mHTTPSConnectionPool._validate_conn\u001b[39m\u001b[34m(self, conn)\u001b[39m\n\u001b[32m   1092\u001b[39m \u001b[38;5;28;01mif\u001b[39;00m conn.is_closed:\n\u001b[32m-> \u001b[39m\u001b[32m1093\u001b[39m     \u001b[43mconn\u001b[49m\u001b[43m.\u001b[49m\u001b[43mconnect\u001b[49m\u001b[43m(\u001b[49m\u001b[43m)\u001b[49m\n\u001b[32m   1095\u001b[39m \u001b[38;5;66;03m# TODO revise this, see https://github.com/urllib3/urllib3/issues/2791\u001b[39;00m\n",
      "\u001b[36mFile \u001b[39m\u001b[32m~/Desktop/new/sdlc-copilot/venv/lib/python3.12/site-packages/urllib3/connection.py:704\u001b[39m, in \u001b[36mHTTPSConnection.connect\u001b[39m\u001b[34m(self)\u001b[39m\n\u001b[32m    703\u001b[39m sock: socket.socket | ssl.SSLSocket\n\u001b[32m--> \u001b[39m\u001b[32m704\u001b[39m \u001b[38;5;28mself\u001b[39m.sock = sock = \u001b[38;5;28;43mself\u001b[39;49m\u001b[43m.\u001b[49m\u001b[43m_new_conn\u001b[49m\u001b[43m(\u001b[49m\u001b[43m)\u001b[49m\n\u001b[32m    705\u001b[39m server_hostname: \u001b[38;5;28mstr\u001b[39m = \u001b[38;5;28mself\u001b[39m.host\n",
      "\u001b[36mFile \u001b[39m\u001b[32m~/Desktop/new/sdlc-copilot/venv/lib/python3.12/site-packages/urllib3/connection.py:205\u001b[39m, in \u001b[36mHTTPConnection._new_conn\u001b[39m\u001b[34m(self)\u001b[39m\n\u001b[32m    204\u001b[39m \u001b[38;5;28;01mexcept\u001b[39;00m socket.gaierror \u001b[38;5;28;01mas\u001b[39;00m e:\n\u001b[32m--> \u001b[39m\u001b[32m205\u001b[39m     \u001b[38;5;28;01mraise\u001b[39;00m NameResolutionError(\u001b[38;5;28mself\u001b[39m.host, \u001b[38;5;28mself\u001b[39m, e) \u001b[38;5;28;01mfrom\u001b[39;00m\u001b[38;5;250m \u001b[39m\u001b[34;01me\u001b[39;00m\n\u001b[32m    206\u001b[39m \u001b[38;5;28;01mexcept\u001b[39;00m SocketTimeout \u001b[38;5;28;01mas\u001b[39;00m e:\n",
      "\u001b[31mNameResolutionError\u001b[39m: <urllib3.connection.HTTPSConnection object at 0x105dd4560>: Failed to resolve 'mermaid.ink' ([Errno 8] nodename nor servname provided, or not known)",
      "\nThe above exception was the direct cause of the following exception:\n",
      "\u001b[31mMaxRetryError\u001b[39m                             Traceback (most recent call last)",
      "\u001b[36mFile \u001b[39m\u001b[32m~/Desktop/new/sdlc-copilot/venv/lib/python3.12/site-packages/requests/adapters.py:667\u001b[39m, in \u001b[36mHTTPAdapter.send\u001b[39m\u001b[34m(self, request, stream, timeout, verify, cert, proxies)\u001b[39m\n\u001b[32m    666\u001b[39m \u001b[38;5;28;01mtry\u001b[39;00m:\n\u001b[32m--> \u001b[39m\u001b[32m667\u001b[39m     resp = \u001b[43mconn\u001b[49m\u001b[43m.\u001b[49m\u001b[43murlopen\u001b[49m\u001b[43m(\u001b[49m\n\u001b[32m    668\u001b[39m \u001b[43m        \u001b[49m\u001b[43mmethod\u001b[49m\u001b[43m=\u001b[49m\u001b[43mrequest\u001b[49m\u001b[43m.\u001b[49m\u001b[43mmethod\u001b[49m\u001b[43m,\u001b[49m\n\u001b[32m    669\u001b[39m \u001b[43m        \u001b[49m\u001b[43murl\u001b[49m\u001b[43m=\u001b[49m\u001b[43murl\u001b[49m\u001b[43m,\u001b[49m\n\u001b[32m    670\u001b[39m \u001b[43m        \u001b[49m\u001b[43mbody\u001b[49m\u001b[43m=\u001b[49m\u001b[43mrequest\u001b[49m\u001b[43m.\u001b[49m\u001b[43mbody\u001b[49m\u001b[43m,\u001b[49m\n\u001b[32m    671\u001b[39m \u001b[43m        \u001b[49m\u001b[43mheaders\u001b[49m\u001b[43m=\u001b[49m\u001b[43mrequest\u001b[49m\u001b[43m.\u001b[49m\u001b[43mheaders\u001b[49m\u001b[43m,\u001b[49m\n\u001b[32m    672\u001b[39m \u001b[43m        \u001b[49m\u001b[43mredirect\u001b[49m\u001b[43m=\u001b[49m\u001b[38;5;28;43;01mFalse\u001b[39;49;00m\u001b[43m,\u001b[49m\n\u001b[32m    673\u001b[39m \u001b[43m        \u001b[49m\u001b[43massert_same_host\u001b[49m\u001b[43m=\u001b[49m\u001b[38;5;28;43;01mFalse\u001b[39;49;00m\u001b[43m,\u001b[49m\n\u001b[32m    674\u001b[39m \u001b[43m        \u001b[49m\u001b[43mpreload_content\u001b[49m\u001b[43m=\u001b[49m\u001b[38;5;28;43;01mFalse\u001b[39;49;00m\u001b[43m,\u001b[49m\n\u001b[32m    675\u001b[39m \u001b[43m        \u001b[49m\u001b[43mdecode_content\u001b[49m\u001b[43m=\u001b[49m\u001b[38;5;28;43;01mFalse\u001b[39;49;00m\u001b[43m,\u001b[49m\n\u001b[32m    676\u001b[39m \u001b[43m        \u001b[49m\u001b[43mretries\u001b[49m\u001b[43m=\u001b[49m\u001b[38;5;28;43mself\u001b[39;49m\u001b[43m.\u001b[49m\u001b[43mmax_retries\u001b[49m\u001b[43m,\u001b[49m\n\u001b[32m    677\u001b[39m \u001b[43m        \u001b[49m\u001b[43mtimeout\u001b[49m\u001b[43m=\u001b[49m\u001b[43mtimeout\u001b[49m\u001b[43m,\u001b[49m\n\u001b[32m    678\u001b[39m \u001b[43m        \u001b[49m\u001b[43mchunked\u001b[49m\u001b[43m=\u001b[49m\u001b[43mchunked\u001b[49m\u001b[43m,\u001b[49m\n\u001b[32m    679\u001b[39m \u001b[43m    \u001b[49m\u001b[43m)\u001b[49m\n\u001b[32m    681\u001b[39m \u001b[38;5;28;01mexcept\u001b[39;00m (ProtocolError, \u001b[38;5;167;01mOSError\u001b[39;00m) \u001b[38;5;28;01mas\u001b[39;00m err:\n",
      "\u001b[36mFile \u001b[39m\u001b[32m~/Desktop/new/sdlc-copilot/venv/lib/python3.12/site-packages/urllib3/connectionpool.py:841\u001b[39m, in \u001b[36mHTTPConnectionPool.urlopen\u001b[39m\u001b[34m(self, method, url, body, headers, retries, redirect, assert_same_host, timeout, pool_timeout, release_conn, chunked, body_pos, preload_content, decode_content, **response_kw)\u001b[39m\n\u001b[32m    839\u001b[39m     new_e = ProtocolError(\u001b[33m\"\u001b[39m\u001b[33mConnection aborted.\u001b[39m\u001b[33m\"\u001b[39m, new_e)\n\u001b[32m--> \u001b[39m\u001b[32m841\u001b[39m retries = \u001b[43mretries\u001b[49m\u001b[43m.\u001b[49m\u001b[43mincrement\u001b[49m\u001b[43m(\u001b[49m\n\u001b[32m    842\u001b[39m \u001b[43m    \u001b[49m\u001b[43mmethod\u001b[49m\u001b[43m,\u001b[49m\u001b[43m \u001b[49m\u001b[43murl\u001b[49m\u001b[43m,\u001b[49m\u001b[43m \u001b[49m\u001b[43merror\u001b[49m\u001b[43m=\u001b[49m\u001b[43mnew_e\u001b[49m\u001b[43m,\u001b[49m\u001b[43m \u001b[49m\u001b[43m_pool\u001b[49m\u001b[43m=\u001b[49m\u001b[38;5;28;43mself\u001b[39;49m\u001b[43m,\u001b[49m\u001b[43m \u001b[49m\u001b[43m_stacktrace\u001b[49m\u001b[43m=\u001b[49m\u001b[43msys\u001b[49m\u001b[43m.\u001b[49m\u001b[43mexc_info\u001b[49m\u001b[43m(\u001b[49m\u001b[43m)\u001b[49m\u001b[43m[\u001b[49m\u001b[32;43m2\u001b[39;49m\u001b[43m]\u001b[49m\n\u001b[32m    843\u001b[39m \u001b[43m\u001b[49m\u001b[43m)\u001b[49m\n\u001b[32m    844\u001b[39m retries.sleep()\n",
      "\u001b[36mFile \u001b[39m\u001b[32m~/Desktop/new/sdlc-copilot/venv/lib/python3.12/site-packages/urllib3/util/retry.py:519\u001b[39m, in \u001b[36mRetry.increment\u001b[39m\u001b[34m(self, method, url, response, error, _pool, _stacktrace)\u001b[39m\n\u001b[32m    518\u001b[39m     reason = error \u001b[38;5;129;01mor\u001b[39;00m ResponseError(cause)\n\u001b[32m--> \u001b[39m\u001b[32m519\u001b[39m     \u001b[38;5;28;01mraise\u001b[39;00m MaxRetryError(_pool, url, reason) \u001b[38;5;28;01mfrom\u001b[39;00m\u001b[38;5;250m \u001b[39m\u001b[34;01mreason\u001b[39;00m  \u001b[38;5;66;03m# type: ignore[arg-type]\u001b[39;00m\n\u001b[32m    521\u001b[39m log.debug(\u001b[33m\"\u001b[39m\u001b[33mIncremented Retry for (url=\u001b[39m\u001b[33m'\u001b[39m\u001b[38;5;132;01m%s\u001b[39;00m\u001b[33m'\u001b[39m\u001b[33m): \u001b[39m\u001b[38;5;132;01m%r\u001b[39;00m\u001b[33m\"\u001b[39m, url, new_retry)\n",
      "\u001b[31mMaxRetryError\u001b[39m: HTTPSConnectionPool(host='mermaid.ink', port=443): Max retries exceeded with url: /img/LS0tCmNvbmZpZzoKICBmbG93Y2hhcnQ6CiAgICBjdXJ2ZTogbGluZWFyCi0tLQpncmFwaCBURDsKCV9fc3RhcnRfXyhbPHA+X19zdGFydF9fPC9wPl0pOjo6Zmlyc3QKCWNyZWF0ZV9kZXNpZ25fZG9jdW1lbnRzKGNyZWF0ZV9kZXNpZ25fZG9jdW1lbnRzKQoJZGVzaWduX2RvY3VtZW50c19yZXZpZXcoZGVzaWduX2RvY3VtZW50c19yZXZpZXc8aHIvPjxzbWFsbD48ZW0+X19pbnRlcnJ1cHQgPSBiZWZvcmU8L2VtPjwvc21hbGw+KQoJcmV2aXNlZF9kZXNpZ25fZG9jdW1lbnRzKHJldmlzZWRfZGVzaWduX2RvY3VtZW50cykKCV9fZW5kX18oWzxwPl9fZW5kX188L3A+XSk6OjpsYXN0CglfX3N0YXJ0X18gLS0+IGNyZWF0ZV9kZXNpZ25fZG9jdW1lbnRzOwoJY3JlYXRlX2Rlc2lnbl9kb2N1bWVudHMgLS0+IGRlc2lnbl9kb2N1bWVudHNfcmV2aWV3OwoJcmV2aXNlZF9kZXNpZ25fZG9jdW1lbnRzIC0tPiBkZXNpZ25fZG9jdW1lbnRzX3JldmlldzsKCWRlc2lnbl9kb2N1bWVudHNfcmV2aWV3IC0uICZuYnNwO2ZlZWRiYWNrJm5ic3A7IC4tPiByZXZpc2VkX2Rlc2lnbl9kb2N1bWVudHM7CglkZXNpZ25fZG9jdW1lbnRzX3JldmlldyAtLiAmbmJzcDthcHByb3ZlZCZuYnNwOyAuLT4gX19lbmRfXzsKCWNsYXNzRGVmIGRlZmF1bHQgZmlsbDojZjJmMGZmLGxpbmUtaGVpZ2h0OjEuMgoJY2xhc3NEZWYgZmlyc3QgZmlsbC1vcGFjaXR5OjAKCWNsYXNzRGVmIGxhc3QgZmlsbDojYmZiNmZjCg==?type=png&bgColor=!white (Caused by NameResolutionError(\"<urllib3.connection.HTTPSConnection object at 0x105dd4560>: Failed to resolve 'mermaid.ink' ([Errno 8] nodename nor servname provided, or not known)\"))",
      "\nDuring handling of the above exception, another exception occurred:\n",
      "\u001b[31mConnectionError\u001b[39m                           Traceback (most recent call last)",
      "\u001b[36mCell\u001b[39m\u001b[36m \u001b[39m\u001b[32mIn[6]\u001b[39m\u001b[32m, line 1\u001b[39m\n\u001b[32m----> \u001b[39m\u001b[32m1\u001b[39m display(Image(\u001b[43mdocument_workflow\u001b[49m\u001b[43m.\u001b[49m\u001b[43mget_graph\u001b[49m\u001b[43m(\u001b[49m\u001b[43m)\u001b[49m\u001b[43m.\u001b[49m\u001b[43mdraw_mermaid_png\u001b[49m\u001b[43m(\u001b[49m\u001b[43m)\u001b[49m))\n",
      "\u001b[36mFile \u001b[39m\u001b[32m~/Desktop/new/sdlc-copilot/venv/lib/python3.12/site-packages/langchain_core/runnables/graph.py:667\u001b[39m, in \u001b[36mGraph.draw_mermaid_png\u001b[39m\u001b[34m(self, curve_style, node_colors, wrap_label_n_words, output_file_path, draw_method, background_color, padding, frontmatter_config)\u001b[39m\n\u001b[32m    659\u001b[39m \u001b[38;5;28;01mfrom\u001b[39;00m\u001b[38;5;250m \u001b[39m\u001b[34;01mlangchain_core\u001b[39;00m\u001b[34;01m.\u001b[39;00m\u001b[34;01mrunnables\u001b[39;00m\u001b[34;01m.\u001b[39;00m\u001b[34;01mgraph_mermaid\u001b[39;00m\u001b[38;5;250m \u001b[39m\u001b[38;5;28;01mimport\u001b[39;00m draw_mermaid_png\n\u001b[32m    661\u001b[39m mermaid_syntax = \u001b[38;5;28mself\u001b[39m.draw_mermaid(\n\u001b[32m    662\u001b[39m     curve_style=curve_style,\n\u001b[32m    663\u001b[39m     node_colors=node_colors,\n\u001b[32m    664\u001b[39m     wrap_label_n_words=wrap_label_n_words,\n\u001b[32m    665\u001b[39m     frontmatter_config=frontmatter_config,\n\u001b[32m    666\u001b[39m )\n\u001b[32m--> \u001b[39m\u001b[32m667\u001b[39m \u001b[38;5;28;01mreturn\u001b[39;00m \u001b[43mdraw_mermaid_png\u001b[49m\u001b[43m(\u001b[49m\n\u001b[32m    668\u001b[39m \u001b[43m    \u001b[49m\u001b[43mmermaid_syntax\u001b[49m\u001b[43m=\u001b[49m\u001b[43mmermaid_syntax\u001b[49m\u001b[43m,\u001b[49m\n\u001b[32m    669\u001b[39m \u001b[43m    \u001b[49m\u001b[43moutput_file_path\u001b[49m\u001b[43m=\u001b[49m\u001b[43moutput_file_path\u001b[49m\u001b[43m,\u001b[49m\n\u001b[32m    670\u001b[39m \u001b[43m    \u001b[49m\u001b[43mdraw_method\u001b[49m\u001b[43m=\u001b[49m\u001b[43mdraw_method\u001b[49m\u001b[43m,\u001b[49m\n\u001b[32m    671\u001b[39m \u001b[43m    \u001b[49m\u001b[43mbackground_color\u001b[49m\u001b[43m=\u001b[49m\u001b[43mbackground_color\u001b[49m\u001b[43m,\u001b[49m\n\u001b[32m    672\u001b[39m \u001b[43m    \u001b[49m\u001b[43mpadding\u001b[49m\u001b[43m=\u001b[49m\u001b[43mpadding\u001b[49m\u001b[43m,\u001b[49m\n\u001b[32m    673\u001b[39m \u001b[43m\u001b[49m\u001b[43m)\u001b[49m\n",
      "\u001b[36mFile \u001b[39m\u001b[32m~/Desktop/new/sdlc-copilot/venv/lib/python3.12/site-packages/langchain_core/runnables/graph_mermaid.py:282\u001b[39m, in \u001b[36mdraw_mermaid_png\u001b[39m\u001b[34m(mermaid_syntax, output_file_path, draw_method, background_color, padding)\u001b[39m\n\u001b[32m    276\u001b[39m     img_bytes = asyncio.run(\n\u001b[32m    277\u001b[39m         _render_mermaid_using_pyppeteer(\n\u001b[32m    278\u001b[39m             mermaid_syntax, output_file_path, background_color, padding\n\u001b[32m    279\u001b[39m         )\n\u001b[32m    280\u001b[39m     )\n\u001b[32m    281\u001b[39m \u001b[38;5;28;01melif\u001b[39;00m draw_method == MermaidDrawMethod.API:\n\u001b[32m--> \u001b[39m\u001b[32m282\u001b[39m     img_bytes = \u001b[43m_render_mermaid_using_api\u001b[49m\u001b[43m(\u001b[49m\n\u001b[32m    283\u001b[39m \u001b[43m        \u001b[49m\u001b[43mmermaid_syntax\u001b[49m\u001b[43m,\u001b[49m\u001b[43m \u001b[49m\u001b[43moutput_file_path\u001b[49m\u001b[43m,\u001b[49m\u001b[43m \u001b[49m\u001b[43mbackground_color\u001b[49m\n\u001b[32m    284\u001b[39m \u001b[43m    \u001b[49m\u001b[43m)\u001b[49m\n\u001b[32m    285\u001b[39m \u001b[38;5;28;01melse\u001b[39;00m:\n\u001b[32m    286\u001b[39m     supported_methods = \u001b[33m\"\u001b[39m\u001b[33m, \u001b[39m\u001b[33m\"\u001b[39m.join([m.value \u001b[38;5;28;01mfor\u001b[39;00m m \u001b[38;5;129;01min\u001b[39;00m MermaidDrawMethod])\n",
      "\u001b[36mFile \u001b[39m\u001b[32m~/Desktop/new/sdlc-copilot/venv/lib/python3.12/site-packages/langchain_core/runnables/graph_mermaid.py:400\u001b[39m, in \u001b[36m_render_mermaid_using_api\u001b[39m\u001b[34m(mermaid_syntax, output_file_path, background_color, file_type)\u001b[39m\n\u001b[32m    394\u001b[39m         background_color = \u001b[33mf\u001b[39m\u001b[33m\"\u001b[39m\u001b[33m!\u001b[39m\u001b[38;5;132;01m{\u001b[39;00mbackground_color\u001b[38;5;132;01m}\u001b[39;00m\u001b[33m\"\u001b[39m\n\u001b[32m    396\u001b[39m image_url = (\n\u001b[32m    397\u001b[39m     \u001b[33mf\u001b[39m\u001b[33m\"\u001b[39m\u001b[33mhttps://mermaid.ink/img/\u001b[39m\u001b[38;5;132;01m{\u001b[39;00mmermaid_syntax_encoded\u001b[38;5;132;01m}\u001b[39;00m\u001b[33m\"\u001b[39m\n\u001b[32m    398\u001b[39m     \u001b[33mf\u001b[39m\u001b[33m\"\u001b[39m\u001b[33m?type=\u001b[39m\u001b[38;5;132;01m{\u001b[39;00mfile_type\u001b[38;5;132;01m}\u001b[39;00m\u001b[33m&bgColor=\u001b[39m\u001b[38;5;132;01m{\u001b[39;00mbackground_color\u001b[38;5;132;01m}\u001b[39;00m\u001b[33m\"\u001b[39m\n\u001b[32m    399\u001b[39m )\n\u001b[32m--> \u001b[39m\u001b[32m400\u001b[39m response = \u001b[43mrequests\u001b[49m\u001b[43m.\u001b[49m\u001b[43mget\u001b[49m\u001b[43m(\u001b[49m\u001b[43mimage_url\u001b[49m\u001b[43m,\u001b[49m\u001b[43m \u001b[49m\u001b[43mtimeout\u001b[49m\u001b[43m=\u001b[49m\u001b[32;43m10\u001b[39;49m\u001b[43m)\u001b[49m\n\u001b[32m    401\u001b[39m \u001b[38;5;28;01mif\u001b[39;00m response.status_code == \u001b[32m200\u001b[39m:\n\u001b[32m    402\u001b[39m     img_bytes = response.content\n",
      "\u001b[36mFile \u001b[39m\u001b[32m~/Desktop/new/sdlc-copilot/venv/lib/python3.12/site-packages/requests/api.py:73\u001b[39m, in \u001b[36mget\u001b[39m\u001b[34m(url, params, **kwargs)\u001b[39m\n\u001b[32m     62\u001b[39m \u001b[38;5;28;01mdef\u001b[39;00m\u001b[38;5;250m \u001b[39m\u001b[34mget\u001b[39m(url, params=\u001b[38;5;28;01mNone\u001b[39;00m, **kwargs):\n\u001b[32m     63\u001b[39m \u001b[38;5;250m    \u001b[39m\u001b[33mr\u001b[39m\u001b[33;03m\"\"\"Sends a GET request.\u001b[39;00m\n\u001b[32m     64\u001b[39m \n\u001b[32m     65\u001b[39m \u001b[33;03m    :param url: URL for the new :class:`Request` object.\u001b[39;00m\n\u001b[32m   (...)\u001b[39m\u001b[32m     70\u001b[39m \u001b[33;03m    :rtype: requests.Response\u001b[39;00m\n\u001b[32m     71\u001b[39m \u001b[33;03m    \"\"\"\u001b[39;00m\n\u001b[32m---> \u001b[39m\u001b[32m73\u001b[39m     \u001b[38;5;28;01mreturn\u001b[39;00m \u001b[43mrequest\u001b[49m\u001b[43m(\u001b[49m\u001b[33;43m\"\u001b[39;49m\u001b[33;43mget\u001b[39;49m\u001b[33;43m\"\u001b[39;49m\u001b[43m,\u001b[49m\u001b[43m \u001b[49m\u001b[43murl\u001b[49m\u001b[43m,\u001b[49m\u001b[43m \u001b[49m\u001b[43mparams\u001b[49m\u001b[43m=\u001b[49m\u001b[43mparams\u001b[49m\u001b[43m,\u001b[49m\u001b[43m \u001b[49m\u001b[43m*\u001b[49m\u001b[43m*\u001b[49m\u001b[43mkwargs\u001b[49m\u001b[43m)\u001b[49m\n",
      "\u001b[36mFile \u001b[39m\u001b[32m~/Desktop/new/sdlc-copilot/venv/lib/python3.12/site-packages/requests/api.py:59\u001b[39m, in \u001b[36mrequest\u001b[39m\u001b[34m(method, url, **kwargs)\u001b[39m\n\u001b[32m     55\u001b[39m \u001b[38;5;66;03m# By using the 'with' statement we are sure the session is closed, thus we\u001b[39;00m\n\u001b[32m     56\u001b[39m \u001b[38;5;66;03m# avoid leaving sockets open which can trigger a ResourceWarning in some\u001b[39;00m\n\u001b[32m     57\u001b[39m \u001b[38;5;66;03m# cases, and look like a memory leak in others.\u001b[39;00m\n\u001b[32m     58\u001b[39m \u001b[38;5;28;01mwith\u001b[39;00m sessions.Session() \u001b[38;5;28;01mas\u001b[39;00m session:\n\u001b[32m---> \u001b[39m\u001b[32m59\u001b[39m     \u001b[38;5;28;01mreturn\u001b[39;00m \u001b[43msession\u001b[49m\u001b[43m.\u001b[49m\u001b[43mrequest\u001b[49m\u001b[43m(\u001b[49m\u001b[43mmethod\u001b[49m\u001b[43m=\u001b[49m\u001b[43mmethod\u001b[49m\u001b[43m,\u001b[49m\u001b[43m \u001b[49m\u001b[43murl\u001b[49m\u001b[43m=\u001b[49m\u001b[43murl\u001b[49m\u001b[43m,\u001b[49m\u001b[43m \u001b[49m\u001b[43m*\u001b[49m\u001b[43m*\u001b[49m\u001b[43mkwargs\u001b[49m\u001b[43m)\u001b[49m\n",
      "\u001b[36mFile \u001b[39m\u001b[32m~/Desktop/new/sdlc-copilot/venv/lib/python3.12/site-packages/requests/sessions.py:589\u001b[39m, in \u001b[36mSession.request\u001b[39m\u001b[34m(self, method, url, params, data, headers, cookies, files, auth, timeout, allow_redirects, proxies, hooks, stream, verify, cert, json)\u001b[39m\n\u001b[32m    584\u001b[39m send_kwargs = {\n\u001b[32m    585\u001b[39m     \u001b[33m\"\u001b[39m\u001b[33mtimeout\u001b[39m\u001b[33m\"\u001b[39m: timeout,\n\u001b[32m    586\u001b[39m     \u001b[33m\"\u001b[39m\u001b[33mallow_redirects\u001b[39m\u001b[33m\"\u001b[39m: allow_redirects,\n\u001b[32m    587\u001b[39m }\n\u001b[32m    588\u001b[39m send_kwargs.update(settings)\n\u001b[32m--> \u001b[39m\u001b[32m589\u001b[39m resp = \u001b[38;5;28;43mself\u001b[39;49m\u001b[43m.\u001b[49m\u001b[43msend\u001b[49m\u001b[43m(\u001b[49m\u001b[43mprep\u001b[49m\u001b[43m,\u001b[49m\u001b[43m \u001b[49m\u001b[43m*\u001b[49m\u001b[43m*\u001b[49m\u001b[43msend_kwargs\u001b[49m\u001b[43m)\u001b[49m\n\u001b[32m    591\u001b[39m \u001b[38;5;28;01mreturn\u001b[39;00m resp\n",
      "\u001b[36mFile \u001b[39m\u001b[32m~/Desktop/new/sdlc-copilot/venv/lib/python3.12/site-packages/requests/sessions.py:703\u001b[39m, in \u001b[36mSession.send\u001b[39m\u001b[34m(self, request, **kwargs)\u001b[39m\n\u001b[32m    700\u001b[39m start = preferred_clock()\n\u001b[32m    702\u001b[39m \u001b[38;5;66;03m# Send the request\u001b[39;00m\n\u001b[32m--> \u001b[39m\u001b[32m703\u001b[39m r = \u001b[43madapter\u001b[49m\u001b[43m.\u001b[49m\u001b[43msend\u001b[49m\u001b[43m(\u001b[49m\u001b[43mrequest\u001b[49m\u001b[43m,\u001b[49m\u001b[43m \u001b[49m\u001b[43m*\u001b[49m\u001b[43m*\u001b[49m\u001b[43mkwargs\u001b[49m\u001b[43m)\u001b[49m\n\u001b[32m    705\u001b[39m \u001b[38;5;66;03m# Total elapsed time of the request (approximately)\u001b[39;00m\n\u001b[32m    706\u001b[39m elapsed = preferred_clock() - start\n",
      "\u001b[36mFile \u001b[39m\u001b[32m~/Desktop/new/sdlc-copilot/venv/lib/python3.12/site-packages/requests/adapters.py:700\u001b[39m, in \u001b[36mHTTPAdapter.send\u001b[39m\u001b[34m(self, request, stream, timeout, verify, cert, proxies)\u001b[39m\n\u001b[32m    696\u001b[39m     \u001b[38;5;28;01mif\u001b[39;00m \u001b[38;5;28misinstance\u001b[39m(e.reason, _SSLError):\n\u001b[32m    697\u001b[39m         \u001b[38;5;66;03m# This branch is for urllib3 v1.22 and later.\u001b[39;00m\n\u001b[32m    698\u001b[39m         \u001b[38;5;28;01mraise\u001b[39;00m SSLError(e, request=request)\n\u001b[32m--> \u001b[39m\u001b[32m700\u001b[39m     \u001b[38;5;28;01mraise\u001b[39;00m \u001b[38;5;167;01mConnectionError\u001b[39;00m(e, request=request)\n\u001b[32m    702\u001b[39m \u001b[38;5;28;01mexcept\u001b[39;00m ClosedPoolError \u001b[38;5;28;01mas\u001b[39;00m e:\n\u001b[32m    703\u001b[39m     \u001b[38;5;28;01mraise\u001b[39;00m \u001b[38;5;167;01mConnectionError\u001b[39;00m(e, request=request)\n",
      "\u001b[31mConnectionError\u001b[39m: HTTPSConnectionPool(host='mermaid.ink', port=443): Max retries exceeded with url: /img/LS0tCmNvbmZpZzoKICBmbG93Y2hhcnQ6CiAgICBjdXJ2ZTogbGluZWFyCi0tLQpncmFwaCBURDsKCV9fc3RhcnRfXyhbPHA+X19zdGFydF9fPC9wPl0pOjo6Zmlyc3QKCWNyZWF0ZV9kZXNpZ25fZG9jdW1lbnRzKGNyZWF0ZV9kZXNpZ25fZG9jdW1lbnRzKQoJZGVzaWduX2RvY3VtZW50c19yZXZpZXcoZGVzaWduX2RvY3VtZW50c19yZXZpZXc8aHIvPjxzbWFsbD48ZW0+X19pbnRlcnJ1cHQgPSBiZWZvcmU8L2VtPjwvc21hbGw+KQoJcmV2aXNlZF9kZXNpZ25fZG9jdW1lbnRzKHJldmlzZWRfZGVzaWduX2RvY3VtZW50cykKCV9fZW5kX18oWzxwPl9fZW5kX188L3A+XSk6OjpsYXN0CglfX3N0YXJ0X18gLS0+IGNyZWF0ZV9kZXNpZ25fZG9jdW1lbnRzOwoJY3JlYXRlX2Rlc2lnbl9kb2N1bWVudHMgLS0+IGRlc2lnbl9kb2N1bWVudHNfcmV2aWV3OwoJcmV2aXNlZF9kZXNpZ25fZG9jdW1lbnRzIC0tPiBkZXNpZ25fZG9jdW1lbnRzX3JldmlldzsKCWRlc2lnbl9kb2N1bWVudHNfcmV2aWV3IC0uICZuYnNwO2ZlZWRiYWNrJm5ic3A7IC4tPiByZXZpc2VkX2Rlc2lnbl9kb2N1bWVudHM7CglkZXNpZ25fZG9jdW1lbnRzX3JldmlldyAtLiAmbmJzcDthcHByb3ZlZCZuYnNwOyAuLT4gX19lbmRfXzsKCWNsYXNzRGVmIGRlZmF1bHQgZmlsbDojZjJmMGZmLGxpbmUtaGVpZ2h0OjEuMgoJY2xhc3NEZWYgZmlyc3QgZmlsbC1vcGFjaXR5OjAKCWNsYXNzRGVmIGxhc3QgZmlsbDojYmZiNmZjCg==?type=png&bgColor=!white (Caused by NameResolutionError(\"<urllib3.connection.HTTPSConnection object at 0x105dd4560>: Failed to resolve 'mermaid.ink' ([Errno 8] nodename nor servname provided, or not known)\"))"
     ]
    }
   ],
   "source": [
    "display(Image(document_workflow.get_graph().draw_mermaid_png()))"
   ]
  },
  {
   "cell_type": "code",
   "execution_count": 7,
   "metadata": {},
   "outputs": [
    {
     "name": "stdout",
     "output_type": "stream",
     "text": [
      "{'functional_documents': [], 'technical_documents': [], 'messages': [], 'document_type': 'functional', 'functional_status': 'in_progress', 'revised_count': 0, 'version': 1.0}\n",
      "In create_design_documents\n",
      "{'functional_documents': [DocumentSection(title='INTRODUCTION', content='This document defines the functional requirements for the Password Reset Feature of the User Management System.'), DocumentSection(title='BUSINESS CONTEXT', content='The business needs a secure mechanism for users to recover access to their accounts without compromising security, improving customer satisfaction and retention.')], 'technical_documents': [], 'messages': [AIMessage(content=\"Please review above functional design document and provide feedback or type 'Approved' if you're satisfied.\", additional_kwargs={}, response_metadata={}, id='d2b29f4a-e224-42c4-9d89-54dc4859f117')], 'document_type': 'functional', 'functional_status': 'pending_approval', 'revised_count': 0, 'version': 1.0}\n"
     ]
    },
    {
     "name": "stderr",
     "output_type": "stream",
     "text": [
      "Failed to get info from https://api.smith.langchain.com: LangSmithConnectionError('Connection error caused failure to GET /info in LangSmith API. Please confirm your internet connection. ConnectionError(MaxRetryError(\\'HTTPSConnectionPool(host=\\\\\\'api.smith.langchain.com\\\\\\', port=443): Max retries exceeded with url: /info (Caused by NameResolutionError(\"<urllib3.connection.HTTPSConnection object at 0x105d25820>: Failed to resolve \\\\\\'api.smith.langchain.com\\\\\\' ([Errno 8] nodename nor servname provided, or not known)\"))\\'))\\nContent-Length: None\\nAPI Key: lsv2_********************************************a7')\n",
      "Failed to batch ingest runs: langsmith.utils.LangSmithConnectionError: Connection error caused failure to POST https://api.smith.langchain.com/runs/batch in LangSmith API. Please confirm your internet connection. ConnectionError(MaxRetryError('HTTPSConnectionPool(host=\\'api.smith.langchain.com\\', port=443): Max retries exceeded with url: /runs/batch (Caused by NameResolutionError(\"<urllib3.connection.HTTPSConnection object at 0x106f14a10>: Failed to resolve \\'api.smith.langchain.com\\' ([Errno 8] nodename nor servname provided, or not known)\"))'))\n",
      "Content-Length: 12196\n",
      "API Key: lsv2_********************************************a7\n",
      "post: trace=1f6ccd45-7a0e-41b4-8673-35cfcfd8e3e0,id=1f6ccd45-7a0e-41b4-8673-35cfcfd8e3e0; trace=1f6ccd45-7a0e-41b4-8673-35cfcfd8e3e0,id=a1be45b6-34db-47d7-b82d-a09ddc0d4de6; trace=1f6ccd45-7a0e-41b4-8673-35cfcfd8e3e0,id=f98a4049-d862-452b-8240-1a3887712a0e; trace=1f6ccd45-7a0e-41b4-8673-35cfcfd8e3e0,id=17e4449e-8a16-464f-8fe5-143a8e696372; trace=1f6ccd45-7a0e-41b4-8673-35cfcfd8e3e0,id=6ee48cfe-9e90-425c-a375-039d30a09de6; trace=1f6ccd45-7a0e-41b4-8673-35cfcfd8e3e0,id=21492c6a-47a3-4ad4-abf5-f57799348a53\n",
      "Failed to batch ingest runs: langsmith.utils.LangSmithConnectionError: Connection error caused failure to POST https://api.smith.langchain.com/runs/batch in LangSmith API. Please confirm your internet connection. ConnectionError(MaxRetryError('HTTPSConnectionPool(host=\\'api.smith.langchain.com\\', port=443): Max retries exceeded with url: /runs/batch (Caused by NameResolutionError(\"<urllib3.connection.HTTPSConnection object at 0x107035370>: Failed to resolve \\'api.smith.langchain.com\\' ([Errno 8] nodename nor servname provided, or not known)\"))'))\n",
      "Content-Length: 19547\n",
      "API Key: lsv2_********************************************a7\n",
      "post: trace=006554c3-6d1a-4632-910e-cc3d36591597,id=006554c3-6d1a-4632-910e-cc3d36591597; trace=006554c3-6d1a-4632-910e-cc3d36591597,id=f7efb101-a3ef-4988-984b-fe70eaa822b3; trace=0a7f4880-ebf6-4968-a3a2-8b63a21a2796,id=0a7f4880-ebf6-4968-a3a2-8b63a21a2796; trace=0a7f4880-ebf6-4968-a3a2-8b63a21a2796,id=b1c85284-65ee-4720-8593-9c91f3e873cc; trace=0a7f4880-ebf6-4968-a3a2-8b63a21a2796,id=356cbca6-c5a7-4c53-94aa-cba21fb82ce6; trace=0a7f4880-ebf6-4968-a3a2-8b63a21a2796,id=7d45229e-df35-47f3-9999-1809ee108044; trace=0a7f4880-ebf6-4968-a3a2-8b63a21a2796,id=9daa038c-90a3-4c18-98b3-656b5b214383; trace=0a7f4880-ebf6-4968-a3a2-8b63a21a2796,id=3ad0548b-8c21-4cee-956a-ac318dd19d9a\n",
      "Failed to batch ingest runs: langsmith.utils.LangSmithConnectionError: Connection error caused failure to POST https://api.smith.langchain.com/runs/batch in LangSmith API. Please confirm your internet connection. ConnectionError(MaxRetryError('HTTPSConnectionPool(host=\\'api.smith.langchain.com\\', port=443): Max retries exceeded with url: /runs/batch (Caused by NameResolutionError(\"<urllib3.connection.HTTPSConnection object at 0x1070359d0>: Failed to resolve \\'api.smith.langchain.com\\' ([Errno 8] nodename nor servname provided, or not known)\"))'))\n",
      "Content-Length: 15006\n",
      "API Key: lsv2_********************************************a7\n",
      "post: trace=26e67bd8-908f-412d-9438-2d895c8577c2,id=26e67bd8-908f-412d-9438-2d895c8577c2; trace=26e67bd8-908f-412d-9438-2d895c8577c2,id=2d037dd8-08a5-4eb1-b1a2-fcac3844364d; trace=26e67bd8-908f-412d-9438-2d895c8577c2,id=9aadb5b3-b8e7-4f87-a6a7-fdd785aecb2f; trace=26e67bd8-908f-412d-9438-2d895c8577c2,id=a73e27f5-7771-4839-97c9-50d04f9c1f00; trace=26e67bd8-908f-412d-9438-2d895c8577c2,id=19c91521-2205-417d-baa5-95f72bd7453f; trace=26e67bd8-908f-412d-9438-2d895c8577c2,id=291afccb-1271-49f1-914d-db793fa2fddb\n",
      "Failed to batch ingest runs: langsmith.utils.LangSmithConnectionError: Connection error caused failure to POST https://api.smith.langchain.com/runs/batch in LangSmith API. Please confirm your internet connection. ConnectionError(MaxRetryError('HTTPSConnectionPool(host=\\'api.smith.langchain.com\\', port=443): Max retries exceeded with url: /runs/batch (Caused by NameResolutionError(\"<urllib3.connection.HTTPSConnection object at 0x1070372f0>: Failed to resolve \\'api.smith.langchain.com\\' ([Errno 8] nodename nor servname provided, or not known)\"))'))\n",
      "Content-Length: 25744\n",
      "API Key: lsv2_********************************************a7\n",
      "post: trace=f7f8b464-620a-4a53-8445-2900219b58fa,id=f7f8b464-620a-4a53-8445-2900219b58fa; trace=f7f8b464-620a-4a53-8445-2900219b58fa,id=166c0c30-b477-4642-ac2d-ab4e3885770d; trace=9711ab51-8bdd-4af9-a65b-303955502495,id=9711ab51-8bdd-4af9-a65b-303955502495; trace=9711ab51-8bdd-4af9-a65b-303955502495,id=2e40b50b-4a9d-4802-8906-77f51f97e4e7; trace=9711ab51-8bdd-4af9-a65b-303955502495,id=c3dd0e3f-4a2b-4b78-916c-f1d3aae19d53; trace=9711ab51-8bdd-4af9-a65b-303955502495,id=d4175c82-bade-4389-8905-24b9fa2d9ca6; trace=9711ab51-8bdd-4af9-a65b-303955502495,id=ff5b248e-44bc-4198-b873-20af0e9ab208; trace=9711ab51-8bdd-4af9-a65b-303955502495,id=9d6bd28a-e56e-455b-953f-a022b3a3f41b\n"
     ]
    }
   ],
   "source": [
    "\n",
    "initial_document_state = {\n",
    "    \"functional_documents\" : [],\n",
    "    \"technical_documents\" : [],\n",
    "    \"document_type\" : \"functional\",\n",
    "    \"messages\": [],\n",
    "    \"functional_status\": \"in_progress\",\n",
    "    \"revised_count\" : 0,\n",
    "    \"version\" : 1.0\n",
    "}\n",
    "\n",
    "# Thread\n",
    "thread = {\"configurable\": {\"thread_id\": \"20\"}}\n",
    "\n",
    "for event in document_workflow.stream(initial_document_state, thread, stream_mode=\"values\"):\n",
    "    print(event)"
   ]
  },
  {
   "cell_type": "code",
   "execution_count": null,
   "metadata": {},
   "outputs": [],
   "source": [
    "{'functional_documents': \n",
    " [DocumentSection(title='INTRODUCTION', content='This document defines the functional requirements for the Password Reset Feature of the User Management System.'), \n",
    "  DocumentSection(title='BUSINESS CONTEXT', content='The business needs a secure mechanism for users to recover access to their accounts without compromising security, improving customer satisfaction and retention.')], 'technical_documents': [], \n",
    "  'messages': [AIMessage(content=\"Please review above functional design document and provide feedback or type 'Approved' if you're satisfied.\", additional_kwargs={}, response_metadata={}, id='d2b29f4a-e224-42c4-9d89-54dc4859f117')], \n",
    "  'document_type': 'functional', 'functional_status': 'pending_approval', 'revised_count': 0, 'version': 1.0}"
   ]
  },
  {
   "cell_type": "code",
   "execution_count": 8,
   "metadata": {},
   "outputs": [
    {
     "data": {
      "text/plain": [
       "('design_documents_review',)"
      ]
     },
     "execution_count": 8,
     "metadata": {},
     "output_type": "execute_result"
    }
   ],
   "source": [
    "document_state = document_workflow.get_state(thread) \n",
    "document_state.next"
   ]
  },
  {
   "cell_type": "code",
   "execution_count": 9,
   "metadata": {},
   "outputs": [
    {
     "name": "stdout",
     "output_type": "stream",
     "text": [
      "{'functional_documents': [DocumentSection(title='INTRODUCTION', content='This document defines the functional requirements for the Password Reset Feature of the User Management System.'), DocumentSection(title='BUSINESS CONTEXT', content='The business needs a secure mechanism for users to recover access to their accounts without compromising security, improving customer satisfaction and retention.')], 'technical_documents': [], 'messages': [AIMessage(content=\"Please review above functional design document and provide feedback or type 'Approved' if you're satisfied.\", additional_kwargs={}, response_metadata={}, id='d2b29f4a-e224-42c4-9d89-54dc4859f117'), HumanMessage(content='Add signal player game', additional_kwargs={}, response_metadata={}, id='dd156dd0-867b-4b3f-9abe-fc8d9f0b786b')], 'document_type': 'functional', 'functional_status': 'pending_approval', 'revised_count': 0, 'version': 1.0}\n",
      "In design_documents_review\n",
      "user feedback: add signal player game\n",
      "In should_revise_design_documents\n",
      "{'functional_documents': [DocumentSection(title='INTRODUCTION', content='This document defines the functional requirements for the Password Reset Feature of the User Management System.'), DocumentSection(title='BUSINESS CONTEXT', content='The business needs a secure mechanism for users to recover access to their accounts without compromising security, improving customer satisfaction and retention.')], 'technical_documents': [], 'messages': [AIMessage(content=\"Please review above functional design document and provide feedback or type 'Approved' if you're satisfied.\", additional_kwargs={}, response_metadata={}, id='d2b29f4a-e224-42c4-9d89-54dc4859f117'), HumanMessage(content='Add signal player game', additional_kwargs={}, response_metadata={}, id='dd156dd0-867b-4b3f-9abe-fc8d9f0b786b'), AIMessage(content=\"I've received your feedback. I'll revise the design documents accordingly.\", additional_kwargs={}, response_metadata={}, id='48907e7d-b5f0-42bb-b8f7-52e01f39e6d9')], 'document_type': 'functional', 'functional_status': 'feedback', 'revised_count': 0, 'version': 1.0}\n",
      "In revised_design_documents\n",
      "state : functional_documents=[DocumentSection(title='INTRODUCTION', content='This document defines the functional requirements for the Password Reset Feature of the User Management System.'), DocumentSection(title='BUSINESS CONTEXT', content='The business needs a secure mechanism for users to recover access to their accounts without compromising security, improving customer satisfaction and retention.')] technical_documents=[] messages=[AIMessage(content=\"Please review above functional design document and provide feedback or type 'Approved' if you're satisfied.\", additional_kwargs={}, response_metadata={}, id='d2b29f4a-e224-42c4-9d89-54dc4859f117'), HumanMessage(content='Add signal player game', additional_kwargs={}, response_metadata={}, id='dd156dd0-867b-4b3f-9abe-fc8d9f0b786b'), AIMessage(content=\"I've received your feedback. I'll revise the design documents accordingly.\", additional_kwargs={}, response_metadata={}, id='48907e7d-b5f0-42bb-b8f7-52e01f39e6d9')] document_type='functional' functional_status='feedback' technical_status='in_progress' revised_count=0 version=1.0\n",
      "revised_count : 1\n",
      "{'functional_documents': [DocumentSection(title='Revised Functional Design Document : FUNCTIONAL REQUIREMENTS', content='\\n                FR-1: The system shall provide a \"Forgot Password\" option on the login page.  \\n                FR-2: The system shall send a time-limited reset link to the user\\'s registered email address.  \\n                FR-3: The system shall validate new passwords against password policy rules.  \\n                FR-4: The system shall notify users of successful password reset and redirect them to the login page.\\n            ')], 'technical_documents': [], 'messages': [AIMessage(content=\"Please review above functional design document and provide feedback or type 'Approved' if you're satisfied.\", additional_kwargs={}, response_metadata={}, id='d2b29f4a-e224-42c4-9d89-54dc4859f117'), HumanMessage(content='Add signal player game', additional_kwargs={}, response_metadata={}, id='dd156dd0-867b-4b3f-9abe-fc8d9f0b786b'), AIMessage(content=\"I've received your feedback. I'll revise the design documents accordingly.\", additional_kwargs={}, response_metadata={}, id='48907e7d-b5f0-42bb-b8f7-52e01f39e6d9'), AIMessage(content=\"Please review above revised functional design documents and provide additional feedback or type 'Approved' if you're satisfied.\", additional_kwargs={}, response_metadata={}, id='41366e89-8c68-4d43-9124-7f33167daa97')], 'document_type': 'functional', 'functional_status': 'pending_approval', 'revised_count': 1, 'version': 1.0}\n"
     ]
    }
   ],
   "source": [
    "\n",
    "updated_state = document_workflow.update_state(thread, { \"messages\" : HumanMessage(content='Add signal player game')})\n",
    "# document_workflow.update_state(thread, { \"messages\" : HumanMessage(content='Approved')})\n",
    "\n",
    "# Continue the graph execution\n",
    "for event in document_workflow.stream(None, thread, stream_mode=\"values\"):\n",
    "    print(event)"
   ]
  },
  {
   "cell_type": "code",
   "execution_count": null,
   "metadata": {},
   "outputs": [],
   "source": [
    "{'functional_documents': [DocumentSection(title='Revised Functional Design Document : FUNCTIONAL REQUIREMENTS', content='\\n                FR-1: The system shall provide a \"Forgot Password\" option on the login page.  \\n                FR-2: The system shall send a time-limited reset link to the user\\'s registered email address.  \\n                FR-3: The system shall validate new passwords against password policy rules.  \\n                FR-4: The system shall notify users of successful password reset and redirect them to the login page.\\n            ')], 'technical_documents': [], 'messages': [AIMessage(content=\"Please review above functional design document and provide feedback or type 'Approved' if you're satisfied.\", additional_kwargs={}, response_metadata={}, id='d2b29f4a-e224-42c4-9d89-54dc4859f117'), HumanMessage(content='Add signal player game', additional_kwargs={}, response_metadata={}, id='dd156dd0-867b-4b3f-9abe-fc8d9f0b786b'), AIMessage(content=\"I've received your feedback. I'll revise the design documents accordingly.\", additional_kwargs={}, response_metadata={}, id='48907e7d-b5f0-42bb-b8f7-52e01f39e6d9'), AIMessage(content=\"Please review above revised functional design documents and provide additional feedback or type 'Approved' if you're satisfied.\", additional_kwargs={}, response_metadata={}, id='41366e89-8c68-4d43-9124-7f33167daa97')], 'document_type': 'functional', 'functional_status': 'pending_approval', 'revised_count': 1, 'version': 1.0}"
   ]
  },
  {
   "cell_type": "markdown",
   "metadata": {},
   "source": [
    "## technical document"
   ]
  },
  {
   "cell_type": "code",
   "execution_count": 10,
   "metadata": {},
   "outputs": [
    {
     "name": "stdout",
     "output_type": "stream",
     "text": [
      "{'functional_documents': [DocumentSection(title='Revised Functional Design Document : FUNCTIONAL REQUIREMENTS', content='\\n                FR-1: The system shall provide a \"Forgot Password\" option on the login page.  \\n                FR-2: The system shall send a time-limited reset link to the user\\'s registered email address.  \\n                FR-3: The system shall validate new passwords against password policy rules.  \\n                FR-4: The system shall notify users of successful password reset and redirect them to the login page.\\n            ')], 'technical_documents': [], 'messages': [AIMessage(content=\"Please review above functional design document and provide feedback or type 'Approved' if you're satisfied.\", additional_kwargs={}, response_metadata={}, id='d2b29f4a-e224-42c4-9d89-54dc4859f117'), HumanMessage(content='Add signal player game', additional_kwargs={}, response_metadata={}, id='dd156dd0-867b-4b3f-9abe-fc8d9f0b786b'), AIMessage(content=\"I've received your feedback. I'll revise the design documents accordingly.\", additional_kwargs={}, response_metadata={}, id='48907e7d-b5f0-42bb-b8f7-52e01f39e6d9'), AIMessage(content=\"Please review above revised functional design documents and provide additional feedback or type 'Approved' if you're satisfied.\", additional_kwargs={}, response_metadata={}, id='41366e89-8c68-4d43-9124-7f33167daa97')], 'document_type': 'technical', 'functional_status': 'pending_approval', 'technical_status': 'in_progress', 'revised_count': 0, 'version': 1.0}\n",
      "In create_design_documents\n",
      "{'functional_documents': [DocumentSection(title='Revised Functional Design Document : FUNCTIONAL REQUIREMENTS', content='\\n                FR-1: The system shall provide a \"Forgot Password\" option on the login page.  \\n                FR-2: The system shall send a time-limited reset link to the user\\'s registered email address.  \\n                FR-3: The system shall validate new passwords against password policy rules.  \\n                FR-4: The system shall notify users of successful password reset and redirect them to the login page.\\n            ')], 'technical_documents': [DocumentSection(title='INTRODUCTION & PURPOSE', content='This document outlines the technical design for the Password Reset functionality as defined in the Functional Specification Document (FSD).'), DocumentSection(title='BUSINESS CONTEXT', content='The business needs a secure mechanism for users to recover access to their accounts without compromising security, improving customer satisfaction and retention.')], 'messages': [AIMessage(content=\"Please review above functional design document and provide feedback or type 'Approved' if you're satisfied.\", additional_kwargs={}, response_metadata={}, id='d2b29f4a-e224-42c4-9d89-54dc4859f117'), HumanMessage(content='Add signal player game', additional_kwargs={}, response_metadata={}, id='dd156dd0-867b-4b3f-9abe-fc8d9f0b786b'), AIMessage(content=\"I've received your feedback. I'll revise the design documents accordingly.\", additional_kwargs={}, response_metadata={}, id='48907e7d-b5f0-42bb-b8f7-52e01f39e6d9'), AIMessage(content=\"Please review above revised functional design documents and provide additional feedback or type 'Approved' if you're satisfied.\", additional_kwargs={}, response_metadata={}, id='41366e89-8c68-4d43-9124-7f33167daa97'), AIMessage(content=\"Please review above technical design document and provide feedback or type 'Approved' if you're satisfied.\", additional_kwargs={}, response_metadata={}, id='7c000f71-217d-47f3-8bf1-607aa6227d90')], 'document_type': 'technical', 'functional_status': 'pending_approval', 'technical_status': 'pending_approval', 'revised_count': 0, 'version': 1.0}\n"
     ]
    }
   ],
   "source": [
    "\n",
    "initial_document_state = {\n",
    "    \"technical_documents\" : [],\n",
    "    \"document_type\" : \"technical\",\n",
    "    \"technical_status\" : \"in_progress\",\n",
    "    \"revised_count\" : 0\n",
    "}\n",
    "\n",
    "# Thread\n",
    "# thread = {\"configurable\": {\"thread_id\": \"20\"}}\n",
    "\n",
    "for event in document_workflow.stream(initial_document_state, thread, stream_mode=\"values\"):\n",
    "    print(event)"
   ]
  },
  {
   "cell_type": "code",
   "execution_count": 11,
   "metadata": {},
   "outputs": [
    {
     "data": {
      "text/plain": [
       "{'functional_documents': [DocumentSection(title='Revised Functional Design Document : FUNCTIONAL REQUIREMENTS', content='\\n                FR-1: The system shall provide a \"Forgot Password\" option on the login page.  \\n                FR-2: The system shall send a time-limited reset link to the user\\'s registered email address.  \\n                FR-3: The system shall validate new passwords against password policy rules.  \\n                FR-4: The system shall notify users of successful password reset and redirect them to the login page.\\n            ')],\n",
       " 'technical_documents': [DocumentSection(title='INTRODUCTION & PURPOSE', content='This document outlines the technical design for the Password Reset functionality as defined in the Functional Specification Document (FSD).'),\n",
       "  DocumentSection(title='BUSINESS CONTEXT', content='The business needs a secure mechanism for users to recover access to their accounts without compromising security, improving customer satisfaction and retention.')],\n",
       " 'messages': [AIMessage(content=\"Please review above functional design document and provide feedback or type 'Approved' if you're satisfied.\", additional_kwargs={}, response_metadata={}, id='d2b29f4a-e224-42c4-9d89-54dc4859f117'),\n",
       "  HumanMessage(content='Add signal player game', additional_kwargs={}, response_metadata={}, id='dd156dd0-867b-4b3f-9abe-fc8d9f0b786b'),\n",
       "  AIMessage(content=\"I've received your feedback. I'll revise the design documents accordingly.\", additional_kwargs={}, response_metadata={}, id='48907e7d-b5f0-42bb-b8f7-52e01f39e6d9'),\n",
       "  AIMessage(content=\"Please review above revised functional design documents and provide additional feedback or type 'Approved' if you're satisfied.\", additional_kwargs={}, response_metadata={}, id='41366e89-8c68-4d43-9124-7f33167daa97'),\n",
       "  AIMessage(content=\"Please review above technical design document and provide feedback or type 'Approved' if you're satisfied.\", additional_kwargs={}, response_metadata={}, id='7c000f71-217d-47f3-8bf1-607aa6227d90')],\n",
       " 'document_type': 'technical',\n",
       " 'functional_status': 'pending_approval',\n",
       " 'technical_status': 'pending_approval',\n",
       " 'revised_count': 0,\n",
       " 'version': 1.0}"
      ]
     },
     "execution_count": 11,
     "metadata": {},
     "output_type": "execute_result"
    }
   ],
   "source": [
    "{'functional_documents': [DocumentSection(title='Revised Functional Design Document : FUNCTIONAL REQUIREMENTS', content='\\n                FR-1: The system shall provide a \"Forgot Password\" option on the login page.  \\n                FR-2: The system shall send a time-limited reset link to the user\\'s registered email address.  \\n                FR-3: The system shall validate new passwords against password policy rules.  \\n                FR-4: The system shall notify users of successful password reset and redirect them to the login page.\\n            ')], 'technical_documents': [DocumentSection(title='INTRODUCTION & PURPOSE', content='This document outlines the technical design for the Password Reset functionality as defined in the Functional Specification Document (FSD).'), DocumentSection(title='BUSINESS CONTEXT', content='The business needs a secure mechanism for users to recover access to their accounts without compromising security, improving customer satisfaction and retention.')], 'messages': [AIMessage(content=\"Please review above functional design document and provide feedback or type 'Approved' if you're satisfied.\", additional_kwargs={}, response_metadata={}, id='d2b29f4a-e224-42c4-9d89-54dc4859f117'), HumanMessage(content='Add signal player game', additional_kwargs={}, response_metadata={}, id='dd156dd0-867b-4b3f-9abe-fc8d9f0b786b'), AIMessage(content=\"I've received your feedback. I'll revise the design documents accordingly.\", additional_kwargs={}, response_metadata={}, id='48907e7d-b5f0-42bb-b8f7-52e01f39e6d9'), AIMessage(content=\"Please review above revised functional design documents and provide additional feedback or type 'Approved' if you're satisfied.\", additional_kwargs={}, response_metadata={}, id='41366e89-8c68-4d43-9124-7f33167daa97'), AIMessage(content=\"Please review above technical design document and provide feedback or type 'Approved' if you're satisfied.\", additional_kwargs={}, response_metadata={}, id='7c000f71-217d-47f3-8bf1-607aa6227d90')], 'document_type': 'technical', 'functional_status': 'pending_approval', 'technical_status': 'pending_approval', 'revised_count': 0, 'version': 1.0}\n"
   ]
  },
  {
   "cell_type": "code",
   "execution_count": 12,
   "metadata": {},
   "outputs": [
    {
     "data": {
      "text/plain": [
       "('design_documents_review',)"
      ]
     },
     "execution_count": 12,
     "metadata": {},
     "output_type": "execute_result"
    }
   ],
   "source": [
    "document_state = document_workflow.get_state(thread) \n",
    "document_state.next"
   ]
  },
  {
   "cell_type": "code",
   "execution_count": 13,
   "metadata": {},
   "outputs": [
    {
     "name": "stdout",
     "output_type": "stream",
     "text": [
      "{'functional_documents': [DocumentSection(title='Revised Functional Design Document : FUNCTIONAL REQUIREMENTS', content='\\n                FR-1: The system shall provide a \"Forgot Password\" option on the login page.  \\n                FR-2: The system shall send a time-limited reset link to the user\\'s registered email address.  \\n                FR-3: The system shall validate new passwords against password policy rules.  \\n                FR-4: The system shall notify users of successful password reset and redirect them to the login page.\\n            ')], 'technical_documents': [DocumentSection(title='INTRODUCTION & PURPOSE', content='This document outlines the technical design for the Password Reset functionality as defined in the Functional Specification Document (FSD).'), DocumentSection(title='BUSINESS CONTEXT', content='The business needs a secure mechanism for users to recover access to their accounts without compromising security, improving customer satisfaction and retention.')], 'messages': [AIMessage(content=\"Please review above functional design document and provide feedback or type 'Approved' if you're satisfied.\", additional_kwargs={}, response_metadata={}, id='d2b29f4a-e224-42c4-9d89-54dc4859f117'), HumanMessage(content='Add signal player game', additional_kwargs={}, response_metadata={}, id='dd156dd0-867b-4b3f-9abe-fc8d9f0b786b'), AIMessage(content=\"I've received your feedback. I'll revise the design documents accordingly.\", additional_kwargs={}, response_metadata={}, id='48907e7d-b5f0-42bb-b8f7-52e01f39e6d9'), AIMessage(content=\"Please review above revised functional design documents and provide additional feedback or type 'Approved' if you're satisfied.\", additional_kwargs={}, response_metadata={}, id='41366e89-8c68-4d43-9124-7f33167daa97'), AIMessage(content=\"Please review above technical design document and provide feedback or type 'Approved' if you're satisfied.\", additional_kwargs={}, response_metadata={}, id='7c000f71-217d-47f3-8bf1-607aa6227d90'), HumanMessage(content='correct the document', additional_kwargs={}, response_metadata={}, id='bba098a1-d32e-43c4-901b-01a841209719')], 'document_type': 'technical', 'functional_status': 'pending_approval', 'technical_status': 'pending_approval', 'revised_count': 0, 'version': 1.0}\n",
      "In design_documents_review\n",
      "user feedback: correct the document\n",
      "In should_revise_design_documents\n",
      "{'functional_documents': [DocumentSection(title='Revised Functional Design Document : FUNCTIONAL REQUIREMENTS', content='\\n                FR-1: The system shall provide a \"Forgot Password\" option on the login page.  \\n                FR-2: The system shall send a time-limited reset link to the user\\'s registered email address.  \\n                FR-3: The system shall validate new passwords against password policy rules.  \\n                FR-4: The system shall notify users of successful password reset and redirect them to the login page.\\n            ')], 'technical_documents': [DocumentSection(title='INTRODUCTION & PURPOSE', content='This document outlines the technical design for the Password Reset functionality as defined in the Functional Specification Document (FSD).'), DocumentSection(title='BUSINESS CONTEXT', content='The business needs a secure mechanism for users to recover access to their accounts without compromising security, improving customer satisfaction and retention.')], 'messages': [AIMessage(content=\"Please review above functional design document and provide feedback or type 'Approved' if you're satisfied.\", additional_kwargs={}, response_metadata={}, id='d2b29f4a-e224-42c4-9d89-54dc4859f117'), HumanMessage(content='Add signal player game', additional_kwargs={}, response_metadata={}, id='dd156dd0-867b-4b3f-9abe-fc8d9f0b786b'), AIMessage(content=\"I've received your feedback. I'll revise the design documents accordingly.\", additional_kwargs={}, response_metadata={}, id='48907e7d-b5f0-42bb-b8f7-52e01f39e6d9'), AIMessage(content=\"Please review above revised functional design documents and provide additional feedback or type 'Approved' if you're satisfied.\", additional_kwargs={}, response_metadata={}, id='41366e89-8c68-4d43-9124-7f33167daa97'), AIMessage(content=\"Please review above technical design document and provide feedback or type 'Approved' if you're satisfied.\", additional_kwargs={}, response_metadata={}, id='7c000f71-217d-47f3-8bf1-607aa6227d90'), HumanMessage(content='correct the document', additional_kwargs={}, response_metadata={}, id='bba098a1-d32e-43c4-901b-01a841209719'), AIMessage(content=\"I've received your feedback. I'll revise the design documents accordingly.\", additional_kwargs={}, response_metadata={}, id='2b686a83-f979-40d6-9e71-20c452d8aa43')], 'document_type': 'technical', 'functional_status': 'pending_approval', 'technical_status': 'feedback', 'revised_count': 0, 'version': 1.0}\n",
      "In revised_design_documents\n",
      "state : functional_documents=[DocumentSection(title='Revised Functional Design Document : FUNCTIONAL REQUIREMENTS', content='\\n                FR-1: The system shall provide a \"Forgot Password\" option on the login page.  \\n                FR-2: The system shall send a time-limited reset link to the user\\'s registered email address.  \\n                FR-3: The system shall validate new passwords against password policy rules.  \\n                FR-4: The system shall notify users of successful password reset and redirect them to the login page.\\n            ')] technical_documents=[DocumentSection(title='INTRODUCTION & PURPOSE', content='This document outlines the technical design for the Password Reset functionality as defined in the Functional Specification Document (FSD).'), DocumentSection(title='BUSINESS CONTEXT', content='The business needs a secure mechanism for users to recover access to their accounts without compromising security, improving customer satisfaction and retention.')] messages=[AIMessage(content=\"Please review above functional design document and provide feedback or type 'Approved' if you're satisfied.\", additional_kwargs={}, response_metadata={}, id='d2b29f4a-e224-42c4-9d89-54dc4859f117'), HumanMessage(content='Add signal player game', additional_kwargs={}, response_metadata={}, id='dd156dd0-867b-4b3f-9abe-fc8d9f0b786b'), AIMessage(content=\"I've received your feedback. I'll revise the design documents accordingly.\", additional_kwargs={}, response_metadata={}, id='48907e7d-b5f0-42bb-b8f7-52e01f39e6d9'), AIMessage(content=\"Please review above revised functional design documents and provide additional feedback or type 'Approved' if you're satisfied.\", additional_kwargs={}, response_metadata={}, id='41366e89-8c68-4d43-9124-7f33167daa97'), AIMessage(content=\"Please review above technical design document and provide feedback or type 'Approved' if you're satisfied.\", additional_kwargs={}, response_metadata={}, id='7c000f71-217d-47f3-8bf1-607aa6227d90'), HumanMessage(content='correct the document', additional_kwargs={}, response_metadata={}, id='bba098a1-d32e-43c4-901b-01a841209719'), AIMessage(content=\"I've received your feedback. I'll revise the design documents accordingly.\", additional_kwargs={}, response_metadata={}, id='2b686a83-f979-40d6-9e71-20c452d8aa43')] document_type='technical' functional_status='pending_approval' technical_status='feedback' revised_count=0 version=1.0\n",
      "revised_count : 1\n",
      "{'functional_documents': [DocumentSection(title='Revised Functional Design Document : FUNCTIONAL REQUIREMENTS', content='\\n                FR-1: The system shall provide a \"Forgot Password\" option on the login page.  \\n                FR-2: The system shall send a time-limited reset link to the user\\'s registered email address.  \\n                FR-3: The system shall validate new passwords against password policy rules.  \\n                FR-4: The system shall notify users of successful password reset and redirect them to the login page.\\n            ')], 'technical_documents': [DocumentSection(title='Revised Technical Design Document : MODULES & COMPONENTS DESIGN', content='\\n                - **Auth API Module:** Exposes RESTful endpoints for password reset request and confirmation  \\n                - **Token Service Module:** Generates, hashes, stores, and validates password reset tokens  \\n                - **Notification Service:** Sends password reset links securely via AWS SES  \\n                - **Audit Logging Module:** Captures all user-initiated reset activities for security auditing\\n            ')], 'messages': [AIMessage(content=\"Please review above functional design document and provide feedback or type 'Approved' if you're satisfied.\", additional_kwargs={}, response_metadata={}, id='d2b29f4a-e224-42c4-9d89-54dc4859f117'), HumanMessage(content='Add signal player game', additional_kwargs={}, response_metadata={}, id='dd156dd0-867b-4b3f-9abe-fc8d9f0b786b'), AIMessage(content=\"I've received your feedback. I'll revise the design documents accordingly.\", additional_kwargs={}, response_metadata={}, id='48907e7d-b5f0-42bb-b8f7-52e01f39e6d9'), AIMessage(content=\"Please review above revised functional design documents and provide additional feedback or type 'Approved' if you're satisfied.\", additional_kwargs={}, response_metadata={}, id='41366e89-8c68-4d43-9124-7f33167daa97'), AIMessage(content=\"Please review above technical design document and provide feedback or type 'Approved' if you're satisfied.\", additional_kwargs={}, response_metadata={}, id='7c000f71-217d-47f3-8bf1-607aa6227d90'), HumanMessage(content='correct the document', additional_kwargs={}, response_metadata={}, id='bba098a1-d32e-43c4-901b-01a841209719'), AIMessage(content=\"I've received your feedback. I'll revise the design documents accordingly.\", additional_kwargs={}, response_metadata={}, id='2b686a83-f979-40d6-9e71-20c452d8aa43'), AIMessage(content=\"Please review above revised technical design documents and provide additional feedback or type 'Approved' if you're satisfied.\", additional_kwargs={}, response_metadata={}, id='ba989393-0f93-4095-906b-6d83f895632c')], 'document_type': 'technical', 'functional_status': 'pending_approval', 'technical_status': 'pending_approval', 'revised_count': 1, 'version': 1.0}\n"
     ]
    }
   ],
   "source": [
    "updated_state = document_workflow.update_state(thread, { \"messages\" : HumanMessage(content='correct the document')})\n",
    "# document_workflow.update_state(thread, { \"messages\" : HumanMessage(content='Approved')})\n",
    "\n",
    "# Continue the graph execution\n",
    "for event in document_workflow.stream(None, thread, stream_mode=\"values\"):\n",
    "    print(event)"
   ]
  },
  {
   "cell_type": "code",
   "execution_count": 14,
   "metadata": {},
   "outputs": [
    {
     "data": {
      "text/plain": [
       "{'functional_documents': [DocumentSection(title='Revised Functional Design Document : FUNCTIONAL REQUIREMENTS', content='\\n                FR-1: The system shall provide a \"Forgot Password\" option on the login page.  \\n                FR-2: The system shall send a time-limited reset link to the user\\'s registered email address.  \\n                FR-3: The system shall validate new passwords against password policy rules.  \\n                FR-4: The system shall notify users of successful password reset and redirect them to the login page.\\n            ')],\n",
       " 'technical_documents': [DocumentSection(title='Revised Technical Design Document : MODULES & COMPONENTS DESIGN', content='\\n                - **Auth API Module:** Exposes RESTful endpoints for password reset request and confirmation  \\n                - **Token Service Module:** Generates, hashes, stores, and validates password reset tokens  \\n                - **Notification Service:** Sends password reset links securely via AWS SES  \\n                - **Audit Logging Module:** Captures all user-initiated reset activities for security auditing\\n            ')],\n",
       " 'messages': [AIMessage(content=\"Please review above functional design document and provide feedback or type 'Approved' if you're satisfied.\", additional_kwargs={}, response_metadata={}, id='d2b29f4a-e224-42c4-9d89-54dc4859f117'),\n",
       "  HumanMessage(content='Add signal player game', additional_kwargs={}, response_metadata={}, id='dd156dd0-867b-4b3f-9abe-fc8d9f0b786b'),\n",
       "  AIMessage(content=\"I've received your feedback. I'll revise the design documents accordingly.\", additional_kwargs={}, response_metadata={}, id='48907e7d-b5f0-42bb-b8f7-52e01f39e6d9'),\n",
       "  AIMessage(content=\"Please review above revised functional design documents and provide additional feedback or type 'Approved' if you're satisfied.\", additional_kwargs={}, response_metadata={}, id='41366e89-8c68-4d43-9124-7f33167daa97'),\n",
       "  AIMessage(content=\"Please review above technical design document and provide feedback or type 'Approved' if you're satisfied.\", additional_kwargs={}, response_metadata={}, id='7c000f71-217d-47f3-8bf1-607aa6227d90'),\n",
       "  HumanMessage(content='correct the document', additional_kwargs={}, response_metadata={}, id='bba098a1-d32e-43c4-901b-01a841209719'),\n",
       "  AIMessage(content=\"I've received your feedback. I'll revise the design documents accordingly.\", additional_kwargs={}, response_metadata={}, id='2b686a83-f979-40d6-9e71-20c452d8aa43'),\n",
       "  AIMessage(content=\"Please review above revised technical design documents and provide additional feedback or type 'Approved' if you're satisfied.\", additional_kwargs={}, response_metadata={}, id='ba989393-0f93-4095-906b-6d83f895632c')],\n",
       " 'document_type': 'technical',\n",
       " 'functional_status': 'pending_approval',\n",
       " 'technical_status': 'pending_approval',\n",
       " 'revised_count': 1,\n",
       " 'version': 1.0}"
      ]
     },
     "execution_count": 14,
     "metadata": {},
     "output_type": "execute_result"
    }
   ],
   "source": [
    "{'functional_documents': [DocumentSection(title='Revised Functional Design Document : FUNCTIONAL REQUIREMENTS', content='\\n                FR-1: The system shall provide a \"Forgot Password\" option on the login page.  \\n                FR-2: The system shall send a time-limited reset link to the user\\'s registered email address.  \\n                FR-3: The system shall validate new passwords against password policy rules.  \\n                FR-4: The system shall notify users of successful password reset and redirect them to the login page.\\n            ')], 'technical_documents': [DocumentSection(title='Revised Technical Design Document : MODULES & COMPONENTS DESIGN', content='\\n                - **Auth API Module:** Exposes RESTful endpoints for password reset request and confirmation  \\n                - **Token Service Module:** Generates, hashes, stores, and validates password reset tokens  \\n                - **Notification Service:** Sends password reset links securely via AWS SES  \\n                - **Audit Logging Module:** Captures all user-initiated reset activities for security auditing\\n            ')], 'messages': [AIMessage(content=\"Please review above functional design document and provide feedback or type 'Approved' if you're satisfied.\", additional_kwargs={}, response_metadata={}, id='d2b29f4a-e224-42c4-9d89-54dc4859f117'), HumanMessage(content='Add signal player game', additional_kwargs={}, response_metadata={}, id='dd156dd0-867b-4b3f-9abe-fc8d9f0b786b'), AIMessage(content=\"I've received your feedback. I'll revise the design documents accordingly.\", additional_kwargs={}, response_metadata={}, id='48907e7d-b5f0-42bb-b8f7-52e01f39e6d9'), AIMessage(content=\"Please review above revised functional design documents and provide additional feedback or type 'Approved' if you're satisfied.\", additional_kwargs={}, response_metadata={}, id='41366e89-8c68-4d43-9124-7f33167daa97'), AIMessage(content=\"Please review above technical design document and provide feedback or type 'Approved' if you're satisfied.\", additional_kwargs={}, response_metadata={}, id='7c000f71-217d-47f3-8bf1-607aa6227d90'), HumanMessage(content='correct the document', additional_kwargs={}, response_metadata={}, id='bba098a1-d32e-43c4-901b-01a841209719'), AIMessage(content=\"I've received your feedback. I'll revise the design documents accordingly.\", additional_kwargs={}, response_metadata={}, id='2b686a83-f979-40d6-9e71-20c452d8aa43'), AIMessage(content=\"Please review above revised technical design documents and provide additional feedback or type 'Approved' if you're satisfied.\", additional_kwargs={}, response_metadata={}, id='ba989393-0f93-4095-906b-6d83f895632c')], 'document_type': 'technical', 'functional_status': 'pending_approval', 'technical_status': 'pending_approval', 'revised_count': 1, 'version': 1.0}"
   ]
  },
  {
   "cell_type": "code",
   "execution_count": null,
   "metadata": {},
   "outputs": [],
   "source": []
  }
 ],
 "metadata": {
  "kernelspec": {
   "display_name": "Python 3",
   "language": "python",
   "name": "python3"
  },
  "language_info": {
   "codemirror_mode": {
    "name": "ipython",
    "version": 3
   },
   "file_extension": ".py",
   "mimetype": "text/x-python",
   "name": "python",
   "nbconvert_exporter": "python",
   "pygments_lexer": "ipython3",
   "version": "3.12.0"
  }
 },
 "nbformat": 4,
 "nbformat_minor": 2
}
