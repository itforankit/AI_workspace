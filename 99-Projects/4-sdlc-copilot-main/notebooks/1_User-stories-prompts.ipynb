{
 "cells": [
  {
   "cell_type": "code",
   "execution_count": 2,
   "metadata": {},
   "outputs": [],
   "source": [
    "from langchain_core.messages import HumanMessage\n",
    "\n",
    "from dotenv import load_dotenv\n",
    "load_dotenv()\n",
    "import os \n",
    "\n",
    "\n",
    "os.environ['OPENAI_API_KEY'] = os.getenv(\"OPENAI_API_KEY\")\n",
    "os.environ['GROQ_API_KEY'] = os.getenv(\"GROQ_API_KEY\")\n",
    "os.environ['LANGSMITH_API_KEY'] = os.getenv(\"LANGSMITH_API_KEY\")\n",
    "os.environ['LANGSMITH_PROJECT'] = os.getenv(\"LANGSMITH_PROJECT\")\n",
    "os.environ['LANGSMITH_TRACING'] = os.getenv(\"LANGSMITH_TRACING\")\n",
    "os.environ['GOOGLE_API_KEY'] = os.getenv(\"GOOGLE_API_KEY\")"
   ]
  },
  {
   "cell_type": "code",
   "execution_count": 3,
   "metadata": {},
   "outputs": [],
   "source": [
    "from langchain_groq import ChatGroq \n",
    "from langchain_google_genai import ChatGoogleGenerativeAI\n",
    "# llm = ChatGroq(model=\"deepseek-r1-distill-llama-70b\")\n",
    "llm = ChatGoogleGenerativeAI(\n",
    "    model=\"gemini-2.0-flash\",\n",
    "    temperature=0,\n",
    "    max_tokens=None,\n",
    "    timeout=None,\n",
    "    max_retries=2\n",
    ")"
   ]
  },
  {
   "cell_type": "code",
   "execution_count": 4,
   "metadata": {},
   "outputs": [],
   "source": [
    "project_title = \"PayMate: Your Ultimate Payment Companion\"\n",
    "project_description = \"PayMate is a comprehensive payment application that allows users to perform seamless transactions using the Unified Payments Interface (UPI). Beyond basic payments, PayMate offers features such as quick loans, bill payments, and a user-friendly interface, making it a one-stop solution for all financial needs.\"\n",
    "requirements = [\"Implement multi-factor authentication, including biometrics (fingerprint and facial recognition) and MPIN, to secure user accounts.​\", \"Enable users to link multiple bank accounts and perform instant fund transfers using UPI.\", \"Provide users with access to instant micro-loans with minimal documentation.\", \"Allow users to pay utility bills such as electricity, water, gas, and broadband directly through the app.\"]\n",
    "requirements_string = \"\\n\".join(requirements)"
   ]
  },
  {
   "cell_type": "code",
   "execution_count": 5,
   "metadata": {},
   "outputs": [],
   "source": [
    "generate_user_stories_system_prompt = \"\"\"\n",
    "**ROLE & OBJECTIVE**\n",
    "\n",
    "You are an expert Agile Product Owner. Your task is to analyze structured project requirements and generate clear, actionable 4 to 6 user stories ready for development. Return the OUTPUT in the JSON format only. \n",
    "\n",
    "---\n",
    "\n",
    "**TASK BREAKDOWN:**\n",
    "1. **Analyze** project requirements, objectives, and user needs.\n",
    "2. **Extract** core features and define user roles.\n",
    "3. **Decompose** requirements into independent, testable user stories.\n",
    "4. **Generate** user stories using:\n",
    "   - **As a [user], I want [goal], so that [value].**\n",
    "   - Clear, testable **acceptance criteria**.\n",
    "5. **Prioritize** based on business impact and feasibility.\n",
    "\n",
    "---\n",
    "\n",
    "**DESIRED OUTPUT TEMPLATE IN LIST OF JSON**\n",
    "\n",
    "```\n",
    "[\n",
    "    {\n",
    "        \"story_id\"=\"US-001\",\n",
    "        \"title\"=\"Manage Shopping Cart\",\n",
    "        \"description\"=\"As a shopper, I want to modify my cart before checkout.\",\n",
    "        \"acceptance_criteria\"=[\n",
    "            \"User can add/remove items.\",\n",
    "            \"User can update item quantity.\",\n",
    "            \"Cart updates reflect in real-time.\",\n",
    "            \"User can see the total price of the cart.\"\n",
    "        ]\n",
    "    }\n",
    "]\n",
    "```\n",
    "\n",
    "---\n",
    "\n",
    "**GUIDELINES:**\n",
    "✅ Align with project requirements.\n",
    "✅ Use concise, clear language.\n",
    "✅ Ensure user stories are independent and testable.\n",
    "✅ Prioritize based on business impact.\n",
    "✅ The **acceptance criteria must be between 2 to 4 points**—no more, no less.  \n",
    "🚫 Avoid vagueness, missing criteria, or unnecessary technical details.\n",
    "\"\"\""
   ]
  },
  {
   "cell_type": "code",
   "execution_count": 6,
   "metadata": {},
   "outputs": [],
   "source": [
    "# revised_user_stories_system_prompt= \"\"\"\n",
    "# Role & Objective:\n",
    "#     As an expert Agile Product Owner, analyze existing user stories and user feedback. Return refined user stories in JSON format, adhering to INVEST principles and Agile best practices.\n",
    "\n",
    "# Input Requirements:\n",
    "#     - user_stories (List[Dict]): Existing user stories in the format:\n",
    "#         [{\n",
    "#             \"story_id\": str, \n",
    "#             \"title\": str, \n",
    "#             \"description\": str (template: \"As a [user], I want [goal], so that [value].\"),\n",
    "#             \"acceptance_criteria\": List[str] (2-4 testable items)\n",
    "#         }]\n",
    "#     - user_feedback (str): Raw feedback from users to analyze.\n",
    "\n",
    "# Output Rules:\n",
    "#     Returns a JSON list with:\n",
    "#     - \"story_id\": Original ID for modifications, new ID (e.g., \"US-XXX\") for additions.\n",
    "#     - \"description\": Follows the \"As a [user]...\" template strictly.\n",
    "#     - \"acceptance_criteria\": 2-4 concrete, testable items.\n",
    "#     - \"feedback_applied\": Short note justifying changes (required for modifications).\n",
    "\n",
    "# Guidelines:\n",
    "#     1. Clarity:\n",
    "#         - Stories must be atomic (independent) and unambiguous.\n",
    "#         - Avoid technical jargon (e.g., \"use OAuth 2.0\" → \"log in via Google\").\n",
    "#     2. Feedback Integration:\n",
    "#         - Explicitly document changes in \"feedback_applied\".\n",
    "#         - Preserve original intent unless feedback contradicts it.\n",
    "#     3. Validation:\n",
    "#         - Reject redundant or overlapping stories.\n",
    "#         - Ensure acceptance criteria are measurable (e.g., \"loads under 2 seconds\").\n",
    "\n",
    "# Example Execution:\n",
    "#     >>> Input:\n",
    "#     {\n",
    "#         \"user_stories\": [{\n",
    "#             \"story_id\": \"US-001\",\n",
    "#             \"title\": \"Checkout\",\n",
    "#             \"description\": \"As a shopper, I want to pay for items, so that I can complete my purchase.\",\n",
    "#             \"acceptance_criteria\": [\"User can enter credit card details.\"]\n",
    "#         }],\n",
    "#         \"user_feedback\": \"Users want PayPal and Apple Pay options.\"\n",
    "#     }\n",
    "\n",
    "#     >>> Output:\n",
    "#     [{\n",
    "#         \"story_id\": \"US-001\",\n",
    "#         \"title\": \"Checkout Process\",\n",
    "#         \"description\": \"As a shopper, I want to pay via multiple methods, so that I can complete my purchase flexibly.\",\n",
    "#         \"acceptance_criteria\": [\n",
    "#             \"User can pay with credit card, PayPal, or Apple Pay.\",\n",
    "#             \"Payment confirmation appears within 2 seconds.\"\n",
    "#         ],\n",
    "#         \"feedback_applied\": \"Added PayPal/Apple Pay per feedback.\"\n",
    "#     }]\n",
    "# \"\"\""
   ]
  },
  {
   "cell_type": "code",
   "execution_count": 7,
   "metadata": {},
   "outputs": [],
   "source": [
    "revised_user_stories_system_prompt = \"\"\"\n",
    "# **ROLE & OBJECTIVE**  \n",
    "You are an expert Agile Product Owner. Your task is to analyze the user stories based on user feedback and refine user stories with existing user stories and return the output in the JSON format only. \n",
    "\n",
    "---\n",
    "\n",
    "TASK BREAKDOWN:  \n",
    "1. Analyze `user_story` and `user_feedback`.  \n",
    "2. Identify gaps and improve clarity.  \n",
    "3. Ensure user stories follow:  \n",
    "   - \"As a [user], I want [goal], so that [value].\"  \n",
    "   - **2 to 4** clear, testable acceptance criteria.  \n",
    "\n",
    "---\n",
    "\n",
    "**DESIRED OUTPUT TEMPLATE IN LIST OF JSON**  \n",
    "```json\n",
    "[\n",
    "    {  \n",
    "        \"story_id\": \"US-001\",  \n",
    "        \"title\": \"Manage Shopping Cart\",  \n",
    "        \"description\": \"As a shopper, I want to modify my cart before checkout, so that I can finalize my purchase conveniently.\",  \n",
    "        \"acceptance_criteria\": [  \n",
    "            \"User can add/remove items.\",  \n",
    "            \"User can update item quantity.\",  \n",
    "            \"Cart updates reflect in real-time.\",  \n",
    "            \"User can see the total price of the cart.\"\n",
    "        ]  \n",
    "    }  \n",
    "]\n",
    "```\n",
    "\n",
    "---\n",
    "\n",
    "GUIDELINES:  \n",
    "✅ Ensure stories are clear, independent, and testable.  \n",
    "✅ Incorporate feedback without losing business goals.  \n",
    "✅ Acceptance criteria must be **2 to 4** points.  \n",
    "🚫 Avoid unnecessary technical details or vague requirements. \n",
    " \n",
    "\"\"\""
   ]
  },
  {
   "cell_type": "code",
   "execution_count": 8,
   "metadata": {},
   "outputs": [
    {
     "data": {
      "text/plain": [
       "PromptTemplate(input_variables=['human_query', 'system_prompt'], input_types={}, partial_variables={'format_instruction': 'Return a JSON object.'}, template='{system_prompt} \\n {format_instruction} \\n {human_query} \\n')"
      ]
     },
     "execution_count": 8,
     "metadata": {},
     "output_type": "execute_result"
    }
   ],
   "source": [
    "from langchain_core.prompts import PromptTemplate \n",
    "from langchain_core.output_parsers import JsonOutputParser \n",
    "output_parser = JsonOutputParser()\n",
    "\n",
    "prompt = PromptTemplate(\n",
    "    template=\"{system_prompt} \\n {format_instruction} \\n {human_query} \\n\",\n",
    "    input_variables= [\"system_prompt\", \"human_query\",],\n",
    "    partial_variables={\"format_instruction\" : output_parser.get_format_instructions()}\n",
    ")\n",
    "\n",
    "prompt"
   ]
  },
  {
   "cell_type": "code",
   "execution_count": 9,
   "metadata": {},
   "outputs": [],
   "source": [
    "def generate_user_stories_from_llm(project_title, project_description, requirements):\n",
    "    user_query =  f\"Create a user stories for the this project title: {project_title} and description: {project_description} and requirements: {requirements}\"\n",
    "    chain = prompt | llm | output_parser\n",
    "    response = chain.invoke({\"system_prompt\" : generate_user_stories_system_prompt, \"human_query\" : user_query})\n",
    "    return response"
   ]
  },
  {
   "cell_type": "code",
   "execution_count": 10,
   "metadata": {},
   "outputs": [
    {
     "data": {
      "text/plain": [
       "[{'story_id': 'US-001',\n",
       "  'title': 'Secure Account with Multi-Factor Authentication',\n",
       "  'description': 'As a user, I want to secure my account with multi-factor authentication, so that my financial information is protected from unauthorized access.',\n",
       "  'acceptance_criteria': ['User can enable biometric authentication (fingerprint or facial recognition).',\n",
       "   'User can set up and use an MPIN for authentication.',\n",
       "   'The application prompts for MFA during login and sensitive transactions.']},\n",
       " {'story_id': 'US-002',\n",
       "  'title': 'Link Multiple Bank Accounts',\n",
       "  'description': 'As a user, I want to link multiple bank accounts to PayMate, so that I can easily manage and transfer funds from different accounts.',\n",
       "  'acceptance_criteria': ['User can add multiple bank accounts to their profile.',\n",
       "   'User can select a default bank account for transactions.',\n",
       "   'User can view a list of all linked bank accounts.']},\n",
       " {'story_id': 'US-003',\n",
       "  'title': 'Transfer Funds via UPI',\n",
       "  'description': 'As a user, I want to transfer funds instantly using UPI, so that I can quickly and easily send money to others.',\n",
       "  'acceptance_criteria': ['User can initiate fund transfers using UPI IDs or QR codes.',\n",
       "   'User receives confirmation of successful fund transfers.',\n",
       "   'User can view their transaction history for UPI transfers.']},\n",
       " {'story_id': 'US-004',\n",
       "  'title': 'Access Instant Micro-Loans',\n",
       "  'description': 'As a user, I want to access instant micro-loans with minimal documentation, so that I can quickly obtain funds for immediate needs.',\n",
       "  'acceptance_criteria': ['User can apply for a micro-loan within the app.',\n",
       "   'User is informed of the loan amount, interest rate, and repayment terms.',\n",
       "   'User receives the loan amount in their linked bank account upon approval.']},\n",
       " {'story_id': 'US-005',\n",
       "  'title': 'Pay Utility Bills',\n",
       "  'description': 'As a user, I want to pay utility bills directly through the app, so that I can conveniently manage and pay my bills in one place.',\n",
       "  'acceptance_criteria': ['User can add billers for electricity, water, gas, and broadband.',\n",
       "   'User can view outstanding bills and pay them through the app.',\n",
       "   'User receives confirmation of successful bill payments.']}]"
      ]
     },
     "execution_count": 10,
     "metadata": {},
     "output_type": "execute_result"
    }
   ],
   "source": [
    "user_stories = generate_user_stories_from_llm(project_title, project_description, requirements_string)\n",
    "user_stories"
   ]
  },
  {
   "cell_type": "code",
   "execution_count": 18,
   "metadata": {},
   "outputs": [],
   "source": [
    "\n",
    "def revised_user_stories_from_llm(user_stories, user_feedback):\n",
    "    user_query = f\"user_feedback: {user_feedback} and user_stories: {user_stories}\"\n",
    "    chain = prompt | llm | output_parser  # Assuming this is the chain or model call\n",
    "    response = chain.invoke({\"system_prompt\": revised_user_stories_system_prompt, \"human_query\": user_query})\n",
    "    return response"
   ]
  },
  {
   "cell_type": "code",
   "execution_count": 12,
   "metadata": {},
   "outputs": [],
   "source": [
    "\n",
    "# def revised_user_stories_from_llm(user_stories, user_feedback):\n",
    "#     user_query = f\"user_feedback: {user_feedback} and user_stories: {user_stories}\"\n",
    "#     chain = prompt | llm | output_parser  # Assuming this is the chain or model call\n",
    "#     response = chain.invoke({\"system_prompt\": revised_user_stories_system_prompt, \"human_query\": user_query})\n",
    "#     return response"
   ]
  },
  {
   "cell_type": "code",
   "execution_count": 20,
   "metadata": {},
   "outputs": [
    {
     "data": {
      "text/plain": [
       "[{'story_id': 'US-001',\n",
       "  'title': 'Secure Account with Multi-Factor Authentication',\n",
       "  'description': 'As a user, I want to secure my account with multi-factor authentication, so that my financial information is protected from unauthorized access.',\n",
       "  'acceptance_criteria': ['User can enable biometric authentication (fingerprint or facial recognition).',\n",
       "   'User can set up and use an MPIN for authentication.',\n",
       "   'The application prompts for MFA during login and sensitive transactions.']},\n",
       " {'story_id': 'US-002',\n",
       "  'title': 'Link Multiple Bank Accounts',\n",
       "  'description': 'As a user, I want to link multiple bank accounts to PayMate, so that I can easily manage and transfer funds from different accounts.',\n",
       "  'acceptance_criteria': ['User can add multiple bank accounts to their profile.',\n",
       "   'User can select a default bank account for transactions.',\n",
       "   'User can view a list of all linked bank accounts.']},\n",
       " {'story_id': 'US-003',\n",
       "  'title': 'Transfer Funds via UPI',\n",
       "  'description': 'As a user, I want to transfer funds instantly using UPI, so that I can quickly and easily send money to others.',\n",
       "  'acceptance_criteria': ['User can initiate fund transfers using UPI IDs or QR codes.',\n",
       "   'User receives confirmation of successful fund transfers.',\n",
       "   'User can view their transaction history for UPI transfers.']},\n",
       " {'story_id': 'US-004',\n",
       "  'title': 'Access Instant Micro-Loans',\n",
       "  'description': 'As a user, I want to access instant micro-loans with minimal documentation, so that I can quickly obtain funds for immediate needs.',\n",
       "  'acceptance_criteria': ['User can apply for a micro-loan within the app.',\n",
       "   'User is informed of the loan amount, interest rate, and repayment terms.',\n",
       "   'User receives the loan amount in their linked bank account upon approval.']},\n",
       " {'story_id': 'US-005',\n",
       "  'title': 'Pay Utility Bills',\n",
       "  'description': 'As a user, I want to pay utility bills directly through the app, so that I can conveniently manage and pay my bills in one place.',\n",
       "  'acceptance_criteria': ['User can add billers for electricity, water, gas, and broadband.',\n",
       "   'User can view outstanding bills and pay them through the app.',\n",
       "   'User receives confirmation of successful bill payments.']},\n",
       " {'story_id': 'US-006',\n",
       "  'title': 'Buy Insurance',\n",
       "  'description': 'As a user, I want to buy insurance policies through the app, so that I can easily protect myself and my assets.',\n",
       "  'acceptance_criteria': ['User can browse different insurance policy options (e.g., health, auto, life).',\n",
       "   'User can view policy details, including coverage and premiums.',\n",
       "   'User can purchase an insurance policy and make payments through the app.']}]"
      ]
     },
     "execution_count": 20,
     "metadata": {},
     "output_type": "execute_result"
    }
   ],
   "source": [
    "user_feedback = \"In above user stories, add a user story for buy insurance from the app and return all the user stories\"\n",
    "revised_user_stories = revised_user_stories_from_llm(user_stories, user_feedback) \n",
    "revised_user_stories"
   ]
  },
  {
   "cell_type": "code",
   "execution_count": 21,
   "metadata": {},
   "outputs": [
    {
     "data": {
      "text/plain": [
       "[{'story_id': 'US-001',\n",
       "  'title': 'Secure Account with Multi-Factor Authentication',\n",
       "  'description': 'As a user, I want to secure my account with multi-factor authentication, so that my financial information is protected from unauthorized access.',\n",
       "  'acceptance_criteria': ['User can enable biometric authentication (fingerprint or facial recognition).',\n",
       "   'User can set up and use an MPIN for authentication.',\n",
       "   'The application prompts for MFA during login and sensitive transactions.']},\n",
       " {'story_id': 'US-002',\n",
       "  'title': 'Link Multiple Bank Accounts',\n",
       "  'description': 'As a user, I want to link multiple bank accounts to PayMate, so that I can easily manage and transfer funds from different accounts.',\n",
       "  'acceptance_criteria': ['User can add multiple bank accounts to their profile.',\n",
       "   'User can select a default bank account for transactions.',\n",
       "   'User can view a list of all linked bank accounts.']},\n",
       " {'story_id': 'US-003',\n",
       "  'title': 'Transfer Funds via UPI',\n",
       "  'description': 'As a user, I want to transfer funds instantly using UPI, so that I can quickly and easily send money to others.',\n",
       "  'acceptance_criteria': ['User can initiate fund transfers using UPI IDs or QR codes.',\n",
       "   'User receives confirmation of successful fund transfers.',\n",
       "   'User can view their transaction history for UPI transfers.']},\n",
       " {'story_id': 'US-004',\n",
       "  'title': 'Access Instant Micro-Loans',\n",
       "  'description': 'As a user, I want to access instant micro-loans with minimal documentation, so that I can quickly obtain funds for immediate needs.',\n",
       "  'acceptance_criteria': ['User can apply for a micro-loan within the app.',\n",
       "   'User is informed of the loan amount, interest rate, and repayment terms.',\n",
       "   'User receives the loan amount in their linked bank account upon approval.']},\n",
       " {'story_id': 'US-005',\n",
       "  'title': 'Pay Utility Bills',\n",
       "  'description': 'As a user, I want to pay utility bills directly through the app, so that I can conveniently manage and pay my bills in one place.',\n",
       "  'acceptance_criteria': ['User can add billers for electricity, water, gas, and broadband.',\n",
       "   'User can view outstanding bills and pay them through the app.',\n",
       "   'User receives confirmation of successful bill payments.']},\n",
       " {'story_id': 'US-006',\n",
       "  'title': 'Buy Insurance',\n",
       "  'description': 'As a user, I want to buy insurance policies through the app, so that I can easily protect myself and my assets.',\n",
       "  'acceptance_criteria': ['User can browse different insurance policy options (e.g., health, auto, travel).',\n",
       "   'User can view policy details, including coverage and premiums.',\n",
       "   'User can purchase an insurance policy and make payments through the app.']},\n",
       " {'story_id': 'US-007',\n",
       "  'title': 'Book a Cab',\n",
       "  'description': 'As a user, I want to book a cab through the app, so that I can quickly arrange transportation.',\n",
       "  'acceptance_criteria': ['User can enter a pickup and drop-off location.',\n",
       "   'User can view available cab options and estimated fares.',\n",
       "   'User can book a cab and track its location in real-time.']}]"
      ]
     },
     "execution_count": 21,
     "metadata": {},
     "output_type": "execute_result"
    }
   ],
   "source": [
    "user_feedback = \"In above user stories, add a user story for booking a cab from the app and return all the user stories\"\n",
    "revised_user_stories = revised_user_stories_from_llm(output, user_feedback) \n",
    "revised_user_stories"
   ]
  },
  {
   "cell_type": "code",
   "execution_count": 22,
   "metadata": {},
   "outputs": [
    {
     "data": {
      "text/plain": [
       "[{'story_id': 'US-001',\n",
       "  'title': 'Secure Account with Multi-Factor Authentication',\n",
       "  'description': 'As a user, I want to secure my account with multi-factor authentication, so that my financial information is protected from unauthorized access.',\n",
       "  'acceptance_criteria': ['User can enable biometric authentication (fingerprint or facial recognition).',\n",
       "   'User can set up and use an MPIN for authentication.',\n",
       "   'The application prompts for MFA during login and sensitive transactions.']},\n",
       " {'story_id': 'US-002',\n",
       "  'title': 'Transfer Funds via UPI',\n",
       "  'description': 'As a user, I want to transfer funds instantly using UPI, so that I can quickly and easily send money to others.',\n",
       "  'acceptance_criteria': ['User can initiate fund transfers using UPI IDs or QR codes.',\n",
       "   'User receives confirmation of successful fund transfers.',\n",
       "   'User can view their transaction history for UPI transfers.']},\n",
       " {'story_id': 'US-003',\n",
       "  'title': 'Pay Utility Bills',\n",
       "  'description': 'As a user, I want to pay utility bills directly through the app, so that I can conveniently manage and pay my bills in one place.',\n",
       "  'acceptance_criteria': ['User can add billers for electricity, water, gas, and broadband.',\n",
       "   'User can view outstanding bills and pay them through the app.',\n",
       "   'User receives confirmation of successful bill payments.']},\n",
       " {'story_id': 'US-004',\n",
       "  'title': 'Buy Insurance',\n",
       "  'description': 'As a user, I want to buy insurance policies through the app, so that I can easily protect myself and my assets.',\n",
       "  'acceptance_criteria': ['User can browse different insurance policy options (e.g., health, auto, travel).',\n",
       "   'User can view policy details, including coverage and premiums.',\n",
       "   'User can purchase an insurance policy and make payments through the app.']},\n",
       " {'story_id': 'US-005',\n",
       "  'title': 'Book a Cab',\n",
       "  'description': 'As a user, I want to book a cab through the app, so that I can quickly arrange transportation.',\n",
       "  'acceptance_criteria': ['User can enter a pickup and drop-off location.',\n",
       "   'User can view available cab options and estimated fares.',\n",
       "   'User can book a cab and track its location in real-time.']}]"
      ]
     },
     "execution_count": 22,
     "metadata": {},
     "output_type": "execute_result"
    }
   ],
   "source": [
    "user_feedback = \"In above user stories, remove the Link Multiple Bank Accounts and Access Instant Micro-Loans' and also correct the story_id numbering\"\n",
    "revised_user_stories2 = revised_user_stories_from_llm(revised_user_stories, user_feedback) \n",
    "revised_user_stories2"
   ]
  },
  {
   "cell_type": "code",
   "execution_count": null,
   "metadata": {},
   "outputs": [],
   "source": []
  }
 ],
 "metadata": {
  "kernelspec": {
   "display_name": "Python 3",
   "language": "python",
   "name": "python3"
  },
  "language_info": {
   "codemirror_mode": {
    "name": "ipython",
    "version": 3
   },
   "file_extension": ".py",
   "mimetype": "text/x-python",
   "name": "python",
   "nbconvert_exporter": "python",
   "pygments_lexer": "ipython3",
   "version": "3.12.0"
  }
 },
 "nbformat": 4,
 "nbformat_minor": 2
}
