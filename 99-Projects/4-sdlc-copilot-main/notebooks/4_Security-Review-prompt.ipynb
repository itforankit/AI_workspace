{
 "cells": [
  {
   "cell_type": "code",
   "execution_count": 32,
   "metadata": {},
   "outputs": [],
   "source": [
    "from langchain_core.messages import HumanMessage\n",
    "\n",
    "from dotenv import load_dotenv\n",
    "load_dotenv()\n",
    "import os \n",
    "\n",
    "\n",
    "os.environ['OPENAI_API_KEY'] = os.getenv(\"OPENAI_API_KEY\")\n",
    "os.environ['GROQ_API_KEY'] = os.getenv(\"GROQ_API_KEY\")\n",
    "os.environ['LANGSMITH_API_KEY'] = os.getenv(\"LANGSMITH_API_KEY\")\n",
    "os.environ['LANGSMITH_PROJECT'] = os.getenv(\"LANGSMITH_PROJECT\")\n",
    "os.environ['LANGSMITH_TRACING'] = os.getenv(\"LANGSMITH_TRACING\")\n",
    "os.environ['GOOGLE_API_KEY'] = os.getenv(\"GOOGLE_API_KEY\")"
   ]
  },
  {
   "cell_type": "code",
   "execution_count": 33,
   "metadata": {},
   "outputs": [],
   "source": [
    "from langchain_groq import ChatGroq \n",
    "from langchain_google_genai import ChatGoogleGenerativeAI\n",
    "# llm = ChatGroq(model=\"deepseek-r1-distill-llama-70b\")\n",
    "llm = ChatGoogleGenerativeAI(\n",
    "    model=\"gemini-2.0-flash\",\n",
    "    temperature=0,\n",
    "    max_tokens=None,\n",
    "    timeout=None,\n",
    "    max_retries=2\n",
    ")"
   ]
  },
  {
   "cell_type": "code",
   "execution_count": 34,
   "metadata": {},
   "outputs": [],
   "source": [
    "from typing import TypedDict, Literal\n",
    "## security review\n",
    "class SecurityReview(TypedDict):\n",
    "    sec_id : str\n",
    "    review : str\n",
    "    file_path : str\n",
    "    recommendation : str\n",
    "    priority : Literal[\"high\", \"medium\", \"low\"]"
   ]
  },
  {
   "cell_type": "code",
   "execution_count": 35,
   "metadata": {},
   "outputs": [],
   "source": [
    "backend_code = \"\"\"\n",
    "\\n'I'll help you create a Node.js backend for an e-commerce application similar to Flipkart. We'll use Express.js for the API server and SQLite for the database since it doesn't require a separate server.\\n\\n<boltArtifact id=\\\"ecommerce-backend\\\" title=\\\"E-commerce Backend Application\\\">\\n<boltAction type=\\\"file\\\" filePath=\\\"package.json\\\">\\n{\\n  \\\"name\\\": \\\"ecommerce-backend\\\",\\n  \\\"version\\\": \\\"1.0.0\\\",\\n  \\\"type\\\": \\\"module\\\",\\n  \\\"scripts\\\": {\\n    \\\"start\\\": \\\"node src/index.js\\\",\\n    \\\"dev\\\": \\\"node --watch src/index.js\\\"\\n  },\\n  \\\"dependencies\\\": {\\n    \\\"express\\\": \\\"^4.18.2\\\",\\n    \\\"better-sqlite3\\\": \\\"^8.5.0\\\",\\n    \\\"bcryptjs\\\": \\\"^2.4.3\\\",\\n    \\\"jsonwebtoken\\\": \\\"^9.0.1\\\",\\n    \\\"cors\\\": \\\"^2.8.5\\\",\\n    \\\"express-validator\\\": \\\"^7.0.1\\\"\\n  }\\n}\\n</boltAction>\\n\\n<boltAction type=\\\"file\\\" filePath=\\\"src/index.js\\\">\\nimport express from 'express';\\nimport cors from 'cors';\\nimport { router as authRoutes } from './routes/auth.js';\\nimport { router as productRoutes } from './routes/products.js';\\nimport { router as cartRoutes } from './routes/cart.js';\\nimport { router as orderRoutes } from './routes/orders.js';\\nimport { initDb } from './db/init.js';\\n\\nconst app = express();\\nconst PORT = 3000;\\n\\napp.use(cors());\\napp.use(express.json());\\n\\n// Initialize database\\ninitDb();\\n\\n// Routes\\napp.use('/api/auth', authRoutes);\\napp.use('/api/products', productRoutes);\\napp.use('/api/cart', cartRoutes);\\napp.use('/api/orders', orderRoutes);\\n\\napp.listen(PORT, () => {\\n  console.log(`Server running on port ${PORT}`);\\n});\\n</boltAction>\\n\\n<boltAction type=\\\"file\\\" filePath=\\\"src/db/init.js\\\">\\nimport Database from 'better-sqlite3';\\n\\nconst db = new Database('ecommerce.db');\\n\\nexport function initDb() {\\n  // Users table\\n  db.exec(`\\n    CREATE TABLE IF NOT EXISTS users (\\n      id INTEGER PRIMARY KEY AUTOINCREMENT,\\n      email TEXT UNIQUE NOT NULL,\\n      password TEXT NOT NULL,\\n      name TEXT NOT NULL,\\n      created_at TIMESTAMP DEFAULT CURRENT_TIMESTAMP\\n    )\\n  `);\\n\\n  // Products table\\n  db.exec(`\\n    CREATE TABLE IF NOT EXISTS products (\\n      id INTEGER PRIMARY KEY AUTOINCREMENT,\\n      name TEXT NOT NULL,\\n      description TEXT,\\n      price DECIMAL(10,2) NOT NULL,\\n      stock INTEGER NOT NULL,\\n      category TEXT NOT NULL,\\n      image_url TEXT,\\n      created_at TIMESTAMP DEFAULT CURRENT_TIMESTAMP\\n    )\\n  `);\\n\\n  // Cart table\\n  db.exec(`\\n    CREATE TABLE IF NOT EXISTS cart_items (\\n      id INTEGER PRIMARY KEY AUTOINCREMENT,\\n      user_id INTEGER NOT NULL,\\n      product_id INTEGER NOT NULL,\\n      quantity INTEGER NOT NULL,\\n      FOREIGN KEY (user_id) REFERENCES users (id),\\n      FOREIGN KEY (product_id) REFERENCES products (id)\\n    )\\n  `);\\n\\n  // Orders table\\n  db.exec(`\\n    CREATE TABLE IF NOT EXISTS orders (\\n      id INTEGER PRIMARY KEY AUTOINCREMENT,\\n      user_id INTEGER NOT NULL,\\n      total_amount DECIMAL(10,2) NOT NULL,\\n      status TEXT NOT NULL,\\n      shipping_address TEXT NOT NULL,\\n      created_at TIMESTAMP DEFAULT CURRENT_TIMESTAMP,\\n      FOREIGN KEY (user_id) REFERENCES users (id)\\n    )\\n  `);\\n\\n  // Order items table\\n  db.exec(`\\n    CREATE TABLE IF NOT EXISTS order_items (\\n      id INTEGER PRIMARY KEY AUTOINCREMENT,\\n      order_id INTEGER NOT NULL,\\n      product_id INTEGER NOT NULL,\\n      quantity INTEGER NOT NULL,\\n      price DECIMAL(10,2) NOT NULL,\\n      FOREIGN KEY (order_id) REFERENCES orders (id),\\n      FOREIGN KEY (product_id) REFERENCES products (id)\\n    )\\n  `);\\n}\\n\\nexport default db;\\n</boltAction>\\n\\n<boltAction type=\\\"file\\\" filePath=\\\"src/middleware/auth.js\\\">\\nimport jwt from 'jsonwebtoken';\\n\\nconst JWT_SECRET = 'your-secret-key';\\n\\nexport function authenticateToken(req, res, next) {\\n  const authHeader = req.headers['authorization'];\\n  const token = authHeader && authHeader.split(' ')[1];\\n\\n  if (!token) {\\n    return res.status(401).json({ error: 'Authentication required' });\\n  }\\n\\n  jwt.verify(token, JWT_SECRET, (err, user) => {\\n    if (err) {\\n      return res.status(403).json({ error: 'Invalid token' });\\n    }\\n    req.user = user;\\n    next();\\n  });\\n}\\n\\nexport function generateToken(user) {\\n  return jwt.sign({ id: user.id, email: user.email }, JWT_SECRET, { expiresIn: '24h' });\\n}\\n</boltAction>\\n\\n<boltAction type=\\\"file\\\" filePath=\\\"src/routes/auth.js\\\">\\nimport express from 'express';\\nimport bcrypt from 'bcryptjs';\\nimport { body, validationResult } from 'express-validator';\\nimport db from '../db/init.js';\\nimport { generateToken } from '../middleware/auth.js';\\n\\nexport const router = express.Router();\\n\\nrouter.post('/register',\\n  [\\n    body('email').isEmail(),\\n    body('password').isLength({ min: 6 }),\\n    body('name').notEmpty()\\n  ],\\n  async (req, res) => {\\n    const errors = validationResult(req);\\n    if (!errors.isEmpty()) {\\n      return res.status(400).json({ errors: errors.array() });\\n    }\\n\\n    const { email, password, name } = req.body;\\n\\n    try {\\n      const hashedPassword = await bcrypt.hash(password, 10);\\n      const stmt = db.prepare('INSERT INTO users (email, password, name) VALUES (?, ?, ?)');\\n      const result = stmt.run(email, hashedPassword, name);\\n      \\n      const user = { id: result.lastInsertRowid, email, name };\\n      const token = generateToken(user);\\n      \\n      res.status(201).json({ user, token });\\n    } catch (error) {\\n      res.status(500).json({ error: 'Error creating user' });\\n    }\\n  }\\n);\\n\\nrouter.post('/login',\\n  [\\n    body('email').isEmail(),\\n    body('password').notEmpty()\\n  ],\\n  async (req, res) => {\\n    const { email, password } = req.body;\\n\\n    try {\\n      const stmt = db.prepare('SELECT * FROM users WHERE email = ?');\\n      const user = stmt.get(email);\\n\\n      if (!user || !(await bcrypt.compare(password, user.password))) {\\n        return res.status(401).json({ error: 'Invalid credentials' });\\n      }\\n\\n      const token = generateToken(user);\\n      res.json({ user: { id: user.id, email: user.email, name: user.name }, token });\\n    } catch (error) {\\n      res.status(500).json({ error: 'Error during login' });\\n    }\\n  }\\n);\\n</boltAction>\\n\\n<boltAction type=\\\"file\\\" filePath=\\\"src/routes/products.js\\\">\\nimport express from 'express';\\nimport { body } from 'express-validator';\\nimport db from '../db/init.js';\\nimport { authenticateToken } from '../middleware/auth.js';\\n\\nexport const router = express.Router();\\n\\n// Get all products\\nrouter.get('/', (req, res) => {\\n  const stmt = db.prepare('SELECT * FROM products');\\n  const products = stmt.all();\\n  res.json(products);\\n});\\n\\n// Get product by ID\\nrouter.get('/:id', (req, res) => {\\n  const stmt = db.prepare('SELECT * FROM products WHERE id = ?');\\n  const product = stmt.get(req.params.id);\\n  \\n  if (!product) {\\n    return res.status(404).json({ error: 'Product not found' });\\n  }\\n  \\n  res.json(product);\\n});\\n\\n// Add new product (admin only)\\nrouter.post('/',\\n  authenticateToken,\\n  [\\n    body('name').notEmpty(),\\n    body('price').isFloat({ min: 0 }),\\n    body('stock').isInt({ min: 0 }),\\n    body('category').notEmpty()\\n  ],\\n  (req, res) => {\\n    const { name, description, price, stock, category, image_url } = req.body;\\n    \\n    const stmt = db.prepare(`\\n      INSERT INTO products (name, description, price, stock, category, image_url)\\n      VALUES (?, ?, ?, ?, ?, ?)\\n    `);\\n    \\n    const result = stmt.run(name, description, price, stock, category, image_url);\\n    res.status(201).json({ id: result.lastInsertRowid, ...req.body });\\n  }\\n);\\n</boltAction>\\n\\n<boltAction type=\\\"file\\\" filePath=\\\"src/routes/cart.js\\\">\\nimport express from 'express';\\nimport { body } from 'express-validator';\\nimport db from '../db/init.js';\\nimport { authenticateToken } from '../middleware/auth.js';\\n\\nexport const router = express.Router();\\n\\nrouter.use(authenticateToken);\\n\\n// Get cart items\\nrouter.get('/', (req, res) => {\\n  const stmt = db.prepare(`\\n    SELECT ci.*, p.name, p.price, p.image_url\\n    FROM cart_items ci\\n    JOIN products p ON ci.product_id = p.id\\n    WHERE ci.user_id = ?\\n  `);\\n  \\n  const cartItems = stmt.all(req.user.id);\\n  res.json(cartItems);\\n});\\n\\n// Add to cart\\nrouter.post('/',\\n  [\\n    body('product_id').isInt(),\\n    body('quantity').isInt({ min: 1 })\\n  ],\\n  (req, res) => {\\n    const { product_id, quantity } = req.body;\\n    \\n    const stmt = db.prepare(`\\n      INSERT INTO cart_items (user_id, product_id, quantity)\\n      VALUES (?, ?, ?)\\n    `);\\n    \\n    const result = stmt.run(req.user.id, product_id, quantity);\\n    res.status(201).json({ id: result.lastInsertRowid, ...req.body });\\n  }\\n);\\n\\n// Update cart item quantity\\nrouter.put('/:id',\\n  body('quantity').isInt({ min: 1 }),\\n  (req, res) => {\\n    const stmt = db.prepare(`\\n      UPDATE cart_items\\n      SET quantity = ?\\n      WHERE id = ? AND user_id = ?\\n    `);\\n    \\n    stmt.run(req.body.quantity, req.params.id, req.user.id);\\n    res.json({ message: 'Cart updated' });\\n  }\\n);\\n\\n// Remove from cart\\nrouter.delete('/:id', (req, res) => {\\n  const stmt = db.prepare('DELETE FROM cart_items WHERE id = ? AND user_id = ?');\\n  stmt.run(req.params.id, req.user.id);\\n  res.json({ message: 'Item removed from cart' });\\n});\\n</boltAction>\\n\\n<boltAction type=\\\"file\\\" filePath=\\\"src/routes/orders.js\\\">\\nimport express from 'express';\\nimport { body } from 'express-validator';\\nimport db from '../db/init.js';\\nimport { authenticateToken } from '../middleware/auth.js';\\n\\nexport const router = express.Router();\\n\\nrouter.use(authenticateToken);\\n\\n// Get user orders\\nrouter.get('/', (req, res) => {\\n  const stmt = db.prepare(`\\n    SELECT o.*, oi.product_id, oi.quantity, oi.price, p.name\\n    FROM orders o\\n    JOIN order_items oi ON o.id = oi.order_id\\n    JOIN products p ON oi.product_id = p.id\\n    WHERE o.user_id = ?\\n  `);\\n  \\n  const orders = stmt.all(req.user.id);\\n  res.json(orders);\\n});\\n\\n// Create new order\\nrouter.post('/',\\n  [\\n    body('shipping_address').notEmpty()\\n  ],\\n  (req, res) => {\\n    const { shipping_address } = req.body;\\n    \\n    db.transaction(() => {\\n      // Get cart items\\n      const cartItems = db.prepare(`\\n        SELECT ci.*, p.price\\n        FROM cart_items ci\\n        JOIN products p ON ci.product_id = p.id\\n        WHERE ci.user_id = ?\\n      `).all(req.user.id);\\n      \\n      if (cartItems.length === 0) {\\n        return res.status(400).json({ error: 'Cart is empty' });\\n      }\\n      \\n      // Calculate total\\n      const totalAmount = cartItems.reduce((sum, item) => sum + (item.price * item.quantity), 0);\\n      \\n      // Create order\\n      const orderStmt = db.prepare(`\\n        INSERT INTO orders (user_id, total_amount, status, shipping_address)\\n        VALUES (?, ?, ?, ?)\\n      `);\\n      \\n      const orderResult = orderStmt.run(req.user.id, totalAmount, 'PENDING', shipping_address);\\n      const orderId = orderResult.lastInsertRowid;\\n      \\n      // Create order items\\n      const itemStmt = db.prepare(`\\n        INSERT INTO order_items (order_id, product_id, quantity, price)\\n        VALUES (?, ?, ?, ?)\\n      `);\\n      \\n      cartItems.forEach(item => {\\n        itemStmt.run(orderId, item.product_id, item.quantity, item.price);\\n      });\\n      \\n      // Clear cart\\n      db.prepare('DELETE FROM cart_items WHERE user_id = ?').run(req.user.id);\\n      \\n      res.status(201).json({\\n        orderId,\\n        totalAmount,\\n        status: 'PENDING',\\n        items: cartItems\\n      });\\n    })();\\n  }\\n);\\n</boltAction>\\n\\n<boltAction type=\\\"shell\\\">\\nnpm install && npm run dev\\n</boltAction>\\n\\nThis sets up a complete e-commerce backend with:\\n\\n1. User authentication (register/login)\\n2. Product management\\n3. Shopping cart functionality\\n4. Order processing\\n5. SQLite database\\n\\nThe API endpoints are:\\n\\nAuthentication:\\n- POST /api/auth/register\\n- POST /api/auth/login\\n\\nProducts:\\n- GET /api/products\\n- GET /api/products/:id\\n- POST /api/products\\n\\nCart:\\n- GET /api/cart\\n- POST /api/cart\\n- PUT /api/cart/:id\\n- DELETE /api/cart/:id\\n\\nOrders:\\n- GET /api/orders\\n- POST /api/orders\\n\\nYou can test the API endpoints using tools like Postman or curl.'\\n\\n\"\n",
    "\"\"\""
   ]
  },
  {
   "cell_type": "code",
   "execution_count": 36,
   "metadata": {},
   "outputs": [],
   "source": [
    "from langchain_core.prompts import PromptTemplate \n",
    "from langchain_core.output_parsers import JsonOutputParser \n",
    "json_output_parser = JsonOutputParser()\n",
    "\n",
    "json_prompt_template = PromptTemplate(\n",
    "    template=\"{system_prompt} \\n {format_instruction} \\n {human_query} \\n\",\n",
    "    input_variables= [\"system_prompt\", \"human_query\",],\n",
    "    partial_variables={\"format_instruction\" : json_output_parser.get_format_instructions()}\n",
    ")\n",
    "\n",
    "\n",
    "prompt_template = PromptTemplate(\n",
    "    template=\"{system_prompt} \\n \\n {human_query} \\n\",\n",
    "    input_variables= [\"system_prompt\", \"human_query\",],\n",
    ")"
   ]
  },
  {
   "cell_type": "code",
   "execution_count": 37,
   "metadata": {},
   "outputs": [],
   "source": [
    "security_reviews_system_prompt = \"\"\"\n",
    "YOU ARE AN ELITE SECURITY ANALYST TASKED WITH CONDUCTING A THOROUGH AND COMPREHENSIVE SECURITY REVIEW ON A PROVIDED CODEBASE.\n",
    "\n",
    "FOR EACH SECURITY ISSUE FOUND, RETURN A STRUCTURED JSON OBJECT IN THE FOLLOWING FORMAT:\n",
    "{\n",
    "  \"sec_id\": \"SR-001\",\n",
    "  \"review\": \"DETAILED ANALYSIS OF THE SECURITY ISSUE FOUND WITHIN THE CODE, EXPLAINING THE ROOT CAUSE AND EXPLOIT SCENARIO\",\n",
    "  \"file_path\": \"RELATIVE/PATH/TO/FILE.EXT\",\n",
    "  \"recommendation\": \"SPECIFIC, TECHNICALLY FEASIBLE ACTION TO REMEDIATE THE DEFECT\",\n",
    "  \"priority\": \"high\"  # MUST BE ONE OF: \"high\", \"medium\", \"low\"\n",
    "}\n",
    "\n",
    "CHAIN OF THOUGHTS FOR SECURITY ANALYSIS:\n",
    "\n",
    "1. UNDERSTAND THE CODEBASE:\n",
    "   - READ THROUGH THE CODEBASE COMPLETELY TO UNDERSTAND ITS PURPOSE, ARCHITECTURE, AND THE DATA FLOW BETWEEN MODULES (E.G., AUTHENTICATION, API ROUTES, DATABASE INTERACTIONS).\n",
    "   - IDENTIFY BUSINESS LOGIC AND SECURITY-CRITICAL PROCESSES.\n",
    "\n",
    "2. IDENTIFY SECURITY PRINCIPLES:\n",
    "   - REVIEW FOR ADHERENCE TO CORE SECURITY PRINCIPLES SUCH AS:\n",
    "     - AUTHENTICATION AND AUTHORIZATION.\n",
    "     - DATA VALIDATION (INPUT/OUTPUT).\n",
    "     - ERROR HANDLING (SENSITIVE DATA EXPOSURE).\n",
    "     - CRYPTOGRAPHY (PASSWORD HASHING, JWT SIGNING).\n",
    "     - ACCESS CONTROL (USER ROLES AND PERMISSIONS).\n",
    "     - DATABASE SECURITY (SQL INJECTION, DATA LEAKS).\n",
    "     - SESSION MANAGEMENT (JWT EXPIRATION AND TOKEN LEAKAGE).\n",
    "\n",
    "3. BREAKDOWN CODE INTO SECURITY-SENSITIVE SEGMENTS:\n",
    "   - AUTHENTICATION ROUTES (E.G., USER LOGIN, REGISTRATION).\n",
    "   - API ROUTES (PRODUCT MANAGEMENT, CART, ORDERS).\n",
    "   - DATABASE INTERACTION (SQL QUERIES, SENSITIVE DATA STORAGE).\n",
    "   - MIDDLEWARE (TOKEN VALIDATION, USER AUTHENTICATION).\n",
    "   - EXTERNAL LIBRARIES (E.G., BCRYPTJS, JSONWEBTOKEN, EXPRESS-VALIDATOR).\n",
    "\n",
    "4. ANALYZE FOR VULNERABILITIES:\n",
    "   - SQL INJECTION: IDENTIFY WHETHER USER INPUT IS SAFELY HANDLED IN SQL QUERIES.\n",
    "   - CROSS-SITE SCRIPTING (XSS): REVIEW IF USER INPUT IS SANITIZED BEFORE RENDERING OR LOGGING.\n",
    "   - CROSS-SITE REQUEST FORGERY (CSRF): ENSURE API ACTIONS ARE PROTECTED AGAINST UNAUTHORIZED REQUESTS.\n",
    "   - HARDCODED SECRETS: CHECK FOR HARDCODED PASSWORDS, SECRET KEYS, OR TOKENS.\n",
    "   - INSECURE DATA STORAGE: REVIEW HOW SENSITIVE DATA (E.G., PASSWORDS) IS STORED AND TRANSMITTED.\n",
    "   - IMPROPER ERROR HANDLING: MAKE SURE NO SENSITIVE INFORMATION IS EXPOSED IN ERROR MESSAGES OR STACK TRACES.\n",
    "\n",
    "5. EDGE CASES AND LOW-PROBABILITY VULNERABILITIES:\n",
    "   - REVIEW EDGE CASES SUCH AS TOKEN EXPIRATION HANDLING, RACE CONDITIONS, OR IMPROPER DATA VALIDATION, WHICH MIGHT NOT BE OBVIOUS BUT COULD STILL LEAD TO SERIOUS SECURITY ISSUES.\n",
    "\n",
    "6. FINAL SECURITY REVIEW:\n",
    "   - OUTPUT AN ARRAY OF JSON OBJECTS, EACH REPRESENTING A UNIQUE SECURITY DEFECT IDENTIFIED, ORDERED BY PRIORITY (FROM HIGH TO LOW).\n",
    "   - THE REVIEW MUST BE DETAILED AND TECHNICAL, EXPLAINING THE ROOT CAUSE, IMPACT, AND RECOMMENDATIONS CLEARLY.\n",
    "   - GENERATE AT LEAST 1 TO 3 SECURITY ISSUES IN EACH PRIORITY LEVEL (\"high\", \"medium\", and \"low\").\n",
    "\n",
    "WHAT NOT TO DO:\n",
    "\n",
    "- DO NOT RETURN RESULTS OUTSIDE THE JSON FORMAT.\n",
    "- NEVER OMIT THE FOLLOWING FIELDS: \"sec_id\", \"file_path\", OR \"priority\".\n",
    "- DO NOT PROVIDE VAGUE REVIEWS SUCH AS “NO ISSUES FOUND” WITHOUT A THOROUGH AND COMPLETE ANALYSIS.\n",
    "- AVOID GENERIC OR REPETITIVE DESCRIPTIONS. EACH SECURITY ISSUE MUST BE UNIQUELY IDENTIFIED AND DETAILED.\n",
    "- DO NOT RECOMMEND FIXES WITHOUT EXPLAINING WHY THEY ARE EFFECTIVE FOR REMEDIATING THE ISSUE.\n",
    "- DO NOT USE PLACEHOLDER TEXT. REVIEWS MUST BE DIRECTLY BASED ON THE PROVIDED CODEBASE CONTEXT.\n",
    "- NEVER IGNORE EDGE CASES OR POTENTIAL RISKS THAT MAY NOT BE OBVIOUS IN TYPICAL USE CASES BUT ARE STILL EXPLOITABLE.\n",
    "\n",
    "EXAMPLE OUTPUT FORMAT:\n",
    "\n",
    "[\n",
    "  {\n",
    "    \"sec_id\": \"SR-001\",\n",
    "    \"review\": \"User input is directly concatenated into an SQL query without sanitization, leading to SQL Injection vulnerability.\",\n",
    "    \"file_path\": \"src/auth/login.js\",\n",
    "    \"recommendation\": \"Use parameterized queries or ORM methods to safely process input.\",\n",
    "    \"priority\": \"high\"\n",
    "  }\n",
    "]\n",
    "\"\"\""
   ]
  },
  {
   "cell_type": "code",
   "execution_count": 38,
   "metadata": {},
   "outputs": [],
   "source": [
    "def generate_security_reviews_from_llm(backend_code):\n",
    "    user_query =  f\"Create a user stories for the this project backend code: {backend_code}\" \n",
    "    chain = json_prompt_template | llm  | json_output_parser\n",
    "    response = chain.invoke({\"system_prompt\" : security_reviews_system_prompt, \"human_query\" : user_query})\n",
    "    return response\n"
   ]
  },
  {
   "cell_type": "code",
   "execution_count": 39,
   "metadata": {},
   "outputs": [
    {
     "data": {
      "text/plain": [
       "[{'sec_id': 'SR-001',\n",
       "  'review': 'The `JWT_SECRET` is hardcoded in `src/middleware/auth.js`. This is a critical vulnerability because if the secret is compromised, attackers can forge valid JWTs, impersonate users, and gain unauthorized access to the system. The impact is severe, potentially leading to complete account takeover and data breaches.',\n",
       "  'file_path': 'src/middleware/auth.js',\n",
       "  'recommendation': 'Store the `JWT_SECRET` in an environment variable and access it using `process.env.JWT_SECRET`.  This allows the secret to be configured outside of the codebase and managed securely.  Also, consider using a more robust method for generating the secret, such as a cryptographically secure random number generator.',\n",
       "  'priority': 'high'},\n",
       " {'sec_id': 'SR-002',\n",
       "  'review': 'The `POST /api/products` route in `src/routes/products.js` allows adding new products. However, it only checks for authentication using the `authenticateToken` middleware. There is no authorization check to ensure that only administrators can access this route. Any authenticated user can add new products, potentially leading to unauthorized modifications of the product catalog.',\n",
       "  'file_path': 'src/routes/products.js',\n",
       "  'recommendation': \"Implement an authorization middleware that checks if the user has the 'admin' role before allowing access to the `POST /api/products` route. This can be achieved by adding a `role` field to the user object in the database and checking it in the middleware.\",\n",
       "  'priority': 'high'},\n",
       " {'sec_id': 'SR-003',\n",
       "  'review': 'The application uses `bcryptjs` with a hardcoded salt rounds value of 10 during user registration in `src/routes/auth.js`. While bcrypt is a strong hashing algorithm, the work factor (salt rounds) should be periodically increased to keep pace with advancements in computing power. A static value of 10 might become insufficient in the future, making password cracking easier.',\n",
       "  'file_path': 'src/routes/auth.js',\n",
       "  'recommendation': 'Store the salt rounds value in an environment variable and allow it to be configurable.  Also, monitor password cracking benchmarks and increase the salt rounds value as needed to maintain a sufficient level of security. Consider using a more modern adaptive hashing algorithm like Argon2.',\n",
       "  'priority': 'medium'},\n",
       " {'sec_id': 'SR-004',\n",
       "  'review': \"The error handling in the `register` and `login` routes in `src/routes/auth.js` returns a generic 'Error creating user' or 'Error during login' message. This can leak sensitive information about the system's internal workings. For example, it doesn't distinguish between database connection errors and other types of errors. An attacker could use this information to probe the system and identify potential vulnerabilities.\",\n",
       "  'file_path': 'src/routes/auth.js',\n",
       "  'recommendation': 'Implement more specific error handling that logs detailed error information on the server-side but returns generic, user-friendly error messages to the client.  Avoid exposing stack traces or database connection details in the response. Use a centralized error logging system to track errors and identify potential issues.',\n",
       "  'priority': 'medium'},\n",
       " {'sec_id': 'SR-005',\n",
       "  'review': 'The `express-validator` library is used for input validation, but the validation results are only checked in the `/api/auth/register` route. Other routes, such as `/api/products`, `/api/cart`, and `/api/orders`, also accept user input but do not have proper validation. This can lead to unexpected behavior, data corruption, or even vulnerabilities if invalid data is processed.',\n",
       "  'file_path': 'src/routes/products.js',\n",
       "  'recommendation': 'Implement input validation using `express-validator` or a similar library for all routes that accept user input. Ensure that all required fields are present, and that the data types and formats are correct. Sanitize user input to prevent XSS attacks.',\n",
       "  'priority': 'medium'},\n",
       " {'sec_id': 'SR-006',\n",
       "  'review': \"The `authenticateToken` middleware in `src/middleware/auth.js` only checks for the presence and validity of the JWT. It does not implement any mechanism for token revocation or blacklisting. If a token is compromised, it will remain valid until it expires, even if the user's account is disabled or the password is changed.\",\n",
       "  'file_path': 'src/middleware/auth.js',\n",
       "  'recommendation': 'Implement a token revocation mechanism, such as a blacklist or a refresh token rotation strategy. This will allow you to invalidate compromised tokens and prevent unauthorized access. Consider using a database or a cache to store revoked tokens.',\n",
       "  'priority': 'low'},\n",
       " {'sec_id': 'SR-007',\n",
       "  'review': 'The application uses SQLite as the database. While suitable for development and small-scale deployments, SQLite is not designed for high-concurrency environments. In a production environment with many concurrent users, SQLite can become a performance bottleneck and may be vulnerable to denial-of-service attacks.',\n",
       "  'file_path': 'src/db/init.js',\n",
       "  'recommendation': 'Consider migrating to a more robust database system, such as PostgreSQL or MySQL, for production deployments. These databases are designed for high concurrency and offer better performance and scalability.',\n",
       "  'priority': 'low'},\n",
       " {'sec_id': 'SR-008',\n",
       "  'review': 'The `image_url` field in the `products` table is not validated or sanitized. This could potentially lead to stored XSS if a malicious user injects JavaScript code into the `image_url` field. When this URL is displayed on the frontend, the JavaScript code will be executed.',\n",
       "  'file_path': 'src/db/init.js',\n",
       "  'recommendation': 'Implement input validation and sanitization for the `image_url` field. Ensure that the URL is a valid URL and does not contain any malicious code. Consider using a Content Security Policy (CSP) to mitigate the risk of XSS attacks.',\n",
       "  'priority': 'low'}]"
      ]
     },
     "execution_count": 39,
     "metadata": {},
     "output_type": "execute_result"
    }
   ],
   "source": [
    "security_reviews = generate_security_reviews_from_llm(backend_code)\n",
    "security_reviews"
   ]
  },
  {
   "cell_type": "markdown",
   "metadata": {},
   "source": [
    "## Revised Backend code"
   ]
  },
  {
   "cell_type": "code",
   "execution_count": 42,
   "metadata": {},
   "outputs": [],
   "source": [
    "def revised_backend_code_with_security_reviews_from_llm(backend_code, security_reviews, user_feedback):\n",
    "    user_query =  f\"Fixed the backend code {backend_code} and security reviews: {security_reviews} and user feedback: {user_feedback}\" \n",
    "    chain = json_prompt_template | llm\n",
    "    response = chain.invoke({\"system_prompt\" : security_reviews_system_prompt, \"human_query\" : user_query})\n",
    "    return response.content"
   ]
  },
  {
   "cell_type": "code",
   "execution_count": 43,
   "metadata": {},
   "outputs": [
    {
     "data": {
      "text/plain": [
       "[{'sec_id': 'SR-001',\n",
       "  'review': 'The `JWT_SECRET` is hardcoded in `src/middleware/auth.js`. This is a critical vulnerability because if the secret is compromised, attackers can forge valid JWTs, impersonate users, and gain unauthorized access to the system. The impact is severe, potentially leading to complete account takeover and data breaches.',\n",
       "  'file_path': 'src/middleware/auth.js',\n",
       "  'recommendation': 'Store the `JWT_SECRET` in an environment variable and access it using `process.env.JWT_SECRET`.  This allows the secret to be configured outside of the codebase and managed securely.  Also, consider using a more robust method for generating the secret, such as a cryptographically secure random number generator.',\n",
       "  'priority': 'high'},\n",
       " {'sec_id': 'SR-002',\n",
       "  'review': 'The `POST /api/products` route in `src/routes/products.js` allows adding new products. However, it only checks for authentication using the `authenticateToken` middleware. There is no authorization check to ensure that only administrators can access this route. Any authenticated user can add new products, potentially leading to unauthorized modifications of the product catalog.',\n",
       "  'file_path': 'src/routes/products.js',\n",
       "  'recommendation': \"Implement an authorization middleware that checks if the user has the 'admin' role before allowing access to the `POST /api/products` route. This can be achieved by adding a `role` field to the user object in the database and checking it in the middleware.\",\n",
       "  'priority': 'high'},\n",
       " {'sec_id': 'SR-003',\n",
       "  'review': 'The application uses `bcryptjs` with a hardcoded salt rounds value of 10 during user registration in `src/routes/auth.js`. While bcrypt is a strong hashing algorithm, the work factor (salt rounds) should be periodically increased to keep pace with advancements in computing power. A static value of 10 might become insufficient in the future, making password cracking easier.',\n",
       "  'file_path': 'src/routes/auth.js',\n",
       "  'recommendation': 'Store the salt rounds value in an environment variable and allow it to be configurable.  Also, monitor password cracking benchmarks and increase the salt rounds value as needed to maintain a sufficient level of security. Consider using a more modern adaptive hashing algorithm like Argon2.',\n",
       "  'priority': 'medium'},\n",
       " {'sec_id': 'SR-004',\n",
       "  'review': \"The error handling in the `register` and `login` routes in `src/routes/auth.js` returns a generic 'Error creating user' or 'Error during login' message. This can leak sensitive information about the system's internal workings. For example, it doesn't distinguish between database connection errors and other types of errors. An attacker could use this information to probe the system and identify potential vulnerabilities.\",\n",
       "  'file_path': 'src/routes/auth.js',\n",
       "  'recommendation': 'Implement more specific error handling that logs detailed error information on the server-side but returns generic, user-friendly error messages to the client.  Avoid exposing stack traces or database connection details in the response. Use a centralized error logging system to track errors and identify potential issues.',\n",
       "  'priority': 'medium'},\n",
       " {'sec_id': 'SR-005',\n",
       "  'review': 'The `express-validator` library is used for input validation, but the validation results are only checked in the `/api/auth/register` route. Other routes, such as `/api/products`, `/api/cart`, and `/api/orders`, also accept user input but do not have proper validation. This can lead to unexpected behavior, data corruption, or even vulnerabilities if invalid data is processed.',\n",
       "  'file_path': 'src/routes/products.js',\n",
       "  'recommendation': 'Implement input validation using `express-validator` or a similar library for all routes that accept user input. Ensure that all required fields are present, and that the data types and formats are correct. Sanitize user input to prevent XSS attacks.',\n",
       "  'priority': 'medium'},\n",
       " {'sec_id': 'SR-006',\n",
       "  'review': \"The `authenticateToken` middleware in `src/middleware/auth.js` only checks for the presence and validity of the JWT. It does not implement any mechanism for token revocation or blacklisting. If a token is compromised, it will remain valid until it expires, even if the user's account is disabled or the password is changed.\",\n",
       "  'file_path': 'src/middleware/auth.js',\n",
       "  'recommendation': 'Implement a token revocation mechanism, such as a blacklist or a refresh token rotation strategy. This will allow you to invalidate compromised tokens and prevent unauthorized access. Consider using a database or a cache to store revoked tokens.',\n",
       "  'priority': 'low'},\n",
       " {'sec_id': 'SR-007',\n",
       "  'review': 'The application uses SQLite as the database. While suitable for development and small-scale deployments, SQLite is not designed for high-concurrency environments. In a production environment with many concurrent users, SQLite can become a performance bottleneck and may be vulnerable to denial-of-service attacks.',\n",
       "  'file_path': 'src/db/init.js',\n",
       "  'recommendation': 'Consider migrating to a more robust database system, such as PostgreSQL or MySQL, for production deployments. These databases are designed for high concurrency and offer better performance and scalability.',\n",
       "  'priority': 'low'},\n",
       " {'sec_id': 'SR-008',\n",
       "  'review': 'The `image_url` field in the `products` table is not validated or sanitized. This could potentially lead to stored XSS if a malicious user injects JavaScript code into the `image_url` field. When this URL is displayed on the frontend, the JavaScript code will be executed.',\n",
       "  'file_path': 'src/db/init.js',\n",
       "  'recommendation': 'Implement input validation and sanitization for the `image_url` field. Ensure that the URL is a valid URL and does not contain any malicious code. Consider using a Content Security Policy (CSP) to mitigate the risk of XSS attacks.',\n",
       "  'priority': 'low'}]"
      ]
     },
     "execution_count": 43,
     "metadata": {},
     "output_type": "execute_result"
    }
   ],
   "source": [
    "user_feedback = \"The backend code is not secure and needs to be fixed\"\n",
    "backend_code = revised_backend_code_with_security_reviews_from_llm(backend_code, security_reviews, user_feedback)\n",
    "backend_code"
   ]
  }
 ],
 "metadata": {
  "kernelspec": {
   "display_name": "Python 3",
   "language": "python",
   "name": "python3"
  },
  "language_info": {
   "codemirror_mode": {
    "name": "ipython",
    "version": 3
   },
   "file_extension": ".py",
   "mimetype": "text/x-python",
   "name": "python",
   "nbconvert_exporter": "python",
   "pygments_lexer": "ipython3",
   "version": "3.12.0"
  }
 },
 "nbformat": 4,
 "nbformat_minor": 2
}
