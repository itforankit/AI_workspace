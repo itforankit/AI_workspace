{
 "cells": [
  {
   "cell_type": "code",
   "execution_count": null,
   "metadata": {},
   "outputs": [],
   "source": [
    "# ## TODO - For Prompt\n",
    "# async def generate_user_story(self, project_name: str, requirement: str, feedback_reason: str, index: int) -> UserStories:\n",
    "#         prompt = f\"\"\"\n",
    "#         You are an expert in software development and requirements analysis. Based on the project name \"{project_name}\" and the following requirement:\n",
    "#         - {requirement}\n",
    "\n",
    "#         Please generate a user story in Markdown format. The user story should include:\n",
    "#         - A unique identifier: {index}\n",
    "#         - A title\n",
    "#         - A detailed description\n",
    "#         - The current status (e.g., \"To Do\")\n",
    "\n",
    "#         {f\"When creating this user story, please incorporate the following feedback about the requirements: {feedback_reason}\" if feedback_reason else \"\"}\n",
    "\n",
    "#         Format the user story as a bullet point.\n",
    "#         \"\"\"\n",
    "#         system_message = prompt.format(project_name= project_name, requirement= requirement, index= index)\n",
    "#         llm_with_structured = self.llm.with_structured_output(UserStories)\n",
    "#         response = llm_with_structured.invoke(system_message)\n",
    "#         return response"
   ]
  },
  {
   "cell_type": "code",
   "execution_count": 18,
   "metadata": {},
   "outputs": [],
   "source": [
    "from typing_extensions import TypedDict, Annotated, List, Literal\n",
    "from langchain_core.messages import AnyMessage, AIMessage, HumanMessage, SystemMessage\n",
    "from langgraph.graph import add_messages\n",
    "from typing import Dict, List, Optional, Union, Literal\n",
    "from pydantic import BaseModel, Field\n",
    "from IPython.display import Image, display \n",
    "from langchain_core.messages import AnyMessage\n",
    "from langgraph.graph.message import add_messages"
   ]
  },
  {
   "cell_type": "code",
   "execution_count": 19,
   "metadata": {},
   "outputs": [],
   "source": [
    "## User stories state\n",
    "class ProjectRequirements(TypedDict):\n",
    "    title: str\n",
    "    description: str\n",
    "    requirements : List[str]\n",
    "\n",
    "class UserStory(TypedDict):\n",
    "    story_id : str\n",
    "    title : str\n",
    "    description : str \n",
    "    acceptance_criteria : List[str]\n",
    "\n",
    "class UserStoryState(TypedDict):\n",
    "    project_requirements : ProjectRequirements\n",
    "    status: Literal[\"in_progress\", \"pending_approval\", \"completed\", \"feedback\"] = \"in_progress\"\n",
    "    revised_count : int = 0\n",
    "    user_stories : List[UserStory]\n",
    "    user_stories_messages: Annotated[list, add_messages]"
   ]
  },
  {
   "cell_type": "code",
   "execution_count": 20,
   "metadata": {},
   "outputs": [],
   "source": [
    "from langchain_core.messages import HumanMessage\n",
    "\n",
    "from dotenv import load_dotenv\n",
    "load_dotenv()\n",
    "import os \n",
    "\n",
    "os.environ['OPENAI_API_KEY'] = os.getenv(\"OPENAI_API_KEY\")\n",
    "os.environ['GROQ_API_KEY'] = os.getenv(\"GROQ_API_KEY\")\n",
    "os.environ['LANGSMITH_API_KEY'] = os.getenv(\"LANGSMITH_API_KEY\")\n",
    "os.environ['LANGSMITH_PROJECT'] = os.getenv(\"LANGSMITH_PROJECT\")\n",
    "os.environ['LANGSMITH_TRACING'] = os.getenv(\"LANGSMITH_TRACING\")"
   ]
  },
  {
   "cell_type": "code",
   "execution_count": 21,
   "metadata": {},
   "outputs": [],
   "source": [
    "from langchain_groq import ChatGroq \n",
    "llm = ChatGroq(model=\"deepseek-r1-distill-llama-70b\")"
   ]
  },
  {
   "cell_type": "code",
   "execution_count": 22,
   "metadata": {},
   "outputs": [],
   "source": [
    "generate_user_stories_system_prompt = \"\"\"\n",
    "**ROLE & OBJECTIVE**\n",
    "\n",
    "You are an expert Agile Product Owner. Your task is to analyze structured project requirements and generate clear, actionable 3 to 5 user stories ready for development. Retun the OUTPUT in the JSON format only. \n",
    "\n",
    "---\n",
    "\n",
    "**TASK BREAKDOWN:**\n",
    "1. **Analyze** project requirements, objectives, and user needs.\n",
    "2. **Extract** core features and define user roles.\n",
    "3. **Decompose** requirements into independent, testable user stories.\n",
    "4. **Generate** user stories using:\n",
    "   - **As a [user], I want [goal], so that [value].**\n",
    "   - Clear, testable **acceptance criteria**.\n",
    "5. **Prioritize** based on business impact and feasibility.\n",
    "\n",
    "---\n",
    "\n",
    "**DESIRED OUTPUT TEMPLATE IN LIST OF JSON**\n",
    "\n",
    "```\n",
    "[\n",
    "    {\n",
    "        \"story_id\"=\"US-001\",\n",
    "        \"title\"=\"Manage Shopping Cart\",\n",
    "        \"description\"=\"As a shopper, I want to modify my cart before checkout.\",\n",
    "        \"acceptance_criteria\"=[\n",
    "            \"User can add/remove items.\",\n",
    "            \"User can update item quantity.\",\n",
    "            \"Cart updates reflect in real-time.\",\n",
    "            \"User can see the total price of the cart.\"\n",
    "        ]\n",
    "    },\n",
    "    {\n",
    "        \"story_id\"=\"US-002\",\n",
    "        \"title\"=\"Apply Discount Code\",\n",
    "        \"description\"=\"As a shopper, I want to apply a discount at checkout.\",\n",
    "        \"acceptance_criteria\"=[\n",
    "            \"User can enter a discount code.\",\n",
    "            \"System validates and applies the discount.\",\n",
    "            \"Invalid codes show an error message.\",\n",
    "            \"User can see the total price after applying the discount.\"\n",
    "        ]\n",
    "    }\n",
    "]\n",
    "```\n",
    "\n",
    "---\n",
    "\n",
    "**GUIDELINES:**\n",
    "✅ Align with project requirements.\n",
    "✅ Use concise, clear language.\n",
    "✅ Ensure user stories are independent and testable.\n",
    "✅ Prioritize based on business impact.\n",
    "✅ The **acceptance criteria must be between 2 to 4 points**—no more, no less.  \n",
    "🚫 Avoid vagueness, missing criteria, or unnecessary technical details.\n",
    "\n",
    "\"\"\""
   ]
  },
  {
   "cell_type": "code",
   "execution_count": 23,
   "metadata": {},
   "outputs": [],
   "source": [
    "revised_user_stories_system_prompt = \"\"\"\n",
    "\n",
    "**ROLE & OBJECTIVE**  \n",
    "You are an expert Agile Product Owner. Your task is to refine user stories based on feedback for clarity, testability, and business alignment.  \n",
    "Return the output in JSON list format only.  \n",
    "\n",
    "---\n",
    "\n",
    "TASK BREAKDOWN:  \n",
    "1. Analyze `user_story` and `user_feedback`.  \n",
    "2. Identify gaps and improve clarity.  \n",
    "3. Ensure user stories follow:  \n",
    "   - \"As a [user], I want [goal], so that [value].\"  \n",
    "   - **2 to 4** clear, testable acceptance criteria.  \n",
    "\n",
    "---\n",
    "\n",
    "**DESIRED OUTPUT TEMPLATE IN LIST OF JSON**  \n",
    "[\n",
    "    {  \n",
    "        \"story_id\": \"US-001\",  \n",
    "        \"title\": \"Manage Shopping Cart\",  \n",
    "        \"description\": \"As a shopper, I want to modify my cart before checkout, so that I can finalize my purchase conveniently.\",  \n",
    "        \"acceptance_criteria\": [  \n",
    "            \"User can add/remove items.\",  \n",
    "            \"User can update item quantity.\",  \n",
    "            \"Cart updates reflect in real-time.\",  \n",
    "            \"User can see the total price of the cart.\",\n",
    "        ]  \n",
    "    }  \n",
    "]  \n",
    "\n",
    "---\n",
    "\n",
    "GUIDELINES:  \n",
    "✅ Ensure stories are clear, independent, and testable.  \n",
    "✅ Incorporate feedback without losing business goals.  \n",
    "✅ Acceptance criteria must be **2 to 4** points.  \n",
    "🚫 Avoid unnecessary technical details or vague requirements.  \n",
    "\"\"\""
   ]
  },
  {
   "cell_type": "code",
   "execution_count": 24,
   "metadata": {},
   "outputs": [],
   "source": [
    "from langchain_core.prompts import PromptTemplate \n",
    "from langchain_core.output_parsers import JsonOutputParser \n",
    "output_parser = JsonOutputParser()\n",
    "\n",
    "prompt = PromptTemplate(\n",
    "    template=\"{system_prompt} \\n {format_instruction} \\n {human_query} \\n\",\n",
    "    input_variables= [\"system_prompt\", \"human_query\",],\n",
    "    partial_variables={\"format_instruction\" : output_parser.get_format_instructions()}\n",
    ")"
   ]
  },
  {
   "cell_type": "code",
   "execution_count": 25,
   "metadata": {},
   "outputs": [],
   "source": [
    "def get_user_stories_from_llm(project_title, project_description, requirements):\n",
    "    user_query =  f\"Create a user stories for the this project title: {project_title} and description: {project_description} and requirements: {requirements}\"\n",
    "    chain = prompt | llm | output_parser\n",
    "    response = chain.invoke({\"system_prompt\" : generate_user_stories_system_prompt, \"human_query\" : user_query})\n",
    "    return response"
   ]
  },
  {
   "cell_type": "code",
   "execution_count": 26,
   "metadata": {},
   "outputs": [],
   "source": [
    "def revised_user_stories_from_llm(user_stories, user_feedback):\n",
    "    user_query =  f\"Revise the user stories : {user_stories} with the following feedback: {user_feedback}\"\n",
    "    chain = prompt | llm | output_parser\n",
    "    response = chain.invoke({\"system_prompt\" : revised_user_stories_system_prompt, \"human_query\" : user_query})\n",
    "    return response"
   ]
  },
  {
   "cell_type": "code",
   "execution_count": 27,
   "metadata": {},
   "outputs": [],
   "source": [
    "project_title = \"PayMate: Your Ultimate Payment Companion\"\n",
    "project_description = \"PayMate is a comprehensive payment application that allows users to perform seamless transactions using the Unified Payments Interface (UPI). Beyond basic payments, PayMate offers features such as quick loans, bill payments, and a user-friendly interface, making it a one-stop solution for all financial needs.\"\n",
    "requirements = [\"Implement multi-factor authentication, including biometrics (fingerprint and facial recognition) and MPIN, to secure user accounts.​\", \"Enable users to link multiple bank accounts and perform instant fund transfers using UPI.\", \"Provide users with access to instant micro-loans with minimal documentation.\", \"Allow users to pay utility bills such as electricity, water, gas, and broadband directly through the app.\"]\n",
    "requirements_string = \"\\n\".join(requirements)\n"
   ]
  },
  {
   "cell_type": "code",
   "execution_count": 40,
   "metadata": {},
   "outputs": [
    {
     "data": {
      "text/plain": [
       "[{'story_id': 'US-001',\n",
       "  'title': 'Secure Account with Multi-Factor Authentication',\n",
       "  'description': 'As a user, I want to secure my account with multi-factor authentication so that my transactions are protected.',\n",
       "  'acceptance_criteria': ['User can enable biometric authentication (fingerprint and facial recognition).',\n",
       "   'User can set up MPIN for additional security.',\n",
       "   'User can enable two-factor authentication for transactions.',\n",
       "   'System alerts user of authentication failures.']},\n",
       " {'story_id': 'US-002',\n",
       "  'title': 'Link Multiple Bank Accounts',\n",
       "  'description': 'As a user, I want to link multiple bank accounts so that I can transfer funds instantly.',\n",
       "  'acceptance_criteria': ['User can add multiple bank accounts to their profile.',\n",
       "   'User can select any linked account for fund transfers.',\n",
       "   'Linked accounts display current balance.',\n",
       "   'System confirms successful linking of accounts.']},\n",
       " {'story_id': 'US-003',\n",
       "  'title': 'Access Instant Micro-Loans',\n",
       "  'description': 'As a user, I want to apply for instant micro-loans so that I can get quick financial assistance.',\n",
       "  'acceptance_criteria': ['User can view loan eligibility and terms.',\n",
       "   'User can submit a loan application with minimal documentation.',\n",
       "   'System provides instant loan approval decision.',\n",
       "   \"Approved loan is disbursed to user's account.\"]},\n",
       " {'story_id': 'US-004',\n",
       "  'title': 'Pay Utility Bills',\n",
       "  'description': 'As a user, I want to pay my utility bills through the app so that I can manage all payments in one place.',\n",
       "  'acceptance_criteria': ['User can select from various utility bill types (electricity, water, gas, broadband).',\n",
       "   'User can review bill details before payment.',\n",
       "   'System confirms successful payment.',\n",
       "   'User receives payment confirmation notification.']}]"
      ]
     },
     "execution_count": 40,
     "metadata": {},
     "output_type": "execute_result"
    }
   ],
   "source": [
    "user_stories = get_user_stories_from_llm(project_title, project_description, requirements_string)\n",
    "user_stories"
   ]
  },
  {
   "cell_type": "code",
   "execution_count": 41,
   "metadata": {},
   "outputs": [],
   "source": [
    "user_stories = [{'story_id': 'US-001',\n",
    "  'title': 'Secure Account with Multi-Factor Authentication',\n",
    "  'description': 'As a user, I want to secure my account with multi-factor authentication so that my transactions are protected.',\n",
    "  'acceptance_criteria': ['User can enable biometric authentication (fingerprint and facial recognition).',\n",
    "   'User can set up MPIN for additional security.',\n",
    "   'User can enable two-factor authentication for transactions.',\n",
    "   'System alerts user of authentication failures.']},\n",
    " {'story_id': 'US-002',\n",
    "  'title': 'Link Multiple Bank Accounts',\n",
    "  'description': 'As a user, I want to link multiple bank accounts so that I can transfer funds instantly.',\n",
    "  'acceptance_criteria': ['User can add multiple bank accounts to their profile.',\n",
    "   'User can select any linked account for fund transfers.',\n",
    "   'Linked accounts display current balance.',\n",
    "   'System confirms successful linking of accounts.']},\n",
    " {'story_id': 'US-003',\n",
    "  'title': 'Access Instant Micro-Loans',\n",
    "  'description': 'As a user, I want to apply for instant micro-loans so that I can get quick financial assistance.',\n",
    "  'acceptance_criteria': ['User can view loan eligibility and terms.',\n",
    "   'User can submit a loan application with minimal documentation.',\n",
    "   'System provides instant loan approval decision.',\n",
    "   \"Approved loan is disbursed to user's account.\"]},\n",
    " {'story_id': 'US-004',\n",
    "  'title': 'Pay Utility Bills',\n",
    "  'description': 'As a user, I want to pay my utility bills through the app so that I can manage all payments in one place.',\n",
    "  'acceptance_criteria': ['User can select from various utility bill types (electricity, water, gas, broadband).',\n",
    "   'User can review bill details before payment.',\n",
    "   'System confirms successful payment.',\n",
    "   'User receives payment confirmation notification.']}]"
   ]
  },
  {
   "cell_type": "code",
   "execution_count": 43,
   "metadata": {},
   "outputs": [
    {
     "data": {
      "text/plain": [
       "[{'story_id': 'US-001',\n",
       "  'title': 'Secure Account with Multi-Factor Authentication',\n",
       "  'description': 'As a user, I want to secure my account with multi-factor authentication so that my transactions are protected.',\n",
       "  'acceptance_criteria': ['User can enable biometric authentication (fingerprint and facial recognition).',\n",
       "   'User can set up MPIN for additional security.',\n",
       "   'User can enable two-factor authentication for transactions.',\n",
       "   'System alerts user of authentication failures.']},\n",
       " {'story_id': 'US-002',\n",
       "  'title': 'Link Multiple Bank Accounts',\n",
       "  'description': 'As a user, I want to link multiple bank accounts so that I can transfer funds instantly.',\n",
       "  'acceptance_criteria': ['User can add multiple bank accounts to their profile.',\n",
       "   'User can select any linked account for fund transfers.',\n",
       "   'Linked accounts display current balance.',\n",
       "   'System confirms successful linking of accounts.']},\n",
       " {'story_id': 'US-003',\n",
       "  'title': 'Access Instant Micro-Loans',\n",
       "  'description': 'As a user, I want to apply for instant micro-loans so that I can get quick financial assistance.',\n",
       "  'acceptance_criteria': ['User can view loan eligibility and terms.',\n",
       "   'User can submit a loan application with minimal documentation.',\n",
       "   'System provides instant loan approval decision.',\n",
       "   \"Approved loan is disbursed to user's account.\"]},\n",
       " {'story_id': 'US-004',\n",
       "  'title': 'Pay Utility Bills',\n",
       "  'description': 'As a user, I want to pay my utility bills through the app so that I can manage all payments in one place.',\n",
       "  'acceptance_criteria': ['User can select from various utility bill types (electricity, water, gas, broadband).',\n",
       "   'User can review bill details before payment.',\n",
       "   'System confirms successful payment.',\n",
       "   'User receives payment confirmation notification.']},\n",
       " {'story_id': 'US-005',\n",
       "  'title': 'Purchase Insurance from the App',\n",
       "  'description': 'As a user, I want to purchase insurance through the app so that I can protect my finances conveniently.',\n",
       "  'acceptance_criteria': ['User can view available insurance products (health, life, auto, etc.).',\n",
       "   'User can get a quote based on input details.',\n",
       "   'User can purchase selected insurance plan and receive confirmation.',\n",
       "   'User can access policy documents post-purchase.']}]"
      ]
     },
     "execution_count": 43,
     "metadata": {},
     "output_type": "execute_result"
    }
   ],
   "source": [
    "user_feedback = \"Add user story to buy insurance from the app.\"\n",
    "revised_user_stories = revised_user_stories_from_llm(user_stories, user_feedback) \n",
    "revised_user_stories"
   ]
  },
  {
   "cell_type": "code",
   "execution_count": 88,
   "metadata": {},
   "outputs": [],
   "source": [
    "revised_user_stories = [{'story_id': 'US-001',\n",
    "  'title': 'Secure Account with Multi-Factor Authentication',\n",
    "  'description': 'As a user, I want to secure my account with multi-factor authentication so that my transactions are protected.',\n",
    "  'acceptance_criteria': ['User can enable biometric authentication (fingerprint and facial recognition).',\n",
    "   'User can set up MPIN for additional security.',\n",
    "   'User can enable two-factor authentication for transactions.',\n",
    "   'System alerts user of authentication failures.']},\n",
    " {'story_id': 'US-002',\n",
    "  'title': 'Link Multiple Bank Accounts',\n",
    "  'description': 'As a user, I want to link multiple bank accounts so that I can transfer funds instantly.',\n",
    "  'acceptance_criteria': ['User can add multiple bank accounts to their profile.',\n",
    "   'User can select any linked account for fund transfers.',\n",
    "   'Linked accounts display current balance.',\n",
    "   'System confirms successful linking of accounts.']},\n",
    " {'story_id': 'US-003',\n",
    "  'title': 'Access Instant Micro-Loans',\n",
    "  'description': 'As a user, I want to apply for instant micro-loans so that I can get quick financial assistance.',\n",
    "  'acceptance_criteria': ['User can view loan eligibility and terms.',\n",
    "   'User can submit a loan application with minimal documentation.',\n",
    "   'System provides instant loan approval decision.',\n",
    "   \"Approved loan is disbursed to user's account.\"]},\n",
    " {'story_id': 'US-004',\n",
    "  'title': 'Pay Utility Bills',\n",
    "  'description': 'As a user, I want to pay my utility bills through the app so that I can manage all payments in one place.',\n",
    "  'acceptance_criteria': ['User can select from various utility bill types (electricity, water, gas, broadband).',\n",
    "   'User can review bill details before payment.',\n",
    "   'System confirms successful payment.',\n",
    "   'User receives payment confirmation notification.']},\n",
    " {'story_id': 'US-005',\n",
    "  'title': 'Purchase Insurance from the App',\n",
    "  'description': 'As a user, I want to purchase insurance through the app so that I can protect my finances conveniently.',\n",
    "  'acceptance_criteria': ['User can view available insurance products (health, life, auto, etc.).',\n",
    "   'User can get a quote based on input details.',\n",
    "   'User can purchase selected insurance plan and receive confirmation.',\n",
    "   'User can access policy documents post-purchase.']}]"
   ]
  },
  {
   "cell_type": "markdown",
   "metadata": {},
   "source": [
    "## User Story nodes"
   ]
  },
  {
   "cell_type": "code",
   "execution_count": 44,
   "metadata": {},
   "outputs": [],
   "source": [
    "## User stories \n",
    "def process_project_requirements(state : UserStoryState) -> UserStoryState:\n",
    "    print(\"In process_project_requirements\")\n",
    "    return {\n",
    "        **state,\n",
    "        \"user_stories_messages\" : AIMessage(content=\"I've received your project requirements. I'll now generate user stories based on these requirements.\")\n",
    "    }\n",
    "\n",
    "def generate_user_stories(state : UserStoryState) -> UserStoryState:\n",
    "    print(\"In generate_user_stories\") \n",
    "    project_title = state['project_requirements']['title']\n",
    "    project_description = state['project_requirements']['description']\n",
    "    requirements = state['project_requirements']['requirements']\n",
    "    # LLM call to generate the user storie\n",
    "    user_stories = get_user_stories_from_llm(project_title, project_description, requirements)\n",
    "    # user_story = UserStory(\n",
    "    #     story_id = \"US-101\",\n",
    "    #     title = \"User Login\",\n",
    "    #     description = \"As a user, I want to log in using email and password.\",\n",
    "    #     acceptance_criteria = [\"User can input email and password\", \"System validates credentials\", \"User is redirected after login\"],\n",
    "    # )\n",
    "    # generated_stories = [user_story]\n",
    "\n",
    "    return {\n",
    "        **state, \n",
    "        \"status\" : 'pending_approval',\n",
    "        \"user_stories\" : user_stories,\n",
    "        \"user_stories_messages\" : AIMessage(\n",
    "            content = f\"Based on your requirements, I've generated {len(user_stories)} user stories. Please review these user stories and provide feedback or type 'Approved' if you're satisfied.\"\n",
    "        ),\n",
    "        \"revised_count\" : 0\n",
    "    }\n",
    "\n",
    "def user_stories_review(state : UserStoryState) -> UserStoryState:\n",
    "    print(\"In user_stories_review\")\n",
    "    user_review = state['user_stories_messages'][-1].content\n",
    "    user_review = user_review.lower().strip()\n",
    "    print(\"user_review : \", user_review)  \n",
    "    if user_review == \"approved\":\n",
    "        return {\n",
    "            **state,\n",
    "            \"user_stories_messages\" : AIMessage(content=\"Great! Your user stories have been finalized. You can now proceed with your design process.\"),\n",
    "            \"status\" : \"completed\"\n",
    "        }\n",
    "    else:\n",
    "        return {\n",
    "            **state,\n",
    "            \"user_stories_messages\" :  AIMessage(content=\"I've received your feedback. I'll revise the user stories accordingly.\"),\n",
    "            \"status\" : \"feedback\"\n",
    "        }\n",
    "\n",
    "def should_revise_user_stories(state : UserStoryState) -> Literal[\"approved\", \"feedback\"]:\n",
    "    print(\"In should_revise_user_stories\")\n",
    "    print(\"state : \", state)\n",
    "    return \"approved\" if state[\"status\"] == \"approved\" else \"feedback\"   \n",
    "\n",
    "def revised_user_stories(state : UserStoryState) -> UserStoryState:\n",
    "    print(\"In revised_user_stories\")\n",
    "    print(\"state : \", state)\n",
    "    user_review = state['user_stories_messages'][-1].content\n",
    "    user_review = user_review.lower().strip()\n",
    "    if state['status'] == 'feedback':\n",
    "        revised_count = state['revised_count'] + 1\n",
    "        print(\"revised_count : \", revised_count)\n",
    "        if revised_count == 3:\n",
    "            return {\n",
    "                **state,\n",
    "                \"user_stories_messages\" :  AIMessage(\n",
    "                    content = f\"User stories have been revision maxed out. Please review the user stories and continue with the next step.\"\n",
    "                ),\n",
    "                \"status\" : \"completed\"\n",
    "            }\n",
    "        user_stories = revised_user_stories_from_llm(state['user_stories'], user_review)\n",
    "        # revised_user_story = UserStory(\n",
    "        #     story_id = \"IND-101\",\n",
    "        #     title = f\"Revised User Story {revised_count}\",\n",
    "        #     description = \"As a user, I want to log in using email and password.\",\n",
    "        #     acceptance_criteria = [\"User can input email and password\", \"System validates credentials\", \"User is redirected after login\"],\n",
    "        # )\n",
    "        # revised_user_stories = [revised_user_story]\n",
    "\n",
    "        return {\n",
    "            **state, \n",
    "            \"user_stories\" : user_stories,\n",
    "            \"user_stories_messages\" : AIMessage(\n",
    "                content = \"I've revised the user stories based on your feedback.\\n\\nPlease review these updated user stories and provide additional feedback or type 'Approved' if you're satisfied.\"),\n",
    "            \"status\" : \"pending_approval\",\n",
    "            \"revised_count\" : revised_count\n",
    "        }\n"
   ]
  },
  {
   "cell_type": "code",
   "execution_count": 45,
   "metadata": {},
   "outputs": [],
   "source": [
    "from langgraph.graph import StateGraph, START, END \n",
    "from langgraph.checkpoint.memory import MemorySaver\n",
    "\n",
    "user_story_graph = StateGraph(UserStoryState)\n",
    "user_story_graph.add_node(\"process_project_requirements\", process_project_requirements)\n",
    "user_story_graph.add_node(\"generate_user_stories\", generate_user_stories)\n",
    "user_story_graph.add_node(\"user_stories_review\", user_stories_review)\n",
    "user_story_graph.add_node(\"revised_user_stories\", revised_user_stories)\n",
    "\n",
    "user_story_graph.add_edge(START, \"process_project_requirements\")\n",
    "user_story_graph.add_edge(\"process_project_requirements\", \"generate_user_stories\")\n",
    "user_story_graph.add_edge(\"generate_user_stories\", \"user_stories_review\")\n",
    "user_story_graph.add_conditional_edges(\n",
    " \"user_stories_review\", should_revise_user_stories, {'approved' : END, 'feedback' : 'revised_user_stories'}\n",
    ")\n",
    "\n",
    "user_story_graph.add_edge(\"revised_user_stories\", \"user_stories_review\")\n",
    "memory = MemorySaver()\n",
    "user_story_workflow = user_story_graph.compile(checkpointer=memory, interrupt_before=['user_stories_review'])"
   ]
  },
  {
   "cell_type": "code",
   "execution_count": 46,
   "metadata": {},
   "outputs": [
    {
     "data": {
      "image/png": "[encoded data removed]",
      "text/plain": [
       "<IPython.core.display.Image object>"
      ]
     },
     "metadata": {},
     "output_type": "display_data"
    }
   ],
   "source": [
    "display(Image(user_story_workflow.get_graph().draw_mermaid_png()))"
   ]
  },
  {
   "cell_type": "code",
   "execution_count": 47,
   "metadata": {},
   "outputs": [
    {
     "name": "stdout",
     "output_type": "stream",
     "text": [
      "{'project_requirements': {'title': 'PayMate: Your Ultimate Payment Companion', 'description': 'PayMate is a comprehensive payment application that allows users to perform seamless transactions using the Unified Payments Interface (UPI). Beyond basic payments, PayMate offers features such as quick loans, bill payments, and a user-friendly interface, making it a one-stop solution for all financial needs.', 'requirements': ['Implement multi-factor authentication, including biometrics (fingerprint and facial recognition) and MPIN, to secure user accounts.\\u200b', 'Enable users to link multiple bank accounts and perform instant fund transfers using UPI.', 'Provide users with access to instant micro-loans with minimal documentation.', 'Allow users to pay utility bills such as electricity, water, gas, and broadband directly through the app.']}, 'status': 'in_progress', 'user_stories': [], 'user_stories_messages': [HumanMessage(content=\"{'title': 'PayMate: Your Ultimate Payment Companion', 'description': 'PayMate is a comprehensive payment application that allows users to perform seamless transactions using the Unified Payments Interface (UPI). Beyond basic payments, PayMate offers features such as quick loans, bill payments, and a user-friendly interface, making it a one-stop solution for all financial needs.', 'requirements': ['Implement multi-factor authentication, including biometrics (fingerprint and facial recognition) and MPIN, to secure user accounts.\\\\u200b', 'Enable users to link multiple bank accounts and perform instant fund transfers using UPI.', 'Provide users with access to instant micro-loans with minimal documentation.', 'Allow users to pay utility bills such as electricity, water, gas, and broadband directly through the app.']}\", additional_kwargs={}, response_metadata={}, id='c09c2573-7c14-4fc2-8111-368f1fd4b45f')]}\n",
      "In process_project_requirements\n",
      "{'project_requirements': {'title': 'PayMate: Your Ultimate Payment Companion', 'description': 'PayMate is a comprehensive payment application that allows users to perform seamless transactions using the Unified Payments Interface (UPI). Beyond basic payments, PayMate offers features such as quick loans, bill payments, and a user-friendly interface, making it a one-stop solution for all financial needs.', 'requirements': ['Implement multi-factor authentication, including biometrics (fingerprint and facial recognition) and MPIN, to secure user accounts.\\u200b', 'Enable users to link multiple bank accounts and perform instant fund transfers using UPI.', 'Provide users with access to instant micro-loans with minimal documentation.', 'Allow users to pay utility bills such as electricity, water, gas, and broadband directly through the app.']}, 'status': 'in_progress', 'user_stories': [], 'user_stories_messages': [HumanMessage(content=\"{'title': 'PayMate: Your Ultimate Payment Companion', 'description': 'PayMate is a comprehensive payment application that allows users to perform seamless transactions using the Unified Payments Interface (UPI). Beyond basic payments, PayMate offers features such as quick loans, bill payments, and a user-friendly interface, making it a one-stop solution for all financial needs.', 'requirements': ['Implement multi-factor authentication, including biometrics (fingerprint and facial recognition) and MPIN, to secure user accounts.\\\\u200b', 'Enable users to link multiple bank accounts and perform instant fund transfers using UPI.', 'Provide users with access to instant micro-loans with minimal documentation.', 'Allow users to pay utility bills such as electricity, water, gas, and broadband directly through the app.']}\", additional_kwargs={}, response_metadata={}, id='c09c2573-7c14-4fc2-8111-368f1fd4b45f'), AIMessage(content=\"I've received your project requirements. I'll now generate user stories based on these requirements.\", additional_kwargs={}, response_metadata={}, id='f977fc5f-edad-498d-bcdc-7795465e763b')]}\n",
      "In generate_user_stories\n",
      "{'project_requirements': {'title': 'PayMate: Your Ultimate Payment Companion', 'description': 'PayMate is a comprehensive payment application that allows users to perform seamless transactions using the Unified Payments Interface (UPI). Beyond basic payments, PayMate offers features such as quick loans, bill payments, and a user-friendly interface, making it a one-stop solution for all financial needs.', 'requirements': ['Implement multi-factor authentication, including biometrics (fingerprint and facial recognition) and MPIN, to secure user accounts.\\u200b', 'Enable users to link multiple bank accounts and perform instant fund transfers using UPI.', 'Provide users with access to instant micro-loans with minimal documentation.', 'Allow users to pay utility bills such as electricity, water, gas, and broadband directly through the app.']}, 'status': 'pending_approval', 'revised_count': 0, 'user_stories': [{'story_id': 'US-001', 'title': 'Secure Login with Multi-Factor Authentication', 'description': 'As a user, I want to securely access my account using multiple authentication methods, so that my financial data remains protected.', 'acceptance_criteria': ['User can log in using fingerprint recognition.', 'User can log in using facial recognition.', 'User can log in using MPIN.', 'System shows an error message for failed authentication attempts.']}, {'story_id': 'US-002', 'title': 'Link and Manage Multiple Bank Accounts', 'description': 'As a user, I want to link multiple bank accounts to my PayMate profile, so that I can perform seamless fund transfers.', 'acceptance_criteria': ['User can add multiple bank accounts to their profile.', 'User can select a default bank account for transactions.', 'User can transfer funds between linked bank accounts.', 'Balance of linked accounts is updated in real-time.']}, {'story_id': 'US-003', 'title': 'Access Instant Micro-Loans', 'description': 'As a user, I want to apply for instant micro-loans with minimal documentation, so that I can address urgent financial needs.', 'acceptance_criteria': ['User can apply for a micro-loan through the app.', 'System processes the loan application in real-time.', \"Approved loan amount is disbursed instantly to the user's bank account.\", 'User can view loan details including amount, tenure, and repayment terms.']}, {'story_id': 'US-004', 'title': 'Pay Utility Bills Directly', 'description': 'As a user, I want to pay my utility bills directly through the app, so that I can manage all my payments in one place.', 'acceptance_criteria': ['User can add utility billers (e.g., electricity, water, gas, broadband).', 'User can pay bills using their linked bank account or UPI.', 'User can view a history of past bill payments.', 'System confirms the successful payment with a notification.']}], 'user_stories_messages': [HumanMessage(content=\"{'title': 'PayMate: Your Ultimate Payment Companion', 'description': 'PayMate is a comprehensive payment application that allows users to perform seamless transactions using the Unified Payments Interface (UPI). Beyond basic payments, PayMate offers features such as quick loans, bill payments, and a user-friendly interface, making it a one-stop solution for all financial needs.', 'requirements': ['Implement multi-factor authentication, including biometrics (fingerprint and facial recognition) and MPIN, to secure user accounts.\\\\u200b', 'Enable users to link multiple bank accounts and perform instant fund transfers using UPI.', 'Provide users with access to instant micro-loans with minimal documentation.', 'Allow users to pay utility bills such as electricity, water, gas, and broadband directly through the app.']}\", additional_kwargs={}, response_metadata={}, id='c09c2573-7c14-4fc2-8111-368f1fd4b45f'), AIMessage(content=\"I've received your project requirements. I'll now generate user stories based on these requirements.\", additional_kwargs={}, response_metadata={}, id='f977fc5f-edad-498d-bcdc-7795465e763b'), AIMessage(content=\"Based on your requirements, I've generated 4 user stories. Please review these user stories and provide feedback or type 'Approved' if you're satisfied.\", additional_kwargs={}, response_metadata={}, id='db5c11e1-ae41-41a6-a00e-667dc6316857')]}\n"
     ]
    }
   ],
   "source": [
    "# Input\n",
    "# project_requirements = ProjectRequirements(\n",
    "#     title = \"A snake and ladder game in web-app\",\n",
    "#     description = \"A snake and ladder game in web-app with multiple players and a board\",\n",
    "#     requirements = [\"A snake and ladder game in web-app\", \"Multi players should be supported\", \"Board should be displayed\", \"Players should be able to move their tokens based on the dice roll\", \"Snakes and ladders should be displayed on the board\", \"Players should be able to see the final positions of all players\"]\n",
    "# )\n",
    "project_requirements = ProjectRequirements(\n",
    "    title = project_title,\n",
    "    description = project_description,\n",
    "    requirements = requirements\n",
    ")\n",
    "\n",
    "initial_story_state = {\n",
    "    \"project_requirements\" : project_requirements,\n",
    "    \"user_stories\": [],\n",
    "    \"user_stories_messages\": HumanMessage(content=f\"{project_requirements}\"),\n",
    "    \"status\": \"in_progress\",\n",
    "    \"owner_feedback\": \"\",\n",
    "    \" b \" : 0\n",
    "}\n",
    "\n",
    "# Thread\n",
    "thread = {\"configurable\": {\"thread_id\": \"12343\"}}\n",
    "\n",
    "for event in user_story_workflow.stream(initial_story_state, thread, stream_mode=\"values\"):\n",
    "    print(event)\n"
   ]
  },
  {
   "cell_type": "code",
   "execution_count": 48,
   "metadata": {},
   "outputs": [
    {
     "data": {
      "text/plain": [
       "{'project_requirements': {'title': 'PayMate: Your Ultimate Payment Companion',\n",
       "  'description': 'PayMate is a comprehensive payment application that allows users to perform seamless transactions using the Unified Payments Interface (UPI). Beyond basic payments, PayMate offers features such as quick loans, bill payments, and a user-friendly interface, making it a one-stop solution for all financial needs.',\n",
       "  'requirements': ['Implement multi-factor authentication, including biometrics (fingerprint and facial recognition) and MPIN, to secure user accounts.\\u200b',\n",
       "   'Enable users to link multiple bank accounts and perform instant fund transfers using UPI.',\n",
       "   'Provide users with access to instant micro-loans with minimal documentation.',\n",
       "   'Allow users to pay utility bills such as electricity, water, gas, and broadband directly through the app.']},\n",
       " 'status': 'pending_approval',\n",
       " 'revised_count': 0,\n",
       " 'user_stories': [{'story_id': 'US-001',\n",
       "   'title': 'Secure Login with Multi-Factor Authentication',\n",
       "   'description': 'As a user, I want to securely access my account using multiple authentication methods, so that my financial data remains protected.',\n",
       "   'acceptance_criteria': ['User can log in using fingerprint recognition.',\n",
       "    'User can log in using facial recognition.',\n",
       "    'User can log in using MPIN.',\n",
       "    'System shows an error message for failed authentication attempts.']},\n",
       "  {'story_id': 'US-002',\n",
       "   'title': 'Link and Manage Multiple Bank Accounts',\n",
       "   'description': 'As a user, I want to link multiple bank accounts to my PayMate profile, so that I can perform seamless fund transfers.',\n",
       "   'acceptance_criteria': ['User can add multiple bank accounts to their profile.',\n",
       "    'User can select a default bank account for transactions.',\n",
       "    'User can transfer funds between linked bank accounts.',\n",
       "    'Balance of linked accounts is updated in real-time.']},\n",
       "  {'story_id': 'US-003',\n",
       "   'title': 'Access Instant Micro-Loans',\n",
       "   'description': 'As a user, I want to apply for instant micro-loans with minimal documentation, so that I can address urgent financial needs.',\n",
       "   'acceptance_criteria': ['User can apply for a micro-loan through the app.',\n",
       "    'System processes the loan application in real-time.',\n",
       "    \"Approved loan amount is disbursed instantly to the user's bank account.\",\n",
       "    'User can view loan details including amount, tenure, and repayment terms.']},\n",
       "  {'story_id': 'US-004',\n",
       "   'title': 'Pay Utility Bills Directly',\n",
       "   'description': 'As a user, I want to pay my utility bills directly through the app, so that I can manage all my payments in one place.',\n",
       "   'acceptance_criteria': ['User can add utility billers (e.g., electricity, water, gas, broadband).',\n",
       "    'User can pay bills using their linked bank account or UPI.',\n",
       "    'User can view a history of past bill payments.',\n",
       "    'System confirms the successful payment with a notification.']}],\n",
       " 'user_stories_messages': [HumanMessage(content=\"{'title': 'PayMate: Your Ultimate Payment Companion', 'description': 'PayMate is a comprehensive payment application that allows users to perform seamless transactions using the Unified Payments Interface (UPI). Beyond basic payments, PayMate offers features such as quick loans, bill payments, and a user-friendly interface, making it a one-stop solution for all financial needs.', 'requirements': ['Implement multi-factor authentication, including biometrics (fingerprint and facial recognition) and MPIN, to secure user accounts.\\\\u200b', 'Enable users to link multiple bank accounts and perform instant fund transfers using UPI.', 'Provide users with access to instant micro-loans with minimal documentation.', 'Allow users to pay utility bills such as electricity, water, gas, and broadband directly through the app.']}\", additional_kwargs={}, response_metadata={}, id='c09c2573-7c14-4fc2-8111-368f1fd4b45f'),\n",
       "  AIMessage(content=\"I've received your project requirements. I'll now generate user stories based on these requirements.\", additional_kwargs={}, response_metadata={}, id='f977fc5f-edad-498d-bcdc-7795465e763b'),\n",
       "  AIMessage(content=\"Based on your requirements, I've generated 4 user stories. Please review these user stories and provide feedback or type 'Approved' if you're satisfied.\", additional_kwargs={}, response_metadata={}, id='db5c11e1-ae41-41a6-a00e-667dc6316857')]}"
      ]
     },
     "execution_count": 48,
     "metadata": {},
     "output_type": "execute_result"
    }
   ],
   "source": [
    "{'project_requirements': {'title': 'PayMate: Your Ultimate Payment Companion', 'description': 'PayMate is a comprehensive payment application that allows users to perform seamless transactions using the Unified Payments Interface (UPI). Beyond basic payments, PayMate offers features such as quick loans, bill payments, and a user-friendly interface, making it a one-stop solution for all financial needs.', 'requirements': ['Implement multi-factor authentication, including biometrics (fingerprint and facial recognition) and MPIN, to secure user accounts.\\u200b', 'Enable users to link multiple bank accounts and perform instant fund transfers using UPI.', 'Provide users with access to instant micro-loans with minimal documentation.', 'Allow users to pay utility bills such as electricity, water, gas, and broadband directly through the app.']}, 'status': 'pending_approval', 'revised_count': 0, 'user_stories': [{'story_id': 'US-001', 'title': 'Secure Login with Multi-Factor Authentication', 'description': 'As a user, I want to securely access my account using multiple authentication methods, so that my financial data remains protected.', 'acceptance_criteria': ['User can log in using fingerprint recognition.', 'User can log in using facial recognition.', 'User can log in using MPIN.', 'System shows an error message for failed authentication attempts.']}, {'story_id': 'US-002', 'title': 'Link and Manage Multiple Bank Accounts', 'description': 'As a user, I want to link multiple bank accounts to my PayMate profile, so that I can perform seamless fund transfers.', 'acceptance_criteria': ['User can add multiple bank accounts to their profile.', 'User can select a default bank account for transactions.', 'User can transfer funds between linked bank accounts.', 'Balance of linked accounts is updated in real-time.']}, {'story_id': 'US-003', 'title': 'Access Instant Micro-Loans', 'description': 'As a user, I want to apply for instant micro-loans with minimal documentation, so that I can address urgent financial needs.', 'acceptance_criteria': ['User can apply for a micro-loan through the app.', 'System processes the loan application in real-time.', \"Approved loan amount is disbursed instantly to the user's bank account.\", 'User can view loan details including amount, tenure, and repayment terms.']}, {'story_id': 'US-004', 'title': 'Pay Utility Bills Directly', 'description': 'As a user, I want to pay my utility bills directly through the app, so that I can manage all my payments in one place.', 'acceptance_criteria': ['User can add utility billers (e.g., electricity, water, gas, broadband).', 'User can pay bills using their linked bank account or UPI.', 'User can view a history of past bill payments.', 'System confirms the successful payment with a notification.']}], 'user_stories_messages': [HumanMessage(content=\"{'title': 'PayMate: Your Ultimate Payment Companion', 'description': 'PayMate is a comprehensive payment application that allows users to perform seamless transactions using the Unified Payments Interface (UPI). Beyond basic payments, PayMate offers features such as quick loans, bill payments, and a user-friendly interface, making it a one-stop solution for all financial needs.', 'requirements': ['Implement multi-factor authentication, including biometrics (fingerprint and facial recognition) and MPIN, to secure user accounts.\\\\u200b', 'Enable users to link multiple bank accounts and perform instant fund transfers using UPI.', 'Provide users with access to instant micro-loans with minimal documentation.', 'Allow users to pay utility bills such as electricity, water, gas, and broadband directly through the app.']}\", additional_kwargs={}, response_metadata={}, id='c09c2573-7c14-4fc2-8111-368f1fd4b45f'), AIMessage(content=\"I've received your project requirements. I'll now generate user stories based on these requirements.\", additional_kwargs={}, response_metadata={}, id='f977fc5f-edad-498d-bcdc-7795465e763b'), AIMessage(content=\"Based on your requirements, I've generated 4 user stories. Please review these user stories and provide feedback or type 'Approved' if you're satisfied.\", additional_kwargs={}, response_metadata={}, id='db5c11e1-ae41-41a6-a00e-667dc6316857')]}"
   ]
  },
  {
   "cell_type": "code",
   "execution_count": 49,
   "metadata": {},
   "outputs": [
    {
     "data": {
      "text/plain": [
       "('user_stories_review',)"
      ]
     },
     "execution_count": 49,
     "metadata": {},
     "output_type": "execute_result"
    }
   ],
   "source": [
    "user_state = user_story_workflow.get_state(thread) \n",
    "user_state.next"
   ]
  },
  {
   "cell_type": "code",
   "execution_count": 34,
   "metadata": {},
   "outputs": [
    {
     "data": {
      "text/plain": [
       "'Add user story to buy insurance from the app.'"
      ]
     },
     "execution_count": 34,
     "metadata": {},
     "output_type": "execute_result"
    }
   ],
   "source": [
    "user_feedback"
   ]
  },
  {
   "cell_type": "code",
   "execution_count": 52,
   "metadata": {},
   "outputs": [
    {
     "name": "stdout",
     "output_type": "stream",
     "text": [
      "In should_revise_user_stories\n",
      "state :  {'project_requirements': {'title': 'PayMate: Your Ultimate Payment Companion', 'description': 'PayMate is a comprehensive payment application that allows users to perform seamless transactions using the Unified Payments Interface (UPI). Beyond basic payments, PayMate offers features such as quick loans, bill payments, and a user-friendly interface, making it a one-stop solution for all financial needs.', 'requirements': ['Implement multi-factor authentication, including biometrics (fingerprint and facial recognition) and MPIN, to secure user accounts.\\u200b', 'Enable users to link multiple bank accounts and perform instant fund transfers using UPI.', 'Provide users with access to instant micro-loans with minimal documentation.', 'Allow users to pay utility bills such as electricity, water, gas, and broadband directly through the app.']}, 'status': 'feedback', 'revised_count': 0, 'user_stories': [{'story_id': 'US-001', 'title': 'Secure Login with Multi-Factor Authentication', 'description': 'As a user, I want to securely access my account using multiple authentication methods, so that my financial data remains protected.', 'acceptance_criteria': ['User can log in using fingerprint recognition.', 'User can log in using facial recognition.', 'User can log in using MPIN.', 'System shows an error message for failed authentication attempts.']}, {'story_id': 'US-002', 'title': 'Link and Manage Multiple Bank Accounts', 'description': 'As a user, I want to link multiple bank accounts to my PayMate profile, so that I can perform seamless fund transfers.', 'acceptance_criteria': ['User can add multiple bank accounts to their profile.', 'User can select a default bank account for transactions.', 'User can transfer funds between linked bank accounts.', 'Balance of linked accounts is updated in real-time.']}, {'story_id': 'US-003', 'title': 'Access Instant Micro-Loans', 'description': 'As a user, I want to apply for instant micro-loans with minimal documentation, so that I can address urgent financial needs.', 'acceptance_criteria': ['User can apply for a micro-loan through the app.', 'System processes the loan application in real-time.', \"Approved loan amount is disbursed instantly to the user's bank account.\", 'User can view loan details including amount, tenure, and repayment terms.']}, {'story_id': 'US-004', 'title': 'Pay Utility Bills Directly', 'description': 'As a user, I want to pay my utility bills directly through the app, so that I can manage all my payments in one place.', 'acceptance_criteria': ['User can add utility billers (e.g., electricity, water, gas, broadband).', 'User can pay bills using their linked bank account or UPI.', 'User can view a history of past bill payments.', 'System confirms the successful payment with a notification.']}], 'user_stories_messages': [HumanMessage(content=\"{'title': 'PayMate: Your Ultimate Payment Companion', 'description': 'PayMate is a comprehensive payment application that allows users to perform seamless transactions using the Unified Payments Interface (UPI). Beyond basic payments, PayMate offers features such as quick loans, bill payments, and a user-friendly interface, making it a one-stop solution for all financial needs.', 'requirements': ['Implement multi-factor authentication, including biometrics (fingerprint and facial recognition) and MPIN, to secure user accounts.\\\\u200b', 'Enable users to link multiple bank accounts and perform instant fund transfers using UPI.', 'Provide users with access to instant micro-loans with minimal documentation.', 'Allow users to pay utility bills such as electricity, water, gas, and broadband directly through the app.']}\", additional_kwargs={}, response_metadata={}, id='c09c2573-7c14-4fc2-8111-368f1fd4b45f'), AIMessage(content=\"I've received your project requirements. I'll now generate user stories based on these requirements.\", additional_kwargs={}, response_metadata={}, id='f977fc5f-edad-498d-bcdc-7795465e763b'), AIMessage(content=\"Based on your requirements, I've generated 4 user stories. Please review these user stories and provide feedback or type 'Approved' if you're satisfied.\", additional_kwargs={}, response_metadata={}, id='db5c11e1-ae41-41a6-a00e-667dc6316857'), HumanMessage(content='Add user story to buy insurance from the app.', additional_kwargs={}, response_metadata={}, id='ad9b63db-06fc-4493-bdd9-87f0a7c2d1ea'), AIMessage(content=\"I've received your feedback. I'll revise the user stories accordingly.\", additional_kwargs={}, response_metadata={}, id='44387b42-df69-4263-b99b-b620f953147f'), HumanMessage(content='Add user story to buy insurance from the app.', additional_kwargs={}, response_metadata={}, id='e2d84fcc-0d21-47d2-906d-37a691643694'), HumanMessage(content='Add user story to buy insurance from the app.', additional_kwargs={}, response_metadata={}, id='547e217e-f15e-4e52-9cdc-0c2be38a740f')]}\n",
      "{'project_requirements': {'title': 'PayMate: Your Ultimate Payment Companion', 'description': 'PayMate is a comprehensive payment application that allows users to perform seamless transactions using the Unified Payments Interface (UPI). Beyond basic payments, PayMate offers features such as quick loans, bill payments, and a user-friendly interface, making it a one-stop solution for all financial needs.', 'requirements': ['Implement multi-factor authentication, including biometrics (fingerprint and facial recognition) and MPIN, to secure user accounts.\\u200b', 'Enable users to link multiple bank accounts and perform instant fund transfers using UPI.', 'Provide users with access to instant micro-loans with minimal documentation.', 'Allow users to pay utility bills such as electricity, water, gas, and broadband directly through the app.']}, 'status': 'feedback', 'revised_count': 0, 'user_stories': [{'story_id': 'US-001', 'title': 'Secure Login with Multi-Factor Authentication', 'description': 'As a user, I want to securely access my account using multiple authentication methods, so that my financial data remains protected.', 'acceptance_criteria': ['User can log in using fingerprint recognition.', 'User can log in using facial recognition.', 'User can log in using MPIN.', 'System shows an error message for failed authentication attempts.']}, {'story_id': 'US-002', 'title': 'Link and Manage Multiple Bank Accounts', 'description': 'As a user, I want to link multiple bank accounts to my PayMate profile, so that I can perform seamless fund transfers.', 'acceptance_criteria': ['User can add multiple bank accounts to their profile.', 'User can select a default bank account for transactions.', 'User can transfer funds between linked bank accounts.', 'Balance of linked accounts is updated in real-time.']}, {'story_id': 'US-003', 'title': 'Access Instant Micro-Loans', 'description': 'As a user, I want to apply for instant micro-loans with minimal documentation, so that I can address urgent financial needs.', 'acceptance_criteria': ['User can apply for a micro-loan through the app.', 'System processes the loan application in real-time.', \"Approved loan amount is disbursed instantly to the user's bank account.\", 'User can view loan details including amount, tenure, and repayment terms.']}, {'story_id': 'US-004', 'title': 'Pay Utility Bills Directly', 'description': 'As a user, I want to pay my utility bills directly through the app, so that I can manage all my payments in one place.', 'acceptance_criteria': ['User can add utility billers (e.g., electricity, water, gas, broadband).', 'User can pay bills using their linked bank account or UPI.', 'User can view a history of past bill payments.', 'System confirms the successful payment with a notification.']}], 'user_stories_messages': [HumanMessage(content=\"{'title': 'PayMate: Your Ultimate Payment Companion', 'description': 'PayMate is a comprehensive payment application that allows users to perform seamless transactions using the Unified Payments Interface (UPI). Beyond basic payments, PayMate offers features such as quick loans, bill payments, and a user-friendly interface, making it a one-stop solution for all financial needs.', 'requirements': ['Implement multi-factor authentication, including biometrics (fingerprint and facial recognition) and MPIN, to secure user accounts.\\\\u200b', 'Enable users to link multiple bank accounts and perform instant fund transfers using UPI.', 'Provide users with access to instant micro-loans with minimal documentation.', 'Allow users to pay utility bills such as electricity, water, gas, and broadband directly through the app.']}\", additional_kwargs={}, response_metadata={}, id='c09c2573-7c14-4fc2-8111-368f1fd4b45f'), AIMessage(content=\"I've received your project requirements. I'll now generate user stories based on these requirements.\", additional_kwargs={}, response_metadata={}, id='f977fc5f-edad-498d-bcdc-7795465e763b'), AIMessage(content=\"Based on your requirements, I've generated 4 user stories. Please review these user stories and provide feedback or type 'Approved' if you're satisfied.\", additional_kwargs={}, response_metadata={}, id='db5c11e1-ae41-41a6-a00e-667dc6316857'), HumanMessage(content='Add user story to buy insurance from the app.', additional_kwargs={}, response_metadata={}, id='ad9b63db-06fc-4493-bdd9-87f0a7c2d1ea'), AIMessage(content=\"I've received your feedback. I'll revise the user stories accordingly.\", additional_kwargs={}, response_metadata={}, id='44387b42-df69-4263-b99b-b620f953147f'), HumanMessage(content='Add user story to buy insurance from the app.', additional_kwargs={}, response_metadata={}, id='e2d84fcc-0d21-47d2-906d-37a691643694'), HumanMessage(content='Add user story to buy insurance from the app.', additional_kwargs={}, response_metadata={}, id='547e217e-f15e-4e52-9cdc-0c2be38a740f')]}\n",
      "In revised_user_stories\n",
      "state :  {'project_requirements': {'title': 'PayMate: Your Ultimate Payment Companion', 'description': 'PayMate is a comprehensive payment application that allows users to perform seamless transactions using the Unified Payments Interface (UPI). Beyond basic payments, PayMate offers features such as quick loans, bill payments, and a user-friendly interface, making it a one-stop solution for all financial needs.', 'requirements': ['Implement multi-factor authentication, including biometrics (fingerprint and facial recognition) and MPIN, to secure user accounts.\\u200b', 'Enable users to link multiple bank accounts and perform instant fund transfers using UPI.', 'Provide users with access to instant micro-loans with minimal documentation.', 'Allow users to pay utility bills such as electricity, water, gas, and broadband directly through the app.']}, 'status': 'feedback', 'revised_count': 0, 'user_stories': [{'story_id': 'US-001', 'title': 'Secure Login with Multi-Factor Authentication', 'description': 'As a user, I want to securely access my account using multiple authentication methods, so that my financial data remains protected.', 'acceptance_criteria': ['User can log in using fingerprint recognition.', 'User can log in using facial recognition.', 'User can log in using MPIN.', 'System shows an error message for failed authentication attempts.']}, {'story_id': 'US-002', 'title': 'Link and Manage Multiple Bank Accounts', 'description': 'As a user, I want to link multiple bank accounts to my PayMate profile, so that I can perform seamless fund transfers.', 'acceptance_criteria': ['User can add multiple bank accounts to their profile.', 'User can select a default bank account for transactions.', 'User can transfer funds between linked bank accounts.', 'Balance of linked accounts is updated in real-time.']}, {'story_id': 'US-003', 'title': 'Access Instant Micro-Loans', 'description': 'As a user, I want to apply for instant micro-loans with minimal documentation, so that I can address urgent financial needs.', 'acceptance_criteria': ['User can apply for a micro-loan through the app.', 'System processes the loan application in real-time.', \"Approved loan amount is disbursed instantly to the user's bank account.\", 'User can view loan details including amount, tenure, and repayment terms.']}, {'story_id': 'US-004', 'title': 'Pay Utility Bills Directly', 'description': 'As a user, I want to pay my utility bills directly through the app, so that I can manage all my payments in one place.', 'acceptance_criteria': ['User can add utility billers (e.g., electricity, water, gas, broadband).', 'User can pay bills using their linked bank account or UPI.', 'User can view a history of past bill payments.', 'System confirms the successful payment with a notification.']}], 'user_stories_messages': [HumanMessage(content=\"{'title': 'PayMate: Your Ultimate Payment Companion', 'description': 'PayMate is a comprehensive payment application that allows users to perform seamless transactions using the Unified Payments Interface (UPI). Beyond basic payments, PayMate offers features such as quick loans, bill payments, and a user-friendly interface, making it a one-stop solution for all financial needs.', 'requirements': ['Implement multi-factor authentication, including biometrics (fingerprint and facial recognition) and MPIN, to secure user accounts.\\\\u200b', 'Enable users to link multiple bank accounts and perform instant fund transfers using UPI.', 'Provide users with access to instant micro-loans with minimal documentation.', 'Allow users to pay utility bills such as electricity, water, gas, and broadband directly through the app.']}\", additional_kwargs={}, response_metadata={}, id='c09c2573-7c14-4fc2-8111-368f1fd4b45f'), AIMessage(content=\"I've received your project requirements. I'll now generate user stories based on these requirements.\", additional_kwargs={}, response_metadata={}, id='f977fc5f-edad-498d-bcdc-7795465e763b'), AIMessage(content=\"Based on your requirements, I've generated 4 user stories. Please review these user stories and provide feedback or type 'Approved' if you're satisfied.\", additional_kwargs={}, response_metadata={}, id='db5c11e1-ae41-41a6-a00e-667dc6316857'), HumanMessage(content='Add user story to buy insurance from the app.', additional_kwargs={}, response_metadata={}, id='ad9b63db-06fc-4493-bdd9-87f0a7c2d1ea'), AIMessage(content=\"I've received your feedback. I'll revise the user stories accordingly.\", additional_kwargs={}, response_metadata={}, id='44387b42-df69-4263-b99b-b620f953147f'), HumanMessage(content='Add user story to buy insurance from the app.', additional_kwargs={}, response_metadata={}, id='e2d84fcc-0d21-47d2-906d-37a691643694'), HumanMessage(content='Add user story to buy insurance from the app.', additional_kwargs={}, response_metadata={}, id='547e217e-f15e-4e52-9cdc-0c2be38a740f')]}\n",
      "revised_count :  1\n",
      "{'project_requirements': {'title': 'PayMate: Your Ultimate Payment Companion', 'description': 'PayMate is a comprehensive payment application that allows users to perform seamless transactions using the Unified Payments Interface (UPI). Beyond basic payments, PayMate offers features such as quick loans, bill payments, and a user-friendly interface, making it a one-stop solution for all financial needs.', 'requirements': ['Implement multi-factor authentication, including biometrics (fingerprint and facial recognition) and MPIN, to secure user accounts.\\u200b', 'Enable users to link multiple bank accounts and perform instant fund transfers using UPI.', 'Provide users with access to instant micro-loans with minimal documentation.', 'Allow users to pay utility bills such as electricity, water, gas, and broadband directly through the app.']}, 'status': 'pending_approval', 'revised_count': 1, 'user_stories': [{'story_id': 'US-001', 'title': 'Secure Login with Multi-Factor Authentication', 'description': 'As a user, I want to securely access my account using multiple authentication methods, so that my financial data remains protected.', 'acceptance_criteria': ['User can log in using fingerprint recognition.', 'User can log in using facial recognition.', 'User can log in using MPIN.', 'System shows an error message for failed authentication attempts.']}, {'story_id': 'US-002', 'title': 'Link and Manage Multiple Bank Accounts', 'description': 'As a user, I want to link multiple bank accounts to my PayMate profile, so that I can perform seamless fund transfers.', 'acceptance_criteria': ['User can add multiple bank accounts to their profile.', 'User can select a default bank account for transactions.', 'User can transfer funds between linked bank accounts.', 'Balance of linked accounts is updated in real-time.']}, {'story_id': 'US-003', 'title': 'Access Instant Micro-Loans', 'description': 'As a user, I want to apply for instant micro-loans with minimal documentation, so that I can address urgent financial needs.', 'acceptance_criteria': ['User can apply for a micro-loan through the app.', 'System processes the loan application in real-time.', \"Approved loan amount is disbursed instantly to the user's bank account.\", 'User can view loan details including amount, tenure, and repayment terms.']}, {'story_id': 'US-004', 'title': 'Pay Utility Bills Directly', 'description': 'As a user, I want to pay my utility bills directly through the app, so that I can manage all my payments in one place.', 'acceptance_criteria': ['User can add utility billers (e.g., electricity, water, gas, broadband).', 'User can pay bills using their linked bank account or UPI.', 'User can view a history of past bill payments.', 'System confirms the successful payment with a notification.']}, {'story_id': 'US-005', 'title': 'Purchase Insurance Policies Directly', 'description': 'As a user, I want to purchase various insurance policies through the app, so that I can protect my financial well-being.', 'acceptance_criteria': ['User can browse and select from various insurance policy options (e.g., health, life, auto, home).', 'User can view detailed policy information including coverage, premiums, and terms.', 'User can purchase the selected policy and receive a confirmation with policy details.', \"System provides a summary of purchased policies in the user's profile.\"]}], 'user_stories_messages': [HumanMessage(content=\"{'title': 'PayMate: Your Ultimate Payment Companion', 'description': 'PayMate is a comprehensive payment application that allows users to perform seamless transactions using the Unified Payments Interface (UPI). Beyond basic payments, PayMate offers features such as quick loans, bill payments, and a user-friendly interface, making it a one-stop solution for all financial needs.', 'requirements': ['Implement multi-factor authentication, including biometrics (fingerprint and facial recognition) and MPIN, to secure user accounts.\\\\u200b', 'Enable users to link multiple bank accounts and perform instant fund transfers using UPI.', 'Provide users with access to instant micro-loans with minimal documentation.', 'Allow users to pay utility bills such as electricity, water, gas, and broadband directly through the app.']}\", additional_kwargs={}, response_metadata={}, id='c09c2573-7c14-4fc2-8111-368f1fd4b45f'), AIMessage(content=\"I've received your project requirements. I'll now generate user stories based on these requirements.\", additional_kwargs={}, response_metadata={}, id='f977fc5f-edad-498d-bcdc-7795465e763b'), AIMessage(content=\"Based on your requirements, I've generated 4 user stories. Please review these user stories and provide feedback or type 'Approved' if you're satisfied.\", additional_kwargs={}, response_metadata={}, id='db5c11e1-ae41-41a6-a00e-667dc6316857'), HumanMessage(content='Add user story to buy insurance from the app.', additional_kwargs={}, response_metadata={}, id='ad9b63db-06fc-4493-bdd9-87f0a7c2d1ea'), AIMessage(content=\"I've received your feedback. I'll revise the user stories accordingly.\", additional_kwargs={}, response_metadata={}, id='44387b42-df69-4263-b99b-b620f953147f'), HumanMessage(content='Add user story to buy insurance from the app.', additional_kwargs={}, response_metadata={}, id='e2d84fcc-0d21-47d2-906d-37a691643694'), HumanMessage(content='Add user story to buy insurance from the app.', additional_kwargs={}, response_metadata={}, id='547e217e-f15e-4e52-9cdc-0c2be38a740f'), AIMessage(content=\"I've revised the user stories based on your feedback.\\n\\nPlease review these updated user stories and provide additional feedback or type 'Approved' if you're satisfied.\", additional_kwargs={}, response_metadata={}, id='2cf2ffa1-ae7e-40ef-86d8-f88101eb173a')]}\n"
     ]
    }
   ],
   "source": [
    "user_story_workflow.update_state(thread, { \"user_stories_messages\" : HumanMessage(content=f'{user_feedback}')})\n",
    "\n",
    "# Continue the graph execution\n",
    "for event in user_story_workflow.stream(None, thread, stream_mode=\"values\"):\n",
    "    print(event)"
   ]
  },
  {
   "cell_type": "code",
   "execution_count": 53,
   "metadata": {},
   "outputs": [
    {
     "data": {
      "text/plain": [
       "{'project_requirements': {'title': 'PayMate: Your Ultimate Payment Companion',\n",
       "  'description': 'PayMate is a comprehensive payment application that allows users to perform seamless transactions using the Unified Payments Interface (UPI). Beyond basic payments, PayMate offers features such as quick loans, bill payments, and a user-friendly interface, making it a one-stop solution for all financial needs.',\n",
       "  'requirements': ['Implement multi-factor authentication, including biometrics (fingerprint and facial recognition) and MPIN, to secure user accounts.\\u200b',\n",
       "   'Enable users to link multiple bank accounts and perform instant fund transfers using UPI.',\n",
       "   'Provide users with access to instant micro-loans with minimal documentation.',\n",
       "   'Allow users to pay utility bills such as electricity, water, gas, and broadband directly through the app.']},\n",
       " 'status': 'pending_approval',\n",
       " 'revised_count': 1,\n",
       " 'user_stories': [{'story_id': 'US-001',\n",
       "   'title': 'Secure Login with Multi-Factor Authentication',\n",
       "   'description': 'As a user, I want to securely access my account using multiple authentication methods, so that my financial data remains protected.',\n",
       "   'acceptance_criteria': ['User can log in using fingerprint recognition.',\n",
       "    'User can log in using facial recognition.',\n",
       "    'User can log in using MPIN.',\n",
       "    'System shows an error message for failed authentication attempts.']},\n",
       "  {'story_id': 'US-002',\n",
       "   'title': 'Link and Manage Multiple Bank Accounts',\n",
       "   'description': 'As a user, I want to link multiple bank accounts to my PayMate profile, so that I can perform seamless fund transfers.',\n",
       "   'acceptance_criteria': ['User can add multiple bank accounts to their profile.',\n",
       "    'User can select a default bank account for transactions.',\n",
       "    'User can transfer funds between linked bank accounts.',\n",
       "    'Balance of linked accounts is updated in real-time.']},\n",
       "  {'story_id': 'US-003',\n",
       "   'title': 'Access Instant Micro-Loans',\n",
       "   'description': 'As a user, I want to apply for instant micro-loans with minimal documentation, so that I can address urgent financial needs.',\n",
       "   'acceptance_criteria': ['User can apply for a micro-loan through the app.',\n",
       "    'System processes the loan application in real-time.',\n",
       "    \"Approved loan amount is disbursed instantly to the user's bank account.\",\n",
       "    'User can view loan details including amount, tenure, and repayment terms.']},\n",
       "  {'story_id': 'US-004',\n",
       "   'title': 'Pay Utility Bills Directly',\n",
       "   'description': 'As a user, I want to pay my utility bills directly through the app, so that I can manage all my payments in one place.',\n",
       "   'acceptance_criteria': ['User can add utility billers (e.g., electricity, water, gas, broadband).',\n",
       "    'User can pay bills using their linked bank account or UPI.',\n",
       "    'User can view a history of past bill payments.',\n",
       "    'System confirms the successful payment with a notification.']},\n",
       "  {'story_id': 'US-005',\n",
       "   'title': 'Purchase Insurance Policies Directly',\n",
       "   'description': 'As a user, I want to purchase various insurance policies through the app, so that I can protect my financial well-being.',\n",
       "   'acceptance_criteria': ['User can browse and select from various insurance policy options (e.g., health, life, auto, home).',\n",
       "    'User can view detailed policy information including coverage, premiums, and terms.',\n",
       "    'User can purchase the selected policy and receive a confirmation with policy details.',\n",
       "    \"System provides a summary of purchased policies in the user's profile.\"]}],\n",
       " 'user_stories_messages': [HumanMessage(content=\"{'title': 'PayMate: Your Ultimate Payment Companion', 'description': 'PayMate is a comprehensive payment application that allows users to perform seamless transactions using the Unified Payments Interface (UPI). Beyond basic payments, PayMate offers features such as quick loans, bill payments, and a user-friendly interface, making it a one-stop solution for all financial needs.', 'requirements': ['Implement multi-factor authentication, including biometrics (fingerprint and facial recognition) and MPIN, to secure user accounts.\\\\u200b', 'Enable users to link multiple bank accounts and perform instant fund transfers using UPI.', 'Provide users with access to instant micro-loans with minimal documentation.', 'Allow users to pay utility bills such as electricity, water, gas, and broadband directly through the app.']}\", additional_kwargs={}, response_metadata={}, id='c09c2573-7c14-4fc2-8111-368f1fd4b45f'),\n",
       "  AIMessage(content=\"I've received your project requirements. I'll now generate user stories based on these requirements.\", additional_kwargs={}, response_metadata={}, id='f977fc5f-edad-498d-bcdc-7795465e763b'),\n",
       "  AIMessage(content=\"Based on your requirements, I've generated 4 user stories. Please review these user stories and provide feedback or type 'Approved' if you're satisfied.\", additional_kwargs={}, response_metadata={}, id='db5c11e1-ae41-41a6-a00e-667dc6316857'),\n",
       "  HumanMessage(content='Add user story to buy insurance from the app.', additional_kwargs={}, response_metadata={}, id='ad9b63db-06fc-4493-bdd9-87f0a7c2d1ea'),\n",
       "  AIMessage(content=\"I've received your feedback. I'll revise the user stories accordingly.\", additional_kwargs={}, response_metadata={}, id='44387b42-df69-4263-b99b-b620f953147f'),\n",
       "  HumanMessage(content='Add user story to buy insurance from the app.', additional_kwargs={}, response_metadata={}, id='e2d84fcc-0d21-47d2-906d-37a691643694'),\n",
       "  HumanMessage(content='Add user story to buy insurance from the app.', additional_kwargs={}, response_metadata={}, id='547e217e-f15e-4e52-9cdc-0c2be38a740f'),\n",
       "  AIMessage(content=\"I've revised the user stories based on your feedback.\\n\\nPlease review these updated user stories and provide additional feedback or type 'Approved' if you're satisfied.\", additional_kwargs={}, response_metadata={}, id='2cf2ffa1-ae7e-40ef-86d8-f88101eb173a')]}"
      ]
     },
     "execution_count": 53,
     "metadata": {},
     "output_type": "execute_result"
    }
   ],
   "source": [
    "{'project_requirements': {'title': 'PayMate: Your Ultimate Payment Companion', 'description': 'PayMate is a comprehensive payment application that allows users to perform seamless transactions using the Unified Payments Interface (UPI). Beyond basic payments, PayMate offers features such as quick loans, bill payments, and a user-friendly interface, making it a one-stop solution for all financial needs.', 'requirements': ['Implement multi-factor authentication, including biometrics (fingerprint and facial recognition) and MPIN, to secure user accounts.\\u200b', 'Enable users to link multiple bank accounts and perform instant fund transfers using UPI.', 'Provide users with access to instant micro-loans with minimal documentation.', 'Allow users to pay utility bills such as electricity, water, gas, and broadband directly through the app.']}, 'status': 'pending_approval', 'revised_count': 1, 'user_stories': [{'story_id': 'US-001', 'title': 'Secure Login with Multi-Factor Authentication', 'description': 'As a user, I want to securely access my account using multiple authentication methods, so that my financial data remains protected.', 'acceptance_criteria': ['User can log in using fingerprint recognition.', 'User can log in using facial recognition.', 'User can log in using MPIN.', 'System shows an error message for failed authentication attempts.']}, {'story_id': 'US-002', 'title': 'Link and Manage Multiple Bank Accounts', 'description': 'As a user, I want to link multiple bank accounts to my PayMate profile, so that I can perform seamless fund transfers.', 'acceptance_criteria': ['User can add multiple bank accounts to their profile.', 'User can select a default bank account for transactions.', 'User can transfer funds between linked bank accounts.', 'Balance of linked accounts is updated in real-time.']}, {'story_id': 'US-003', 'title': 'Access Instant Micro-Loans', 'description': 'As a user, I want to apply for instant micro-loans with minimal documentation, so that I can address urgent financial needs.', 'acceptance_criteria': ['User can apply for a micro-loan through the app.', 'System processes the loan application in real-time.', \"Approved loan amount is disbursed instantly to the user's bank account.\", 'User can view loan details including amount, tenure, and repayment terms.']}, {'story_id': 'US-004', 'title': 'Pay Utility Bills Directly', 'description': 'As a user, I want to pay my utility bills directly through the app, so that I can manage all my payments in one place.', 'acceptance_criteria': ['User can add utility billers (e.g., electricity, water, gas, broadband).', 'User can pay bills using their linked bank account or UPI.', 'User can view a history of past bill payments.', 'System confirms the successful payment with a notification.']}, {'story_id': 'US-005', 'title': 'Purchase Insurance Policies Directly', 'description': 'As a user, I want to purchase various insurance policies through the app, so that I can protect my financial well-being.', 'acceptance_criteria': ['User can browse and select from various insurance policy options (e.g., health, life, auto, home).', 'User can view detailed policy information including coverage, premiums, and terms.', 'User can purchase the selected policy and receive a confirmation with policy details.', \"System provides a summary of purchased policies in the user's profile.\"]}], 'user_stories_messages': [HumanMessage(content=\"{'title': 'PayMate: Your Ultimate Payment Companion', 'description': 'PayMate is a comprehensive payment application that allows users to perform seamless transactions using the Unified Payments Interface (UPI). Beyond basic payments, PayMate offers features such as quick loans, bill payments, and a user-friendly interface, making it a one-stop solution for all financial needs.', 'requirements': ['Implement multi-factor authentication, including biometrics (fingerprint and facial recognition) and MPIN, to secure user accounts.\\\\u200b', 'Enable users to link multiple bank accounts and perform instant fund transfers using UPI.', 'Provide users with access to instant micro-loans with minimal documentation.', 'Allow users to pay utility bills such as electricity, water, gas, and broadband directly through the app.']}\", additional_kwargs={}, response_metadata={}, id='c09c2573-7c14-4fc2-8111-368f1fd4b45f'), AIMessage(content=\"I've received your project requirements. I'll now generate user stories based on these requirements.\", additional_kwargs={}, response_metadata={}, id='f977fc5f-edad-498d-bcdc-7795465e763b'), AIMessage(content=\"Based on your requirements, I've generated 4 user stories. Please review these user stories and provide feedback or type 'Approved' if you're satisfied.\", additional_kwargs={}, response_metadata={}, id='db5c11e1-ae41-41a6-a00e-667dc6316857'), HumanMessage(content='Add user story to buy insurance from the app.', additional_kwargs={}, response_metadata={}, id='ad9b63db-06fc-4493-bdd9-87f0a7c2d1ea'), AIMessage(content=\"I've received your feedback. I'll revise the user stories accordingly.\", additional_kwargs={}, response_metadata={}, id='44387b42-df69-4263-b99b-b620f953147f'), HumanMessage(content='Add user story to buy insurance from the app.', additional_kwargs={}, response_metadata={}, id='e2d84fcc-0d21-47d2-906d-37a691643694'), HumanMessage(content='Add user story to buy insurance from the app.', additional_kwargs={}, response_metadata={}, id='547e217e-f15e-4e52-9cdc-0c2be38a740f'), AIMessage(content=\"I've revised the user stories based on your feedback.\\n\\nPlease review these updated user stories and provide additional feedback or type 'Approved' if you're satisfied.\", additional_kwargs={}, response_metadata={}, id='2cf2ffa1-ae7e-40ef-86d8-f88101eb173a')]}\n"
   ]
  },
  {
   "cell_type": "code",
   "execution_count": 54,
   "metadata": {},
   "outputs": [
    {
     "name": "stdout",
     "output_type": "stream",
     "text": [
      "{'project_requirements': {'title': 'PayMate: Your Ultimate Payment Companion', 'description': 'PayMate is a comprehensive payment application that allows users to perform seamless transactions using the Unified Payments Interface (UPI). Beyond basic payments, PayMate offers features such as quick loans, bill payments, and a user-friendly interface, making it a one-stop solution for all financial needs.', 'requirements': ['Implement multi-factor authentication, including biometrics (fingerprint and facial recognition) and MPIN, to secure user accounts.\\u200b', 'Enable users to link multiple bank accounts and perform instant fund transfers using UPI.', 'Provide users with access to instant micro-loans with minimal documentation.', 'Allow users to pay utility bills such as electricity, water, gas, and broadband directly through the app.']}, 'status': 'pending_approval', 'revised_count': 1, 'user_stories': [{'story_id': 'US-001', 'title': 'Secure Login with Multi-Factor Authentication', 'description': 'As a user, I want to securely access my account using multiple authentication methods, so that my financial data remains protected.', 'acceptance_criteria': ['User can log in using fingerprint recognition.', 'User can log in using facial recognition.', 'User can log in using MPIN.', 'System shows an error message for failed authentication attempts.']}, {'story_id': 'US-002', 'title': 'Link and Manage Multiple Bank Accounts', 'description': 'As a user, I want to link multiple bank accounts to my PayMate profile, so that I can perform seamless fund transfers.', 'acceptance_criteria': ['User can add multiple bank accounts to their profile.', 'User can select a default bank account for transactions.', 'User can transfer funds between linked bank accounts.', 'Balance of linked accounts is updated in real-time.']}, {'story_id': 'US-003', 'title': 'Access Instant Micro-Loans', 'description': 'As a user, I want to apply for instant micro-loans with minimal documentation, so that I can address urgent financial needs.', 'acceptance_criteria': ['User can apply for a micro-loan through the app.', 'System processes the loan application in real-time.', \"Approved loan amount is disbursed instantly to the user's bank account.\", 'User can view loan details including amount, tenure, and repayment terms.']}, {'story_id': 'US-004', 'title': 'Pay Utility Bills Directly', 'description': 'As a user, I want to pay my utility bills directly through the app, so that I can manage all my payments in one place.', 'acceptance_criteria': ['User can add utility billers (e.g., electricity, water, gas, broadband).', 'User can pay bills using their linked bank account or UPI.', 'User can view a history of past bill payments.', 'System confirms the successful payment with a notification.']}, {'story_id': 'US-005', 'title': 'Purchase Insurance Policies Directly', 'description': 'As a user, I want to purchase various insurance policies through the app, so that I can protect my financial well-being.', 'acceptance_criteria': ['User can browse and select from various insurance policy options (e.g., health, life, auto, home).', 'User can view detailed policy information including coverage, premiums, and terms.', 'User can purchase the selected policy and receive a confirmation with policy details.', \"System provides a summary of purchased policies in the user's profile.\"]}], 'user_stories_messages': [HumanMessage(content=\"{'title': 'PayMate: Your Ultimate Payment Companion', 'description': 'PayMate is a comprehensive payment application that allows users to perform seamless transactions using the Unified Payments Interface (UPI). Beyond basic payments, PayMate offers features such as quick loans, bill payments, and a user-friendly interface, making it a one-stop solution for all financial needs.', 'requirements': ['Implement multi-factor authentication, including biometrics (fingerprint and facial recognition) and MPIN, to secure user accounts.\\\\u200b', 'Enable users to link multiple bank accounts and perform instant fund transfers using UPI.', 'Provide users with access to instant micro-loans with minimal documentation.', 'Allow users to pay utility bills such as electricity, water, gas, and broadband directly through the app.']}\", additional_kwargs={}, response_metadata={}, id='c09c2573-7c14-4fc2-8111-368f1fd4b45f'), AIMessage(content=\"I've received your project requirements. I'll now generate user stories based on these requirements.\", additional_kwargs={}, response_metadata={}, id='f977fc5f-edad-498d-bcdc-7795465e763b'), AIMessage(content=\"Based on your requirements, I've generated 4 user stories. Please review these user stories and provide feedback or type 'Approved' if you're satisfied.\", additional_kwargs={}, response_metadata={}, id='db5c11e1-ae41-41a6-a00e-667dc6316857'), HumanMessage(content='Add user story to buy insurance from the app.', additional_kwargs={}, response_metadata={}, id='ad9b63db-06fc-4493-bdd9-87f0a7c2d1ea'), AIMessage(content=\"I've received your feedback. I'll revise the user stories accordingly.\", additional_kwargs={}, response_metadata={}, id='44387b42-df69-4263-b99b-b620f953147f'), HumanMessage(content='Add user story to buy insurance from the app.', additional_kwargs={}, response_metadata={}, id='e2d84fcc-0d21-47d2-906d-37a691643694'), HumanMessage(content='Add user story to buy insurance from the app.', additional_kwargs={}, response_metadata={}, id='547e217e-f15e-4e52-9cdc-0c2be38a740f'), AIMessage(content=\"I've revised the user stories based on your feedback.\\n\\nPlease review these updated user stories and provide additional feedback or type 'Approved' if you're satisfied.\", additional_kwargs={}, response_metadata={}, id='2cf2ffa1-ae7e-40ef-86d8-f88101eb173a'), HumanMessage(content='Approved', additional_kwargs={}, response_metadata={}, id='a972fa09-be51-4206-b7a2-4840df671fcb')]}\n",
      "In user_stories_review\n",
      "user_review :  approved\n",
      "In should_revise_user_stories\n",
      "state :  {'project_requirements': {'title': 'PayMate: Your Ultimate Payment Companion', 'description': 'PayMate is a comprehensive payment application that allows users to perform seamless transactions using the Unified Payments Interface (UPI). Beyond basic payments, PayMate offers features such as quick loans, bill payments, and a user-friendly interface, making it a one-stop solution for all financial needs.', 'requirements': ['Implement multi-factor authentication, including biometrics (fingerprint and facial recognition) and MPIN, to secure user accounts.\\u200b', 'Enable users to link multiple bank accounts and perform instant fund transfers using UPI.', 'Provide users with access to instant micro-loans with minimal documentation.', 'Allow users to pay utility bills such as electricity, water, gas, and broadband directly through the app.']}, 'status': 'completed', 'revised_count': 1, 'user_stories': [{'story_id': 'US-001', 'title': 'Secure Login with Multi-Factor Authentication', 'description': 'As a user, I want to securely access my account using multiple authentication methods, so that my financial data remains protected.', 'acceptance_criteria': ['User can log in using fingerprint recognition.', 'User can log in using facial recognition.', 'User can log in using MPIN.', 'System shows an error message for failed authentication attempts.']}, {'story_id': 'US-002', 'title': 'Link and Manage Multiple Bank Accounts', 'description': 'As a user, I want to link multiple bank accounts to my PayMate profile, so that I can perform seamless fund transfers.', 'acceptance_criteria': ['User can add multiple bank accounts to their profile.', 'User can select a default bank account for transactions.', 'User can transfer funds between linked bank accounts.', 'Balance of linked accounts is updated in real-time.']}, {'story_id': 'US-003', 'title': 'Access Instant Micro-Loans', 'description': 'As a user, I want to apply for instant micro-loans with minimal documentation, so that I can address urgent financial needs.', 'acceptance_criteria': ['User can apply for a micro-loan through the app.', 'System processes the loan application in real-time.', \"Approved loan amount is disbursed instantly to the user's bank account.\", 'User can view loan details including amount, tenure, and repayment terms.']}, {'story_id': 'US-004', 'title': 'Pay Utility Bills Directly', 'description': 'As a user, I want to pay my utility bills directly through the app, so that I can manage all my payments in one place.', 'acceptance_criteria': ['User can add utility billers (e.g., electricity, water, gas, broadband).', 'User can pay bills using their linked bank account or UPI.', 'User can view a history of past bill payments.', 'System confirms the successful payment with a notification.']}, {'story_id': 'US-005', 'title': 'Purchase Insurance Policies Directly', 'description': 'As a user, I want to purchase various insurance policies through the app, so that I can protect my financial well-being.', 'acceptance_criteria': ['User can browse and select from various insurance policy options (e.g., health, life, auto, home).', 'User can view detailed policy information including coverage, premiums, and terms.', 'User can purchase the selected policy and receive a confirmation with policy details.', \"System provides a summary of purchased policies in the user's profile.\"]}], 'user_stories_messages': [HumanMessage(content=\"{'title': 'PayMate: Your Ultimate Payment Companion', 'description': 'PayMate is a comprehensive payment application that allows users to perform seamless transactions using the Unified Payments Interface (UPI). Beyond basic payments, PayMate offers features such as quick loans, bill payments, and a user-friendly interface, making it a one-stop solution for all financial needs.', 'requirements': ['Implement multi-factor authentication, including biometrics (fingerprint and facial recognition) and MPIN, to secure user accounts.\\\\u200b', 'Enable users to link multiple bank accounts and perform instant fund transfers using UPI.', 'Provide users with access to instant micro-loans with minimal documentation.', 'Allow users to pay utility bills such as electricity, water, gas, and broadband directly through the app.']}\", additional_kwargs={}, response_metadata={}, id='c09c2573-7c14-4fc2-8111-368f1fd4b45f'), AIMessage(content=\"I've received your project requirements. I'll now generate user stories based on these requirements.\", additional_kwargs={}, response_metadata={}, id='f977fc5f-edad-498d-bcdc-7795465e763b'), AIMessage(content=\"Based on your requirements, I've generated 4 user stories. Please review these user stories and provide feedback or type 'Approved' if you're satisfied.\", additional_kwargs={}, response_metadata={}, id='db5c11e1-ae41-41a6-a00e-667dc6316857'), HumanMessage(content='Add user story to buy insurance from the app.', additional_kwargs={}, response_metadata={}, id='ad9b63db-06fc-4493-bdd9-87f0a7c2d1ea'), AIMessage(content=\"I've received your feedback. I'll revise the user stories accordingly.\", additional_kwargs={}, response_metadata={}, id='44387b42-df69-4263-b99b-b620f953147f'), HumanMessage(content='Add user story to buy insurance from the app.', additional_kwargs={}, response_metadata={}, id='e2d84fcc-0d21-47d2-906d-37a691643694'), HumanMessage(content='Add user story to buy insurance from the app.', additional_kwargs={}, response_metadata={}, id='547e217e-f15e-4e52-9cdc-0c2be38a740f'), AIMessage(content=\"I've revised the user stories based on your feedback.\\n\\nPlease review these updated user stories and provide additional feedback or type 'Approved' if you're satisfied.\", additional_kwargs={}, response_metadata={}, id='2cf2ffa1-ae7e-40ef-86d8-f88101eb173a'), HumanMessage(content='Approved', additional_kwargs={}, response_metadata={}, id='a972fa09-be51-4206-b7a2-4840df671fcb'), AIMessage(content='Great! Your user stories have been finalized. You can now proceed with your design process.', additional_kwargs={}, response_metadata={}, id='abe32885-d480-458c-bda1-4b5212ff8f83')]}\n",
      "{'project_requirements': {'title': 'PayMate: Your Ultimate Payment Companion', 'description': 'PayMate is a comprehensive payment application that allows users to perform seamless transactions using the Unified Payments Interface (UPI). Beyond basic payments, PayMate offers features such as quick loans, bill payments, and a user-friendly interface, making it a one-stop solution for all financial needs.', 'requirements': ['Implement multi-factor authentication, including biometrics (fingerprint and facial recognition) and MPIN, to secure user accounts.\\u200b', 'Enable users to link multiple bank accounts and perform instant fund transfers using UPI.', 'Provide users with access to instant micro-loans with minimal documentation.', 'Allow users to pay utility bills such as electricity, water, gas, and broadband directly through the app.']}, 'status': 'completed', 'revised_count': 1, 'user_stories': [{'story_id': 'US-001', 'title': 'Secure Login with Multi-Factor Authentication', 'description': 'As a user, I want to securely access my account using multiple authentication methods, so that my financial data remains protected.', 'acceptance_criteria': ['User can log in using fingerprint recognition.', 'User can log in using facial recognition.', 'User can log in using MPIN.', 'System shows an error message for failed authentication attempts.']}, {'story_id': 'US-002', 'title': 'Link and Manage Multiple Bank Accounts', 'description': 'As a user, I want to link multiple bank accounts to my PayMate profile, so that I can perform seamless fund transfers.', 'acceptance_criteria': ['User can add multiple bank accounts to their profile.', 'User can select a default bank account for transactions.', 'User can transfer funds between linked bank accounts.', 'Balance of linked accounts is updated in real-time.']}, {'story_id': 'US-003', 'title': 'Access Instant Micro-Loans', 'description': 'As a user, I want to apply for instant micro-loans with minimal documentation, so that I can address urgent financial needs.', 'acceptance_criteria': ['User can apply for a micro-loan through the app.', 'System processes the loan application in real-time.', \"Approved loan amount is disbursed instantly to the user's bank account.\", 'User can view loan details including amount, tenure, and repayment terms.']}, {'story_id': 'US-004', 'title': 'Pay Utility Bills Directly', 'description': 'As a user, I want to pay my utility bills directly through the app, so that I can manage all my payments in one place.', 'acceptance_criteria': ['User can add utility billers (e.g., electricity, water, gas, broadband).', 'User can pay bills using their linked bank account or UPI.', 'User can view a history of past bill payments.', 'System confirms the successful payment with a notification.']}, {'story_id': 'US-005', 'title': 'Purchase Insurance Policies Directly', 'description': 'As a user, I want to purchase various insurance policies through the app, so that I can protect my financial well-being.', 'acceptance_criteria': ['User can browse and select from various insurance policy options (e.g., health, life, auto, home).', 'User can view detailed policy information including coverage, premiums, and terms.', 'User can purchase the selected policy and receive a confirmation with policy details.', \"System provides a summary of purchased policies in the user's profile.\"]}], 'user_stories_messages': [HumanMessage(content=\"{'title': 'PayMate: Your Ultimate Payment Companion', 'description': 'PayMate is a comprehensive payment application that allows users to perform seamless transactions using the Unified Payments Interface (UPI). Beyond basic payments, PayMate offers features such as quick loans, bill payments, and a user-friendly interface, making it a one-stop solution for all financial needs.', 'requirements': ['Implement multi-factor authentication, including biometrics (fingerprint and facial recognition) and MPIN, to secure user accounts.\\\\u200b', 'Enable users to link multiple bank accounts and perform instant fund transfers using UPI.', 'Provide users with access to instant micro-loans with minimal documentation.', 'Allow users to pay utility bills such as electricity, water, gas, and broadband directly through the app.']}\", additional_kwargs={}, response_metadata={}, id='c09c2573-7c14-4fc2-8111-368f1fd4b45f'), AIMessage(content=\"I've received your project requirements. I'll now generate user stories based on these requirements.\", additional_kwargs={}, response_metadata={}, id='f977fc5f-edad-498d-bcdc-7795465e763b'), AIMessage(content=\"Based on your requirements, I've generated 4 user stories. Please review these user stories and provide feedback or type 'Approved' if you're satisfied.\", additional_kwargs={}, response_metadata={}, id='db5c11e1-ae41-41a6-a00e-667dc6316857'), HumanMessage(content='Add user story to buy insurance from the app.', additional_kwargs={}, response_metadata={}, id='ad9b63db-06fc-4493-bdd9-87f0a7c2d1ea'), AIMessage(content=\"I've received your feedback. I'll revise the user stories accordingly.\", additional_kwargs={}, response_metadata={}, id='44387b42-df69-4263-b99b-b620f953147f'), HumanMessage(content='Add user story to buy insurance from the app.', additional_kwargs={}, response_metadata={}, id='e2d84fcc-0d21-47d2-906d-37a691643694'), HumanMessage(content='Add user story to buy insurance from the app.', additional_kwargs={}, response_metadata={}, id='547e217e-f15e-4e52-9cdc-0c2be38a740f'), AIMessage(content=\"I've revised the user stories based on your feedback.\\n\\nPlease review these updated user stories and provide additional feedback or type 'Approved' if you're satisfied.\", additional_kwargs={}, response_metadata={}, id='2cf2ffa1-ae7e-40ef-86d8-f88101eb173a'), HumanMessage(content='Approved', additional_kwargs={}, response_metadata={}, id='a972fa09-be51-4206-b7a2-4840df671fcb'), AIMessage(content='Great! Your user stories have been finalized. You can now proceed with your design process.', additional_kwargs={}, response_metadata={}, id='abe32885-d480-458c-bda1-4b5212ff8f83')]}\n",
      "In revised_user_stories\n",
      "state :  {'project_requirements': {'title': 'PayMate: Your Ultimate Payment Companion', 'description': 'PayMate is a comprehensive payment application that allows users to perform seamless transactions using the Unified Payments Interface (UPI). Beyond basic payments, PayMate offers features such as quick loans, bill payments, and a user-friendly interface, making it a one-stop solution for all financial needs.', 'requirements': ['Implement multi-factor authentication, including biometrics (fingerprint and facial recognition) and MPIN, to secure user accounts.\\u200b', 'Enable users to link multiple bank accounts and perform instant fund transfers using UPI.', 'Provide users with access to instant micro-loans with minimal documentation.', 'Allow users to pay utility bills such as electricity, water, gas, and broadband directly through the app.']}, 'status': 'completed', 'revised_count': 1, 'user_stories': [{'story_id': 'US-001', 'title': 'Secure Login with Multi-Factor Authentication', 'description': 'As a user, I want to securely access my account using multiple authentication methods, so that my financial data remains protected.', 'acceptance_criteria': ['User can log in using fingerprint recognition.', 'User can log in using facial recognition.', 'User can log in using MPIN.', 'System shows an error message for failed authentication attempts.']}, {'story_id': 'US-002', 'title': 'Link and Manage Multiple Bank Accounts', 'description': 'As a user, I want to link multiple bank accounts to my PayMate profile, so that I can perform seamless fund transfers.', 'acceptance_criteria': ['User can add multiple bank accounts to their profile.', 'User can select a default bank account for transactions.', 'User can transfer funds between linked bank accounts.', 'Balance of linked accounts is updated in real-time.']}, {'story_id': 'US-003', 'title': 'Access Instant Micro-Loans', 'description': 'As a user, I want to apply for instant micro-loans with minimal documentation, so that I can address urgent financial needs.', 'acceptance_criteria': ['User can apply for a micro-loan through the app.', 'System processes the loan application in real-time.', \"Approved loan amount is disbursed instantly to the user's bank account.\", 'User can view loan details including amount, tenure, and repayment terms.']}, {'story_id': 'US-004', 'title': 'Pay Utility Bills Directly', 'description': 'As a user, I want to pay my utility bills directly through the app, so that I can manage all my payments in one place.', 'acceptance_criteria': ['User can add utility billers (e.g., electricity, water, gas, broadband).', 'User can pay bills using their linked bank account or UPI.', 'User can view a history of past bill payments.', 'System confirms the successful payment with a notification.']}, {'story_id': 'US-005', 'title': 'Purchase Insurance Policies Directly', 'description': 'As a user, I want to purchase various insurance policies through the app, so that I can protect my financial well-being.', 'acceptance_criteria': ['User can browse and select from various insurance policy options (e.g., health, life, auto, home).', 'User can view detailed policy information including coverage, premiums, and terms.', 'User can purchase the selected policy and receive a confirmation with policy details.', \"System provides a summary of purchased policies in the user's profile.\"]}], 'user_stories_messages': [HumanMessage(content=\"{'title': 'PayMate: Your Ultimate Payment Companion', 'description': 'PayMate is a comprehensive payment application that allows users to perform seamless transactions using the Unified Payments Interface (UPI). Beyond basic payments, PayMate offers features such as quick loans, bill payments, and a user-friendly interface, making it a one-stop solution for all financial needs.', 'requirements': ['Implement multi-factor authentication, including biometrics (fingerprint and facial recognition) and MPIN, to secure user accounts.\\\\u200b', 'Enable users to link multiple bank accounts and perform instant fund transfers using UPI.', 'Provide users with access to instant micro-loans with minimal documentation.', 'Allow users to pay utility bills such as electricity, water, gas, and broadband directly through the app.']}\", additional_kwargs={}, response_metadata={}, id='c09c2573-7c14-4fc2-8111-368f1fd4b45f'), AIMessage(content=\"I've received your project requirements. I'll now generate user stories based on these requirements.\", additional_kwargs={}, response_metadata={}, id='f977fc5f-edad-498d-bcdc-7795465e763b'), AIMessage(content=\"Based on your requirements, I've generated 4 user stories. Please review these user stories and provide feedback or type 'Approved' if you're satisfied.\", additional_kwargs={}, response_metadata={}, id='db5c11e1-ae41-41a6-a00e-667dc6316857'), HumanMessage(content='Add user story to buy insurance from the app.', additional_kwargs={}, response_metadata={}, id='ad9b63db-06fc-4493-bdd9-87f0a7c2d1ea'), AIMessage(content=\"I've received your feedback. I'll revise the user stories accordingly.\", additional_kwargs={}, response_metadata={}, id='44387b42-df69-4263-b99b-b620f953147f'), HumanMessage(content='Add user story to buy insurance from the app.', additional_kwargs={}, response_metadata={}, id='e2d84fcc-0d21-47d2-906d-37a691643694'), HumanMessage(content='Add user story to buy insurance from the app.', additional_kwargs={}, response_metadata={}, id='547e217e-f15e-4e52-9cdc-0c2be38a740f'), AIMessage(content=\"I've revised the user stories based on your feedback.\\n\\nPlease review these updated user stories and provide additional feedback or type 'Approved' if you're satisfied.\", additional_kwargs={}, response_metadata={}, id='2cf2ffa1-ae7e-40ef-86d8-f88101eb173a'), HumanMessage(content='Approved', additional_kwargs={}, response_metadata={}, id='a972fa09-be51-4206-b7a2-4840df671fcb'), AIMessage(content='Great! Your user stories have been finalized. You can now proceed with your design process.', additional_kwargs={}, response_metadata={}, id='abe32885-d480-458c-bda1-4b5212ff8f83')]}\n"
     ]
    }
   ],
   "source": [
    "user_story_workflow.update_state(thread, { \"user_stories_messages\" : HumanMessage(content='Approved')})\n",
    "\n",
    "# Continue the graph execution\n",
    "for event in user_story_workflow.stream(None, thread, stream_mode=\"values\"):\n",
    "    print(event)"
   ]
  },
  {
   "cell_type": "code",
   "execution_count": 56,
   "metadata": {},
   "outputs": [
    {
     "data": {
      "text/plain": [
       "{'project_requirements': {'title': 'PayMate: Your Ultimate Payment Companion',\n",
       "  'description': 'PayMate is a comprehensive payment application that allows users to perform seamless transactions using the Unified Payments Interface (UPI). Beyond basic payments, PayMate offers features such as quick loans, bill payments, and a user-friendly interface, making it a one-stop solution for all financial needs.',\n",
       "  'requirements': ['Implement multi-factor authentication, including biometrics (fingerprint and facial recognition) and MPIN, to secure user accounts.\\u200b',\n",
       "   'Enable users to link multiple bank accounts and perform instant fund transfers using UPI.',\n",
       "   'Provide users with access to instant micro-loans with minimal documentation.',\n",
       "   'Allow users to pay utility bills such as electricity, water, gas, and broadband directly through the app.']},\n",
       " 'status': 'completed',\n",
       " 'revised_count': 1,\n",
       " 'user_stories': [{'story_id': 'US-001',\n",
       "   'title': 'Secure Login with Multi-Factor Authentication',\n",
       "   'description': 'As a user, I want to securely access my account using multiple authentication methods, so that my financial data remains protected.',\n",
       "   'acceptance_criteria': ['User can log in using fingerprint recognition.',\n",
       "    'User can log in using facial recognition.',\n",
       "    'User can log in using MPIN.',\n",
       "    'System shows an error message for failed authentication attempts.']},\n",
       "  {'story_id': 'US-002',\n",
       "   'title': 'Link and Manage Multiple Bank Accounts',\n",
       "   'description': 'As a user, I want to link multiple bank accounts to my PayMate profile, so that I can perform seamless fund transfers.',\n",
       "   'acceptance_criteria': ['User can add multiple bank accounts to their profile.',\n",
       "    'User can select a default bank account for transactions.',\n",
       "    'User can transfer funds between linked bank accounts.',\n",
       "    'Balance of linked accounts is updated in real-time.']},\n",
       "  {'story_id': 'US-003',\n",
       "   'title': 'Access Instant Micro-Loans',\n",
       "   'description': 'As a user, I want to apply for instant micro-loans with minimal documentation, so that I can address urgent financial needs.',\n",
       "   'acceptance_criteria': ['User can apply for a micro-loan through the app.',\n",
       "    'System processes the loan application in real-time.',\n",
       "    \"Approved loan amount is disbursed instantly to the user's bank account.\",\n",
       "    'User can view loan details including amount, tenure, and repayment terms.']},\n",
       "  {'story_id': 'US-004',\n",
       "   'title': 'Pay Utility Bills Directly',\n",
       "   'description': 'As a user, I want to pay my utility bills directly through the app, so that I can manage all my payments in one place.',\n",
       "   'acceptance_criteria': ['User can add utility billers (e.g., electricity, water, gas, broadband).',\n",
       "    'User can pay bills using their linked bank account or UPI.',\n",
       "    'User can view a history of past bill payments.',\n",
       "    'System confirms the successful payment with a notification.']},\n",
       "  {'story_id': 'US-005',\n",
       "   'title': 'Purchase Insurance Policies Directly',\n",
       "   'description': 'As a user, I want to purchase various insurance policies through the app, so that I can protect my financial well-being.',\n",
       "   'acceptance_criteria': ['User can browse and select from various insurance policy options (e.g., health, life, auto, home).',\n",
       "    'User can view detailed policy information including coverage, premiums, and terms.',\n",
       "    'User can purchase the selected policy and receive a confirmation with policy details.',\n",
       "    \"System provides a summary of purchased policies in the user's profile.\"]}],\n",
       " 'user_stories_messages': [HumanMessage(content=\"{'title': 'PayMate: Your Ultimate Payment Companion', 'description': 'PayMate is a comprehensive payment application that allows users to perform seamless transactions using the Unified Payments Interface (UPI). Beyond basic payments, PayMate offers features such as quick loans, bill payments, and a user-friendly interface, making it a one-stop solution for all financial needs.', 'requirements': ['Implement multi-factor authentication, including biometrics (fingerprint and facial recognition) and MPIN, to secure user accounts.\\\\u200b', 'Enable users to link multiple bank accounts and perform instant fund transfers using UPI.', 'Provide users with access to instant micro-loans with minimal documentation.', 'Allow users to pay utility bills such as electricity, water, gas, and broadband directly through the app.']}\", additional_kwargs={}, response_metadata={}, id='c09c2573-7c14-4fc2-8111-368f1fd4b45f'),\n",
       "  AIMessage(content=\"I've received your project requirements. I'll now generate user stories based on these requirements.\", additional_kwargs={}, response_metadata={}, id='f977fc5f-edad-498d-bcdc-7795465e763b'),\n",
       "  AIMessage(content=\"Based on your requirements, I've generated 4 user stories. Please review these user stories and provide feedback or type 'Approved' if you're satisfied.\", additional_kwargs={}, response_metadata={}, id='db5c11e1-ae41-41a6-a00e-667dc6316857'),\n",
       "  HumanMessage(content='Add user story to buy insurance from the app.', additional_kwargs={}, response_metadata={}, id='ad9b63db-06fc-4493-bdd9-87f0a7c2d1ea'),\n",
       "  AIMessage(content=\"I've received your feedback. I'll revise the user stories accordingly.\", additional_kwargs={}, response_metadata={}, id='44387b42-df69-4263-b99b-b620f953147f'),\n",
       "  HumanMessage(content='Add user story to buy insurance from the app.', additional_kwargs={}, response_metadata={}, id='e2d84fcc-0d21-47d2-906d-37a691643694'),\n",
       "  HumanMessage(content='Add user story to buy insurance from the app.', additional_kwargs={}, response_metadata={}, id='547e217e-f15e-4e52-9cdc-0c2be38a740f'),\n",
       "  AIMessage(content=\"I've revised the user stories based on your feedback.\\n\\nPlease review these updated user stories and provide additional feedback or type 'Approved' if you're satisfied.\", additional_kwargs={}, response_metadata={}, id='2cf2ffa1-ae7e-40ef-86d8-f88101eb173a'),\n",
       "  HumanMessage(content='Approved', additional_kwargs={}, response_metadata={}, id='a972fa09-be51-4206-b7a2-4840df671fcb'),\n",
       "  AIMessage(content='Great! Your user stories have been finalized. You can now proceed with your design process.', additional_kwargs={}, response_metadata={}, id='abe32885-d480-458c-bda1-4b5212ff8f83')]}"
      ]
     },
     "execution_count": 56,
     "metadata": {},
     "output_type": "execute_result"
    }
   ],
   "source": [
    " {'project_requirements': {'title': 'PayMate: Your Ultimate Payment Companion', 'description': 'PayMate is a comprehensive payment application that allows users to perform seamless transactions using the Unified Payments Interface (UPI). Beyond basic payments, PayMate offers features such as quick loans, bill payments, and a user-friendly interface, making it a one-stop solution for all financial needs.', 'requirements': ['Implement multi-factor authentication, including biometrics (fingerprint and facial recognition) and MPIN, to secure user accounts.\\u200b', 'Enable users to link multiple bank accounts and perform instant fund transfers using UPI.', 'Provide users with access to instant micro-loans with minimal documentation.', 'Allow users to pay utility bills such as electricity, water, gas, and broadband directly through the app.']}, 'status': 'completed', 'revised_count': 1, 'user_stories': [{'story_id': 'US-001', 'title': 'Secure Login with Multi-Factor Authentication', 'description': 'As a user, I want to securely access my account using multiple authentication methods, so that my financial data remains protected.', 'acceptance_criteria': ['User can log in using fingerprint recognition.', 'User can log in using facial recognition.', 'User can log in using MPIN.', 'System shows an error message for failed authentication attempts.']}, {'story_id': 'US-002', 'title': 'Link and Manage Multiple Bank Accounts', 'description': 'As a user, I want to link multiple bank accounts to my PayMate profile, so that I can perform seamless fund transfers.', 'acceptance_criteria': ['User can add multiple bank accounts to their profile.', 'User can select a default bank account for transactions.', 'User can transfer funds between linked bank accounts.', 'Balance of linked accounts is updated in real-time.']}, {'story_id': 'US-003', 'title': 'Access Instant Micro-Loans', 'description': 'As a user, I want to apply for instant micro-loans with minimal documentation, so that I can address urgent financial needs.', 'acceptance_criteria': ['User can apply for a micro-loan through the app.', 'System processes the loan application in real-time.', \"Approved loan amount is disbursed instantly to the user's bank account.\", 'User can view loan details including amount, tenure, and repayment terms.']}, {'story_id': 'US-004', 'title': 'Pay Utility Bills Directly', 'description': 'As a user, I want to pay my utility bills directly through the app, so that I can manage all my payments in one place.', 'acceptance_criteria': ['User can add utility billers (e.g., electricity, water, gas, broadband).', 'User can pay bills using their linked bank account or UPI.', 'User can view a history of past bill payments.', 'System confirms the successful payment with a notification.']}, {'story_id': 'US-005', 'title': 'Purchase Insurance Policies Directly', 'description': 'As a user, I want to purchase various insurance policies through the app, so that I can protect my financial well-being.', 'acceptance_criteria': ['User can browse and select from various insurance policy options (e.g., health, life, auto, home).', 'User can view detailed policy information including coverage, premiums, and terms.', 'User can purchase the selected policy and receive a confirmation with policy details.', \"System provides a summary of purchased policies in the user's profile.\"]}], 'user_stories_messages': [HumanMessage(content=\"{'title': 'PayMate: Your Ultimate Payment Companion', 'description': 'PayMate is a comprehensive payment application that allows users to perform seamless transactions using the Unified Payments Interface (UPI). Beyond basic payments, PayMate offers features such as quick loans, bill payments, and a user-friendly interface, making it a one-stop solution for all financial needs.', 'requirements': ['Implement multi-factor authentication, including biometrics (fingerprint and facial recognition) and MPIN, to secure user accounts.\\\\u200b', 'Enable users to link multiple bank accounts and perform instant fund transfers using UPI.', 'Provide users with access to instant micro-loans with minimal documentation.', 'Allow users to pay utility bills such as electricity, water, gas, and broadband directly through the app.']}\", additional_kwargs={}, response_metadata={}, id='c09c2573-7c14-4fc2-8111-368f1fd4b45f'), AIMessage(content=\"I've received your project requirements. I'll now generate user stories based on these requirements.\", additional_kwargs={}, response_metadata={}, id='f977fc5f-edad-498d-bcdc-7795465e763b'), AIMessage(content=\"Based on your requirements, I've generated 4 user stories. Please review these user stories and provide feedback or type 'Approved' if you're satisfied.\", additional_kwargs={}, response_metadata={}, id='db5c11e1-ae41-41a6-a00e-667dc6316857'), HumanMessage(content='Add user story to buy insurance from the app.', additional_kwargs={}, response_metadata={}, id='ad9b63db-06fc-4493-bdd9-87f0a7c2d1ea'), AIMessage(content=\"I've received your feedback. I'll revise the user stories accordingly.\", additional_kwargs={}, response_metadata={}, id='44387b42-df69-4263-b99b-b620f953147f'), HumanMessage(content='Add user story to buy insurance from the app.', additional_kwargs={}, response_metadata={}, id='e2d84fcc-0d21-47d2-906d-37a691643694'), HumanMessage(content='Add user story to buy insurance from the app.', additional_kwargs={}, response_metadata={}, id='547e217e-f15e-4e52-9cdc-0c2be38a740f'), AIMessage(content=\"I've revised the user stories based on your feedback.\\n\\nPlease review these updated user stories and provide additional feedback or type 'Approved' if you're satisfied.\", additional_kwargs={}, response_metadata={}, id='2cf2ffa1-ae7e-40ef-86d8-f88101eb173a'), HumanMessage(content='Approved', additional_kwargs={}, response_metadata={}, id='a972fa09-be51-4206-b7a2-4840df671fcb'), AIMessage(content='Great! Your user stories have been finalized. You can now proceed with your design process.', additional_kwargs={}, response_metadata={}, id='abe32885-d480-458c-bda1-4b5212ff8f83')]}\n"
   ]
  }
 ],
 "metadata": {
  "kernelspec": {
   "display_name": "Python 3",
   "language": "python",
   "name": "python3"
  },
  "language_info": {
   "codemirror_mode": {
    "name": "ipython",
    "version": 3
   },
   "file_extension": ".py",
   "mimetype": "text/x-python",
   "name": "python",
   "nbconvert_exporter": "python",
   "pygments_lexer": "ipython3",
   "version": "3.12.0"
  }
 },
 "nbformat": 4,
 "nbformat_minor": 2
}
