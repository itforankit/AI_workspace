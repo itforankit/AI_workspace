{
 "cells": [
  {
   "cell_type": "code",
   "execution_count": 1,
   "metadata": {},
   "outputs": [],
   "source": [
    "from typing_extensions import TypedDict, Annotated, List, Literal\n",
    "from langchain_core.messages import AnyMessage, AIMessage, HumanMessage, SystemMessage\n",
    "from langgraph.graph import add_messages\n",
    "from typing import Dict, List, Optional, Union, Literal\n",
    "from pydantic import BaseModel, Field\n",
    "from IPython.display import Image, display \n",
    "from langchain_core.messages import AnyMessage\n",
    "from langgraph.graph.message import add_messages"
   ]
  },
  {
   "cell_type": "code",
   "execution_count": 2,
   "metadata": {},
   "outputs": [],
   "source": [
    "## documents\n",
    "class DocumentSection(BaseModel):\n",
    "    title: str = Field(description=\"The title of the section\")\n",
    "    content: str = Field(description=\"The content of the section\")\n",
    "    \n",
    "\n",
    "## security review\n",
    "class SecurityReview(TypedDict):\n",
    "    sec_id : str\n",
    "    review : str\n",
    "    file_path : str\n",
    "    recommendation : str\n",
    "    priority : Literal[\"high\", \"medium\", \"low\"]\n",
    "    \n",
    "## test cases\n",
    "class TestCase(TypedDict):\n",
    "    test_id : str \n",
    "    description : str \n",
    "    steps : List[str]\n",
    "    status : Literal[\"draft\", \"pass\", \"fail\"] = \"draft\""
   ]
  },
  {
   "cell_type": "code",
   "execution_count": 3,
   "metadata": {},
   "outputs": [],
   "source": [
    "## Project Requirements\n",
    "class ProjectRequirements(BaseModel):\n",
    "    title: str = Field(description=\"The title of the project\")\n",
    "    description: str = Field(description=\"The description of the project\")\n",
    "    requirements : List[str] = Field(description=\"The requirements of the project\")"
   ]
  },
  {
   "cell_type": "code",
   "execution_count": 4,
   "metadata": {},
   "outputs": [],
   "source": [
    "## User story\n",
    "class UserStory(BaseModel):\n",
    "    story_id : str = Field(description=\"The id of the user story\")\n",
    "    title : str = Field(description=\"The title of the user story\")\n",
    "    description : str = Field(description=\"The description of the user story\")\n",
    "    acceptance_criteria : List[str] = Field(description=\"The acceptance criteria of the user story\")"
   ]
  },
  {
   "cell_type": "code",
   "execution_count": 5,
   "metadata": {},
   "outputs": [],
   "source": [
    "class SDLCState(BaseModel):\n",
    "    project_requirements : ProjectRequirements\n",
    "    revised_count : int = Field(default=0, description=\"The number of times the revised\")\n",
    "    # User story\n",
    "    user_stories : List[UserStory] = []\n",
    "    user_story_messages : Annotated[list, add_messages] = []\n",
    "    user_story_status : Literal[\"pending\", \"in_progress\", \"pending_approval\", \"feedback\", \"approved\"] = \"pending\"\n",
    "    \n",
    "    # functional documents\n",
    "    functional_documents : List[DocumentSection] = []\n",
    "    functional_messages : Annotated[list, add_messages] = []\n",
    "    functional_status: Literal[\"pending\", \"in_progress\", \"pending_approval\", \"feedback\", \"approved\"] = \"pending\"\n",
    "    \n",
    "    # technical documents\n",
    "    technical_documents : List[DocumentSection] = []\n",
    "    technical_messages : Annotated[list, add_messages] = []\n",
    "    technical_status: Literal[\"pending\", \"in_progress\", \"pending_approval\", \"feedback\", \"approved\"] = \"pending\"\n",
    "    \n",
    "    # frontend code\n",
    "    frontend_code : str = Field(default='', description=\"The frontend code\")\n",
    "    frontend_messages: Annotated[list, add_messages] = []\n",
    "    frontend_status: Literal[\"pending\", \"in_progress\", \"pending_approval\", \"feedback\", \"approved\"] = \"pending\"\n",
    "    \n",
    "    # backend code\n",
    "    backend_code : str = Field(default= '', description=\"The backend code\")\n",
    "    backend_messages: Annotated[list, add_messages] = []\n",
    "    backend_status: Literal[\"pending\", \"in_progress\", \"pending_approval\", \"feedback\", \"approved\"] = \"pending\"\n",
    "\n",
    "    # security review\n",
    "    security_reviews : List[SecurityReview] = []\n",
    "    security_reviews_messages: Annotated[list, add_messages] = []\n",
    "    security_reviews_status : Literal[\"pending\", \"in_progress\", \"pending_approval\", \"feedback\", \"approved\"] = \"pending\"\n",
    "\n",
    "    ## test cases\n",
    "    test_cases : List[TestCase] = []\n",
    "    test_cases_messages: Annotated[list, add_messages] = []\n",
    "    test_cases_status : Literal[\"pending\", \"in_progress\", \"pending_approval\", \"feedback\", \"approved\"] = \"pending\"\n",
    "\n",
    "    ## qa testing\n",
    "    qa_testing : List[TestCase] = []\n",
    "    qa_testing_messages: Annotated[list, add_messages] = []\n",
    "    qa_testing_status : Literal[\"pending\", \"in_progress\", \"pending_approval\", \"feedback\", \"approved\"] = \"pending\"\n",
    "\n",
    "    ## Code deployment\n",
    "    deployment : str = Field(default='', description=\"The code deployment\")\n",
    "    deployment_messages: Annotated[list, add_messages] = []\n"
   ]
  },
  {
   "cell_type": "markdown",
   "metadata": {},
   "source": [
    "## Helper functions"
   ]
  },
  {
   "cell_type": "code",
   "execution_count": 6,
   "metadata": {},
   "outputs": [],
   "source": [
    "def generate_user_stories_from_llm(project_title, project_description, requirements):\n",
    "    user_stories = [{'story_id': 'US-001',\n",
    "        'title': 'Secure Account with Multi-Factor Authentication',\n",
    "        'description': 'As a user, I want to secure my account with multi-factor authentication so that my transactions are protected.',\n",
    "        'acceptance_criteria': ['User can enable biometric authentication (fingerprint and facial recognition).',\n",
    "        'User can set up MPIN for additional security.',\n",
    "        'User can enable two-factor authentication for transactions.',\n",
    "        'System alerts user of authentication failures.']}]\n",
    "    \n",
    "    return user_stories\n",
    "\n",
    "def revised_user_stories_from_llm(user_stories, user_review):\n",
    "    revised_user_stories = [{'story_id': 'US-001',\n",
    "        'title': 'Secure Account with Multi-Factor Authentication',\n",
    "        'description': 'As a user, I want to secure my account with multi-factor authentication so that my transactions are protected.',\n",
    "        'acceptance_criteria': ['User can enable biometric authentication (fingerprint and facial recognition).',\n",
    "        'User can set up MPIN for additional security.',\n",
    "        'User can enable two-factor authentication for transactions.',\n",
    "        'System alerts user of authentication failures.']},\n",
    "        {'story_id': 'US-002',\n",
    "        'title': 'Link Multiple Bank Accounts',\n",
    "        'description': 'As a user, I want to link multiple bank accounts so that I can transfer funds instantly.',\n",
    "        'acceptance_criteria': ['User can add multiple bank accounts to their profile.',\n",
    "        'User can select any linked account for fund transfers.',\n",
    "        'Linked accounts display current balance.',\n",
    "        'System confirms successful linking of accounts.']}]\n",
    "    return revised_user_stories"
   ]
  },
  {
   "cell_type": "markdown",
   "metadata": {},
   "source": [
    "### User stories"
   ]
  },
  {
   "cell_type": "code",
   "execution_count": 7,
   "metadata": {},
   "outputs": [],
   "source": [
    "## User stories \n",
    "def process_project_requirements(state : SDLCState) -> SDLCState:\n",
    "    print(\"In process_project_requirements...\")\n",
    "    return {\n",
    "        \"user_story_messages\" : AIMessage(content=\"I've received your project requirements. I'll now generate user stories based on these requirements.\")\n",
    "    }\n",
    "    \n",
    "def generate_user_stories(state : SDLCState) -> SDLCState:\n",
    "    print(\"In generate_user_stories...\") \n",
    "    project_title = state.project_requirements.title\n",
    "    project_description = state.project_requirements.description\n",
    "    requirements = state.project_requirements.requirements\n",
    "    user_stories = generate_user_stories_from_llm(project_title, project_description, requirements);\n",
    "    \n",
    "    return {\n",
    "        \"user_story_status\" : 'pending_approval',\n",
    "        \"user_stories\" : user_stories,\n",
    "        \"user_story_messages\" : AIMessage(\n",
    "            content = f\"Based on your requirements, I've generated {len(user_stories)} user stories. Please review these user stories and provide feedback or type 'Approved' if you're satisfied.\"\n",
    "        ),\n",
    "        \"revised_count\" : 0\n",
    "    }\n",
    "\n",
    "def review_user_stories(state : SDLCState) -> SDLCState:\n",
    "    print(\"In review_user_stories...\")\n",
    "    user_review = state.user_story_messages[-1].content\n",
    "    user_review = user_review.lower().strip()\n",
    "    print(\"user_review : \", user_review)  \n",
    "    if user_review == \"approved\":\n",
    "        return {\n",
    "            \"user_story_messages\" : AIMessage(content=\"Great! Your user stories have been finalized. You can now proceed with your design process.\"),\n",
    "            \"user_story_status\" : \"approved\",\n",
    "        }\n",
    "    else:\n",
    "        return {\n",
    "            \"user_story_messages\" :  AIMessage(content=\"I've received your feedback. I'll revise the user stories accordingly.\"),\n",
    "            \"user_story_status\" : \"feedback\"\n",
    "        }\n",
    "\n",
    "def should_revise_user_stories(state : SDLCState) -> Literal[\"feedback\", \"approved\"]:\n",
    "    return \"approved\" if state.user_story_status == \"approved\" else \"feedback\"   \n",
    "\n",
    "def revised_user_stories(state : SDLCState) -> SDLCState:\n",
    "    print(\"In revised_user_stories...\")\n",
    "    user_review = state.user_story_messages[-2].content\n",
    "    user_review = user_review.lower().strip()\n",
    "    if state.user_story_status == 'feedback':\n",
    "        revised_count = state.revised_count + 1\n",
    "        print(\"revised_count : \", revised_count)\n",
    "        if revised_count == 3:\n",
    "            return {\n",
    "                \"user_story_messages\" :  AIMessage(\n",
    "                    content = f\"User stories have been revision maxed out. Please review the user stories and continue with the next step.\"\n",
    "                ),\n",
    "                \"user_story_status\" : \"approved\"\n",
    "            }\n",
    "        user_stories = revised_user_stories_from_llm(state.user_stories, user_review)\n",
    "        return {\n",
    "                \"user_stories\" : user_stories,\n",
    "                \"user_story_messages\" : AIMessage(\n",
    "                    content = \"I've revised the user stories based on your feedback.\\n\\nPlease review these updated user stories and provide additional feedback or type 'Approved' if you're satisfied.\"),\n",
    "                \"user_story_status\" : \"pending_approval\",\n",
    "                \"revised_count\" : revised_count\n",
    "            }"
   ]
  },
  {
   "cell_type": "markdown",
   "metadata": {},
   "source": [
    "### Functional documents"
   ]
  },
  {
   "cell_type": "code",
   "execution_count": 8,
   "metadata": {},
   "outputs": [],
   "source": [
    "def generate_functional_documents_from_llm(user_stories, project_requirements):\n",
    "    document = DocumentSection(\n",
    "        title = f\"FUNCTIONAL REQUIREMENTS\",\n",
    "        content = \"FR-1: The system shall provide a Forgot Password option on the login page.\")\n",
    "    functional_documents = [document]\n",
    "    return functional_documents\n",
    "\n",
    "\n",
    "def revised_functional_documents_from_llm(docs, user_feedback):\n",
    "    document = DocumentSection(\n",
    "        title = f\"Revised FUNCTIONAL REQUIREMENTS\",\n",
    "        content = \"FR-1: The system shall provide a Forgot Password option on the login page.\")\n",
    "    functional_documents = [document]\n",
    "    return functional_documents\n",
    "\n",
    "def generate_technical_documents_from_llm(user_stories, project_requirements):\n",
    "    sections=[\n",
    "        DocumentSection(\n",
    "            title=\"Technical Document: MODULES & COMPONENTS DESIGN\",\n",
    "            content=\"Auth API Module: Exposes RESTful endpoints for password\"\n",
    "        )\n",
    "    ]\n",
    "    return sections\n",
    "\n",
    "def revised_technical_documents_from_llm(docs, user_feedback):    \n",
    "    sections=[\n",
    "        DocumentSection(\n",
    "            title=\"Revised Technical Document: MODULES & COMPONENTS DESIGN\",\n",
    "            content=\"Auth API Module: Exposes RESTful endpoints for password\"\n",
    "        )\n",
    "    ]\n",
    "    return sections"
   ]
  },
  {
   "cell_type": "code",
   "execution_count": 9,
   "metadata": {},
   "outputs": [],
   "source": [
    "def create_functional_documents(state : SDLCState) -> SDLCState:\n",
    "    print(\"In create_functional_documents...\")\n",
    "    doc_type = \"functional\"\n",
    "    user_stories = state.user_stories\n",
    "    project_requirements = state.project_requirements\n",
    "    documents = generate_functional_documents_from_llm(user_stories, project_requirements)\n",
    "    return {\n",
    "        f\"{doc_type}_documents\": documents,\n",
    "        f\"{doc_type}_status\": 'pending_approval',\n",
    "        f\"{doc_type}_messages\": AIMessage(\n",
    "            content=f\"Please review {doc_type} design document and provide feedback or type 'Approved' if you're satisfied.\"\n",
    "        ),\n",
    "    }\n",
    "\n",
    "def review_functional_documents(state : SDLCState) -> SDLCState:\n",
    "    print(\"In review_functional_documents...\")\n",
    "    doc_type = \"functional\"\n",
    "    user_feedback = state.functional_messages[-1].content.lower().strip()\n",
    "    print(\"user feedback:\", user_feedback)\n",
    "    approved = (user_feedback == \"approved\")\n",
    "    response = {\n",
    "        f\"{doc_type}_messages\": AIMessage(\n",
    "            content=\"Great! Your design documents have been finalized. You can now proceed with your design process.\"\n",
    "            if approved else\n",
    "            \"I've received your feedback. I'll revise the design documents accordingly.\"\n",
    "        ),\n",
    "        f\"{doc_type}_status\": \"approved\" if approved else \"feedback\",\n",
    "    }\n",
    "    return response\n",
    "\n",
    "def should_revise_function_documents(state : SDLCState) -> Literal[\"feedback\", \"approved\"]:\n",
    "    return \"approved\" if state.functional_status == \"approved\" else \"feedback\"  \n",
    "\n",
    "def revise_functional_documents(state : SDLCState) -> SDLCState:\n",
    "    print(\"In revise_functional_documents...\")\n",
    "    doc_type = \"functional\"\n",
    "    user_feedback = state.functional_messages[-2].content.lower().strip()\n",
    "    print(\"user feedback:\", user_feedback)\n",
    "    revised_count = state.revised_count + 1\n",
    "    print(\"revised_count :\", revised_count)\n",
    "\n",
    "    if revised_count == 3:\n",
    "        return {\n",
    "            f\"{doc_type}_messages\": AIMessage(\n",
    "                content=\"Design documents have been revision maxed out. Please review the these documents and continue with the next step.\"\n",
    "            ),\n",
    "            f\"{doc_type}_status\": \"approved\",\n",
    "        }\n",
    "\n",
    "    documents = revised_functional_documents_from_llm(state.functional_documents, user_feedback)\n",
    "    return {\n",
    "        f\"{doc_type}_documents\": documents,\n",
    "        f\"{doc_type}_messages\": AIMessage(\n",
    "            content=f\"Please review revised {doc_type} design documents and provide additional feedback or type 'Approved' if you're satisfied.\"\n",
    "        ),\n",
    "        f\"{doc_type}_status\": \"pending_approval\",\n",
    "        \"revised_count\": revised_count\n",
    "    }\n"
   ]
  },
  {
   "cell_type": "markdown",
   "metadata": {},
   "source": [
    "### Technical documents"
   ]
  },
  {
   "cell_type": "code",
   "execution_count": 10,
   "metadata": {},
   "outputs": [],
   "source": [
    "def create_technical_documents(state : SDLCState) -> SDLCState:\n",
    "    print(\"In create_technical_documents...\")\n",
    "    doc_type = \"technical\"\n",
    "    user_stories = state.user_stories\n",
    "    project_requirements = state.project_requirements\n",
    "    documents = generate_technical_documents_from_llm(user_stories, project_requirements)\n",
    "    return {\n",
    "        f\"{doc_type}_documents\": documents,\n",
    "        f\"{doc_type}_status\": 'pending_approval',\n",
    "        f\"{doc_type}_messages\": AIMessage(\n",
    "            content=f\"Please review {doc_type} design document and provide feedback or type 'Approved' if you're satisfied.\"\n",
    "        ),\n",
    "    }\n",
    "\n",
    "def review_technical_documents(state : SDLCState) -> SDLCState:\n",
    "    print(\"In review_technical_documents...\")\n",
    "    doc_type = \"technical\"\n",
    "    user_feedback = state.technical_messages[-1].content.lower().strip()\n",
    "    print(\"user feedback:\", user_feedback)\n",
    "    approved = (user_feedback == \"approved\")\n",
    "    response = {\n",
    "        f\"{doc_type}_messages\": AIMessage(\n",
    "            content=\"Great! Your design documents have been finalized. You can now proceed with your design process.\"\n",
    "            if approved else\n",
    "            \"I've received your feedback. I'll revise the design documents accordingly.\"\n",
    "        ),\n",
    "        f\"{doc_type}_status\": \"approved\" if approved else \"feedback\",\n",
    "    }\n",
    "    return response\n",
    "\n",
    "def should_revise_technical_documents(state : SDLCState) -> Literal[\"feedback\", \"approved\"]:\n",
    "    return \"approved\" if state.technical_status == \"approved\" else \"feedback\" \n",
    "\n",
    "def revise_technical_documents(state : SDLCState) -> SDLCState:\n",
    "    print(\"In revise_technical_documents...\")\n",
    "    doc_type = \"technical\"\n",
    "    user_feedback = state.technical_messages[-2].content.lower().strip()\n",
    "    print(\"user feedback:\", user_feedback)\n",
    "    revised_count = state.revised_count + 1\n",
    "    print(\"revised_count :\", revised_count)\n",
    "\n",
    "    if revised_count == 3:\n",
    "        return {\n",
    "            f\"{doc_type}_messages\": AIMessage(\n",
    "                content=\"Design documents have been revision maxed out. Please review the these documents and continue with the next step.\"\n",
    "            ),\n",
    "            f\"{doc_type}_status\": \"approved\",\n",
    "        }\n",
    "\n",
    "    documents = revised_technical_documents_from_llm(state.technical_documents, user_feedback)\n",
    "    return {\n",
    "        f\"{doc_type}_documents\": documents,\n",
    "        f\"{doc_type}_messages\": AIMessage(\n",
    "            content=f\"Please review revised {doc_type} design documents and provide additional feedback or type 'Approved' if you're satisfied.\"\n",
    "        ),\n",
    "        f\"{doc_type}_status\": \"pending_approval\",\n",
    "        \"revised_count\": revised_count\n",
    "    }"
   ]
  },
  {
   "cell_type": "markdown",
   "metadata": {},
   "source": [
    "## Frontend code"
   ]
  },
  {
   "cell_type": "code",
   "execution_count": 11,
   "metadata": {},
   "outputs": [],
   "source": [
    "def generate_frontend_code_from_llm(project_requirements, user_stories):\n",
    "    frontend_code = \"console.log('frontend code')\"\n",
    "    return frontend_code \n",
    "\n",
    "def revised_frontend_code_from_llm(code, user_feedback):\n",
    "    frontend_code = \"console.log('Revised frontend code')\"\n",
    "    return frontend_code"
   ]
  },
  {
   "cell_type": "code",
   "execution_count": 12,
   "metadata": {},
   "outputs": [],
   "source": [
    "def generate_frontend_code(state : SDLCState) -> SDLCState:\n",
    "    print(\"In generate_frontend_code...\")\n",
    "    generate_code = generate_frontend_code_from_llm(state.project_requirements, state.user_stories)\n",
    "    code_type = \"frontend\"\n",
    "\n",
    "    return {\n",
    "        f\"{code_type}_code\" : generate_code,\n",
    "        f\"{code_type}_status\": 'pending_approval',\n",
    "        f\"{code_type}_messages\": AIMessage(\n",
    "            content=f\"Please review {code_type} design document and provide feedback or type 'Approved' if you're satisfied.\"\n",
    "        ),\n",
    "    }\n",
    "\n",
    "def review_frontend_code(state : SDLCState) -> SDLCState:\n",
    "    print(\"In review_frontend_code\")\n",
    "    user_feedback = state.frontend_messages[-1].content.lower().strip()\n",
    "    print(\"user feedback:\", user_feedback)\n",
    "    approved = user_feedback == \"approved\"\n",
    "    code_type = \"frontend\"\n",
    "    return {\n",
    "        f\"{code_type}_messages\":AIMessage(\n",
    "            content=\"Great! Code have been finalized. You can now proceed with next steps.\"\n",
    "            if approved else\n",
    "            \"I've received your feedback. I'll revise the design documents accordingly.\"),\n",
    "        f\"{code_type}_status\": \"approved\" if approved else \"feedback\"\n",
    "    }\n",
    "\n",
    "def should_fix_frontend_code(state : SDLCState) -> Literal[\"feedback\", \"approved\"]:\n",
    "    return \"approved\" if state.frontend_status == 'approved' else 'feedback'\n",
    "\n",
    "def fix_frontend_code(state : SDLCState) -> SDLCState:\n",
    "    print(\"In fix_frontend_code...\")\n",
    "    code_type = \"frontend\"\n",
    "    user_feedback = state.frontend_messages[-2].content.lower().strip()\n",
    "    revised_count = state.revised_count + 1\n",
    "    print(\"revised_count :\", revised_count)\n",
    "\n",
    "    if revised_count == 3:\n",
    "        return {\n",
    "            f\"{code_type}_messages\": AIMessage(\n",
    "                content=\"Code have been revision maxed out. Please review the code and continue with the next step.\"\n",
    "            ),\n",
    "            f\"{code_type}_status\": \"approved\"\n",
    "        }\n",
    "    \n",
    "    revised_code = revised_frontend_code_from_llm(state.frontend_code, user_feedback)\n",
    "    return {\n",
    "        f\"{code_type}_code\": revised_code,\n",
    "        f\"{code_type}_messages\": AIMessage(\n",
    "            content=f\"Please review revised {code_type} code and provide additional feedback or type 'Approved' if you're satisfied.\"\n",
    "        ),\n",
    "        f\"{code_type}_status\": \"pending_approval\",\n",
    "        \"revised_count\": revised_count\n",
    "    }"
   ]
  },
  {
   "cell_type": "markdown",
   "metadata": {},
   "source": [
    "## Backend Code"
   ]
  },
  {
   "cell_type": "code",
   "execution_count": 13,
   "metadata": {},
   "outputs": [],
   "source": [
    "def generate_backend_code_from_llm(project_requirements, user_stories):\n",
    "    backend_code = \"print('backend code')\"\n",
    "    return backend_code \n",
    "\n",
    "def revised_backend_code_from_llm(code, user_feedback):\n",
    "    backend_code = \"print('Revised backend code')\"\n",
    "    return backend_code"
   ]
  },
  {
   "cell_type": "code",
   "execution_count": 14,
   "metadata": {},
   "outputs": [],
   "source": [
    "def generate_backend_code(state : SDLCState) -> SDLCState:\n",
    "    print(\"In generate_backend_code...\")\n",
    "    generate_code = generate_backend_code_from_llm(state.project_requirements, state.user_stories)\n",
    "    code_type = \"backend\"\n",
    "\n",
    "    return {\n",
    "        f\"{code_type}_code\" : generate_code,\n",
    "        f\"{code_type}_status\": 'pending_approval',\n",
    "        f\"{code_type}_messages\": AIMessage(\n",
    "            content=f\"Please review {code_type} design document and provide feedback or type 'Approved' if you're satisfied.\"\n",
    "        ),\n",
    "    }\n",
    "\n",
    "def review_backend_code(state : SDLCState) -> SDLCState:\n",
    "    print(\"In review_backend_code\")\n",
    "    user_feedback = state.backend_messages[-1].content.lower().strip()\n",
    "    print(\"user feedback:\", user_feedback)\n",
    "    approved = user_feedback == \"approved\"\n",
    "    code_type = \"backend\"\n",
    "    return {\n",
    "        f\"{code_type}_messages\":AIMessage(\n",
    "            content=\"Great! Code have been finalized. You can now proceed with next steps.\"\n",
    "            if approved else\n",
    "            \"I've received your feedback. I'll revise the design documents accordingly.\"),\n",
    "        f\"{code_type}_status\": \"approved\" if approved else \"feedback\"\n",
    "    }\n",
    "\n",
    "def should_fix_backend_code(state : SDLCState) -> Literal[\"feedback\", \"approved\"]:\n",
    "    return \"approved\" if state.backend_status == 'approved' else 'feedback'\n",
    "\n",
    "def fix_backend_code(state : SDLCState) -> SDLCState:\n",
    "    print(\"In fix_backend_code...\")\n",
    "    code_type = \"backend\"\n",
    "    user_feedback = state.backend_messages[-2].content.lower().strip()\n",
    "    revised_count = state.revised_count + 1\n",
    "    print(\"revised_count :\", revised_count)\n",
    "\n",
    "    if revised_count == 3:\n",
    "        return {\n",
    "            f\"{code_type}_messages\": AIMessage(\n",
    "                content=\"Code have been revision maxed out. Please review the code and continue with the next step.\"\n",
    "            ),\n",
    "            f\"{code_type}_status\": \"approved\"\n",
    "        }\n",
    "    \n",
    "    revised_code = revised_backend_code_from_llm(state.backend_code, user_feedback)\n",
    "    return {\n",
    "        f\"{code_type}_code\": revised_code,\n",
    "        f\"{code_type}_messages\": AIMessage(\n",
    "            content=f\"Please review revised {code_type} code and provide additional feedback or type 'Approved' if you're satisfied.\"\n",
    "        ),\n",
    "        f\"{code_type}_status\": \"pending_approval\",\n",
    "        \"revised_count\": revised_count\n",
    "    }"
   ]
  },
  {
   "cell_type": "markdown",
   "metadata": {},
   "source": [
    "## Security Review"
   ]
  },
  {
   "cell_type": "code",
   "execution_count": 15,
   "metadata": {},
   "outputs": [],
   "source": [
    "def generate_security_reviews_from_llm(code):\n",
    "    security_reviews = [SecurityReview(\n",
    "        sec_id=\"SC-001\", \n",
    "        review=\"security review\", \n",
    "        file_path=\"backend_code.py\", \n",
    "        recommendation=\"fix\",\n",
    "        priority=\"high\")]\n",
    "    return security_reviews \n",
    "\n",
    "\n",
    "def revised_backend_code_with_security_reviews_from_llm(code, reviews, user_feedback):\n",
    "    backend_code = \"print('Revised backend code with security reviews')\"\n",
    "    return backend_code\n",
    "\n"
   ]
  },
  {
   "cell_type": "code",
   "execution_count": 16,
   "metadata": {},
   "outputs": [],
   "source": [
    "def check_code_for_security_issues(state : SDLCState) -> SDLCState:\n",
    "    print(\"In check_code_for_security_issues...\")\n",
    "    security_reviews = generate_security_reviews_from_llm(state.backend_code)\n",
    "    return {\n",
    "        \"security_reviews\": security_reviews,\n",
    "        \"security_reviews_status\": \"pending_approval\",\n",
    "        \"security_reviews_messages\": AIMessage(\n",
    "            content=f\"Please review security reviews and provide feedback or type 'Approved' if you're satisfied.\"\n",
    "        ),\n",
    "    }\n",
    "\n",
    "def security_review(state : SDLCState) -> SDLCState:\n",
    "    print(\"In security_review...\")\n",
    "    user_feedback = state.security_reviews_messages[-1].content.lower().strip()\n",
    "    print(\"user feedback:\", user_feedback)\n",
    "    approved = user_feedback == \"approved\"\n",
    "    return {\n",
    "        \"security_reviews_status\": \"approved\" if approved else \"feedback\",\n",
    "        \"security_reviews_messages\": AIMessage(\n",
    "            content=\"Great! Security reviews have been finalized. You can now proceed with next steps.\"\n",
    "            if approved else\n",
    "            \"I've received your feedback. I'll revise the security reviews accordingly.\"),\n",
    "    }\n",
    "\n",
    "def should_fix_code_after_security_review(state : SDLCState) -> Literal[\"feedback\", \"approved\"]:\n",
    "    return \"approved\" if state.security_reviews_status == 'approved' else 'feedback'\n",
    "\n",
    "def fix_code_after_security_review(state : SDLCState) -> SDLCState:\n",
    "    print(\"In fix_code_after_security_review...\")\n",
    "    code_type = \"backend\"\n",
    "    user_feedback = state.security_reviews_messages[-2].content.lower().strip()\n",
    "    revised_count = state.revised_count + 1\n",
    "    print(\"revised_count :\", revised_count)\n",
    "\n",
    "    if revised_count == 3:\n",
    "        return {\n",
    "            f\"{code_type}_messages\": AIMessage(\n",
    "                content=\"Code have been revision maxed out. Please review the code and continue with the next step.\"\n",
    "            ),\n",
    "            f\"{code_type}_status\": \"approved\"\n",
    "        }\n",
    "    \n",
    "    revised_code = revised_backend_code_with_security_reviews_from_llm(state.backend_code, state.security_reviews, user_feedback)\n",
    "    return {\n",
    "        f\"{code_type}_code\": revised_code,\n",
    "        f\"{code_type}_messages\": AIMessage(\n",
    "            content=f\"Please review revised {code_type} code and provide additional feedback or type 'Approved' if you're satisfied.\"\n",
    "        ),\n",
    "        f\"{code_type}_status\": \"pending_approval\",\n",
    "        \"revised_count\": revised_count\n",
    "    }"
   ]
  },
  {
   "cell_type": "markdown",
   "metadata": {},
   "source": [
    "## Test Cases"
   ]
  },
  {
   "cell_type": "code",
   "execution_count": 17,
   "metadata": {},
   "outputs": [],
   "source": [
    "def generate_test_cases_from_llm(project_requirements, user_stories):\n",
    "    test_cases = [\n",
    "        TestCase(\n",
    "        test_id=\"TC-001\", \n",
    "        description=\"test_case_1\", \n",
    "        steps=[\"step1\", \"step2\", \"step3\"],\n",
    "        status=\"pending\")]\n",
    "    return test_cases\n",
    "\n",
    "def revised_test_cases_from_llm(test_cases, user_feedback):\n",
    "    test_cases = [\n",
    "        TestCase(\n",
    "        test_id=\"TC-001\", \n",
    "        description=\"Revised test_case_2\", \n",
    "        steps=[\"step1\", \"step2\", \"step3\"],\n",
    "        status=\"pending\")\n",
    "    ]\n",
    "    return test_cases\n"
   ]
  },
  {
   "cell_type": "code",
   "execution_count": 18,
   "metadata": {},
   "outputs": [],
   "source": [
    "def write_test_cases(state : SDLCState) -> SDLCState: \n",
    "    print(\"In write_test_cases...\")\n",
    "    test_cases = generate_test_cases_from_llm(state.project_requirements, state.user_stories)\n",
    "    return {\n",
    "        \"test_cases\": test_cases,\n",
    "        \"test_cases_status\": \"pending_approval\",\n",
    "        \"test_cases_messages\": AIMessage(\n",
    "            content=f\"Please review test cases and provide feedback or type 'Approved' if you're satisfied.\"\n",
    "        ),\n",
    "    }\n",
    "\n",
    "\n",
    "def test_cases_review(state : SDLCState) -> SDLCState:\n",
    "    print(\"In test_cases_review...\")\n",
    "    user_feedback = state.test_cases_messages[-1].content.lower().strip()\n",
    "    print(\"user feedback:\", user_feedback)\n",
    "    approved = user_feedback == \"approved\"\n",
    "    return {\n",
    "        \"test_cases_status\": \"approved\" if approved else \"feedback\",\n",
    "        \"test_cases_messages\": AIMessage(\n",
    "            content=\"Great! Test cases have been finalized. You can now proceed with next steps.\"\n",
    "            if approved else\n",
    "            \"I've received your feedback. I'll revise the test cases accordingly.\"),\n",
    "    }\n",
    "\n",
    "def should_fix_test_cases(state : SDLCState) -> Literal[\"feedback\", \"approved\"]:\n",
    "    return \"approved\" if state.test_cases_status == 'approved' else 'feedback'\n",
    "\n",
    "def fixed_testcases_after_review(state : SDLCState) -> SDLCState:\n",
    "    print(\"In fixed_testcases_after_review...\")\n",
    "    user_feedback = state.test_cases_messages[-2].content.lower().strip()\n",
    "    revised_count = state.revised_count + 1\n",
    "    print(\"revised_count :\", revised_count)\n",
    "\n",
    "    if revised_count == 3:\n",
    "        return {\n",
    "            \"test_cases_messages\": AIMessage(\n",
    "                content=\"Test cases have been revision maxed out. Please review the test cases and continue with the next step.\"\n",
    "            ),\n",
    "            \"test_cases_status\": \"approved\"\n",
    "        }\n",
    "    \n",
    "    revised_test_cases = revised_test_cases_from_llm(state.test_cases, user_feedback)\n",
    "    return {\n",
    "        \"test_cases\": revised_test_cases,\n",
    "        \"test_cases_messages\": AIMessage(\n",
    "            content=f\"Please review revised test cases and provide additional feedback or type 'Approved' if you're satisfied.\"\n",
    "        ),\n",
    "        \"test_cases_status\": \"pending_approval\",\n",
    "        \"revised_count\": revised_count\n",
    "    }"
   ]
  },
  {
   "cell_type": "markdown",
   "metadata": {},
   "source": [
    "## QA testing"
   ]
  },
  {
   "cell_type": "code",
   "execution_count": 19,
   "metadata": {},
   "outputs": [],
   "source": [
    "test_cases = [\n",
    "        TestCase(\n",
    "        test_id=\"TC-001\", \n",
    "        description=\"test_case_1\", \n",
    "        steps=[\"step1\", \"step2\", \"step3\"],\n",
    "        status=\"pending\")]"
   ]
  },
  {
   "cell_type": "code",
   "execution_count": 20,
   "metadata": {},
   "outputs": [],
   "source": [
    "def qa_testing_from_llm(test_cases):\n",
    "    qa_testing = [\n",
    "        TestCase(\n",
    "            test_id=\"TC-001\", \n",
    "            description=\"test_case_1\", \n",
    "            steps=[\"step1\", \"step2\", \"step3\"],\n",
    "            status=\"passed\"\n",
    "        ),\n",
    "    ]\n",
    "    return qa_testing  # Returns a list of TestCase objects\n",
    "\n",
    "\n",
    "def revised_backend_code_with_qa_testing_from_llm(code, failed_test_cases):\n",
    "    backend_code = \"print('Revised backend code with qa testing')\"\n",
    "    return backend_code"
   ]
  },
  {
   "cell_type": "code",
   "execution_count": 21,
   "metadata": {},
   "outputs": [],
   "source": [
    "def perform_qa_testing(state : SDLCState) -> SDLCState:\n",
    "    print(\"In perform_qa_testing...\")\n",
    "    test_cases = state.test_cases\n",
    "    qa_testing = qa_testing_from_llm(test_cases)\n",
    "    failed_test_cases = [test_case for test_case in qa_testing if test_case['status'] == \"failed\"]\n",
    "    passed = len(failed_test_cases) == 0\n",
    "    return {\n",
    "        \"qa_testing\": qa_testing,\n",
    "        \"qa_testing_status\": \"passed\" if passed else \"failed\",\n",
    "        \"qa_testing_messages\": AIMessage(\n",
    "            content=\"Great! QA testing have been finalized. You can now proceed with next steps.\"\n",
    "            if passed else\n",
    "            \"I'll revise the code accordingly.\"),\n",
    "    }\n",
    "\n",
    "def should_fix_after_qa_testing(state : SDLCState) -> Literal[\"passed\", \"failed\"]:\n",
    "    return \"passed\" if state.qa_testing_status == 'passed' else 'failed'\n",
    "\n",
    "def fixed_code_after_qa_testing(state : SDLCState) -> SDLCState:\n",
    "    print(\"In fixed_code_after_qa_testing...\")\n",
    "    code_type = \"backend\"\n",
    "    revised_count = state.revised_count + 1\n",
    "    print(\"revised_count :\", revised_count)\n",
    "\n",
    "    if revised_count == 3:\n",
    "        return {\n",
    "            f\"{code_type}_messages\": AIMessage(\n",
    "                content=\"Code have been revision maxed out. Please review the code and continue with the next step.\"\n",
    "            ),\n",
    "            f\"{code_type}_status\": \"approved\"\n",
    "        }\n",
    "    \n",
    "    failed_test_cases = [test_case for test_case in state.qa_testing if test_case['status'] == \"failed\"]\n",
    "    revised_code = revised_backend_code_with_qa_testing_from_llm(state.backend_code, failed_test_cases)\n",
    "    return {\n",
    "        f\"{code_type}_code\": revised_code,\n",
    "        f\"{code_type}_messages\": AIMessage(\n",
    "            content=f\"Please review revised {code_type} code and provide additional feedback or type 'Approved' if you're satisfied.\"\n",
    "        ),\n",
    "        f\"{code_type}_status\": \"pending_approval\",\n",
    "        \"revised_count\": revised_count\n",
    "    }\n"
   ]
  },
  {
   "cell_type": "markdown",
   "metadata": {},
   "source": [
    "## Code Deployment"
   ]
  },
  {
   "cell_type": "code",
   "execution_count": 22,
   "metadata": {},
   "outputs": [],
   "source": [
    "def code_deployment(state : SDLCState) -> SDLCState:\n",
    "    print(\"In code_deployment...\")\n",
    "    return {\n",
    "        \"deployment\": \"Code has been deployed successfully.\"\n",
    "    }\n"
   ]
  },
  {
   "cell_type": "markdown",
   "metadata": {},
   "source": [
    "# SDLC Workflow"
   ]
  },
  {
   "cell_type": "code",
   "execution_count": 23,
   "metadata": {},
   "outputs": [],
   "source": [
    "## Node definition\n",
    "from langgraph.graph import StateGraph, START, END\n",
    "from langgraph.checkpoint.memory import MemorySaver\n",
    "memory = MemorySaver()\n",
    "\n",
    "sdlc_graph = StateGraph(SDLCState)\n",
    "\n",
    "# Adding Nodes \n",
    "sdlc_graph.add_node(\"process_project_requirements\", process_project_requirements)\n",
    "sdlc_graph.add_node(\"generate_user_stories\", generate_user_stories)\n",
    "sdlc_graph.add_node(\"review_user_stories\", review_user_stories)\n",
    "sdlc_graph.add_node(\"revised_user_stories\", revised_user_stories)\n",
    "\n",
    "## Functional documents \n",
    "sdlc_graph.add_node(\"create_functional_documents\", create_functional_documents)\n",
    "sdlc_graph.add_node(\"review_functional_documents\", review_functional_documents)\n",
    "sdlc_graph.add_node(\"revise_functional_documents\", revise_functional_documents)\n",
    "\n",
    "## Technical documents \n",
    "sdlc_graph.add_node(\"create_technical_documents\", create_technical_documents)\n",
    "sdlc_graph.add_node(\"review_technical_documents\", review_technical_documents)\n",
    "sdlc_graph.add_node(\"revise_technical_documents\", revise_technical_documents)\n",
    "\n",
    "## Frontend code \n",
    "sdlc_graph.add_node(\"generate_frontend_code\", generate_frontend_code)\n",
    "sdlc_graph.add_node(\"review_frontend_code\", review_frontend_code)\n",
    "sdlc_graph.add_node(\"fix_frontend_code\", fix_frontend_code)\n",
    "\n",
    "## Backend code\n",
    "sdlc_graph.add_node(\"generate_backend_code\", generate_backend_code)\n",
    "sdlc_graph.add_node(\"review_backend_code\", review_backend_code)\n",
    "sdlc_graph.add_node(\"fix_backend_code\", fix_backend_code)\n",
    "\n",
    "## Security Review\n",
    "sdlc_graph.add_node(\"check_code_for_security_issues\", check_code_for_security_issues)\n",
    "sdlc_graph.add_node(\"security_review\", security_review)\n",
    "sdlc_graph.add_node(\"fix_code_after_security_review\", fix_code_after_security_review)\n",
    "\n",
    "## Test Cases\n",
    "sdlc_graph.add_node(\"write_test_cases\", write_test_cases)\n",
    "sdlc_graph.add_node(\"test_cases_review\", test_cases_review)\n",
    "sdlc_graph.add_node(\"fixed_testcases_after_review\", fixed_testcases_after_review)\n",
    "\n",
    "## QA testing\n",
    "sdlc_graph.add_node(\"perform_qa_testing\", perform_qa_testing)\n",
    "sdlc_graph.add_node(\"fixed_code_after_qa_testing\", fixed_code_after_qa_testing)\n",
    "\n",
    "## Code deployment\n",
    "sdlc_graph.add_node(\"code_deployment\", code_deployment)\n",
    "\n",
    "\n",
    "\n",
    "## Edges\n",
    "sdlc_graph.add_edge(START, \"process_project_requirements\")\n",
    "sdlc_graph.add_edge(\"process_project_requirements\", \"generate_user_stories\")\n",
    "sdlc_graph.add_edge(\"generate_user_stories\", \"review_user_stories\")\n",
    "sdlc_graph.add_conditional_edges(\n",
    "    \"review_user_stories\",\n",
    "    should_revise_user_stories,\n",
    "    {\n",
    "        \"feedback\": \"revised_user_stories\",\n",
    "        \"approved\": \"create_functional_documents\"\n",
    "    }\n",
    ")\n",
    "sdlc_graph.add_edge(\"revised_user_stories\", \"review_user_stories\")\n",
    "\n",
    "## Design documents \n",
    "sdlc_graph.add_edge(\"create_functional_documents\", \"review_functional_documents\")\n",
    "sdlc_graph.add_conditional_edges(\n",
    "    \"review_functional_documents\",\n",
    "    should_revise_function_documents,\n",
    "    {\n",
    "        \"feedback\" : \"revise_functional_documents\",\n",
    "        \"approved\" : \"create_technical_documents\"\n",
    "    }\n",
    ")\n",
    "sdlc_graph.add_edge(\"revise_functional_documents\", \"review_functional_documents\")\n",
    "sdlc_graph.add_edge(\"create_technical_documents\", \"review_technical_documents\")\n",
    "sdlc_graph.add_conditional_edges(\n",
    "    \"review_technical_documents\",\n",
    "    should_revise_technical_documents,\n",
    "    {\n",
    "        \"feedback\" : \"revise_technical_documents\",\n",
    "        \"approved\" : \"generate_frontend_code\"\n",
    "    }\n",
    ")\n",
    "sdlc_graph.add_edge(\"revise_technical_documents\", \"review_technical_documents\")\n",
    "\n",
    "## Frontend code \n",
    "sdlc_graph.add_edge(\"generate_frontend_code\", \"review_frontend_code\")\n",
    "sdlc_graph.add_conditional_edges(\n",
    "    \"review_frontend_code\",\n",
    "    should_fix_frontend_code,\n",
    "    {\n",
    "        \"feedback\" : \"fix_frontend_code\",\n",
    "        \"approved\" : \"generate_backend_code\"\n",
    "    }\n",
    ")\n",
    "sdlc_graph.add_edge(\"fix_frontend_code\", \"review_frontend_code\")\n",
    "\n",
    "## Backend code \n",
    "sdlc_graph.add_edge(\"generate_backend_code\", \"review_backend_code\")\n",
    "sdlc_graph.add_conditional_edges(\n",
    "    \"review_backend_code\",\n",
    "    should_fix_backend_code,\n",
    "    {\n",
    "        \"feedback\" : \"fix_backend_code\",\n",
    "        \"approved\" : \"check_code_for_security_issues\"\n",
    "    }\n",
    ")\n",
    "sdlc_graph.add_edge(\"fix_backend_code\", \"review_backend_code\")\n",
    "\n",
    "## Security Review\n",
    "sdlc_graph.add_edge(\"check_code_for_security_issues\", \"security_review\")\n",
    "sdlc_graph.add_conditional_edges(\n",
    "    \"security_review\",\n",
    "    should_fix_code_after_security_review,\n",
    "    {\n",
    "        \"feedback\" : \"fix_code_after_security_review\",\n",
    "        \"approved\" : \"write_test_cases\"\n",
    "    }\n",
    ")\n",
    "\n",
    "sdlc_graph.add_edge(\"fix_code_after_security_review\", \"review_backend_code\")\n",
    "\n",
    "## test cases\n",
    "sdlc_graph.add_edge(\"write_test_cases\", \"test_cases_review\")\n",
    "sdlc_graph.add_conditional_edges(\n",
    "    \"test_cases_review\",\n",
    "    should_fix_test_cases,\n",
    "    {\n",
    "        \"feedback\" : \"fixed_testcases_after_review\",\n",
    "        \"approved\" : \"perform_qa_testing\"\n",
    "    }\n",
    ")\n",
    "\n",
    "sdlc_graph.add_edge(\"fixed_testcases_after_review\", \"test_cases_review\")\n",
    "\n",
    "## QA testing\n",
    "sdlc_graph.add_conditional_edges(\n",
    "    \"perform_qa_testing\",\n",
    "    should_fix_after_qa_testing,\n",
    "    {\n",
    "        \"failed\" : \"fixed_code_after_qa_testing\",\n",
    "        \"passed\" : \"code_deployment\"\n",
    "    }\n",
    ")\n",
    "\n",
    "sdlc_graph.add_edge(\"fixed_code_after_qa_testing\", \"review_backend_code\")\n",
    "\n",
    "sdlc_graph.add_edge(\"code_deployment\", END)\n",
    "\n",
    "# Compile the graph\n",
    "sdlc_workflow = sdlc_graph.compile(checkpointer=memory, interrupt_before=[\"review_user_stories\", \"review_functional_documents\", \"review_technical_documents\", \"review_frontend_code\", \"review_backend_code\", \"security_review\", \"test_cases_review\"])"
   ]
  },
  {
   "cell_type": "code",
   "execution_count": 24,
   "metadata": {},
   "outputs": [],
   "source": [
    "# from IPython.display import Image, display\n",
    "# display(Image(sdlc_workflow.get_graph().draw_mermaid_png()))"
   ]
  },
  {
   "cell_type": "code",
   "execution_count": 25,
   "metadata": {},
   "outputs": [],
   "source": [
    "# # from IPython.display import Image, display\n",
    "# # display(Image(sdlc_workflow.get_graph().draw_mermaid_png()))\n",
    "\n",
    "# png_data = sdlc_workflow.get_graph().draw_mermaid_png()\n",
    "\n",
    "# # Save it to a file\n",
    "# with open(\"sdlc_workflow.png\", \"wb\") as f:\n",
    "#     f.write(png_data)"
   ]
  },
  {
   "cell_type": "markdown",
   "metadata": {},
   "source": [
    "# User stories"
   ]
  },
  {
   "cell_type": "code",
   "execution_count": 26,
   "metadata": {},
   "outputs": [],
   "source": [
    "project_title = \"PayMate: Your Ultimate Payment Companion\"\n",
    "project_description = \"PayMate is a comprehensive payment application that allows users to perform seamless transactions using the Unified Payments Interface (UPI). Beyond basic payments, PayMate offers features such as quick loans, bill payments, and a user-friendly interface, making it a one-stop solution for all financial needs.\"\n",
    "requirements = [\"Implement multi-factor authentication, including biometrics (fingerprint and facial recognition) and MPIN, to secure user accounts.​\", \"Enable users to link multiple bank accounts and perform instant fund transfers using UPI.\", \"Provide users with access to instant micro-loans with minimal documentation.\", \"Allow users to pay utility bills such as electricity, water, gas, and broadband directly through the app.\"]\n",
    "requirements_string = \"\\n\".join(requirements)"
   ]
  },
  {
   "cell_type": "code",
   "execution_count": 27,
   "metadata": {},
   "outputs": [
    {
     "name": "stdout",
     "output_type": "stream",
     "text": [
      "In process_project_requirements...\n",
      "In generate_user_stories...\n"
     ]
    },
    {
     "data": {
      "text/plain": [
       "{'project_requirements': ProjectRequirements(title='PayMate: Your Ultimate Payment Companion', description='PayMate is a comprehensive payment application that allows users to perform seamless transactions using the Unified Payments Interface (UPI). Beyond basic payments, PayMate offers features such as quick loans, bill payments, and a user-friendly interface, making it a one-stop solution for all financial needs.', requirements=['Implement multi-factor authentication, including biometrics (fingerprint and facial recognition) and MPIN, to secure user accounts.\\u200b', 'Enable users to link multiple bank accounts and perform instant fund transfers using UPI.', 'Provide users with access to instant micro-loans with minimal documentation.', 'Allow users to pay utility bills such as electricity, water, gas, and broadband directly through the app.']),\n",
       " 'revised_count': 0,\n",
       " 'user_stories': [{'story_id': 'US-001',\n",
       "   'title': 'Secure Account with Multi-Factor Authentication',\n",
       "   'description': 'As a user, I want to secure my account with multi-factor authentication so that my transactions are protected.',\n",
       "   'acceptance_criteria': ['User can enable biometric authentication (fingerprint and facial recognition).',\n",
       "    'User can set up MPIN for additional security.',\n",
       "    'User can enable two-factor authentication for transactions.',\n",
       "    'System alerts user of authentication failures.']}],\n",
       " 'user_story_messages': [HumanMessage(content=\"title='PayMate: Your Ultimate Payment Companion' description='PayMate is a comprehensive payment application that allows users to perform seamless transactions using the Unified Payments Interface (UPI). Beyond basic payments, PayMate offers features such as quick loans, bill payments, and a user-friendly interface, making it a one-stop solution for all financial needs.' requirements=['Implement multi-factor authentication, including biometrics (fingerprint and facial recognition) and MPIN, to secure user accounts.\\\\u200b', 'Enable users to link multiple bank accounts and perform instant fund transfers using UPI.', 'Provide users with access to instant micro-loans with minimal documentation.', 'Allow users to pay utility bills such as electricity, water, gas, and broadband directly through the app.']\", additional_kwargs={}, response_metadata={}, id='23ab0e14-aeb7-4f5c-9c47-dcd8beaf6c45'),\n",
       "  AIMessage(content=\"I've received your project requirements. I'll now generate user stories based on these requirements.\", additional_kwargs={}, response_metadata={}, id='17b94b8b-c046-4e1e-8afd-da6385e7abb0'),\n",
       "  AIMessage(content=\"Based on your requirements, I've generated 1 user stories. Please review these user stories and provide feedback or type 'Approved' if you're satisfied.\", additional_kwargs={}, response_metadata={}, id='792be5b2-1a97-4d58-9872-f3a6b37210ce')],\n",
       " 'user_story_status': 'pending_approval',\n",
       " 'functional_messages': [],\n",
       " 'technical_messages': [],\n",
       " 'frontend_messages': [],\n",
       " 'backend_messages': [],\n",
       " 'security_reviews_messages': [],\n",
       " 'test_cases_messages': [],\n",
       " 'qa_testing_messages': [],\n",
       " 'deployment_messages': []}"
      ]
     },
     "execution_count": 27,
     "metadata": {},
     "output_type": "execute_result"
    }
   ],
   "source": [
    "project_requirements = ProjectRequirements(\n",
    "    title = project_title,\n",
    "    description = project_description,\n",
    "    requirements = requirements\n",
    ")\n",
    "\n",
    "initial_story_state = {\n",
    "    \"project_requirements\" : project_requirements,\n",
    "    \"user_stories\": [],\n",
    "    \"user_story_messages\": HumanMessage(content=f\"{project_requirements}\"),\n",
    "    \"user_story_status\": \"in_progress\",\n",
    "    \"revised_count\" : 0,\n",
    "}\n",
    "\n",
    "# Thread\n",
    "thread = {\"configurable\": {\"thread_id\": \"12345\"}}\n",
    "\n",
    "state = None\n",
    "for event in sdlc_workflow.stream(initial_story_state, thread, stream_mode=\"values\"):\n",
    "    state = event\n",
    "\n",
    "state"
   ]
  },
  {
   "cell_type": "code",
   "execution_count": 28,
   "metadata": {},
   "outputs": [
    {
     "data": {
      "text/plain": [
       "('review_user_stories',)"
      ]
     },
     "execution_count": 28,
     "metadata": {},
     "output_type": "execute_result"
    }
   ],
   "source": [
    "current_state = sdlc_workflow.get_state(thread) \n",
    "current_state.next"
   ]
  },
  {
   "cell_type": "code",
   "execution_count": 29,
   "metadata": {},
   "outputs": [
    {
     "name": "stdout",
     "output_type": "stream",
     "text": [
      "In review_user_stories...\n",
      "user_review :  add user story to buy insurance from the app\n",
      "In revised_user_stories...\n",
      "revised_count :  1\n"
     ]
    },
    {
     "data": {
      "text/plain": [
       "{'project_requirements': ProjectRequirements(title='PayMate: Your Ultimate Payment Companion', description='PayMate is a comprehensive payment application that allows users to perform seamless transactions using the Unified Payments Interface (UPI). Beyond basic payments, PayMate offers features such as quick loans, bill payments, and a user-friendly interface, making it a one-stop solution for all financial needs.', requirements=['Implement multi-factor authentication, including biometrics (fingerprint and facial recognition) and MPIN, to secure user accounts.\\u200b', 'Enable users to link multiple bank accounts and perform instant fund transfers using UPI.', 'Provide users with access to instant micro-loans with minimal documentation.', 'Allow users to pay utility bills such as electricity, water, gas, and broadband directly through the app.']),\n",
       " 'revised_count': 1,\n",
       " 'user_stories': [{'story_id': 'US-001',\n",
       "   'title': 'Secure Account with Multi-Factor Authentication',\n",
       "   'description': 'As a user, I want to secure my account with multi-factor authentication so that my transactions are protected.',\n",
       "   'acceptance_criteria': ['User can enable biometric authentication (fingerprint and facial recognition).',\n",
       "    'User can set up MPIN for additional security.',\n",
       "    'User can enable two-factor authentication for transactions.',\n",
       "    'System alerts user of authentication failures.']},\n",
       "  {'story_id': 'US-002',\n",
       "   'title': 'Link Multiple Bank Accounts',\n",
       "   'description': 'As a user, I want to link multiple bank accounts so that I can transfer funds instantly.',\n",
       "   'acceptance_criteria': ['User can add multiple bank accounts to their profile.',\n",
       "    'User can select any linked account for fund transfers.',\n",
       "    'Linked accounts display current balance.',\n",
       "    'System confirms successful linking of accounts.']}],\n",
       " 'user_story_messages': [HumanMessage(content=\"title='PayMate: Your Ultimate Payment Companion' description='PayMate is a comprehensive payment application that allows users to perform seamless transactions using the Unified Payments Interface (UPI). Beyond basic payments, PayMate offers features such as quick loans, bill payments, and a user-friendly interface, making it a one-stop solution for all financial needs.' requirements=['Implement multi-factor authentication, including biometrics (fingerprint and facial recognition) and MPIN, to secure user accounts.\\\\u200b', 'Enable users to link multiple bank accounts and perform instant fund transfers using UPI.', 'Provide users with access to instant micro-loans with minimal documentation.', 'Allow users to pay utility bills such as electricity, water, gas, and broadband directly through the app.']\", additional_kwargs={}, response_metadata={}, id='23ab0e14-aeb7-4f5c-9c47-dcd8beaf6c45'),\n",
       "  AIMessage(content=\"I've received your project requirements. I'll now generate user stories based on these requirements.\", additional_kwargs={}, response_metadata={}, id='17b94b8b-c046-4e1e-8afd-da6385e7abb0'),\n",
       "  AIMessage(content=\"Based on your requirements, I've generated 1 user stories. Please review these user stories and provide feedback or type 'Approved' if you're satisfied.\", additional_kwargs={}, response_metadata={}, id='792be5b2-1a97-4d58-9872-f3a6b37210ce'),\n",
       "  HumanMessage(content='Add user story to buy insurance from the app', additional_kwargs={}, response_metadata={}, id='4020b530-ee59-42c9-a21b-1834904187b7'),\n",
       "  AIMessage(content=\"I've received your feedback. I'll revise the user stories accordingly.\", additional_kwargs={}, response_metadata={}, id='0eeb130c-a88f-4911-bd39-d07b3ced496e'),\n",
       "  AIMessage(content=\"I've revised the user stories based on your feedback.\\n\\nPlease review these updated user stories and provide additional feedback or type 'Approved' if you're satisfied.\", additional_kwargs={}, response_metadata={}, id='940e8513-3440-4078-8e87-c4dda4a39e01')],\n",
       " 'user_story_status': 'pending_approval',\n",
       " 'functional_messages': [],\n",
       " 'technical_messages': [],\n",
       " 'frontend_messages': [],\n",
       " 'backend_messages': [],\n",
       " 'security_reviews_messages': [],\n",
       " 'test_cases_messages': [],\n",
       " 'qa_testing_messages': [],\n",
       " 'deployment_messages': []}"
      ]
     },
     "execution_count": 29,
     "metadata": {},
     "output_type": "execute_result"
    }
   ],
   "source": [
    "user_feedback = \"Add user story to buy insurance from the app\"\n",
    "sdlc_workflow.update_state(thread, { \"user_story_messages\" : HumanMessage(content=f'{user_feedback}')})\n",
    "\n",
    "for event in sdlc_workflow.stream(None, thread, stream_mode=\"values\"):\n",
    "    state = event\n",
    "\n",
    "state"
   ]
  },
  {
   "cell_type": "code",
   "execution_count": 30,
   "metadata": {},
   "outputs": [
    {
     "name": "stdout",
     "output_type": "stream",
     "text": [
      "In review_user_stories...\n",
      "user_review :  approved\n",
      "In create_functional_documents...\n"
     ]
    },
    {
     "data": {
      "text/plain": [
       "{'project_requirements': ProjectRequirements(title='PayMate: Your Ultimate Payment Companion', description='PayMate is a comprehensive payment application that allows users to perform seamless transactions using the Unified Payments Interface (UPI). Beyond basic payments, PayMate offers features such as quick loans, bill payments, and a user-friendly interface, making it a one-stop solution for all financial needs.', requirements=['Implement multi-factor authentication, including biometrics (fingerprint and facial recognition) and MPIN, to secure user accounts.\\u200b', 'Enable users to link multiple bank accounts and perform instant fund transfers using UPI.', 'Provide users with access to instant micro-loans with minimal documentation.', 'Allow users to pay utility bills such as electricity, water, gas, and broadband directly through the app.']),\n",
       " 'revised_count': 0,\n",
       " 'user_stories': [{'story_id': 'US-001',\n",
       "   'title': 'Secure Account with Multi-Factor Authentication',\n",
       "   'description': 'As a user, I want to secure my account with multi-factor authentication so that my transactions are protected.',\n",
       "   'acceptance_criteria': ['User can enable biometric authentication (fingerprint and facial recognition).',\n",
       "    'User can set up MPIN for additional security.',\n",
       "    'User can enable two-factor authentication for transactions.',\n",
       "    'System alerts user of authentication failures.']},\n",
       "  {'story_id': 'US-002',\n",
       "   'title': 'Link Multiple Bank Accounts',\n",
       "   'description': 'As a user, I want to link multiple bank accounts so that I can transfer funds instantly.',\n",
       "   'acceptance_criteria': ['User can add multiple bank accounts to their profile.',\n",
       "    'User can select any linked account for fund transfers.',\n",
       "    'Linked accounts display current balance.',\n",
       "    'System confirms successful linking of accounts.']}],\n",
       " 'user_story_messages': [HumanMessage(content=\"title='PayMate: Your Ultimate Payment Companion' description='PayMate is a comprehensive payment application that allows users to perform seamless transactions using the Unified Payments Interface (UPI). Beyond basic payments, PayMate offers features such as quick loans, bill payments, and a user-friendly interface, making it a one-stop solution for all financial needs.' requirements=['Implement multi-factor authentication, including biometrics (fingerprint and facial recognition) and MPIN, to secure user accounts.\\\\u200b', 'Enable users to link multiple bank accounts and perform instant fund transfers using UPI.', 'Provide users with access to instant micro-loans with minimal documentation.', 'Allow users to pay utility bills such as electricity, water, gas, and broadband directly through the app.']\", additional_kwargs={}, response_metadata={}, id='23ab0e14-aeb7-4f5c-9c47-dcd8beaf6c45'),\n",
       "  AIMessage(content=\"I've received your project requirements. I'll now generate user stories based on these requirements.\", additional_kwargs={}, response_metadata={}, id='17b94b8b-c046-4e1e-8afd-da6385e7abb0'),\n",
       "  AIMessage(content=\"Based on your requirements, I've generated 1 user stories. Please review these user stories and provide feedback or type 'Approved' if you're satisfied.\", additional_kwargs={}, response_metadata={}, id='792be5b2-1a97-4d58-9872-f3a6b37210ce'),\n",
       "  HumanMessage(content='Add user story to buy insurance from the app', additional_kwargs={}, response_metadata={}, id='4020b530-ee59-42c9-a21b-1834904187b7'),\n",
       "  AIMessage(content=\"I've received your feedback. I'll revise the user stories accordingly.\", additional_kwargs={}, response_metadata={}, id='0eeb130c-a88f-4911-bd39-d07b3ced496e'),\n",
       "  AIMessage(content=\"I've revised the user stories based on your feedback.\\n\\nPlease review these updated user stories and provide additional feedback or type 'Approved' if you're satisfied.\", additional_kwargs={}, response_metadata={}, id='940e8513-3440-4078-8e87-c4dda4a39e01'),\n",
       "  HumanMessage(content='Approved', additional_kwargs={}, response_metadata={}, id='7e57f7fa-613b-4c88-81e2-fe1ed44b1da9'),\n",
       "  AIMessage(content='Great! Your user stories have been finalized. You can now proceed with your design process.', additional_kwargs={}, response_metadata={}, id='cacb67a9-ecbc-4a08-ae55-fca3b2022f21')],\n",
       " 'user_story_status': 'approved',\n",
       " 'functional_documents': [DocumentSection(title='FUNCTIONAL REQUIREMENTS', content='FR-1: The system shall provide a Forgot Password option on the login page.')],\n",
       " 'functional_messages': [AIMessage(content=\"Please review functional design document and provide feedback or type 'Approved' if you're satisfied.\", additional_kwargs={}, response_metadata={}, id='dfa85ac5-02c4-45cf-9dcc-c11452a65c01')],\n",
       " 'functional_status': 'pending_approval',\n",
       " 'technical_messages': [],\n",
       " 'frontend_messages': [],\n",
       " 'backend_messages': [],\n",
       " 'security_reviews_messages': [],\n",
       " 'test_cases_messages': [],\n",
       " 'qa_testing_messages': [],\n",
       " 'deployment_messages': []}"
      ]
     },
     "execution_count": 30,
     "metadata": {},
     "output_type": "execute_result"
    }
   ],
   "source": [
    "user_feedback = \"Add user story to buy insurance from the app\"\n",
    "sdlc_workflow.update_state(thread, { \"user_story_messages\" : HumanMessage(content='Approved'), \"revised_count\" : 0})\n",
    "\n",
    "for event in sdlc_workflow.stream(None, thread, stream_mode=\"values\"):\n",
    "    state = event\n",
    "\n",
    "state"
   ]
  },
  {
   "cell_type": "markdown",
   "metadata": {},
   "source": [
    "# Documentation"
   ]
  },
  {
   "cell_type": "code",
   "execution_count": 31,
   "metadata": {},
   "outputs": [
    {
     "data": {
      "text/plain": [
       "('review_functional_documents',)"
      ]
     },
     "execution_count": 31,
     "metadata": {},
     "output_type": "execute_result"
    }
   ],
   "source": [
    "current_state = sdlc_workflow.get_state(thread) \n",
    "current_state.next"
   ]
  },
  {
   "cell_type": "code",
   "execution_count": 32,
   "metadata": {},
   "outputs": [
    {
     "name": "stdout",
     "output_type": "stream",
     "text": [
      "In review_functional_documents...\n",
      "user feedback: revised the document for buy insurance from the app\n",
      "In revise_functional_documents...\n",
      "user feedback: revised the document for buy insurance from the app\n",
      "revised_count : 1\n"
     ]
    },
    {
     "data": {
      "text/plain": [
       "{'project_requirements': ProjectRequirements(title='PayMate: Your Ultimate Payment Companion', description='PayMate is a comprehensive payment application that allows users to perform seamless transactions using the Unified Payments Interface (UPI). Beyond basic payments, PayMate offers features such as quick loans, bill payments, and a user-friendly interface, making it a one-stop solution for all financial needs.', requirements=['Implement multi-factor authentication, including biometrics (fingerprint and facial recognition) and MPIN, to secure user accounts.\\u200b', 'Enable users to link multiple bank accounts and perform instant fund transfers using UPI.', 'Provide users with access to instant micro-loans with minimal documentation.', 'Allow users to pay utility bills such as electricity, water, gas, and broadband directly through the app.']),\n",
       " 'revised_count': 1,\n",
       " 'user_stories': [{'story_id': 'US-001',\n",
       "   'title': 'Secure Account with Multi-Factor Authentication',\n",
       "   'description': 'As a user, I want to secure my account with multi-factor authentication so that my transactions are protected.',\n",
       "   'acceptance_criteria': ['User can enable biometric authentication (fingerprint and facial recognition).',\n",
       "    'User can set up MPIN for additional security.',\n",
       "    'User can enable two-factor authentication for transactions.',\n",
       "    'System alerts user of authentication failures.']},\n",
       "  {'story_id': 'US-002',\n",
       "   'title': 'Link Multiple Bank Accounts',\n",
       "   'description': 'As a user, I want to link multiple bank accounts so that I can transfer funds instantly.',\n",
       "   'acceptance_criteria': ['User can add multiple bank accounts to their profile.',\n",
       "    'User can select any linked account for fund transfers.',\n",
       "    'Linked accounts display current balance.',\n",
       "    'System confirms successful linking of accounts.']}],\n",
       " 'user_story_messages': [HumanMessage(content=\"title='PayMate: Your Ultimate Payment Companion' description='PayMate is a comprehensive payment application that allows users to perform seamless transactions using the Unified Payments Interface (UPI). Beyond basic payments, PayMate offers features such as quick loans, bill payments, and a user-friendly interface, making it a one-stop solution for all financial needs.' requirements=['Implement multi-factor authentication, including biometrics (fingerprint and facial recognition) and MPIN, to secure user accounts.\\\\u200b', 'Enable users to link multiple bank accounts and perform instant fund transfers using UPI.', 'Provide users with access to instant micro-loans with minimal documentation.', 'Allow users to pay utility bills such as electricity, water, gas, and broadband directly through the app.']\", additional_kwargs={}, response_metadata={}, id='23ab0e14-aeb7-4f5c-9c47-dcd8beaf6c45'),\n",
       "  AIMessage(content=\"I've received your project requirements. I'll now generate user stories based on these requirements.\", additional_kwargs={}, response_metadata={}, id='17b94b8b-c046-4e1e-8afd-da6385e7abb0'),\n",
       "  AIMessage(content=\"Based on your requirements, I've generated 1 user stories. Please review these user stories and provide feedback or type 'Approved' if you're satisfied.\", additional_kwargs={}, response_metadata={}, id='792be5b2-1a97-4d58-9872-f3a6b37210ce'),\n",
       "  HumanMessage(content='Add user story to buy insurance from the app', additional_kwargs={}, response_metadata={}, id='4020b530-ee59-42c9-a21b-1834904187b7'),\n",
       "  AIMessage(content=\"I've received your feedback. I'll revise the user stories accordingly.\", additional_kwargs={}, response_metadata={}, id='0eeb130c-a88f-4911-bd39-d07b3ced496e'),\n",
       "  AIMessage(content=\"I've revised the user stories based on your feedback.\\n\\nPlease review these updated user stories and provide additional feedback or type 'Approved' if you're satisfied.\", additional_kwargs={}, response_metadata={}, id='940e8513-3440-4078-8e87-c4dda4a39e01'),\n",
       "  HumanMessage(content='Approved', additional_kwargs={}, response_metadata={}, id='7e57f7fa-613b-4c88-81e2-fe1ed44b1da9'),\n",
       "  AIMessage(content='Great! Your user stories have been finalized. You can now proceed with your design process.', additional_kwargs={}, response_metadata={}, id='cacb67a9-ecbc-4a08-ae55-fca3b2022f21')],\n",
       " 'user_story_status': 'approved',\n",
       " 'functional_documents': [DocumentSection(title='Revised FUNCTIONAL REQUIREMENTS', content='FR-1: The system shall provide a Forgot Password option on the login page.')],\n",
       " 'functional_messages': [AIMessage(content=\"Please review functional design document and provide feedback or type 'Approved' if you're satisfied.\", additional_kwargs={}, response_metadata={}, id='dfa85ac5-02c4-45cf-9dcc-c11452a65c01'),\n",
       "  HumanMessage(content='Revised the document for buy insurance from the app', additional_kwargs={}, response_metadata={}, id='e363dc19-5aa8-4621-b00b-14ae4761a86a'),\n",
       "  AIMessage(content=\"I've received your feedback. I'll revise the design documents accordingly.\", additional_kwargs={}, response_metadata={}, id='0efade51-9eb9-4dce-a3d4-ded11a1d2b46'),\n",
       "  AIMessage(content=\"Please review revised functional design documents and provide additional feedback or type 'Approved' if you're satisfied.\", additional_kwargs={}, response_metadata={}, id='ac0808d4-a3c2-4fda-84be-bf78a5bfa236')],\n",
       " 'functional_status': 'pending_approval',\n",
       " 'technical_messages': [],\n",
       " 'frontend_messages': [],\n",
       " 'backend_messages': [],\n",
       " 'security_reviews_messages': [],\n",
       " 'test_cases_messages': [],\n",
       " 'qa_testing_messages': [],\n",
       " 'deployment_messages': []}"
      ]
     },
     "execution_count": 32,
     "metadata": {},
     "output_type": "execute_result"
    }
   ],
   "source": [
    "user_feedback = \"Revised the document for buy insurance from the app\"\n",
    "sdlc_workflow.update_state(thread, { \"functional_messages\" : HumanMessage(content=f'{user_feedback}')})\n",
    "# sdlc_workflow.update_state(thread, { \"functional_messages\" : HumanMessage(content='Approved'), \"revised_count\" : 0})\n",
    "\n",
    "for event in sdlc_workflow.stream(None, thread, stream_mode=\"values\"):\n",
    "    state = event\n",
    "\n",
    "state"
   ]
  },
  {
   "cell_type": "code",
   "execution_count": 33,
   "metadata": {},
   "outputs": [
    {
     "name": "stdout",
     "output_type": "stream",
     "text": [
      "In review_functional_documents...\n",
      "user feedback: approved\n",
      "In create_technical_documents...\n"
     ]
    },
    {
     "data": {
      "text/plain": [
       "{'project_requirements': ProjectRequirements(title='PayMate: Your Ultimate Payment Companion', description='PayMate is a comprehensive payment application that allows users to perform seamless transactions using the Unified Payments Interface (UPI). Beyond basic payments, PayMate offers features such as quick loans, bill payments, and a user-friendly interface, making it a one-stop solution for all financial needs.', requirements=['Implement multi-factor authentication, including biometrics (fingerprint and facial recognition) and MPIN, to secure user accounts.\\u200b', 'Enable users to link multiple bank accounts and perform instant fund transfers using UPI.', 'Provide users with access to instant micro-loans with minimal documentation.', 'Allow users to pay utility bills such as electricity, water, gas, and broadband directly through the app.']),\n",
       " 'revised_count': 0,\n",
       " 'user_stories': [{'story_id': 'US-001',\n",
       "   'title': 'Secure Account with Multi-Factor Authentication',\n",
       "   'description': 'As a user, I want to secure my account with multi-factor authentication so that my transactions are protected.',\n",
       "   'acceptance_criteria': ['User can enable biometric authentication (fingerprint and facial recognition).',\n",
       "    'User can set up MPIN for additional security.',\n",
       "    'User can enable two-factor authentication for transactions.',\n",
       "    'System alerts user of authentication failures.']},\n",
       "  {'story_id': 'US-002',\n",
       "   'title': 'Link Multiple Bank Accounts',\n",
       "   'description': 'As a user, I want to link multiple bank accounts so that I can transfer funds instantly.',\n",
       "   'acceptance_criteria': ['User can add multiple bank accounts to their profile.',\n",
       "    'User can select any linked account for fund transfers.',\n",
       "    'Linked accounts display current balance.',\n",
       "    'System confirms successful linking of accounts.']}],\n",
       " 'user_story_messages': [HumanMessage(content=\"title='PayMate: Your Ultimate Payment Companion' description='PayMate is a comprehensive payment application that allows users to perform seamless transactions using the Unified Payments Interface (UPI). Beyond basic payments, PayMate offers features such as quick loans, bill payments, and a user-friendly interface, making it a one-stop solution for all financial needs.' requirements=['Implement multi-factor authentication, including biometrics (fingerprint and facial recognition) and MPIN, to secure user accounts.\\\\u200b', 'Enable users to link multiple bank accounts and perform instant fund transfers using UPI.', 'Provide users with access to instant micro-loans with minimal documentation.', 'Allow users to pay utility bills such as electricity, water, gas, and broadband directly through the app.']\", additional_kwargs={}, response_metadata={}, id='23ab0e14-aeb7-4f5c-9c47-dcd8beaf6c45'),\n",
       "  AIMessage(content=\"I've received your project requirements. I'll now generate user stories based on these requirements.\", additional_kwargs={}, response_metadata={}, id='17b94b8b-c046-4e1e-8afd-da6385e7abb0'),\n",
       "  AIMessage(content=\"Based on your requirements, I've generated 1 user stories. Please review these user stories and provide feedback or type 'Approved' if you're satisfied.\", additional_kwargs={}, response_metadata={}, id='792be5b2-1a97-4d58-9872-f3a6b37210ce'),\n",
       "  HumanMessage(content='Add user story to buy insurance from the app', additional_kwargs={}, response_metadata={}, id='4020b530-ee59-42c9-a21b-1834904187b7'),\n",
       "  AIMessage(content=\"I've received your feedback. I'll revise the user stories accordingly.\", additional_kwargs={}, response_metadata={}, id='0eeb130c-a88f-4911-bd39-d07b3ced496e'),\n",
       "  AIMessage(content=\"I've revised the user stories based on your feedback.\\n\\nPlease review these updated user stories and provide additional feedback or type 'Approved' if you're satisfied.\", additional_kwargs={}, response_metadata={}, id='940e8513-3440-4078-8e87-c4dda4a39e01'),\n",
       "  HumanMessage(content='Approved', additional_kwargs={}, response_metadata={}, id='7e57f7fa-613b-4c88-81e2-fe1ed44b1da9'),\n",
       "  AIMessage(content='Great! Your user stories have been finalized. You can now proceed with your design process.', additional_kwargs={}, response_metadata={}, id='cacb67a9-ecbc-4a08-ae55-fca3b2022f21')],\n",
       " 'user_story_status': 'approved',\n",
       " 'functional_documents': [DocumentSection(title='Revised FUNCTIONAL REQUIREMENTS', content='FR-1: The system shall provide a Forgot Password option on the login page.')],\n",
       " 'functional_messages': [AIMessage(content=\"Please review functional design document and provide feedback or type 'Approved' if you're satisfied.\", additional_kwargs={}, response_metadata={}, id='dfa85ac5-02c4-45cf-9dcc-c11452a65c01'),\n",
       "  HumanMessage(content='Revised the document for buy insurance from the app', additional_kwargs={}, response_metadata={}, id='e363dc19-5aa8-4621-b00b-14ae4761a86a'),\n",
       "  AIMessage(content=\"I've received your feedback. I'll revise the design documents accordingly.\", additional_kwargs={}, response_metadata={}, id='0efade51-9eb9-4dce-a3d4-ded11a1d2b46'),\n",
       "  AIMessage(content=\"Please review revised functional design documents and provide additional feedback or type 'Approved' if you're satisfied.\", additional_kwargs={}, response_metadata={}, id='ac0808d4-a3c2-4fda-84be-bf78a5bfa236'),\n",
       "  HumanMessage(content='Approved', additional_kwargs={}, response_metadata={}, id='7c6ef2ca-04ac-4e81-8fe8-0504f06e42b9'),\n",
       "  AIMessage(content='Great! Your design documents have been finalized. You can now proceed with your design process.', additional_kwargs={}, response_metadata={}, id='a06064c7-4428-4836-9665-32a1495000db')],\n",
       " 'functional_status': 'approved',\n",
       " 'technical_documents': [DocumentSection(title='Technical Document: MODULES & COMPONENTS DESIGN', content='Auth API Module: Exposes RESTful endpoints for password')],\n",
       " 'technical_messages': [AIMessage(content=\"Please review technical design document and provide feedback or type 'Approved' if you're satisfied.\", additional_kwargs={}, response_metadata={}, id='a7273bb0-a098-4d43-9230-4f04cc8ebe14')],\n",
       " 'technical_status': 'pending_approval',\n",
       " 'frontend_messages': [],\n",
       " 'backend_messages': [],\n",
       " 'security_reviews_messages': [],\n",
       " 'test_cases_messages': [],\n",
       " 'qa_testing_messages': [],\n",
       " 'deployment_messages': []}"
      ]
     },
     "execution_count": 33,
     "metadata": {},
     "output_type": "execute_result"
    }
   ],
   "source": [
    "user_feedback = \"Revised the document for buy insurance from the app\"\n",
    "sdlc_workflow.update_state(thread, { \"functional_messages\" : HumanMessage(content='Approved'), \"revised_count\" : 0})\n",
    "\n",
    "for event in sdlc_workflow.stream(None, thread, stream_mode=\"values\"):\n",
    "    state = event\n",
    "\n",
    "state"
   ]
  },
  {
   "cell_type": "code",
   "execution_count": 34,
   "metadata": {},
   "outputs": [
    {
     "data": {
      "text/plain": [
       "('review_technical_documents',)"
      ]
     },
     "execution_count": 34,
     "metadata": {},
     "output_type": "execute_result"
    }
   ],
   "source": [
    "## technical document\n",
    "current_state = sdlc_workflow.get_state(thread) \n",
    "current_state.next"
   ]
  },
  {
   "cell_type": "code",
   "execution_count": 35,
   "metadata": {},
   "outputs": [],
   "source": [
    "# user_feedback = \"Revised the technical document for buy insurance from the app\"\n",
    "# # sdlc_workflow.update_state(thread, { \"technical_messages\" : HumanMessage(content=f'{user_feedback}')})\n",
    "# # sdlc_workflow.update_state(thread, { \"technical_messages\" : HumanMessage(content='Approved'), \"revised_count\" : 0})\n",
    "\n",
    "# for event in sdlc_workflow.stream(None, thread, stream_mode=\"values\"):\n",
    "#     state = event\n",
    "    \n",
    "# state\n"
   ]
  },
  {
   "cell_type": "code",
   "execution_count": 36,
   "metadata": {},
   "outputs": [
    {
     "name": "stdout",
     "output_type": "stream",
     "text": [
      "In review_technical_documents...\n"
     ]
    },
    {
     "name": "stdout",
     "output_type": "stream",
     "text": [
      "user feedback: approved\n",
      "In generate_frontend_code...\n"
     ]
    },
    {
     "data": {
      "text/plain": [
       "{'project_requirements': ProjectRequirements(title='PayMate: Your Ultimate Payment Companion', description='PayMate is a comprehensive payment application that allows users to perform seamless transactions using the Unified Payments Interface (UPI). Beyond basic payments, PayMate offers features such as quick loans, bill payments, and a user-friendly interface, making it a one-stop solution for all financial needs.', requirements=['Implement multi-factor authentication, including biometrics (fingerprint and facial recognition) and MPIN, to secure user accounts.\\u200b', 'Enable users to link multiple bank accounts and perform instant fund transfers using UPI.', 'Provide users with access to instant micro-loans with minimal documentation.', 'Allow users to pay utility bills such as electricity, water, gas, and broadband directly through the app.']),\n",
       " 'revised_count': 0,\n",
       " 'user_stories': [{'story_id': 'US-001',\n",
       "   'title': 'Secure Account with Multi-Factor Authentication',\n",
       "   'description': 'As a user, I want to secure my account with multi-factor authentication so that my transactions are protected.',\n",
       "   'acceptance_criteria': ['User can enable biometric authentication (fingerprint and facial recognition).',\n",
       "    'User can set up MPIN for additional security.',\n",
       "    'User can enable two-factor authentication for transactions.',\n",
       "    'System alerts user of authentication failures.']},\n",
       "  {'story_id': 'US-002',\n",
       "   'title': 'Link Multiple Bank Accounts',\n",
       "   'description': 'As a user, I want to link multiple bank accounts so that I can transfer funds instantly.',\n",
       "   'acceptance_criteria': ['User can add multiple bank accounts to their profile.',\n",
       "    'User can select any linked account for fund transfers.',\n",
       "    'Linked accounts display current balance.',\n",
       "    'System confirms successful linking of accounts.']}],\n",
       " 'user_story_messages': [HumanMessage(content=\"title='PayMate: Your Ultimate Payment Companion' description='PayMate is a comprehensive payment application that allows users to perform seamless transactions using the Unified Payments Interface (UPI). Beyond basic payments, PayMate offers features such as quick loans, bill payments, and a user-friendly interface, making it a one-stop solution for all financial needs.' requirements=['Implement multi-factor authentication, including biometrics (fingerprint and facial recognition) and MPIN, to secure user accounts.\\\\u200b', 'Enable users to link multiple bank accounts and perform instant fund transfers using UPI.', 'Provide users with access to instant micro-loans with minimal documentation.', 'Allow users to pay utility bills such as electricity, water, gas, and broadband directly through the app.']\", additional_kwargs={}, response_metadata={}, id='23ab0e14-aeb7-4f5c-9c47-dcd8beaf6c45'),\n",
       "  AIMessage(content=\"I've received your project requirements. I'll now generate user stories based on these requirements.\", additional_kwargs={}, response_metadata={}, id='17b94b8b-c046-4e1e-8afd-da6385e7abb0'),\n",
       "  AIMessage(content=\"Based on your requirements, I've generated 1 user stories. Please review these user stories and provide feedback or type 'Approved' if you're satisfied.\", additional_kwargs={}, response_metadata={}, id='792be5b2-1a97-4d58-9872-f3a6b37210ce'),\n",
       "  HumanMessage(content='Add user story to buy insurance from the app', additional_kwargs={}, response_metadata={}, id='4020b530-ee59-42c9-a21b-1834904187b7'),\n",
       "  AIMessage(content=\"I've received your feedback. I'll revise the user stories accordingly.\", additional_kwargs={}, response_metadata={}, id='0eeb130c-a88f-4911-bd39-d07b3ced496e'),\n",
       "  AIMessage(content=\"I've revised the user stories based on your feedback.\\n\\nPlease review these updated user stories and provide additional feedback or type 'Approved' if you're satisfied.\", additional_kwargs={}, response_metadata={}, id='940e8513-3440-4078-8e87-c4dda4a39e01'),\n",
       "  HumanMessage(content='Approved', additional_kwargs={}, response_metadata={}, id='7e57f7fa-613b-4c88-81e2-fe1ed44b1da9'),\n",
       "  AIMessage(content='Great! Your user stories have been finalized. You can now proceed with your design process.', additional_kwargs={}, response_metadata={}, id='cacb67a9-ecbc-4a08-ae55-fca3b2022f21')],\n",
       " 'user_story_status': 'approved',\n",
       " 'functional_documents': [DocumentSection(title='Revised FUNCTIONAL REQUIREMENTS', content='FR-1: The system shall provide a Forgot Password option on the login page.')],\n",
       " 'functional_messages': [AIMessage(content=\"Please review functional design document and provide feedback or type 'Approved' if you're satisfied.\", additional_kwargs={}, response_metadata={}, id='dfa85ac5-02c4-45cf-9dcc-c11452a65c01'),\n",
       "  HumanMessage(content='Revised the document for buy insurance from the app', additional_kwargs={}, response_metadata={}, id='e363dc19-5aa8-4621-b00b-14ae4761a86a'),\n",
       "  AIMessage(content=\"I've received your feedback. I'll revise the design documents accordingly.\", additional_kwargs={}, response_metadata={}, id='0efade51-9eb9-4dce-a3d4-ded11a1d2b46'),\n",
       "  AIMessage(content=\"Please review revised functional design documents and provide additional feedback or type 'Approved' if you're satisfied.\", additional_kwargs={}, response_metadata={}, id='ac0808d4-a3c2-4fda-84be-bf78a5bfa236'),\n",
       "  HumanMessage(content='Approved', additional_kwargs={}, response_metadata={}, id='7c6ef2ca-04ac-4e81-8fe8-0504f06e42b9'),\n",
       "  AIMessage(content='Great! Your design documents have been finalized. You can now proceed with your design process.', additional_kwargs={}, response_metadata={}, id='a06064c7-4428-4836-9665-32a1495000db')],\n",
       " 'functional_status': 'approved',\n",
       " 'technical_documents': [DocumentSection(title='Technical Document: MODULES & COMPONENTS DESIGN', content='Auth API Module: Exposes RESTful endpoints for password')],\n",
       " 'technical_messages': [AIMessage(content=\"Please review technical design document and provide feedback or type 'Approved' if you're satisfied.\", additional_kwargs={}, response_metadata={}, id='a7273bb0-a098-4d43-9230-4f04cc8ebe14'),\n",
       "  HumanMessage(content='Approved', additional_kwargs={}, response_metadata={}, id='e373660e-ffd5-4cbd-9151-aadbe71bada0'),\n",
       "  AIMessage(content='Great! Your design documents have been finalized. You can now proceed with your design process.', additional_kwargs={}, response_metadata={}, id='5ace2a88-8706-4583-b89e-9fc65b6eb688')],\n",
       " 'technical_status': 'approved',\n",
       " 'frontend_code': \"console.log('frontend code')\",\n",
       " 'frontend_messages': [AIMessage(content=\"Please review frontend design document and provide feedback or type 'Approved' if you're satisfied.\", additional_kwargs={}, response_metadata={}, id='93a61518-6f98-4eef-a803-59cc50fe9d45')],\n",
       " 'frontend_status': 'pending_approval',\n",
       " 'backend_messages': [],\n",
       " 'security_reviews_messages': [],\n",
       " 'test_cases_messages': [],\n",
       " 'qa_testing_messages': [],\n",
       " 'deployment_messages': []}"
      ]
     },
     "execution_count": 36,
     "metadata": {},
     "output_type": "execute_result"
    }
   ],
   "source": [
    "user_feedback = \"Revised the technical document for buy insurance from the app\"\n",
    "# sdlc_workflow.update_state(thread, { \"technical_messages\" : HumanMessage(content=f'{user_feedback}')})\n",
    "sdlc_workflow.update_state(thread, { \"technical_messages\" : HumanMessage(content='Approved'), \"revised_count\" : 0})\n",
    "\n",
    "for event in sdlc_workflow.stream(None, thread, stream_mode=\"values\"):\n",
    "    state = event\n",
    "    \n",
    "state\n"
   ]
  },
  {
   "cell_type": "markdown",
   "metadata": {},
   "source": [
    "### Frontend Code"
   ]
  },
  {
   "cell_type": "code",
   "execution_count": 37,
   "metadata": {},
   "outputs": [
    {
     "data": {
      "text/plain": [
       "('review_frontend_code',)"
      ]
     },
     "execution_count": 37,
     "metadata": {},
     "output_type": "execute_result"
    }
   ],
   "source": [
    "## technical document\n",
    "current_state = sdlc_workflow.get_state(thread) \n",
    "current_state.next"
   ]
  },
  {
   "cell_type": "code",
   "execution_count": 38,
   "metadata": {},
   "outputs": [
    {
     "name": "stdout",
     "output_type": "stream",
     "text": [
      "In review_frontend_code\n",
      "user feedback: revised the frontend code for buy insurance from the app\n",
      "In fix_frontend_code...\n",
      "revised_count : 1\n"
     ]
    },
    {
     "data": {
      "text/plain": [
       "{'project_requirements': ProjectRequirements(title='PayMate: Your Ultimate Payment Companion', description='PayMate is a comprehensive payment application that allows users to perform seamless transactions using the Unified Payments Interface (UPI). Beyond basic payments, PayMate offers features such as quick loans, bill payments, and a user-friendly interface, making it a one-stop solution for all financial needs.', requirements=['Implement multi-factor authentication, including biometrics (fingerprint and facial recognition) and MPIN, to secure user accounts.\\u200b', 'Enable users to link multiple bank accounts and perform instant fund transfers using UPI.', 'Provide users with access to instant micro-loans with minimal documentation.', 'Allow users to pay utility bills such as electricity, water, gas, and broadband directly through the app.']),\n",
       " 'revised_count': 1,\n",
       " 'user_stories': [{'story_id': 'US-001',\n",
       "   'title': 'Secure Account with Multi-Factor Authentication',\n",
       "   'description': 'As a user, I want to secure my account with multi-factor authentication so that my transactions are protected.',\n",
       "   'acceptance_criteria': ['User can enable biometric authentication (fingerprint and facial recognition).',\n",
       "    'User can set up MPIN for additional security.',\n",
       "    'User can enable two-factor authentication for transactions.',\n",
       "    'System alerts user of authentication failures.']},\n",
       "  {'story_id': 'US-002',\n",
       "   'title': 'Link Multiple Bank Accounts',\n",
       "   'description': 'As a user, I want to link multiple bank accounts so that I can transfer funds instantly.',\n",
       "   'acceptance_criteria': ['User can add multiple bank accounts to their profile.',\n",
       "    'User can select any linked account for fund transfers.',\n",
       "    'Linked accounts display current balance.',\n",
       "    'System confirms successful linking of accounts.']}],\n",
       " 'user_story_messages': [HumanMessage(content=\"title='PayMate: Your Ultimate Payment Companion' description='PayMate is a comprehensive payment application that allows users to perform seamless transactions using the Unified Payments Interface (UPI). Beyond basic payments, PayMate offers features such as quick loans, bill payments, and a user-friendly interface, making it a one-stop solution for all financial needs.' requirements=['Implement multi-factor authentication, including biometrics (fingerprint and facial recognition) and MPIN, to secure user accounts.\\\\u200b', 'Enable users to link multiple bank accounts and perform instant fund transfers using UPI.', 'Provide users with access to instant micro-loans with minimal documentation.', 'Allow users to pay utility bills such as electricity, water, gas, and broadband directly through the app.']\", additional_kwargs={}, response_metadata={}, id='23ab0e14-aeb7-4f5c-9c47-dcd8beaf6c45'),\n",
       "  AIMessage(content=\"I've received your project requirements. I'll now generate user stories based on these requirements.\", additional_kwargs={}, response_metadata={}, id='17b94b8b-c046-4e1e-8afd-da6385e7abb0'),\n",
       "  AIMessage(content=\"Based on your requirements, I've generated 1 user stories. Please review these user stories and provide feedback or type 'Approved' if you're satisfied.\", additional_kwargs={}, response_metadata={}, id='792be5b2-1a97-4d58-9872-f3a6b37210ce'),\n",
       "  HumanMessage(content='Add user story to buy insurance from the app', additional_kwargs={}, response_metadata={}, id='4020b530-ee59-42c9-a21b-1834904187b7'),\n",
       "  AIMessage(content=\"I've received your feedback. I'll revise the user stories accordingly.\", additional_kwargs={}, response_metadata={}, id='0eeb130c-a88f-4911-bd39-d07b3ced496e'),\n",
       "  AIMessage(content=\"I've revised the user stories based on your feedback.\\n\\nPlease review these updated user stories and provide additional feedback or type 'Approved' if you're satisfied.\", additional_kwargs={}, response_metadata={}, id='940e8513-3440-4078-8e87-c4dda4a39e01'),\n",
       "  HumanMessage(content='Approved', additional_kwargs={}, response_metadata={}, id='7e57f7fa-613b-4c88-81e2-fe1ed44b1da9'),\n",
       "  AIMessage(content='Great! Your user stories have been finalized. You can now proceed with your design process.', additional_kwargs={}, response_metadata={}, id='cacb67a9-ecbc-4a08-ae55-fca3b2022f21')],\n",
       " 'user_story_status': 'approved',\n",
       " 'functional_documents': [DocumentSection(title='Revised FUNCTIONAL REQUIREMENTS', content='FR-1: The system shall provide a Forgot Password option on the login page.')],\n",
       " 'functional_messages': [AIMessage(content=\"Please review functional design document and provide feedback or type 'Approved' if you're satisfied.\", additional_kwargs={}, response_metadata={}, id='dfa85ac5-02c4-45cf-9dcc-c11452a65c01'),\n",
       "  HumanMessage(content='Revised the document for buy insurance from the app', additional_kwargs={}, response_metadata={}, id='e363dc19-5aa8-4621-b00b-14ae4761a86a'),\n",
       "  AIMessage(content=\"I've received your feedback. I'll revise the design documents accordingly.\", additional_kwargs={}, response_metadata={}, id='0efade51-9eb9-4dce-a3d4-ded11a1d2b46'),\n",
       "  AIMessage(content=\"Please review revised functional design documents and provide additional feedback or type 'Approved' if you're satisfied.\", additional_kwargs={}, response_metadata={}, id='ac0808d4-a3c2-4fda-84be-bf78a5bfa236'),\n",
       "  HumanMessage(content='Approved', additional_kwargs={}, response_metadata={}, id='7c6ef2ca-04ac-4e81-8fe8-0504f06e42b9'),\n",
       "  AIMessage(content='Great! Your design documents have been finalized. You can now proceed with your design process.', additional_kwargs={}, response_metadata={}, id='a06064c7-4428-4836-9665-32a1495000db')],\n",
       " 'functional_status': 'approved',\n",
       " 'technical_documents': [DocumentSection(title='Technical Document: MODULES & COMPONENTS DESIGN', content='Auth API Module: Exposes RESTful endpoints for password')],\n",
       " 'technical_messages': [AIMessage(content=\"Please review technical design document and provide feedback or type 'Approved' if you're satisfied.\", additional_kwargs={}, response_metadata={}, id='a7273bb0-a098-4d43-9230-4f04cc8ebe14'),\n",
       "  HumanMessage(content='Approved', additional_kwargs={}, response_metadata={}, id='e373660e-ffd5-4cbd-9151-aadbe71bada0'),\n",
       "  AIMessage(content='Great! Your design documents have been finalized. You can now proceed with your design process.', additional_kwargs={}, response_metadata={}, id='5ace2a88-8706-4583-b89e-9fc65b6eb688')],\n",
       " 'technical_status': 'approved',\n",
       " 'frontend_code': \"console.log('Revised frontend code')\",\n",
       " 'frontend_messages': [AIMessage(content=\"Please review frontend design document and provide feedback or type 'Approved' if you're satisfied.\", additional_kwargs={}, response_metadata={}, id='93a61518-6f98-4eef-a803-59cc50fe9d45'),\n",
       "  HumanMessage(content='Revised the frontend code for buy insurance from the app', additional_kwargs={}, response_metadata={}, id='4b0789d8-d0ec-4994-9a21-76ddeb5b2b93'),\n",
       "  AIMessage(content=\"I've received your feedback. I'll revise the design documents accordingly.\", additional_kwargs={}, response_metadata={}, id='05aecb7c-f126-4889-a6ca-5b785de25d64'),\n",
       "  AIMessage(content=\"Please review revised frontend code and provide additional feedback or type 'Approved' if you're satisfied.\", additional_kwargs={}, response_metadata={}, id='b75c3cc0-705f-480f-83ea-5b211ebbe478')],\n",
       " 'frontend_status': 'pending_approval',\n",
       " 'backend_messages': [],\n",
       " 'security_reviews_messages': [],\n",
       " 'test_cases_messages': [],\n",
       " 'qa_testing_messages': [],\n",
       " 'deployment_messages': []}"
      ]
     },
     "execution_count": 38,
     "metadata": {},
     "output_type": "execute_result"
    }
   ],
   "source": [
    "user_feedback = \"Revised the frontend code for buy insurance from the app\"\n",
    "sdlc_workflow.update_state(thread, { \"frontend_messages\" : HumanMessage(content=f'{user_feedback}')})\n",
    "# sdlc_workflow.update_state(thread, { \"frontend_messages\" : HumanMessage(content='Approved'), \"revised_count\" : 0})\n",
    "\n",
    "for event in sdlc_workflow.stream(None, thread, stream_mode=\"values\"):\n",
    "    state = event\n",
    "    \n",
    "state\n"
   ]
  },
  {
   "cell_type": "code",
   "execution_count": 39,
   "metadata": {},
   "outputs": [
    {
     "name": "stdout",
     "output_type": "stream",
     "text": [
      "In review_frontend_code\n",
      "user feedback: approved\n",
      "In generate_backend_code...\n"
     ]
    },
    {
     "data": {
      "text/plain": [
       "{'project_requirements': ProjectRequirements(title='PayMate: Your Ultimate Payment Companion', description='PayMate is a comprehensive payment application that allows users to perform seamless transactions using the Unified Payments Interface (UPI). Beyond basic payments, PayMate offers features such as quick loans, bill payments, and a user-friendly interface, making it a one-stop solution for all financial needs.', requirements=['Implement multi-factor authentication, including biometrics (fingerprint and facial recognition) and MPIN, to secure user accounts.\\u200b', 'Enable users to link multiple bank accounts and perform instant fund transfers using UPI.', 'Provide users with access to instant micro-loans with minimal documentation.', 'Allow users to pay utility bills such as electricity, water, gas, and broadband directly through the app.']),\n",
       " 'revised_count': 0,\n",
       " 'user_stories': [{'story_id': 'US-001',\n",
       "   'title': 'Secure Account with Multi-Factor Authentication',\n",
       "   'description': 'As a user, I want to secure my account with multi-factor authentication so that my transactions are protected.',\n",
       "   'acceptance_criteria': ['User can enable biometric authentication (fingerprint and facial recognition).',\n",
       "    'User can set up MPIN for additional security.',\n",
       "    'User can enable two-factor authentication for transactions.',\n",
       "    'System alerts user of authentication failures.']},\n",
       "  {'story_id': 'US-002',\n",
       "   'title': 'Link Multiple Bank Accounts',\n",
       "   'description': 'As a user, I want to link multiple bank accounts so that I can transfer funds instantly.',\n",
       "   'acceptance_criteria': ['User can add multiple bank accounts to their profile.',\n",
       "    'User can select any linked account for fund transfers.',\n",
       "    'Linked accounts display current balance.',\n",
       "    'System confirms successful linking of accounts.']}],\n",
       " 'user_story_messages': [HumanMessage(content=\"title='PayMate: Your Ultimate Payment Companion' description='PayMate is a comprehensive payment application that allows users to perform seamless transactions using the Unified Payments Interface (UPI). Beyond basic payments, PayMate offers features such as quick loans, bill payments, and a user-friendly interface, making it a one-stop solution for all financial needs.' requirements=['Implement multi-factor authentication, including biometrics (fingerprint and facial recognition) and MPIN, to secure user accounts.\\\\u200b', 'Enable users to link multiple bank accounts and perform instant fund transfers using UPI.', 'Provide users with access to instant micro-loans with minimal documentation.', 'Allow users to pay utility bills such as electricity, water, gas, and broadband directly through the app.']\", additional_kwargs={}, response_metadata={}, id='23ab0e14-aeb7-4f5c-9c47-dcd8beaf6c45'),\n",
       "  AIMessage(content=\"I've received your project requirements. I'll now generate user stories based on these requirements.\", additional_kwargs={}, response_metadata={}, id='17b94b8b-c046-4e1e-8afd-da6385e7abb0'),\n",
       "  AIMessage(content=\"Based on your requirements, I've generated 1 user stories. Please review these user stories and provide feedback or type 'Approved' if you're satisfied.\", additional_kwargs={}, response_metadata={}, id='792be5b2-1a97-4d58-9872-f3a6b37210ce'),\n",
       "  HumanMessage(content='Add user story to buy insurance from the app', additional_kwargs={}, response_metadata={}, id='4020b530-ee59-42c9-a21b-1834904187b7'),\n",
       "  AIMessage(content=\"I've received your feedback. I'll revise the user stories accordingly.\", additional_kwargs={}, response_metadata={}, id='0eeb130c-a88f-4911-bd39-d07b3ced496e'),\n",
       "  AIMessage(content=\"I've revised the user stories based on your feedback.\\n\\nPlease review these updated user stories and provide additional feedback or type 'Approved' if you're satisfied.\", additional_kwargs={}, response_metadata={}, id='940e8513-3440-4078-8e87-c4dda4a39e01'),\n",
       "  HumanMessage(content='Approved', additional_kwargs={}, response_metadata={}, id='7e57f7fa-613b-4c88-81e2-fe1ed44b1da9'),\n",
       "  AIMessage(content='Great! Your user stories have been finalized. You can now proceed with your design process.', additional_kwargs={}, response_metadata={}, id='cacb67a9-ecbc-4a08-ae55-fca3b2022f21')],\n",
       " 'user_story_status': 'approved',\n",
       " 'functional_documents': [DocumentSection(title='Revised FUNCTIONAL REQUIREMENTS', content='FR-1: The system shall provide a Forgot Password option on the login page.')],\n",
       " 'functional_messages': [AIMessage(content=\"Please review functional design document and provide feedback or type 'Approved' if you're satisfied.\", additional_kwargs={}, response_metadata={}, id='dfa85ac5-02c4-45cf-9dcc-c11452a65c01'),\n",
       "  HumanMessage(content='Revised the document for buy insurance from the app', additional_kwargs={}, response_metadata={}, id='e363dc19-5aa8-4621-b00b-14ae4761a86a'),\n",
       "  AIMessage(content=\"I've received your feedback. I'll revise the design documents accordingly.\", additional_kwargs={}, response_metadata={}, id='0efade51-9eb9-4dce-a3d4-ded11a1d2b46'),\n",
       "  AIMessage(content=\"Please review revised functional design documents and provide additional feedback or type 'Approved' if you're satisfied.\", additional_kwargs={}, response_metadata={}, id='ac0808d4-a3c2-4fda-84be-bf78a5bfa236'),\n",
       "  HumanMessage(content='Approved', additional_kwargs={}, response_metadata={}, id='7c6ef2ca-04ac-4e81-8fe8-0504f06e42b9'),\n",
       "  AIMessage(content='Great! Your design documents have been finalized. You can now proceed with your design process.', additional_kwargs={}, response_metadata={}, id='a06064c7-4428-4836-9665-32a1495000db')],\n",
       " 'functional_status': 'approved',\n",
       " 'technical_documents': [DocumentSection(title='Technical Document: MODULES & COMPONENTS DESIGN', content='Auth API Module: Exposes RESTful endpoints for password')],\n",
       " 'technical_messages': [AIMessage(content=\"Please review technical design document and provide feedback or type 'Approved' if you're satisfied.\", additional_kwargs={}, response_metadata={}, id='a7273bb0-a098-4d43-9230-4f04cc8ebe14'),\n",
       "  HumanMessage(content='Approved', additional_kwargs={}, response_metadata={}, id='e373660e-ffd5-4cbd-9151-aadbe71bada0'),\n",
       "  AIMessage(content='Great! Your design documents have been finalized. You can now proceed with your design process.', additional_kwargs={}, response_metadata={}, id='5ace2a88-8706-4583-b89e-9fc65b6eb688')],\n",
       " 'technical_status': 'approved',\n",
       " 'frontend_code': \"console.log('Revised frontend code')\",\n",
       " 'frontend_messages': [AIMessage(content=\"Please review frontend design document and provide feedback or type 'Approved' if you're satisfied.\", additional_kwargs={}, response_metadata={}, id='93a61518-6f98-4eef-a803-59cc50fe9d45'),\n",
       "  HumanMessage(content='Revised the frontend code for buy insurance from the app', additional_kwargs={}, response_metadata={}, id='4b0789d8-d0ec-4994-9a21-76ddeb5b2b93'),\n",
       "  AIMessage(content=\"I've received your feedback. I'll revise the design documents accordingly.\", additional_kwargs={}, response_metadata={}, id='05aecb7c-f126-4889-a6ca-5b785de25d64'),\n",
       "  AIMessage(content=\"Please review revised frontend code and provide additional feedback or type 'Approved' if you're satisfied.\", additional_kwargs={}, response_metadata={}, id='b75c3cc0-705f-480f-83ea-5b211ebbe478'),\n",
       "  HumanMessage(content='Approved', additional_kwargs={}, response_metadata={}, id='9b69910e-e792-4558-a331-bd6974420581'),\n",
       "  AIMessage(content='Great! Code have been finalized. You can now proceed with next steps.', additional_kwargs={}, response_metadata={}, id='7814eadc-240f-44fa-9a07-10e403462301')],\n",
       " 'frontend_status': 'approved',\n",
       " 'backend_code': \"print('backend code')\",\n",
       " 'backend_messages': [AIMessage(content=\"Please review backend design document and provide feedback or type 'Approved' if you're satisfied.\", additional_kwargs={}, response_metadata={}, id='43558b73-990c-4461-9d68-fb70d75fcddd')],\n",
       " 'backend_status': 'pending_approval',\n",
       " 'security_reviews_messages': [],\n",
       " 'test_cases_messages': [],\n",
       " 'qa_testing_messages': [],\n",
       " 'deployment_messages': []}"
      ]
     },
     "execution_count": 39,
     "metadata": {},
     "output_type": "execute_result"
    }
   ],
   "source": [
    "user_feedback = \"Revised the frontend code for buy insurance from the app\"\n",
    "# sdlc_workflow.update_state(thread, { \"frontend_messages\" : HumanMessage(content=f'{user_feedback}')})\n",
    "sdlc_workflow.update_state(thread, { \"frontend_messages\" : HumanMessage(content='Approved'),  \"revised_count\" : 0})\n",
    "\n",
    "for event in sdlc_workflow.stream(None, thread, stream_mode=\"values\"):\n",
    "    state = event\n",
    "    \n",
    "state\n"
   ]
  },
  {
   "cell_type": "markdown",
   "metadata": {},
   "source": [
    "### Backend code"
   ]
  },
  {
   "cell_type": "code",
   "execution_count": 40,
   "metadata": {},
   "outputs": [
    {
     "data": {
      "text/plain": [
       "('review_backend_code',)"
      ]
     },
     "execution_count": 40,
     "metadata": {},
     "output_type": "execute_result"
    }
   ],
   "source": [
    "## technical document\n",
    "current_state = sdlc_workflow.get_state(thread) \n",
    "current_state.next"
   ]
  },
  {
   "cell_type": "code",
   "execution_count": 41,
   "metadata": {},
   "outputs": [
    {
     "name": "stdout",
     "output_type": "stream",
     "text": [
      "In review_backend_code\n",
      "user feedback: revised the backend code for buy insurance from the app\n",
      "In fix_backend_code...\n",
      "revised_count : 1\n"
     ]
    },
    {
     "data": {
      "text/plain": [
       "{'project_requirements': ProjectRequirements(title='PayMate: Your Ultimate Payment Companion', description='PayMate is a comprehensive payment application that allows users to perform seamless transactions using the Unified Payments Interface (UPI). Beyond basic payments, PayMate offers features such as quick loans, bill payments, and a user-friendly interface, making it a one-stop solution for all financial needs.', requirements=['Implement multi-factor authentication, including biometrics (fingerprint and facial recognition) and MPIN, to secure user accounts.\\u200b', 'Enable users to link multiple bank accounts and perform instant fund transfers using UPI.', 'Provide users with access to instant micro-loans with minimal documentation.', 'Allow users to pay utility bills such as electricity, water, gas, and broadband directly through the app.']),\n",
       " 'revised_count': 1,\n",
       " 'user_stories': [{'story_id': 'US-001',\n",
       "   'title': 'Secure Account with Multi-Factor Authentication',\n",
       "   'description': 'As a user, I want to secure my account with multi-factor authentication so that my transactions are protected.',\n",
       "   'acceptance_criteria': ['User can enable biometric authentication (fingerprint and facial recognition).',\n",
       "    'User can set up MPIN for additional security.',\n",
       "    'User can enable two-factor authentication for transactions.',\n",
       "    'System alerts user of authentication failures.']},\n",
       "  {'story_id': 'US-002',\n",
       "   'title': 'Link Multiple Bank Accounts',\n",
       "   'description': 'As a user, I want to link multiple bank accounts so that I can transfer funds instantly.',\n",
       "   'acceptance_criteria': ['User can add multiple bank accounts to their profile.',\n",
       "    'User can select any linked account for fund transfers.',\n",
       "    'Linked accounts display current balance.',\n",
       "    'System confirms successful linking of accounts.']}],\n",
       " 'user_story_messages': [HumanMessage(content=\"title='PayMate: Your Ultimate Payment Companion' description='PayMate is a comprehensive payment application that allows users to perform seamless transactions using the Unified Payments Interface (UPI). Beyond basic payments, PayMate offers features such as quick loans, bill payments, and a user-friendly interface, making it a one-stop solution for all financial needs.' requirements=['Implement multi-factor authentication, including biometrics (fingerprint and facial recognition) and MPIN, to secure user accounts.\\\\u200b', 'Enable users to link multiple bank accounts and perform instant fund transfers using UPI.', 'Provide users with access to instant micro-loans with minimal documentation.', 'Allow users to pay utility bills such as electricity, water, gas, and broadband directly through the app.']\", additional_kwargs={}, response_metadata={}, id='23ab0e14-aeb7-4f5c-9c47-dcd8beaf6c45'),\n",
       "  AIMessage(content=\"I've received your project requirements. I'll now generate user stories based on these requirements.\", additional_kwargs={}, response_metadata={}, id='17b94b8b-c046-4e1e-8afd-da6385e7abb0'),\n",
       "  AIMessage(content=\"Based on your requirements, I've generated 1 user stories. Please review these user stories and provide feedback or type 'Approved' if you're satisfied.\", additional_kwargs={}, response_metadata={}, id='792be5b2-1a97-4d58-9872-f3a6b37210ce'),\n",
       "  HumanMessage(content='Add user story to buy insurance from the app', additional_kwargs={}, response_metadata={}, id='4020b530-ee59-42c9-a21b-1834904187b7'),\n",
       "  AIMessage(content=\"I've received your feedback. I'll revise the user stories accordingly.\", additional_kwargs={}, response_metadata={}, id='0eeb130c-a88f-4911-bd39-d07b3ced496e'),\n",
       "  AIMessage(content=\"I've revised the user stories based on your feedback.\\n\\nPlease review these updated user stories and provide additional feedback or type 'Approved' if you're satisfied.\", additional_kwargs={}, response_metadata={}, id='940e8513-3440-4078-8e87-c4dda4a39e01'),\n",
       "  HumanMessage(content='Approved', additional_kwargs={}, response_metadata={}, id='7e57f7fa-613b-4c88-81e2-fe1ed44b1da9'),\n",
       "  AIMessage(content='Great! Your user stories have been finalized. You can now proceed with your design process.', additional_kwargs={}, response_metadata={}, id='cacb67a9-ecbc-4a08-ae55-fca3b2022f21')],\n",
       " 'user_story_status': 'approved',\n",
       " 'functional_documents': [DocumentSection(title='Revised FUNCTIONAL REQUIREMENTS', content='FR-1: The system shall provide a Forgot Password option on the login page.')],\n",
       " 'functional_messages': [AIMessage(content=\"Please review functional design document and provide feedback or type 'Approved' if you're satisfied.\", additional_kwargs={}, response_metadata={}, id='dfa85ac5-02c4-45cf-9dcc-c11452a65c01'),\n",
       "  HumanMessage(content='Revised the document for buy insurance from the app', additional_kwargs={}, response_metadata={}, id='e363dc19-5aa8-4621-b00b-14ae4761a86a'),\n",
       "  AIMessage(content=\"I've received your feedback. I'll revise the design documents accordingly.\", additional_kwargs={}, response_metadata={}, id='0efade51-9eb9-4dce-a3d4-ded11a1d2b46'),\n",
       "  AIMessage(content=\"Please review revised functional design documents and provide additional feedback or type 'Approved' if you're satisfied.\", additional_kwargs={}, response_metadata={}, id='ac0808d4-a3c2-4fda-84be-bf78a5bfa236'),\n",
       "  HumanMessage(content='Approved', additional_kwargs={}, response_metadata={}, id='7c6ef2ca-04ac-4e81-8fe8-0504f06e42b9'),\n",
       "  AIMessage(content='Great! Your design documents have been finalized. You can now proceed with your design process.', additional_kwargs={}, response_metadata={}, id='a06064c7-4428-4836-9665-32a1495000db')],\n",
       " 'functional_status': 'approved',\n",
       " 'technical_documents': [DocumentSection(title='Technical Document: MODULES & COMPONENTS DESIGN', content='Auth API Module: Exposes RESTful endpoints for password')],\n",
       " 'technical_messages': [AIMessage(content=\"Please review technical design document and provide feedback or type 'Approved' if you're satisfied.\", additional_kwargs={}, response_metadata={}, id='a7273bb0-a098-4d43-9230-4f04cc8ebe14'),\n",
       "  HumanMessage(content='Approved', additional_kwargs={}, response_metadata={}, id='e373660e-ffd5-4cbd-9151-aadbe71bada0'),\n",
       "  AIMessage(content='Great! Your design documents have been finalized. You can now proceed with your design process.', additional_kwargs={}, response_metadata={}, id='5ace2a88-8706-4583-b89e-9fc65b6eb688')],\n",
       " 'technical_status': 'approved',\n",
       " 'frontend_code': \"console.log('Revised frontend code')\",\n",
       " 'frontend_messages': [AIMessage(content=\"Please review frontend design document and provide feedback or type 'Approved' if you're satisfied.\", additional_kwargs={}, response_metadata={}, id='93a61518-6f98-4eef-a803-59cc50fe9d45'),\n",
       "  HumanMessage(content='Revised the frontend code for buy insurance from the app', additional_kwargs={}, response_metadata={}, id='4b0789d8-d0ec-4994-9a21-76ddeb5b2b93'),\n",
       "  AIMessage(content=\"I've received your feedback. I'll revise the design documents accordingly.\", additional_kwargs={}, response_metadata={}, id='05aecb7c-f126-4889-a6ca-5b785de25d64'),\n",
       "  AIMessage(content=\"Please review revised frontend code and provide additional feedback or type 'Approved' if you're satisfied.\", additional_kwargs={}, response_metadata={}, id='b75c3cc0-705f-480f-83ea-5b211ebbe478'),\n",
       "  HumanMessage(content='Approved', additional_kwargs={}, response_metadata={}, id='9b69910e-e792-4558-a331-bd6974420581'),\n",
       "  AIMessage(content='Great! Code have been finalized. You can now proceed with next steps.', additional_kwargs={}, response_metadata={}, id='7814eadc-240f-44fa-9a07-10e403462301')],\n",
       " 'frontend_status': 'approved',\n",
       " 'backend_code': \"print('Revised backend code')\",\n",
       " 'backend_messages': [AIMessage(content=\"Please review backend design document and provide feedback or type 'Approved' if you're satisfied.\", additional_kwargs={}, response_metadata={}, id='43558b73-990c-4461-9d68-fb70d75fcddd'),\n",
       "  HumanMessage(content='Revised the backend code for buy insurance from the app', additional_kwargs={}, response_metadata={}, id='31e13fb9-83f4-44a3-ae77-639bef46f96e'),\n",
       "  AIMessage(content=\"I've received your feedback. I'll revise the design documents accordingly.\", additional_kwargs={}, response_metadata={}, id='f54fb789-e59f-4a2c-9bc9-bd39153271b2'),\n",
       "  AIMessage(content=\"Please review revised backend code and provide additional feedback or type 'Approved' if you're satisfied.\", additional_kwargs={}, response_metadata={}, id='dab13adc-43ce-40dc-91d1-287b2b792d25')],\n",
       " 'backend_status': 'pending_approval',\n",
       " 'security_reviews_messages': [],\n",
       " 'test_cases_messages': [],\n",
       " 'qa_testing_messages': [],\n",
       " 'deployment_messages': []}"
      ]
     },
     "execution_count": 41,
     "metadata": {},
     "output_type": "execute_result"
    }
   ],
   "source": [
    "user_feedback = \"Revised the backend code for buy insurance from the app\"\n",
    "sdlc_workflow.update_state(thread, { \"backend_messages\" : HumanMessage(content=f'{user_feedback}')})\n",
    "# sdlc_workflow.update_state(thread, { \"backend_messages\" : HumanMessage(content='Approved'), \"revised_count\" : 0})\n",
    "\n",
    "for event in sdlc_workflow.stream(None, thread, stream_mode=\"values\"):\n",
    "    state = event\n",
    "    \n",
    "state\n"
   ]
  },
  {
   "cell_type": "code",
   "execution_count": 42,
   "metadata": {},
   "outputs": [
    {
     "name": "stdout",
     "output_type": "stream",
     "text": [
      "In review_backend_code\n",
      "user feedback: approved\n",
      "In check_code_for_security_issues...\n"
     ]
    },
    {
     "data": {
      "text/plain": [
       "{'project_requirements': ProjectRequirements(title='PayMate: Your Ultimate Payment Companion', description='PayMate is a comprehensive payment application that allows users to perform seamless transactions using the Unified Payments Interface (UPI). Beyond basic payments, PayMate offers features such as quick loans, bill payments, and a user-friendly interface, making it a one-stop solution for all financial needs.', requirements=['Implement multi-factor authentication, including biometrics (fingerprint and facial recognition) and MPIN, to secure user accounts.\\u200b', 'Enable users to link multiple bank accounts and perform instant fund transfers using UPI.', 'Provide users with access to instant micro-loans with minimal documentation.', 'Allow users to pay utility bills such as electricity, water, gas, and broadband directly through the app.']),\n",
       " 'revised_count': 0,\n",
       " 'user_stories': [{'story_id': 'US-001',\n",
       "   'title': 'Secure Account with Multi-Factor Authentication',\n",
       "   'description': 'As a user, I want to secure my account with multi-factor authentication so that my transactions are protected.',\n",
       "   'acceptance_criteria': ['User can enable biometric authentication (fingerprint and facial recognition).',\n",
       "    'User can set up MPIN for additional security.',\n",
       "    'User can enable two-factor authentication for transactions.',\n",
       "    'System alerts user of authentication failures.']},\n",
       "  {'story_id': 'US-002',\n",
       "   'title': 'Link Multiple Bank Accounts',\n",
       "   'description': 'As a user, I want to link multiple bank accounts so that I can transfer funds instantly.',\n",
       "   'acceptance_criteria': ['User can add multiple bank accounts to their profile.',\n",
       "    'User can select any linked account for fund transfers.',\n",
       "    'Linked accounts display current balance.',\n",
       "    'System confirms successful linking of accounts.']}],\n",
       " 'user_story_messages': [HumanMessage(content=\"title='PayMate: Your Ultimate Payment Companion' description='PayMate is a comprehensive payment application that allows users to perform seamless transactions using the Unified Payments Interface (UPI). Beyond basic payments, PayMate offers features such as quick loans, bill payments, and a user-friendly interface, making it a one-stop solution for all financial needs.' requirements=['Implement multi-factor authentication, including biometrics (fingerprint and facial recognition) and MPIN, to secure user accounts.\\\\u200b', 'Enable users to link multiple bank accounts and perform instant fund transfers using UPI.', 'Provide users with access to instant micro-loans with minimal documentation.', 'Allow users to pay utility bills such as electricity, water, gas, and broadband directly through the app.']\", additional_kwargs={}, response_metadata={}, id='23ab0e14-aeb7-4f5c-9c47-dcd8beaf6c45'),\n",
       "  AIMessage(content=\"I've received your project requirements. I'll now generate user stories based on these requirements.\", additional_kwargs={}, response_metadata={}, id='17b94b8b-c046-4e1e-8afd-da6385e7abb0'),\n",
       "  AIMessage(content=\"Based on your requirements, I've generated 1 user stories. Please review these user stories and provide feedback or type 'Approved' if you're satisfied.\", additional_kwargs={}, response_metadata={}, id='792be5b2-1a97-4d58-9872-f3a6b37210ce'),\n",
       "  HumanMessage(content='Add user story to buy insurance from the app', additional_kwargs={}, response_metadata={}, id='4020b530-ee59-42c9-a21b-1834904187b7'),\n",
       "  AIMessage(content=\"I've received your feedback. I'll revise the user stories accordingly.\", additional_kwargs={}, response_metadata={}, id='0eeb130c-a88f-4911-bd39-d07b3ced496e'),\n",
       "  AIMessage(content=\"I've revised the user stories based on your feedback.\\n\\nPlease review these updated user stories and provide additional feedback or type 'Approved' if you're satisfied.\", additional_kwargs={}, response_metadata={}, id='940e8513-3440-4078-8e87-c4dda4a39e01'),\n",
       "  HumanMessage(content='Approved', additional_kwargs={}, response_metadata={}, id='7e57f7fa-613b-4c88-81e2-fe1ed44b1da9'),\n",
       "  AIMessage(content='Great! Your user stories have been finalized. You can now proceed with your design process.', additional_kwargs={}, response_metadata={}, id='cacb67a9-ecbc-4a08-ae55-fca3b2022f21')],\n",
       " 'user_story_status': 'approved',\n",
       " 'functional_documents': [DocumentSection(title='Revised FUNCTIONAL REQUIREMENTS', content='FR-1: The system shall provide a Forgot Password option on the login page.')],\n",
       " 'functional_messages': [AIMessage(content=\"Please review functional design document and provide feedback or type 'Approved' if you're satisfied.\", additional_kwargs={}, response_metadata={}, id='dfa85ac5-02c4-45cf-9dcc-c11452a65c01'),\n",
       "  HumanMessage(content='Revised the document for buy insurance from the app', additional_kwargs={}, response_metadata={}, id='e363dc19-5aa8-4621-b00b-14ae4761a86a'),\n",
       "  AIMessage(content=\"I've received your feedback. I'll revise the design documents accordingly.\", additional_kwargs={}, response_metadata={}, id='0efade51-9eb9-4dce-a3d4-ded11a1d2b46'),\n",
       "  AIMessage(content=\"Please review revised functional design documents and provide additional feedback or type 'Approved' if you're satisfied.\", additional_kwargs={}, response_metadata={}, id='ac0808d4-a3c2-4fda-84be-bf78a5bfa236'),\n",
       "  HumanMessage(content='Approved', additional_kwargs={}, response_metadata={}, id='7c6ef2ca-04ac-4e81-8fe8-0504f06e42b9'),\n",
       "  AIMessage(content='Great! Your design documents have been finalized. You can now proceed with your design process.', additional_kwargs={}, response_metadata={}, id='a06064c7-4428-4836-9665-32a1495000db')],\n",
       " 'functional_status': 'approved',\n",
       " 'technical_documents': [DocumentSection(title='Technical Document: MODULES & COMPONENTS DESIGN', content='Auth API Module: Exposes RESTful endpoints for password')],\n",
       " 'technical_messages': [AIMessage(content=\"Please review technical design document and provide feedback or type 'Approved' if you're satisfied.\", additional_kwargs={}, response_metadata={}, id='a7273bb0-a098-4d43-9230-4f04cc8ebe14'),\n",
       "  HumanMessage(content='Approved', additional_kwargs={}, response_metadata={}, id='e373660e-ffd5-4cbd-9151-aadbe71bada0'),\n",
       "  AIMessage(content='Great! Your design documents have been finalized. You can now proceed with your design process.', additional_kwargs={}, response_metadata={}, id='5ace2a88-8706-4583-b89e-9fc65b6eb688')],\n",
       " 'technical_status': 'approved',\n",
       " 'frontend_code': \"console.log('Revised frontend code')\",\n",
       " 'frontend_messages': [AIMessage(content=\"Please review frontend design document and provide feedback or type 'Approved' if you're satisfied.\", additional_kwargs={}, response_metadata={}, id='93a61518-6f98-4eef-a803-59cc50fe9d45'),\n",
       "  HumanMessage(content='Revised the frontend code for buy insurance from the app', additional_kwargs={}, response_metadata={}, id='4b0789d8-d0ec-4994-9a21-76ddeb5b2b93'),\n",
       "  AIMessage(content=\"I've received your feedback. I'll revise the design documents accordingly.\", additional_kwargs={}, response_metadata={}, id='05aecb7c-f126-4889-a6ca-5b785de25d64'),\n",
       "  AIMessage(content=\"Please review revised frontend code and provide additional feedback or type 'Approved' if you're satisfied.\", additional_kwargs={}, response_metadata={}, id='b75c3cc0-705f-480f-83ea-5b211ebbe478'),\n",
       "  HumanMessage(content='Approved', additional_kwargs={}, response_metadata={}, id='9b69910e-e792-4558-a331-bd6974420581'),\n",
       "  AIMessage(content='Great! Code have been finalized. You can now proceed with next steps.', additional_kwargs={}, response_metadata={}, id='7814eadc-240f-44fa-9a07-10e403462301')],\n",
       " 'frontend_status': 'approved',\n",
       " 'backend_code': \"print('Revised backend code')\",\n",
       " 'backend_messages': [AIMessage(content=\"Please review backend design document and provide feedback or type 'Approved' if you're satisfied.\", additional_kwargs={}, response_metadata={}, id='43558b73-990c-4461-9d68-fb70d75fcddd'),\n",
       "  HumanMessage(content='Revised the backend code for buy insurance from the app', additional_kwargs={}, response_metadata={}, id='31e13fb9-83f4-44a3-ae77-639bef46f96e'),\n",
       "  AIMessage(content=\"I've received your feedback. I'll revise the design documents accordingly.\", additional_kwargs={}, response_metadata={}, id='f54fb789-e59f-4a2c-9bc9-bd39153271b2'),\n",
       "  AIMessage(content=\"Please review revised backend code and provide additional feedback or type 'Approved' if you're satisfied.\", additional_kwargs={}, response_metadata={}, id='dab13adc-43ce-40dc-91d1-287b2b792d25'),\n",
       "  HumanMessage(content='Approved', additional_kwargs={}, response_metadata={}, id='1ae04a62-ec53-4b5e-af66-8e7e7d6bb526'),\n",
       "  AIMessage(content='Great! Code have been finalized. You can now proceed with next steps.', additional_kwargs={}, response_metadata={}, id='2a9394bb-806b-4f7d-b54a-9d56f4bc94a0')],\n",
       " 'backend_status': 'approved',\n",
       " 'security_reviews': [{'sec_id': 'SC-001',\n",
       "   'review': 'security review',\n",
       "   'file_path': 'backend_code.py',\n",
       "   'recommendation': 'fix',\n",
       "   'priority': 'high'}],\n",
       " 'security_reviews_messages': [AIMessage(content=\"Please review security reviews and provide feedback or type 'Approved' if you're satisfied.\", additional_kwargs={}, response_metadata={}, id='659964a5-0705-402f-9667-04cf45d4f9c2')],\n",
       " 'security_reviews_status': 'pending_approval',\n",
       " 'test_cases_messages': [],\n",
       " 'qa_testing_messages': [],\n",
       " 'deployment_messages': []}"
      ]
     },
     "execution_count": 42,
     "metadata": {},
     "output_type": "execute_result"
    }
   ],
   "source": [
    "user_feedback = \"Revised the backend code for buy insurance from the app\"\n",
    "# sdlc_workflow.update_state(thread, { \"backend_messages\" : HumanMessage(content=f'{user_feedback}')})\n",
    "sdlc_workflow.update_state(thread, { \"backend_messages\" : HumanMessage(content='Approved'), \"revised_count\" : 0})\n",
    "\n",
    "for event in sdlc_workflow.stream(None, thread, stream_mode=\"values\"):\n",
    "    state = event\n",
    "    \n",
    "state\n"
   ]
  },
  {
   "cell_type": "markdown",
   "metadata": {},
   "source": [
    "## Security Review"
   ]
  },
  {
   "cell_type": "code",
   "execution_count": 43,
   "metadata": {},
   "outputs": [
    {
     "data": {
      "text/plain": [
       "('security_review',)"
      ]
     },
     "execution_count": 43,
     "metadata": {},
     "output_type": "execute_result"
    }
   ],
   "source": [
    "## technical document\n",
    "current_state = sdlc_workflow.get_state(thread) \n",
    "current_state.next"
   ]
  },
  {
   "cell_type": "code",
   "execution_count": 44,
   "metadata": {},
   "outputs": [
    {
     "name": "stdout",
     "output_type": "stream",
     "text": [
      "In security_review...\n",
      "user feedback: approved\n",
      "In write_test_cases...\n"
     ]
    },
    {
     "data": {
      "text/plain": [
       "{'project_requirements': ProjectRequirements(title='PayMate: Your Ultimate Payment Companion', description='PayMate is a comprehensive payment application that allows users to perform seamless transactions using the Unified Payments Interface (UPI). Beyond basic payments, PayMate offers features such as quick loans, bill payments, and a user-friendly interface, making it a one-stop solution for all financial needs.', requirements=['Implement multi-factor authentication, including biometrics (fingerprint and facial recognition) and MPIN, to secure user accounts.\\u200b', 'Enable users to link multiple bank accounts and perform instant fund transfers using UPI.', 'Provide users with access to instant micro-loans with minimal documentation.', 'Allow users to pay utility bills such as electricity, water, gas, and broadband directly through the app.']),\n",
       " 'revised_count': 0,\n",
       " 'user_stories': [{'story_id': 'US-001',\n",
       "   'title': 'Secure Account with Multi-Factor Authentication',\n",
       "   'description': 'As a user, I want to secure my account with multi-factor authentication so that my transactions are protected.',\n",
       "   'acceptance_criteria': ['User can enable biometric authentication (fingerprint and facial recognition).',\n",
       "    'User can set up MPIN for additional security.',\n",
       "    'User can enable two-factor authentication for transactions.',\n",
       "    'System alerts user of authentication failures.']},\n",
       "  {'story_id': 'US-002',\n",
       "   'title': 'Link Multiple Bank Accounts',\n",
       "   'description': 'As a user, I want to link multiple bank accounts so that I can transfer funds instantly.',\n",
       "   'acceptance_criteria': ['User can add multiple bank accounts to their profile.',\n",
       "    'User can select any linked account for fund transfers.',\n",
       "    'Linked accounts display current balance.',\n",
       "    'System confirms successful linking of accounts.']}],\n",
       " 'user_story_messages': [HumanMessage(content=\"title='PayMate: Your Ultimate Payment Companion' description='PayMate is a comprehensive payment application that allows users to perform seamless transactions using the Unified Payments Interface (UPI). Beyond basic payments, PayMate offers features such as quick loans, bill payments, and a user-friendly interface, making it a one-stop solution for all financial needs.' requirements=['Implement multi-factor authentication, including biometrics (fingerprint and facial recognition) and MPIN, to secure user accounts.\\\\u200b', 'Enable users to link multiple bank accounts and perform instant fund transfers using UPI.', 'Provide users with access to instant micro-loans with minimal documentation.', 'Allow users to pay utility bills such as electricity, water, gas, and broadband directly through the app.']\", additional_kwargs={}, response_metadata={}, id='23ab0e14-aeb7-4f5c-9c47-dcd8beaf6c45'),\n",
       "  AIMessage(content=\"I've received your project requirements. I'll now generate user stories based on these requirements.\", additional_kwargs={}, response_metadata={}, id='17b94b8b-c046-4e1e-8afd-da6385e7abb0'),\n",
       "  AIMessage(content=\"Based on your requirements, I've generated 1 user stories. Please review these user stories and provide feedback or type 'Approved' if you're satisfied.\", additional_kwargs={}, response_metadata={}, id='792be5b2-1a97-4d58-9872-f3a6b37210ce'),\n",
       "  HumanMessage(content='Add user story to buy insurance from the app', additional_kwargs={}, response_metadata={}, id='4020b530-ee59-42c9-a21b-1834904187b7'),\n",
       "  AIMessage(content=\"I've received your feedback. I'll revise the user stories accordingly.\", additional_kwargs={}, response_metadata={}, id='0eeb130c-a88f-4911-bd39-d07b3ced496e'),\n",
       "  AIMessage(content=\"I've revised the user stories based on your feedback.\\n\\nPlease review these updated user stories and provide additional feedback or type 'Approved' if you're satisfied.\", additional_kwargs={}, response_metadata={}, id='940e8513-3440-4078-8e87-c4dda4a39e01'),\n",
       "  HumanMessage(content='Approved', additional_kwargs={}, response_metadata={}, id='7e57f7fa-613b-4c88-81e2-fe1ed44b1da9'),\n",
       "  AIMessage(content='Great! Your user stories have been finalized. You can now proceed with your design process.', additional_kwargs={}, response_metadata={}, id='cacb67a9-ecbc-4a08-ae55-fca3b2022f21')],\n",
       " 'user_story_status': 'approved',\n",
       " 'functional_documents': [DocumentSection(title='Revised FUNCTIONAL REQUIREMENTS', content='FR-1: The system shall provide a Forgot Password option on the login page.')],\n",
       " 'functional_messages': [AIMessage(content=\"Please review functional design document and provide feedback or type 'Approved' if you're satisfied.\", additional_kwargs={}, response_metadata={}, id='dfa85ac5-02c4-45cf-9dcc-c11452a65c01'),\n",
       "  HumanMessage(content='Revised the document for buy insurance from the app', additional_kwargs={}, response_metadata={}, id='e363dc19-5aa8-4621-b00b-14ae4761a86a'),\n",
       "  AIMessage(content=\"I've received your feedback. I'll revise the design documents accordingly.\", additional_kwargs={}, response_metadata={}, id='0efade51-9eb9-4dce-a3d4-ded11a1d2b46'),\n",
       "  AIMessage(content=\"Please review revised functional design documents and provide additional feedback or type 'Approved' if you're satisfied.\", additional_kwargs={}, response_metadata={}, id='ac0808d4-a3c2-4fda-84be-bf78a5bfa236'),\n",
       "  HumanMessage(content='Approved', additional_kwargs={}, response_metadata={}, id='7c6ef2ca-04ac-4e81-8fe8-0504f06e42b9'),\n",
       "  AIMessage(content='Great! Your design documents have been finalized. You can now proceed with your design process.', additional_kwargs={}, response_metadata={}, id='a06064c7-4428-4836-9665-32a1495000db')],\n",
       " 'functional_status': 'approved',\n",
       " 'technical_documents': [DocumentSection(title='Technical Document: MODULES & COMPONENTS DESIGN', content='Auth API Module: Exposes RESTful endpoints for password')],\n",
       " 'technical_messages': [AIMessage(content=\"Please review technical design document and provide feedback or type 'Approved' if you're satisfied.\", additional_kwargs={}, response_metadata={}, id='a7273bb0-a098-4d43-9230-4f04cc8ebe14'),\n",
       "  HumanMessage(content='Approved', additional_kwargs={}, response_metadata={}, id='e373660e-ffd5-4cbd-9151-aadbe71bada0'),\n",
       "  AIMessage(content='Great! Your design documents have been finalized. You can now proceed with your design process.', additional_kwargs={}, response_metadata={}, id='5ace2a88-8706-4583-b89e-9fc65b6eb688')],\n",
       " 'technical_status': 'approved',\n",
       " 'frontend_code': \"console.log('Revised frontend code')\",\n",
       " 'frontend_messages': [AIMessage(content=\"Please review frontend design document and provide feedback or type 'Approved' if you're satisfied.\", additional_kwargs={}, response_metadata={}, id='93a61518-6f98-4eef-a803-59cc50fe9d45'),\n",
       "  HumanMessage(content='Revised the frontend code for buy insurance from the app', additional_kwargs={}, response_metadata={}, id='4b0789d8-d0ec-4994-9a21-76ddeb5b2b93'),\n",
       "  AIMessage(content=\"I've received your feedback. I'll revise the design documents accordingly.\", additional_kwargs={}, response_metadata={}, id='05aecb7c-f126-4889-a6ca-5b785de25d64'),\n",
       "  AIMessage(content=\"Please review revised frontend code and provide additional feedback or type 'Approved' if you're satisfied.\", additional_kwargs={}, response_metadata={}, id='b75c3cc0-705f-480f-83ea-5b211ebbe478'),\n",
       "  HumanMessage(content='Approved', additional_kwargs={}, response_metadata={}, id='9b69910e-e792-4558-a331-bd6974420581'),\n",
       "  AIMessage(content='Great! Code have been finalized. You can now proceed with next steps.', additional_kwargs={}, response_metadata={}, id='7814eadc-240f-44fa-9a07-10e403462301')],\n",
       " 'frontend_status': 'approved',\n",
       " 'backend_code': \"print('Revised backend code')\",\n",
       " 'backend_messages': [AIMessage(content=\"Please review backend design document and provide feedback or type 'Approved' if you're satisfied.\", additional_kwargs={}, response_metadata={}, id='43558b73-990c-4461-9d68-fb70d75fcddd'),\n",
       "  HumanMessage(content='Revised the backend code for buy insurance from the app', additional_kwargs={}, response_metadata={}, id='31e13fb9-83f4-44a3-ae77-639bef46f96e'),\n",
       "  AIMessage(content=\"I've received your feedback. I'll revise the design documents accordingly.\", additional_kwargs={}, response_metadata={}, id='f54fb789-e59f-4a2c-9bc9-bd39153271b2'),\n",
       "  AIMessage(content=\"Please review revised backend code and provide additional feedback or type 'Approved' if you're satisfied.\", additional_kwargs={}, response_metadata={}, id='dab13adc-43ce-40dc-91d1-287b2b792d25'),\n",
       "  HumanMessage(content='Approved', additional_kwargs={}, response_metadata={}, id='1ae04a62-ec53-4b5e-af66-8e7e7d6bb526'),\n",
       "  AIMessage(content='Great! Code have been finalized. You can now proceed with next steps.', additional_kwargs={}, response_metadata={}, id='2a9394bb-806b-4f7d-b54a-9d56f4bc94a0')],\n",
       " 'backend_status': 'approved',\n",
       " 'security_reviews': [{'sec_id': 'SC-001',\n",
       "   'review': 'security review',\n",
       "   'file_path': 'backend_code.py',\n",
       "   'recommendation': 'fix',\n",
       "   'priority': 'high'}],\n",
       " 'security_reviews_messages': [AIMessage(content=\"Please review security reviews and provide feedback or type 'Approved' if you're satisfied.\", additional_kwargs={}, response_metadata={}, id='659964a5-0705-402f-9667-04cf45d4f9c2'),\n",
       "  HumanMessage(content='Approved', additional_kwargs={}, response_metadata={}, id='7283faa2-81a8-413a-9fad-929606d1fbaa'),\n",
       "  AIMessage(content='Great! Security reviews have been finalized. You can now proceed with next steps.', additional_kwargs={}, response_metadata={}, id='49a569bd-304a-430c-919e-20e09071941d')],\n",
       " 'security_reviews_status': 'approved',\n",
       " 'test_cases': [{'test_id': 'TC-001',\n",
       "   'description': 'test_case_1',\n",
       "   'steps': ['step1', 'step2', 'step3'],\n",
       "   'status': 'pending'}],\n",
       " 'test_cases_messages': [AIMessage(content=\"Please review test cases and provide feedback or type 'Approved' if you're satisfied.\", additional_kwargs={}, response_metadata={}, id='cf522454-0f80-44c0-95f7-5820fcc6555a')],\n",
       " 'test_cases_status': 'pending_approval',\n",
       " 'qa_testing_messages': [],\n",
       " 'deployment_messages': []}"
      ]
     },
     "execution_count": 44,
     "metadata": {},
     "output_type": "execute_result"
    }
   ],
   "source": [
    "user_feedback = \"Revised the security review for buy insurance from the app\"\n",
    "# sdlc_workflow.update_state(thread, { \"security_reviews_messages\" : HumanMessage(content=f'{user_feedback}')})\n",
    "sdlc_workflow.update_state(thread, { \"security_reviews_messages\" : HumanMessage(content='Approved'), \"revised_count\" : 0})\n",
    "\n",
    "for event in sdlc_workflow.stream(None, thread, stream_mode=\"values\"):\n",
    "    state = event\n",
    "    \n",
    "state\n"
   ]
  },
  {
   "cell_type": "markdown",
   "metadata": {},
   "source": [
    "## Test Cases"
   ]
  },
  {
   "cell_type": "code",
   "execution_count": 45,
   "metadata": {},
   "outputs": [
    {
     "data": {
      "text/plain": [
       "('test_cases_review',)"
      ]
     },
     "execution_count": 45,
     "metadata": {},
     "output_type": "execute_result"
    }
   ],
   "source": [
    "## technical document\n",
    "current_state = sdlc_workflow.get_state(thread) \n",
    "current_state.next"
   ]
  },
  {
   "cell_type": "code",
   "execution_count": 46,
   "metadata": {},
   "outputs": [
    {
     "name": "stdout",
     "output_type": "stream",
     "text": [
      "In test_cases_review...\n",
      "user feedback: revised the test cases for buy insurance from the app\n",
      "In fixed_testcases_after_review...\n",
      "revised_count : 1\n"
     ]
    },
    {
     "data": {
      "text/plain": [
       "{'project_requirements': ProjectRequirements(title='PayMate: Your Ultimate Payment Companion', description='PayMate is a comprehensive payment application that allows users to perform seamless transactions using the Unified Payments Interface (UPI). Beyond basic payments, PayMate offers features such as quick loans, bill payments, and a user-friendly interface, making it a one-stop solution for all financial needs.', requirements=['Implement multi-factor authentication, including biometrics (fingerprint and facial recognition) and MPIN, to secure user accounts.\\u200b', 'Enable users to link multiple bank accounts and perform instant fund transfers using UPI.', 'Provide users with access to instant micro-loans with minimal documentation.', 'Allow users to pay utility bills such as electricity, water, gas, and broadband directly through the app.']),\n",
       " 'revised_count': 1,\n",
       " 'user_stories': [{'story_id': 'US-001',\n",
       "   'title': 'Secure Account with Multi-Factor Authentication',\n",
       "   'description': 'As a user, I want to secure my account with multi-factor authentication so that my transactions are protected.',\n",
       "   'acceptance_criteria': ['User can enable biometric authentication (fingerprint and facial recognition).',\n",
       "    'User can set up MPIN for additional security.',\n",
       "    'User can enable two-factor authentication for transactions.',\n",
       "    'System alerts user of authentication failures.']},\n",
       "  {'story_id': 'US-002',\n",
       "   'title': 'Link Multiple Bank Accounts',\n",
       "   'description': 'As a user, I want to link multiple bank accounts so that I can transfer funds instantly.',\n",
       "   'acceptance_criteria': ['User can add multiple bank accounts to their profile.',\n",
       "    'User can select any linked account for fund transfers.',\n",
       "    'Linked accounts display current balance.',\n",
       "    'System confirms successful linking of accounts.']}],\n",
       " 'user_story_messages': [HumanMessage(content=\"title='PayMate: Your Ultimate Payment Companion' description='PayMate is a comprehensive payment application that allows users to perform seamless transactions using the Unified Payments Interface (UPI). Beyond basic payments, PayMate offers features such as quick loans, bill payments, and a user-friendly interface, making it a one-stop solution for all financial needs.' requirements=['Implement multi-factor authentication, including biometrics (fingerprint and facial recognition) and MPIN, to secure user accounts.\\\\u200b', 'Enable users to link multiple bank accounts and perform instant fund transfers using UPI.', 'Provide users with access to instant micro-loans with minimal documentation.', 'Allow users to pay utility bills such as electricity, water, gas, and broadband directly through the app.']\", additional_kwargs={}, response_metadata={}, id='23ab0e14-aeb7-4f5c-9c47-dcd8beaf6c45'),\n",
       "  AIMessage(content=\"I've received your project requirements. I'll now generate user stories based on these requirements.\", additional_kwargs={}, response_metadata={}, id='17b94b8b-c046-4e1e-8afd-da6385e7abb0'),\n",
       "  AIMessage(content=\"Based on your requirements, I've generated 1 user stories. Please review these user stories and provide feedback or type 'Approved' if you're satisfied.\", additional_kwargs={}, response_metadata={}, id='792be5b2-1a97-4d58-9872-f3a6b37210ce'),\n",
       "  HumanMessage(content='Add user story to buy insurance from the app', additional_kwargs={}, response_metadata={}, id='4020b530-ee59-42c9-a21b-1834904187b7'),\n",
       "  AIMessage(content=\"I've received your feedback. I'll revise the user stories accordingly.\", additional_kwargs={}, response_metadata={}, id='0eeb130c-a88f-4911-bd39-d07b3ced496e'),\n",
       "  AIMessage(content=\"I've revised the user stories based on your feedback.\\n\\nPlease review these updated user stories and provide additional feedback or type 'Approved' if you're satisfied.\", additional_kwargs={}, response_metadata={}, id='940e8513-3440-4078-8e87-c4dda4a39e01'),\n",
       "  HumanMessage(content='Approved', additional_kwargs={}, response_metadata={}, id='7e57f7fa-613b-4c88-81e2-fe1ed44b1da9'),\n",
       "  AIMessage(content='Great! Your user stories have been finalized. You can now proceed with your design process.', additional_kwargs={}, response_metadata={}, id='cacb67a9-ecbc-4a08-ae55-fca3b2022f21')],\n",
       " 'user_story_status': 'approved',\n",
       " 'functional_documents': [DocumentSection(title='Revised FUNCTIONAL REQUIREMENTS', content='FR-1: The system shall provide a Forgot Password option on the login page.')],\n",
       " 'functional_messages': [AIMessage(content=\"Please review functional design document and provide feedback or type 'Approved' if you're satisfied.\", additional_kwargs={}, response_metadata={}, id='dfa85ac5-02c4-45cf-9dcc-c11452a65c01'),\n",
       "  HumanMessage(content='Revised the document for buy insurance from the app', additional_kwargs={}, response_metadata={}, id='e363dc19-5aa8-4621-b00b-14ae4761a86a'),\n",
       "  AIMessage(content=\"I've received your feedback. I'll revise the design documents accordingly.\", additional_kwargs={}, response_metadata={}, id='0efade51-9eb9-4dce-a3d4-ded11a1d2b46'),\n",
       "  AIMessage(content=\"Please review revised functional design documents and provide additional feedback or type 'Approved' if you're satisfied.\", additional_kwargs={}, response_metadata={}, id='ac0808d4-a3c2-4fda-84be-bf78a5bfa236'),\n",
       "  HumanMessage(content='Approved', additional_kwargs={}, response_metadata={}, id='7c6ef2ca-04ac-4e81-8fe8-0504f06e42b9'),\n",
       "  AIMessage(content='Great! Your design documents have been finalized. You can now proceed with your design process.', additional_kwargs={}, response_metadata={}, id='a06064c7-4428-4836-9665-32a1495000db')],\n",
       " 'functional_status': 'approved',\n",
       " 'technical_documents': [DocumentSection(title='Technical Document: MODULES & COMPONENTS DESIGN', content='Auth API Module: Exposes RESTful endpoints for password')],\n",
       " 'technical_messages': [AIMessage(content=\"Please review technical design document and provide feedback or type 'Approved' if you're satisfied.\", additional_kwargs={}, response_metadata={}, id='a7273bb0-a098-4d43-9230-4f04cc8ebe14'),\n",
       "  HumanMessage(content='Approved', additional_kwargs={}, response_metadata={}, id='e373660e-ffd5-4cbd-9151-aadbe71bada0'),\n",
       "  AIMessage(content='Great! Your design documents have been finalized. You can now proceed with your design process.', additional_kwargs={}, response_metadata={}, id='5ace2a88-8706-4583-b89e-9fc65b6eb688')],\n",
       " 'technical_status': 'approved',\n",
       " 'frontend_code': \"console.log('Revised frontend code')\",\n",
       " 'frontend_messages': [AIMessage(content=\"Please review frontend design document and provide feedback or type 'Approved' if you're satisfied.\", additional_kwargs={}, response_metadata={}, id='93a61518-6f98-4eef-a803-59cc50fe9d45'),\n",
       "  HumanMessage(content='Revised the frontend code for buy insurance from the app', additional_kwargs={}, response_metadata={}, id='4b0789d8-d0ec-4994-9a21-76ddeb5b2b93'),\n",
       "  AIMessage(content=\"I've received your feedback. I'll revise the design documents accordingly.\", additional_kwargs={}, response_metadata={}, id='05aecb7c-f126-4889-a6ca-5b785de25d64'),\n",
       "  AIMessage(content=\"Please review revised frontend code and provide additional feedback or type 'Approved' if you're satisfied.\", additional_kwargs={}, response_metadata={}, id='b75c3cc0-705f-480f-83ea-5b211ebbe478'),\n",
       "  HumanMessage(content='Approved', additional_kwargs={}, response_metadata={}, id='9b69910e-e792-4558-a331-bd6974420581'),\n",
       "  AIMessage(content='Great! Code have been finalized. You can now proceed with next steps.', additional_kwargs={}, response_metadata={}, id='7814eadc-240f-44fa-9a07-10e403462301')],\n",
       " 'frontend_status': 'approved',\n",
       " 'backend_code': \"print('Revised backend code')\",\n",
       " 'backend_messages': [AIMessage(content=\"Please review backend design document and provide feedback or type 'Approved' if you're satisfied.\", additional_kwargs={}, response_metadata={}, id='43558b73-990c-4461-9d68-fb70d75fcddd'),\n",
       "  HumanMessage(content='Revised the backend code for buy insurance from the app', additional_kwargs={}, response_metadata={}, id='31e13fb9-83f4-44a3-ae77-639bef46f96e'),\n",
       "  AIMessage(content=\"I've received your feedback. I'll revise the design documents accordingly.\", additional_kwargs={}, response_metadata={}, id='f54fb789-e59f-4a2c-9bc9-bd39153271b2'),\n",
       "  AIMessage(content=\"Please review revised backend code and provide additional feedback or type 'Approved' if you're satisfied.\", additional_kwargs={}, response_metadata={}, id='dab13adc-43ce-40dc-91d1-287b2b792d25'),\n",
       "  HumanMessage(content='Approved', additional_kwargs={}, response_metadata={}, id='1ae04a62-ec53-4b5e-af66-8e7e7d6bb526'),\n",
       "  AIMessage(content='Great! Code have been finalized. You can now proceed with next steps.', additional_kwargs={}, response_metadata={}, id='2a9394bb-806b-4f7d-b54a-9d56f4bc94a0')],\n",
       " 'backend_status': 'approved',\n",
       " 'security_reviews': [{'sec_id': 'SC-001',\n",
       "   'review': 'security review',\n",
       "   'file_path': 'backend_code.py',\n",
       "   'recommendation': 'fix',\n",
       "   'priority': 'high'}],\n",
       " 'security_reviews_messages': [AIMessage(content=\"Please review security reviews and provide feedback or type 'Approved' if you're satisfied.\", additional_kwargs={}, response_metadata={}, id='659964a5-0705-402f-9667-04cf45d4f9c2'),\n",
       "  HumanMessage(content='Approved', additional_kwargs={}, response_metadata={}, id='7283faa2-81a8-413a-9fad-929606d1fbaa'),\n",
       "  AIMessage(content='Great! Security reviews have been finalized. You can now proceed with next steps.', additional_kwargs={}, response_metadata={}, id='49a569bd-304a-430c-919e-20e09071941d')],\n",
       " 'security_reviews_status': 'approved',\n",
       " 'test_cases': [{'test_id': 'TC-001',\n",
       "   'description': 'Revised test_case_2',\n",
       "   'steps': ['step1', 'step2', 'step3'],\n",
       "   'status': 'pending'}],\n",
       " 'test_cases_messages': [AIMessage(content=\"Please review test cases and provide feedback or type 'Approved' if you're satisfied.\", additional_kwargs={}, response_metadata={}, id='cf522454-0f80-44c0-95f7-5820fcc6555a'),\n",
       "  HumanMessage(content='Revised the test cases for buy insurance from the app', additional_kwargs={}, response_metadata={}, id='74de3844-c499-4802-b961-30fec56a501d'),\n",
       "  AIMessage(content=\"I've received your feedback. I'll revise the test cases accordingly.\", additional_kwargs={}, response_metadata={}, id='d6c83ee8-1503-416b-9c8f-c5c82c0f9ada'),\n",
       "  AIMessage(content=\"Please review revised test cases and provide additional feedback or type 'Approved' if you're satisfied.\", additional_kwargs={}, response_metadata={}, id='68af3464-f915-415c-b091-6f2905dda56d')],\n",
       " 'test_cases_status': 'pending_approval',\n",
       " 'qa_testing_messages': [],\n",
       " 'deployment_messages': []}"
      ]
     },
     "execution_count": 46,
     "metadata": {},
     "output_type": "execute_result"
    }
   ],
   "source": [
    "user_feedback = \"Revised the test cases for buy insurance from the app\"\n",
    "sdlc_workflow.update_state(thread, { \"test_cases_messages\" : HumanMessage(content=f'{user_feedback}')})\n",
    "# sdlc_workflow.update_state(thread, { \"test_cases_messages\" : HumanMessage(content='Approved'), \"revised_count\" : 0})\n",
    "\n",
    "for event in sdlc_workflow.stream(None, thread, stream_mode=\"values\"):\n",
    "    state = event\n",
    "    \n",
    "state\n"
   ]
  },
  {
   "cell_type": "code",
   "execution_count": 47,
   "metadata": {},
   "outputs": [
    {
     "data": {
      "text/plain": [
       "('test_cases_review',)"
      ]
     },
     "execution_count": 47,
     "metadata": {},
     "output_type": "execute_result"
    }
   ],
   "source": [
    "## technical document\n",
    "current_state = sdlc_workflow.get_state(thread) \n",
    "current_state.next"
   ]
  },
  {
   "cell_type": "code",
   "execution_count": 48,
   "metadata": {},
   "outputs": [
    {
     "name": "stdout",
     "output_type": "stream",
     "text": [
      "In test_cases_review...\n",
      "user feedback: approved\n",
      "In perform_qa_testing...\n",
      "In code_deployment...\n"
     ]
    },
    {
     "data": {
      "text/plain": [
       "{'project_requirements': ProjectRequirements(title='PayMate: Your Ultimate Payment Companion', description='PayMate is a comprehensive payment application that allows users to perform seamless transactions using the Unified Payments Interface (UPI). Beyond basic payments, PayMate offers features such as quick loans, bill payments, and a user-friendly interface, making it a one-stop solution for all financial needs.', requirements=['Implement multi-factor authentication, including biometrics (fingerprint and facial recognition) and MPIN, to secure user accounts.\\u200b', 'Enable users to link multiple bank accounts and perform instant fund transfers using UPI.', 'Provide users with access to instant micro-loans with minimal documentation.', 'Allow users to pay utility bills such as electricity, water, gas, and broadband directly through the app.']),\n",
       " 'revised_count': 0,\n",
       " 'user_stories': [{'story_id': 'US-001',\n",
       "   'title': 'Secure Account with Multi-Factor Authentication',\n",
       "   'description': 'As a user, I want to secure my account with multi-factor authentication so that my transactions are protected.',\n",
       "   'acceptance_criteria': ['User can enable biometric authentication (fingerprint and facial recognition).',\n",
       "    'User can set up MPIN for additional security.',\n",
       "    'User can enable two-factor authentication for transactions.',\n",
       "    'System alerts user of authentication failures.']},\n",
       "  {'story_id': 'US-002',\n",
       "   'title': 'Link Multiple Bank Accounts',\n",
       "   'description': 'As a user, I want to link multiple bank accounts so that I can transfer funds instantly.',\n",
       "   'acceptance_criteria': ['User can add multiple bank accounts to their profile.',\n",
       "    'User can select any linked account for fund transfers.',\n",
       "    'Linked accounts display current balance.',\n",
       "    'System confirms successful linking of accounts.']}],\n",
       " 'user_story_messages': [HumanMessage(content=\"title='PayMate: Your Ultimate Payment Companion' description='PayMate is a comprehensive payment application that allows users to perform seamless transactions using the Unified Payments Interface (UPI). Beyond basic payments, PayMate offers features such as quick loans, bill payments, and a user-friendly interface, making it a one-stop solution for all financial needs.' requirements=['Implement multi-factor authentication, including biometrics (fingerprint and facial recognition) and MPIN, to secure user accounts.\\\\u200b', 'Enable users to link multiple bank accounts and perform instant fund transfers using UPI.', 'Provide users with access to instant micro-loans with minimal documentation.', 'Allow users to pay utility bills such as electricity, water, gas, and broadband directly through the app.']\", additional_kwargs={}, response_metadata={}, id='23ab0e14-aeb7-4f5c-9c47-dcd8beaf6c45'),\n",
       "  AIMessage(content=\"I've received your project requirements. I'll now generate user stories based on these requirements.\", additional_kwargs={}, response_metadata={}, id='17b94b8b-c046-4e1e-8afd-da6385e7abb0'),\n",
       "  AIMessage(content=\"Based on your requirements, I've generated 1 user stories. Please review these user stories and provide feedback or type 'Approved' if you're satisfied.\", additional_kwargs={}, response_metadata={}, id='792be5b2-1a97-4d58-9872-f3a6b37210ce'),\n",
       "  HumanMessage(content='Add user story to buy insurance from the app', additional_kwargs={}, response_metadata={}, id='4020b530-ee59-42c9-a21b-1834904187b7'),\n",
       "  AIMessage(content=\"I've received your feedback. I'll revise the user stories accordingly.\", additional_kwargs={}, response_metadata={}, id='0eeb130c-a88f-4911-bd39-d07b3ced496e'),\n",
       "  AIMessage(content=\"I've revised the user stories based on your feedback.\\n\\nPlease review these updated user stories and provide additional feedback or type 'Approved' if you're satisfied.\", additional_kwargs={}, response_metadata={}, id='940e8513-3440-4078-8e87-c4dda4a39e01'),\n",
       "  HumanMessage(content='Approved', additional_kwargs={}, response_metadata={}, id='7e57f7fa-613b-4c88-81e2-fe1ed44b1da9'),\n",
       "  AIMessage(content='Great! Your user stories have been finalized. You can now proceed with your design process.', additional_kwargs={}, response_metadata={}, id='cacb67a9-ecbc-4a08-ae55-fca3b2022f21')],\n",
       " 'user_story_status': 'approved',\n",
       " 'functional_documents': [DocumentSection(title='Revised FUNCTIONAL REQUIREMENTS', content='FR-1: The system shall provide a Forgot Password option on the login page.')],\n",
       " 'functional_messages': [AIMessage(content=\"Please review functional design document and provide feedback or type 'Approved' if you're satisfied.\", additional_kwargs={}, response_metadata={}, id='dfa85ac5-02c4-45cf-9dcc-c11452a65c01'),\n",
       "  HumanMessage(content='Revised the document for buy insurance from the app', additional_kwargs={}, response_metadata={}, id='e363dc19-5aa8-4621-b00b-14ae4761a86a'),\n",
       "  AIMessage(content=\"I've received your feedback. I'll revise the design documents accordingly.\", additional_kwargs={}, response_metadata={}, id='0efade51-9eb9-4dce-a3d4-ded11a1d2b46'),\n",
       "  AIMessage(content=\"Please review revised functional design documents and provide additional feedback or type 'Approved' if you're satisfied.\", additional_kwargs={}, response_metadata={}, id='ac0808d4-a3c2-4fda-84be-bf78a5bfa236'),\n",
       "  HumanMessage(content='Approved', additional_kwargs={}, response_metadata={}, id='7c6ef2ca-04ac-4e81-8fe8-0504f06e42b9'),\n",
       "  AIMessage(content='Great! Your design documents have been finalized. You can now proceed with your design process.', additional_kwargs={}, response_metadata={}, id='a06064c7-4428-4836-9665-32a1495000db')],\n",
       " 'functional_status': 'approved',\n",
       " 'technical_documents': [DocumentSection(title='Technical Document: MODULES & COMPONENTS DESIGN', content='Auth API Module: Exposes RESTful endpoints for password')],\n",
       " 'technical_messages': [AIMessage(content=\"Please review technical design document and provide feedback or type 'Approved' if you're satisfied.\", additional_kwargs={}, response_metadata={}, id='a7273bb0-a098-4d43-9230-4f04cc8ebe14'),\n",
       "  HumanMessage(content='Approved', additional_kwargs={}, response_metadata={}, id='e373660e-ffd5-4cbd-9151-aadbe71bada0'),\n",
       "  AIMessage(content='Great! Your design documents have been finalized. You can now proceed with your design process.', additional_kwargs={}, response_metadata={}, id='5ace2a88-8706-4583-b89e-9fc65b6eb688')],\n",
       " 'technical_status': 'approved',\n",
       " 'frontend_code': \"console.log('Revised frontend code')\",\n",
       " 'frontend_messages': [AIMessage(content=\"Please review frontend design document and provide feedback or type 'Approved' if you're satisfied.\", additional_kwargs={}, response_metadata={}, id='93a61518-6f98-4eef-a803-59cc50fe9d45'),\n",
       "  HumanMessage(content='Revised the frontend code for buy insurance from the app', additional_kwargs={}, response_metadata={}, id='4b0789d8-d0ec-4994-9a21-76ddeb5b2b93'),\n",
       "  AIMessage(content=\"I've received your feedback. I'll revise the design documents accordingly.\", additional_kwargs={}, response_metadata={}, id='05aecb7c-f126-4889-a6ca-5b785de25d64'),\n",
       "  AIMessage(content=\"Please review revised frontend code and provide additional feedback or type 'Approved' if you're satisfied.\", additional_kwargs={}, response_metadata={}, id='b75c3cc0-705f-480f-83ea-5b211ebbe478'),\n",
       "  HumanMessage(content='Approved', additional_kwargs={}, response_metadata={}, id='9b69910e-e792-4558-a331-bd6974420581'),\n",
       "  AIMessage(content='Great! Code have been finalized. You can now proceed with next steps.', additional_kwargs={}, response_metadata={}, id='7814eadc-240f-44fa-9a07-10e403462301')],\n",
       " 'frontend_status': 'approved',\n",
       " 'backend_code': \"print('Revised backend code')\",\n",
       " 'backend_messages': [AIMessage(content=\"Please review backend design document and provide feedback or type 'Approved' if you're satisfied.\", additional_kwargs={}, response_metadata={}, id='43558b73-990c-4461-9d68-fb70d75fcddd'),\n",
       "  HumanMessage(content='Revised the backend code for buy insurance from the app', additional_kwargs={}, response_metadata={}, id='31e13fb9-83f4-44a3-ae77-639bef46f96e'),\n",
       "  AIMessage(content=\"I've received your feedback. I'll revise the design documents accordingly.\", additional_kwargs={}, response_metadata={}, id='f54fb789-e59f-4a2c-9bc9-bd39153271b2'),\n",
       "  AIMessage(content=\"Please review revised backend code and provide additional feedback or type 'Approved' if you're satisfied.\", additional_kwargs={}, response_metadata={}, id='dab13adc-43ce-40dc-91d1-287b2b792d25'),\n",
       "  HumanMessage(content='Approved', additional_kwargs={}, response_metadata={}, id='1ae04a62-ec53-4b5e-af66-8e7e7d6bb526'),\n",
       "  AIMessage(content='Great! Code have been finalized. You can now proceed with next steps.', additional_kwargs={}, response_metadata={}, id='2a9394bb-806b-4f7d-b54a-9d56f4bc94a0')],\n",
       " 'backend_status': 'approved',\n",
       " 'security_reviews': [{'sec_id': 'SC-001',\n",
       "   'review': 'security review',\n",
       "   'file_path': 'backend_code.py',\n",
       "   'recommendation': 'fix',\n",
       "   'priority': 'high'}],\n",
       " 'security_reviews_messages': [AIMessage(content=\"Please review security reviews and provide feedback or type 'Approved' if you're satisfied.\", additional_kwargs={}, response_metadata={}, id='659964a5-0705-402f-9667-04cf45d4f9c2'),\n",
       "  HumanMessage(content='Approved', additional_kwargs={}, response_metadata={}, id='7283faa2-81a8-413a-9fad-929606d1fbaa'),\n",
       "  AIMessage(content='Great! Security reviews have been finalized. You can now proceed with next steps.', additional_kwargs={}, response_metadata={}, id='49a569bd-304a-430c-919e-20e09071941d')],\n",
       " 'security_reviews_status': 'approved',\n",
       " 'test_cases': [{'test_id': 'TC-001',\n",
       "   'description': 'Revised test_case_2',\n",
       "   'steps': ['step1', 'step2', 'step3'],\n",
       "   'status': 'pending'}],\n",
       " 'test_cases_messages': [AIMessage(content=\"Please review test cases and provide feedback or type 'Approved' if you're satisfied.\", additional_kwargs={}, response_metadata={}, id='cf522454-0f80-44c0-95f7-5820fcc6555a'),\n",
       "  HumanMessage(content='Revised the test cases for buy insurance from the app', additional_kwargs={}, response_metadata={}, id='74de3844-c499-4802-b961-30fec56a501d'),\n",
       "  AIMessage(content=\"I've received your feedback. I'll revise the test cases accordingly.\", additional_kwargs={}, response_metadata={}, id='d6c83ee8-1503-416b-9c8f-c5c82c0f9ada'),\n",
       "  AIMessage(content=\"Please review revised test cases and provide additional feedback or type 'Approved' if you're satisfied.\", additional_kwargs={}, response_metadata={}, id='68af3464-f915-415c-b091-6f2905dda56d'),\n",
       "  HumanMessage(content='Approved', additional_kwargs={}, response_metadata={}, id='56e08e70-1e2b-414b-bd97-267c004d5959'),\n",
       "  AIMessage(content='Great! Test cases have been finalized. You can now proceed with next steps.', additional_kwargs={}, response_metadata={}, id='d7f6e269-926d-490a-9b31-d6a6dd3ae460')],\n",
       " 'test_cases_status': 'approved',\n",
       " 'qa_testing': [{'test_id': 'TC-001',\n",
       "   'description': 'test_case_1',\n",
       "   'steps': ['step1', 'step2', 'step3'],\n",
       "   'status': 'passed'}],\n",
       " 'qa_testing_messages': [AIMessage(content='Great! QA testing have been finalized. You can now proceed with next steps.', additional_kwargs={}, response_metadata={}, id='e1ca31be-9ad3-41c4-b1af-dd8d1a6bae39')],\n",
       " 'qa_testing_status': 'passed',\n",
       " 'deployment': 'Code has been deployed successfully.',\n",
       " 'deployment_messages': []}"
      ]
     },
     "execution_count": 48,
     "metadata": {},
     "output_type": "execute_result"
    }
   ],
   "source": [
    "user_feedback = \"Revised the test cases for buy insurance from the app\"\n",
    "# sdlc_workflow.update_state(thread, { \"test_cases_messages\" : HumanMessage(content=f'{user_feedback}')})\n",
    "sdlc_workflow.update_state(thread, { \"test_cases_messages\" : HumanMessage(content='Approved'), \"revised_count\" : 0})\n",
    "\n",
    "for event in sdlc_workflow.stream(None, thread, stream_mode=\"values\"):\n",
    "    state = event\n",
    "    \n",
    "state\n"
   ]
  },
  {
   "cell_type": "code",
   "execution_count": 49,
   "metadata": {},
   "outputs": [
    {
     "data": {
      "text/plain": [
       "()"
      ]
     },
     "execution_count": 49,
     "metadata": {},
     "output_type": "execute_result"
    }
   ],
   "source": [
    "## technical document\n",
    "current_state = sdlc_workflow.get_state(thread) \n",
    "current_state.next"
   ]
  },
  {
   "cell_type": "markdown",
   "metadata": {},
   "source": [
    "## QA testing"
   ]
  },
  {
   "cell_type": "code",
   "execution_count": 50,
   "metadata": {},
   "outputs": [
    {
     "data": {
      "text/plain": [
       "()"
      ]
     },
     "execution_count": 50,
     "metadata": {},
     "output_type": "execute_result"
    }
   ],
   "source": [
    "## technical document\n",
    "current_state = sdlc_workflow.get_state(thread) \n",
    "current_state.next"
   ]
  },
  {
   "cell_type": "code",
   "execution_count": 51,
   "metadata": {},
   "outputs": [
    {
     "data": {
      "text/plain": [
       "()"
      ]
     },
     "execution_count": 51,
     "metadata": {},
     "output_type": "execute_result"
    }
   ],
   "source": [
    "## technical document\n",
    "current_state = sdlc_workflow.get_state(thread) \n",
    "current_state.next"
   ]
  },
  {
   "cell_type": "code",
   "execution_count": null,
   "metadata": {},
   "outputs": [],
   "source": []
  },
  {
   "cell_type": "code",
   "execution_count": null,
   "metadata": {},
   "outputs": [],
   "source": []
  }
 ],
 "metadata": {
  "kernelspec": {
   "display_name": "Python 3",
   "language": "python",
   "name": "python3"
  },
  "language_info": {
   "codemirror_mode": {
    "name": "ipython",
    "version": 3
   },
   "file_extension": ".py",
   "mimetype": "text/x-python",
   "name": "python",
   "nbconvert_exporter": "python",
   "pygments_lexer": "ipython3",
   "version": "3.12.0"
  }
 },
 "nbformat": 4,
 "nbformat_minor": 2
}
